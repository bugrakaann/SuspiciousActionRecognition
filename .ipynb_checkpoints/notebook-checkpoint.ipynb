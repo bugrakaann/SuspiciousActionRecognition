{
 "cells": [
  {
   "metadata": {
    "ExecuteTime": {
     "end_time": "2025-02-14T23:29:06.511787Z",
     "start_time": "2025-02-14T23:29:06.467139Z"
    }
   },
   "cell_type": "code",
   "source": [
    "import os\n",
    "import pandas as pd\n",
    "import cv2\n",
    "from sklearn.model_selection import train_test_split\n",
    "from torch.utils.data import Dataset, DataLoader\n",
    "import numpy as np"
   ],
   "id": "aea6d8027b7de87f",
   "outputs": [
    {
     "ename": "ModuleNotFoundError",
     "evalue": "No module named 'torch'",
     "output_type": "error",
     "traceback": [
      "\u001B[1;31m---------------------------------------------------------------------------\u001B[0m",
      "\u001B[1;31mModuleNotFoundError\u001B[0m                       Traceback (most recent call last)",
      "Cell \u001B[1;32mIn[3], line 5\u001B[0m\n\u001B[0;32m      3\u001B[0m \u001B[38;5;28;01mimport\u001B[39;00m \u001B[38;5;21;01mcv2\u001B[39;00m\n\u001B[0;32m      4\u001B[0m \u001B[38;5;28;01mfrom\u001B[39;00m \u001B[38;5;21;01msklearn\u001B[39;00m\u001B[38;5;21;01m.\u001B[39;00m\u001B[38;5;21;01mmodel_selection\u001B[39;00m \u001B[38;5;28;01mimport\u001B[39;00m train_test_split\n\u001B[1;32m----> 5\u001B[0m \u001B[38;5;28;01mfrom\u001B[39;00m \u001B[38;5;21;01mtorch\u001B[39;00m\u001B[38;5;21;01m.\u001B[39;00m\u001B[38;5;21;01mutils\u001B[39;00m\u001B[38;5;21;01m.\u001B[39;00m\u001B[38;5;21;01mdata\u001B[39;00m \u001B[38;5;28;01mimport\u001B[39;00m Dataset, DataLoader\n\u001B[0;32m      6\u001B[0m \u001B[38;5;28;01mimport\u001B[39;00m \u001B[38;5;21;01mnumpy\u001B[39;00m \u001B[38;5;28;01mas\u001B[39;00m \u001B[38;5;21;01mnp\u001B[39;00m\n",
      "\u001B[1;31mModuleNotFoundError\u001B[0m: No module named 'torch'"
     ]
    }
   ],
   "execution_count": 3
  },
  {
   "metadata": {
    "ExecuteTime": {
     "end_time": "2025-02-14T22:08:26.354529Z",
     "start_time": "2025-02-14T22:08:26.307103Z"
    }
   },
   "cell_type": "code",
   "source": [
    "# Kategori isimlerini tanımla\n",
    "categories = [\"fall\", \"grab\", \"gun\", \"hit\", \"kick\",\"lying_down\",\"run\",\"sit\",\"sneak\",\"stand\",\"walk\"]\n",
    "dataframes = []\n",
    "\n",
    "for category in categories:\n",
    "    # Kategori klasörünün yolu (örneğin: \"./fall\")\n",
    "    category_path = os.path.join(\"./dataset/Videos/Videos/\", category)\n",
    "    split_path = \"./dataset/Test_Train_Splits/75%\"\n",
    "    # İlgili split dosyasının adı (örneğin: \"fall_test_split1.txt\")\n",
    "    split_file = os.path.join(split_path, f\"{category}_test_split1.txt\")\n",
    "\n",
    "    # Dosyayı pandas ile oku. Dosyada boşlukla ayrılmış iki sütun var.\n",
    "    df = pd.read_csv(split_file, sep=\"\\s+\", header=None, names=[\"video_file\",\"split\"])\n",
    "\n",
    "    # Kategori bilgisini ekle\n",
    "    df[\"category\"] = category\n",
    "\n",
    "    # Video dosyasının tam yolunu oluştur\n",
    "    df[\"video_path\"] = df[\"video_file\"].apply(lambda x: os.path.join(category_path, x))\n",
    "\n",
    "    # Listeye ekle\n",
    "    dataframes.append(df)\n",
    "\n",
    "# Tüm kategorilerden gelen verileri birleştir\n",
    "dataset_df = pd.concat(dataframes, ignore_index=True)\n",
    "\n",
    "# Dataframe'in ilk birkaç satırını göster\n",
    "dataset_df\n"
   ],
   "id": "fbc121e30a2defb3",
   "outputs": [
    {
     "name": "stderr",
     "output_type": "stream",
     "text": [
      "<>:13: SyntaxWarning: invalid escape sequence '\\s'\n",
      "<>:13: SyntaxWarning: invalid escape sequence '\\s'\n",
      "C:\\Users\\Bugra\\AppData\\Local\\Temp\\ipykernel_23436\\1380137044.py:13: SyntaxWarning: invalid escape sequence '\\s'\n",
      "  df = pd.read_csv(split_file, sep=\"\\s+\", header=None, names=[\"video_file\",\"split\"])\n"
     ]
    },
    {
     "data": {
      "text/plain": [
       "                             video_file  split category  \\\n",
       "0     YOUTUBE_YouTubeCCTV005_fall_7.mp4      1     fall   \n",
       "1     YOUTUBE_YouTubeCCTV015_fall_5.mp4      1     fall   \n",
       "2        UCFCRIME_Robbery089_fall_1.mp4      1     fall   \n",
       "3       UCFCRIME_Shooting004_fall_1.mp4      1     fall   \n",
       "4       UCFCRIME_Shooting019_fall_1.mp4      1     fall   \n",
       "...                                 ...    ...      ...   \n",
       "1645       UCFCRIME_Arson002_walk_1.mp4      2     walk   \n",
       "1646    UCFCRIME_Fighting031_walk_1.mp4      2     walk   \n",
       "1647    UCFCRIME_Fighting021_walk_1.mp4      2     walk   \n",
       "1648    UCFCRIME_Stealing052_walk_1.mp4      2     walk   \n",
       "1649       UCFCRIME_Abuse046_walk_1.mp4      2     walk   \n",
       "\n",
       "                                             video_path  \n",
       "0     ./dataset/Videos/Videos/fall\\YOUTUBE_YouTubeCC...  \n",
       "1     ./dataset/Videos/Videos/fall\\YOUTUBE_YouTubeCC...  \n",
       "2     ./dataset/Videos/Videos/fall\\UCFCRIME_Robbery0...  \n",
       "3     ./dataset/Videos/Videos/fall\\UCFCRIME_Shooting...  \n",
       "4     ./dataset/Videos/Videos/fall\\UCFCRIME_Shooting...  \n",
       "...                                                 ...  \n",
       "1645  ./dataset/Videos/Videos/walk\\UCFCRIME_Arson002...  \n",
       "1646  ./dataset/Videos/Videos/walk\\UCFCRIME_Fighting...  \n",
       "1647  ./dataset/Videos/Videos/walk\\UCFCRIME_Fighting...  \n",
       "1648  ./dataset/Videos/Videos/walk\\UCFCRIME_Stealing...  \n",
       "1649  ./dataset/Videos/Videos/walk\\UCFCRIME_Abuse046...  \n",
       "\n",
       "[1650 rows x 4 columns]"
      ],
      "text/html": [
       "<div>\n",
       "<style scoped>\n",
       "    .dataframe tbody tr th:only-of-type {\n",
       "        vertical-align: middle;\n",
       "    }\n",
       "\n",
       "    .dataframe tbody tr th {\n",
       "        vertical-align: top;\n",
       "    }\n",
       "\n",
       "    .dataframe thead th {\n",
       "        text-align: right;\n",
       "    }\n",
       "</style>\n",
       "<table border=\"1\" class=\"dataframe\">\n",
       "  <thead>\n",
       "    <tr style=\"text-align: right;\">\n",
       "      <th></th>\n",
       "      <th>video_file</th>\n",
       "      <th>split</th>\n",
       "      <th>category</th>\n",
       "      <th>video_path</th>\n",
       "    </tr>\n",
       "  </thead>\n",
       "  <tbody>\n",
       "    <tr>\n",
       "      <th>0</th>\n",
       "      <td>YOUTUBE_YouTubeCCTV005_fall_7.mp4</td>\n",
       "      <td>1</td>\n",
       "      <td>fall</td>\n",
       "      <td>./dataset/Videos/Videos/fall\\YOUTUBE_YouTubeCC...</td>\n",
       "    </tr>\n",
       "    <tr>\n",
       "      <th>1</th>\n",
       "      <td>YOUTUBE_YouTubeCCTV015_fall_5.mp4</td>\n",
       "      <td>1</td>\n",
       "      <td>fall</td>\n",
       "      <td>./dataset/Videos/Videos/fall\\YOUTUBE_YouTubeCC...</td>\n",
       "    </tr>\n",
       "    <tr>\n",
       "      <th>2</th>\n",
       "      <td>UCFCRIME_Robbery089_fall_1.mp4</td>\n",
       "      <td>1</td>\n",
       "      <td>fall</td>\n",
       "      <td>./dataset/Videos/Videos/fall\\UCFCRIME_Robbery0...</td>\n",
       "    </tr>\n",
       "    <tr>\n",
       "      <th>3</th>\n",
       "      <td>UCFCRIME_Shooting004_fall_1.mp4</td>\n",
       "      <td>1</td>\n",
       "      <td>fall</td>\n",
       "      <td>./dataset/Videos/Videos/fall\\UCFCRIME_Shooting...</td>\n",
       "    </tr>\n",
       "    <tr>\n",
       "      <th>4</th>\n",
       "      <td>UCFCRIME_Shooting019_fall_1.mp4</td>\n",
       "      <td>1</td>\n",
       "      <td>fall</td>\n",
       "      <td>./dataset/Videos/Videos/fall\\UCFCRIME_Shooting...</td>\n",
       "    </tr>\n",
       "    <tr>\n",
       "      <th>...</th>\n",
       "      <td>...</td>\n",
       "      <td>...</td>\n",
       "      <td>...</td>\n",
       "      <td>...</td>\n",
       "    </tr>\n",
       "    <tr>\n",
       "      <th>1645</th>\n",
       "      <td>UCFCRIME_Arson002_walk_1.mp4</td>\n",
       "      <td>2</td>\n",
       "      <td>walk</td>\n",
       "      <td>./dataset/Videos/Videos/walk\\UCFCRIME_Arson002...</td>\n",
       "    </tr>\n",
       "    <tr>\n",
       "      <th>1646</th>\n",
       "      <td>UCFCRIME_Fighting031_walk_1.mp4</td>\n",
       "      <td>2</td>\n",
       "      <td>walk</td>\n",
       "      <td>./dataset/Videos/Videos/walk\\UCFCRIME_Fighting...</td>\n",
       "    </tr>\n",
       "    <tr>\n",
       "      <th>1647</th>\n",
       "      <td>UCFCRIME_Fighting021_walk_1.mp4</td>\n",
       "      <td>2</td>\n",
       "      <td>walk</td>\n",
       "      <td>./dataset/Videos/Videos/walk\\UCFCRIME_Fighting...</td>\n",
       "    </tr>\n",
       "    <tr>\n",
       "      <th>1648</th>\n",
       "      <td>UCFCRIME_Stealing052_walk_1.mp4</td>\n",
       "      <td>2</td>\n",
       "      <td>walk</td>\n",
       "      <td>./dataset/Videos/Videos/walk\\UCFCRIME_Stealing...</td>\n",
       "    </tr>\n",
       "    <tr>\n",
       "      <th>1649</th>\n",
       "      <td>UCFCRIME_Abuse046_walk_1.mp4</td>\n",
       "      <td>2</td>\n",
       "      <td>walk</td>\n",
       "      <td>./dataset/Videos/Videos/walk\\UCFCRIME_Abuse046...</td>\n",
       "    </tr>\n",
       "  </tbody>\n",
       "</table>\n",
       "<p>1650 rows × 4 columns</p>\n",
       "</div>"
      ]
     },
     "execution_count": 3,
     "metadata": {},
     "output_type": "execute_result"
    }
   ],
   "execution_count": 3
  },
  {
   "metadata": {
    "ExecuteTime": {
     "end_time": "2025-02-14T22:08:26.409183Z",
     "start_time": "2025-02-14T22:08:26.378576Z"
    }
   },
   "cell_type": "code",
   "source": [
    "# Ana dataset klasörü\n",
    "dataset_path = \"./dataset/Videos/Videos/\"\n",
    "\n",
    "# Normal ve Abnormal klasörlerini al\n",
    "normal_path = os.path.join(dataset_path, \"normal\")\n",
    "abnormal_path = os.path.join(dataset_path, \"abnormal\")\n",
    "\n",
    "# Tüm sınıfları belirleyelim\n",
    "abnormal_classes = [folder for folder in os.listdir(abnormal_path) if os.path.isdir(os.path.join(abnormal_path, folder))]\n",
    "class_to_index = {cls: idx + 1 for idx, cls in enumerate(abnormal_classes)}  # Abnormal sınıfları 1, 2, 3... olarak etiketliyoruz\n",
    "class_to_index[\"normal\"] = 0  # Normal aktiviteleri 0 olarak etiketliyoruz\n",
    "\n",
    "# DataFrame oluşturmak için liste\n",
    "data = []\n",
    "\n",
    "# Normal videoları ekleyelim\n",
    "for subfolder in os.listdir(normal_path):\n",
    "    subfolder_path = os.path.join(normal_path, subfolder)\n",
    "    if os.path.isdir(subfolder_path):\n",
    "        videos = [os.path.join(subfolder_path, v) for v in os.listdir(subfolder_path) if v.endswith(('.mp4', '.avi', '.mov'))]\n",
    "        data.extend([(video, \"normal\", 0) for video in videos])  # Label = 0\n",
    "\n",
    "# Abnormal videoları ekleyelim\n",
    "for subfolder in abnormal_classes:\n",
    "    subfolder_path = os.path.join(abnormal_path, subfolder)\n",
    "    videos = [os.path.join(subfolder_path, v) for v in os.listdir(subfolder_path) if v.endswith(('.mp4', '.avi', '.mov'))]\n",
    "    data.extend([(video, subfolder, class_to_index[subfolder]) for video in videos])  # Label = 1, 2, 3, ...\n",
    "\n",
    "# DataFrame oluştur\n",
    "df = pd.DataFrame(data, columns=[\"video_path\", \"category\", \"label\"])\n"
   ],
   "id": "8be6ceab98346e92",
   "outputs": [],
   "execution_count": 4
  },
  {
   "metadata": {
    "ExecuteTime": {
     "end_time": "2025-02-14T22:08:26.454946Z",
     "start_time": "2025-02-14T22:08:26.444658Z"
    }
   },
   "cell_type": "code",
   "source": [
    "train_df, test_df = train_test_split(df, test_size=0.2, stratify=df[\"label\"],random_state=42)\n",
    "\n",
    "print(f\"Train set {len(train_df)} videos\")\n",
    "print(f\"Test set {len(test_df)} videos\")"
   ],
   "id": "ffc00782cc50e573",
   "outputs": [
    {
     "name": "stdout",
     "output_type": "stream",
     "text": [
      "Train set 2224 videos\n",
      "Test set 556 videos\n"
     ]
    }
   ],
   "execution_count": 5
  },
  {
   "metadata": {
    "ExecuteTime": {
     "end_time": "2025-02-14T22:08:50.166699Z",
     "start_time": "2025-02-14T22:08:26.486022Z"
    }
   },
   "cell_type": "code",
   "source": [
    "def get_video_fps(video_path):\n",
    "    cap = cv2.VideoCapture(video_path)\n",
    "    fps = cap.get(cv2.CAP_PROP_FPS)\n",
    "    cap.release()\n",
    "    return fps\n",
    "\n",
    "# Tüm videoların FPS'lerini kontrol et\n",
    "fps_data = []\n",
    "\n",
    "for index, row in df.iterrows():\n",
    "    video_path = row[\"video_path\"]\n",
    "    fps = get_video_fps(video_path)\n",
    "    fps_data.append({\"video_path\": video_path, \"fps\": fps})\n",
    "\n",
    "# DataFrame'e çevir\n",
    "fps_df = pd.DataFrame(fps_data)\n",
    "\n",
    "# Farklı FPS değerlerini kontrol et\n",
    "fps_counts = fps_df[\"fps\"].value_counts()\n",
    "print(fps_counts)\n",
    "\n",
    "# 30 FPS’den farklı olanları göster\n",
    "non_standard_fps = fps_df[fps_df[\"fps\"] != 30]\n",
    "print(non_standard_fps)\n",
    "\n",
    "# Görsel olarak da FPS dağılımını inceleyelim\n",
    "import matplotlib.pyplot as plt\n",
    "\n",
    "plt.hist(fps_df[\"fps\"], bins=10, edgecolor=\"black\")\n",
    "plt.xlabel(\"FPS Değerleri\")\n",
    "plt.ylabel(\"Video Sayısı\")\n",
    "plt.title(\"Dataset'teki FPS Dağılımı\")\n",
    "plt.show()"
   ],
   "id": "faac9fa90f5109be",
   "outputs": [
    {
     "name": "stdout",
     "output_type": "stream",
     "text": [
      "fps\n",
      "30.00000    2773\n",
      "29.97003       7\n",
      "Name: count, dtype: int64\n",
      "                                             video_path       fps\n",
      "1575  ./dataset/Videos/Videos/abnormal\\hit\\NTU_fight...  29.97003\n",
      "1576  ./dataset/Videos/Videos/abnormal\\hit\\NTU_fight...  29.97003\n",
      "1577  ./dataset/Videos/Videos/abnormal\\hit\\NTU_fight...  29.97003\n",
      "2376  ./dataset/Videos/Videos/abnormal\\struggle\\NTU_...  29.97003\n",
      "2570  ./dataset/Videos/Videos/abnormal\\throw\\NTU_fig...  29.97003\n",
      "2571  ./dataset/Videos/Videos/abnormal\\throw\\NTU_fig...  29.97003\n",
      "2572  ./dataset/Videos/Videos/abnormal\\throw\\NTU_fig...  29.97003\n"
     ]
    },
    {
     "data": {
      "text/plain": [
       "<Figure size 640x480 with 1 Axes>"
      ],
      "image/png": "[encoded data removed]"
     },
     "metadata": {},
     "output_type": "display_data"
    }
   ],
   "execution_count": 6
  },
  {
   "metadata": {
    "ExecuteTime": {
     "end_time": "2025-02-14T22:08:50.378271Z",
     "start_time": "2025-02-14T22:08:50.199751Z"
    }
   },
   "cell_type": "code",
   "source": [
    "df[\"category\"].value_counts().plot(kind=\"bar\", title=\"Sınıf Dağılımı\")\n",
    "plt.xlabel(\"kategori\")\n",
    "plt.ylabel(\"Video Sayısı\")\n",
    "plt.show()"
   ],
   "id": "1f8a63ccca211753",
   "outputs": [
    {
     "data": {
      "text/plain": [
       "<Figure size 640x480 with 1 Axes>"
      ],
      "image/png": "[encoded data removed]"
     },
     "metadata": {},
     "output_type": "display_data"
    }
   ],
   "execution_count": 7
  },
  {
   "metadata": {
    "ExecuteTime": {
     "end_time": "2025-02-14T22:08:50.388219Z",
     "start_time": "2025-02-14T22:08:50.384144Z"
    }
   },
   "cell_type": "code",
   "source": "# Buraya preprocessing adımı olarak Veri döndürme, zoomout, kontrast vs eklenebilir",
   "id": "99254592da2f731c",
   "outputs": [],
   "execution_count": 8
  },
  {
   "metadata": {
    "ExecuteTime": {
     "end_time": "2025-02-14T22:08:50.433341Z",
     "start_time": "2025-02-14T22:08:50.424218Z"
    }
   },
   "cell_type": "code",
   "source": [
    "class VideoDataset(Dataset):\n",
    "    def __init__(self, df, num_frames=16, transform=None):\n",
    "        self.df = df  # DataFrame içindeki video yolları ve etiketler\n",
    "        self.num_frames = num_frames\n",
    "        self.transform = transform\n",
    "\n",
    "    def __len__(self):\n",
    "        return len(self.df)\n",
    "\n",
    "    def __getitem__(self, idx):\n",
    "        video_path = self.df.iloc[idx][\"video_path\"]\n",
    "        label = self.df.iloc[idx][\"label\"]\n",
    "\n",
    "        # Videodan sabit sayıda frame al\n",
    "        frames = self.extract_frames(video_path, self.num_frames)\n",
    "\n",
    "        # Eğer augmentation aktifse uygula\n",
    "        if self.transform:\n",
    "            frames = self.transform(frames)\n",
    "\n",
    "        # PyTorch formatına dönüştür\n",
    "        frames = np.transpose(frames, (3, 0, 1, 2))  # (H, W, C) → (C, T, H, W)\n",
    "        frames = torch.tensor(frames, dtype=torch.float32)\n",
    "\n",
    "        return frames, torch.tensor(label, dtype=torch.long)\n",
    "\n",
    "    def extract_frames(self, video_path, num_frames):\n",
    "        cap = cv2.VideoCapture(video_path)\n",
    "        total_frames = int(cap.get(cv2.CAP_PROP_FRAME_COUNT))\n",
    "\n",
    "        # Eşit aralıklı frame seçimi\n",
    "        frame_indices = np.linspace(0, total_frames - 1, num_frames, dtype=int)\n",
    "\n",
    "        frames = []\n",
    "        for frame_id in frame_indices:\n",
    "            cap.set(cv2.CAP_PROP_POS_FRAMES, frame_id)\n",
    "            ret, frame = cap.read()\n",
    "            if ret:\n",
    "                frame = cv2.resize(frame, (112, 112))  # MoViNet/X3D için uygun boyut\n",
    "                frames.append(frame)\n",
    "\n",
    "        cap.release()\n",
    "\n",
    "        # Eksik frame varsa padding ekle (siyah frame)\n",
    "        while len(frames) < num_frames:\n",
    "            frames.append(np.zeros((112, 112, 3), dtype=np.uint8))\n",
    "\n",
    "        return np.array(frames) / 255.0  # Normalize et (0-1)"
   ],
   "id": "e0462ad59a40b35f",
   "outputs": [],
   "execution_count": 9
  },
  {
   "metadata": {
    "ExecuteTime": {
     "end_time": "2025-02-14T22:08:50.465590Z",
     "start_time": "2025-02-14T22:08:50.460007Z"
    }
   },
   "cell_type": "code",
   "source": [
    "train_dataset = VideoDataset(train_df, num_frames=32)\n",
    "test_dataset = VideoDataset(test_df, num_frames=32)\n",
    "\n",
    "train_loader = DataLoader(train_dataset, batch_size=8, shuffle=True)\n",
    "test_loader = DataLoader(test_dataset, batch_size=8, shuffle=False)\n",
    "\n",
    "print(f\"Train loader {len(train_loader)} batches\")\n",
    "print(f\"Test loader {len(test_loader)} batches\")"
   ],
   "id": "22ce79d5c294f2c6",
   "outputs": [
    {
     "name": "stdout",
     "output_type": "stream",
     "text": [
      "Train loader 278 batches\n",
      "Test loader 70 batches\n"
     ]
    }
   ],
   "execution_count": 10
  },
  {
   "metadata": {},
   "cell_type": "markdown",
   "source": [
    "X3D modelimizin output layerini tüm classlarımızı kapsayacak şekilde arttırmamız lazım\n",
    "Son katman ise ResNetBasicHead altında proj olarak tanımlanmış."
   ],
   "id": "49f69497b15dc01f"
  },
  {
   "metadata": {
    "ExecuteTime": {
     "end_time": "2025-02-14T22:08:52.895312Z",
     "start_time": "2025-02-14T22:08:50.490008Z"
    }
   },
   "cell_type": "code",
   "source": [
    "# X3D Modelini Yükleme\n",
    "import torch\n",
    "\n",
    "model_name= \"x3d_xs\"\n",
    "model = torch.hub.load('facebookresearch/pytorchvideo', model_name, pretrained=True)\n",
    "\n",
    "num_classes = len(train_df[\"category\"].unique())"
   ],
   "id": "eb2055b4174b845f",
   "outputs": [
    {
     "name": "stderr",
     "output_type": "stream",
     "text": [
      "Using cache found in C:\\Users\\Bugra/.cache\\torch\\hub\\facebookresearch_pytorchvideo_main\n"
     ]
    }
   ],
   "execution_count": 11
  },
  {
   "metadata": {
    "ExecuteTime": {
     "end_time": "2025-02-14T22:08:52.912953Z",
     "start_time": "2025-02-14T22:08:52.900783Z"
    }
   },
   "cell_type": "code",
   "source": [
    "\n",
    "#Son katmanı değiştirme\n",
    "model.blocks[-1].proj = torch.nn.Linear(model.blocks[-1].proj.in_features, num_classes)\n",
    "\n",
    "device = \"cuda\" if torch.cuda.is_available() else \"cpu\"\n",
    "model = model.to(device)\n",
    "\n",
    "print(f\"Model loaded on {device}\")"
   ],
   "id": "f96be271924d70ea",
   "outputs": [
    {
     "name": "stdout",
     "output_type": "stream",
     "text": [
      "Model loaded on cpu\n"
     ]
    }
   ],
   "execution_count": 12
  },
  {
   "metadata": {
    "ExecuteTime": {
     "end_time": "2025-02-14T22:08:52.944334Z",
     "start_time": "2025-02-14T22:08:52.939440Z"
    }
   },
   "cell_type": "code",
   "source": "print(model.blocks[-1].proj)\n",
   "id": "780da3c3ba93180f",
   "outputs": [
    {
     "name": "stdout",
     "output_type": "stream",
     "text": [
      "Linear(in_features=2048, out_features=12, bias=True)\n"
     ]
    }
   ],
   "execution_count": 13
  },
  {
   "metadata": {
    "ExecuteTime": {
     "end_time": "2025-02-14T22:23:44.782739Z",
     "start_time": "2025-02-14T22:23:42.001941Z"
    }
   },
   "cell_type": "code",
   "source": [
    "import torch\n",
    "print(torch.version.cuda)\n",
    "print(torch.__version__)\n",
    "import sys\n",
    "\n",
    "print(sys.executable)  # Çalışan python yolunu verir\n",
    "\n"
   ],
   "id": "d90eeb789482c9d6",
   "outputs": [
    {
     "name": "stdout",
     "output_type": "stream",
     "text": [
      "None\n",
      "2.6.0+cpu\n",
      "C:\\Users\\Bugra\\miniconda3\\python.exe\n"
     ]
    }
   ],
   "execution_count": 1
  },
  {
   "metadata": {
    "ExecuteTime": {
     "end_time": "2025-02-14T22:08:55.869624Z",
     "start_time": "2025-02-14T22:08:53.058302Z"
    }
   },
   "cell_type": "code",
   "source": [
    "import torch.nn as nn\n",
    "import torch.optim as optim\n",
    "\n",
    "criterion = nn.CrossEntropyLoss()\n",
    "optimizer = optim.Adam(model.parameters(), lr=0.001)\n",
    "\n",
    "for epoch in range(10):\n",
    "    model.train()\n",
    "    running_loss = 0.0\n",
    "    for videos, labels in train_loader:\n",
    "        videos, labels = videos.to(\"cuda\"), labels.to(\"cuda\")\n",
    "\n",
    "        optimizer.zero_grad()\n",
    "        outputs = model(videos)\n",
    "        loss = criterion(outputs, labels)\n",
    "        loss.backward()\n",
    "        optimizer.step()\n",
    "\n",
    "        running_loss += loss.item()\n",
    "    print(f\"Epoch {epoch+1}, Loss: {running_loss/len(train_loader)}\")"
   ],
   "id": "9b297db9945016d9",
   "outputs": [
    {
     "ename": "AssertionError",
     "evalue": "Torch not compiled with CUDA enabled",
     "output_type": "error",
     "traceback": [
      "\u001B[1;31m---------------------------------------------------------------------------\u001B[0m",
      "\u001B[1;31mAssertionError\u001B[0m                            Traceback (most recent call last)",
      "Cell \u001B[1;32mIn[15], line 11\u001B[0m\n\u001B[0;32m      9\u001B[0m running_loss \u001B[38;5;241m=\u001B[39m \u001B[38;5;241m0.0\u001B[39m\n\u001B[0;32m     10\u001B[0m \u001B[38;5;28;01mfor\u001B[39;00m videos, labels \u001B[38;5;129;01min\u001B[39;00m train_loader:\n\u001B[1;32m---> 11\u001B[0m     videos, labels \u001B[38;5;241m=\u001B[39m videos\u001B[38;5;241m.\u001B[39mto(\u001B[38;5;124m\"\u001B[39m\u001B[38;5;124mcuda\u001B[39m\u001B[38;5;124m\"\u001B[39m), labels\u001B[38;5;241m.\u001B[39mto(\u001B[38;5;124m\"\u001B[39m\u001B[38;5;124mcuda\u001B[39m\u001B[38;5;124m\"\u001B[39m)\n\u001B[0;32m     13\u001B[0m     optimizer\u001B[38;5;241m.\u001B[39mzero_grad()\n\u001B[0;32m     14\u001B[0m     outputs \u001B[38;5;241m=\u001B[39m model(videos)\n",
      "File \u001B[1;32m~\\miniconda3\\Lib\\site-packages\\torch\\cuda\\__init__.py:310\u001B[0m, in \u001B[0;36m_lazy_init\u001B[1;34m()\u001B[0m\n\u001B[0;32m    305\u001B[0m     \u001B[38;5;28;01mraise\u001B[39;00m \u001B[38;5;167;01mRuntimeError\u001B[39;00m(\n\u001B[0;32m    306\u001B[0m         \u001B[38;5;124m\"\u001B[39m\u001B[38;5;124mCannot re-initialize CUDA in forked subprocess. To use CUDA with \u001B[39m\u001B[38;5;124m\"\u001B[39m\n\u001B[0;32m    307\u001B[0m         \u001B[38;5;124m\"\u001B[39m\u001B[38;5;124mmultiprocessing, you must use the \u001B[39m\u001B[38;5;124m'\u001B[39m\u001B[38;5;124mspawn\u001B[39m\u001B[38;5;124m'\u001B[39m\u001B[38;5;124m start method\u001B[39m\u001B[38;5;124m\"\u001B[39m\n\u001B[0;32m    308\u001B[0m     )\n\u001B[0;32m    309\u001B[0m \u001B[38;5;28;01mif\u001B[39;00m \u001B[38;5;129;01mnot\u001B[39;00m \u001B[38;5;28mhasattr\u001B[39m(torch\u001B[38;5;241m.\u001B[39m_C, \u001B[38;5;124m\"\u001B[39m\u001B[38;5;124m_cuda_getDeviceCount\u001B[39m\u001B[38;5;124m\"\u001B[39m):\n\u001B[1;32m--> 310\u001B[0m     \u001B[38;5;28;01mraise\u001B[39;00m \u001B[38;5;167;01mAssertionError\u001B[39;00m(\u001B[38;5;124m\"\u001B[39m\u001B[38;5;124mTorch not compiled with CUDA enabled\u001B[39m\u001B[38;5;124m\"\u001B[39m)\n\u001B[0;32m    311\u001B[0m \u001B[38;5;28;01mif\u001B[39;00m _cudart \u001B[38;5;129;01mis\u001B[39;00m \u001B[38;5;28;01mNone\u001B[39;00m:\n\u001B[0;32m    312\u001B[0m     \u001B[38;5;28;01mraise\u001B[39;00m \u001B[38;5;167;01mAssertionError\u001B[39;00m(\n\u001B[0;32m    313\u001B[0m         \u001B[38;5;124m\"\u001B[39m\u001B[38;5;124mlibcudart functions unavailable. It looks like you have a broken build?\u001B[39m\u001B[38;5;124m\"\u001B[39m\n\u001B[0;32m    314\u001B[0m     )\n",
      "\u001B[1;31mAssertionError\u001B[0m: Torch not compiled with CUDA enabled"
     ]
    }
   ],
   "execution_count": 15
  },
  {
   "metadata": {},
   "cell_type": "code",
   "outputs": [],
   "execution_count": null,
   "source": [
    "model.eval()\n",
    "correct = 0\n",
    "total = 0\n",
    "\n",
    "with torch.no_grad():\n",
    "    for videos, labels in test_loader:\n",
    "        videos, labels = videos.to(\"cuda\"), labels.to(\"cuda\")\n",
    "        outputs = model(videos)\n",
    "        _, predicted = torch.max(outputs.data, 1)\n",
    "        total += labels.size(0)\n",
    "        correct += (predicted == labels).sum().item()\n",
    "\n",
    "print(f\"Accuracy: {100 * correct / total:.2f}%\")"
   ],
   "id": "2ce588e9e6052650"
  }
 ],
 "metadata": {
  "kernelspec": {
   "display_name": "Python [conda env:base] *",
   "language": "python",
   "name": "conda-base-py"
  },
  "language_info": {
   "codemirror_mode": {
    "name": "ipython",
    "version": 2
   },
   "file_extension": ".py",
   "mimetype": "text/x-python",
   "name": "python",
   "nbconvert_exporter": "python",
   "pygments_lexer": "ipython2",
   "version": "2.7.6"
  }
 },
 "nbformat": 4,
 "nbformat_minor": 5
}
