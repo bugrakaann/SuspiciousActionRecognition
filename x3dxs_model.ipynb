{
  "cells": [
    {
      "cell_type": "markdown",
      "metadata": {
        "id": "view-in-github",
        "colab_type": "text"
      },
      "source": [
        "<a href=\"https://colab.research.google.com/github/bugrakaann/SuspiciousActionRecognition/blob/master/x3dxs_model.ipynb\" target=\"_parent\"><img src=\"https://colab.research.google.com/assets/colab-badge.svg\" alt=\"Open In Colab\"/></a>"
      ]
    },
    {
      "cell_type": "code",
      "source": [
        "#!pip install pytorchvideo torchvision\n",
        "!pip install pytorchvideo"
      ],
      "metadata": {
        "colab": {
          "base_uri": "https://localhost:8080/"
        },
        "id": "WFgv3OC86_1G",
        "outputId": "199e72f1-5d06-4a05-9aab-eeceb192bcbf"
      },
      "id": "WFgv3OC86_1G",
      "execution_count": 1,
      "outputs": [
        {
          "output_type": "stream",
          "name": "stdout",
          "text": [
            "Collecting pytorchvideo\n",
            "  Downloading pytorchvideo-0.1.5.tar.gz (132 kB)\n",
            "\u001b[?25l     \u001b[90m━━━━━━━━━━━━━━━━━━━━━━━━━━━━━━━━━━━━━━━━\u001b[0m \u001b[32m0.0/132.7 kB\u001b[0m \u001b[31m?\u001b[0m eta \u001b[36m-:--:--\u001b[0m\r\u001b[2K     \u001b[91m━━━━━━━━━━━━━━━━━━━━━━━━━━━━━━━━━━━━\u001b[0m\u001b[90m╺\u001b[0m\u001b[90m━━\u001b[0m \u001b[32m122.9/132.7 kB\u001b[0m \u001b[31m4.2 MB/s\u001b[0m eta \u001b[36m0:00:01\u001b[0m\r\u001b[2K     \u001b[90m━━━━━━━━━━━━━━━━━━━━━━━━━━━━━━━━━━━━━━━\u001b[0m \u001b[32m132.7/132.7 kB\u001b[0m \u001b[31m2.8 MB/s\u001b[0m eta \u001b[36m0:00:00\u001b[0m\n",
            "\u001b[?25h  Preparing metadata (setup.py) ... \u001b[?25l\u001b[?25hdone\n",
            "Collecting fvcore (from pytorchvideo)\n",
            "  Downloading fvcore-0.1.5.post20221221.tar.gz (50 kB)\n",
            "\u001b[2K     \u001b[90m━━━━━━━━━━━━━━━━━━━━━━━━━━━━━━━━━━━━━━━━\u001b[0m \u001b[32m50.2/50.2 kB\u001b[0m \u001b[31m3.3 MB/s\u001b[0m eta \u001b[36m0:00:00\u001b[0m\n",
            "\u001b[?25h  Preparing metadata (setup.py) ... \u001b[?25l\u001b[?25hdone\n",
            "Collecting av (from pytorchvideo)\n",
            "  Downloading av-14.3.0-cp311-cp311-manylinux_2_17_x86_64.manylinux2014_x86_64.whl.metadata (4.7 kB)\n",
            "Collecting parameterized (from pytorchvideo)\n",
            "  Downloading parameterized-0.9.0-py2.py3-none-any.whl.metadata (18 kB)\n",
            "Collecting iopath (from pytorchvideo)\n",
            "  Downloading iopath-0.1.10.tar.gz (42 kB)\n",
            "\u001b[2K     \u001b[90m━━━━━━━━━━━━━━━━━━━━━━━━━━━━━━━━━━━━━━━━\u001b[0m \u001b[32m42.2/42.2 kB\u001b[0m \u001b[31m3.0 MB/s\u001b[0m eta \u001b[36m0:00:00\u001b[0m\n",
            "\u001b[?25h  Preparing metadata (setup.py) ... \u001b[?25l\u001b[?25hdone\n",
            "Requirement already satisfied: networkx in /usr/local/lib/python3.11/dist-packages (from pytorchvideo) (3.4.2)\n",
            "Requirement already satisfied: numpy in /usr/local/lib/python3.11/dist-packages (from fvcore->pytorchvideo) (2.0.2)\n",
            "Collecting yacs>=0.1.6 (from fvcore->pytorchvideo)\n",
            "  Downloading yacs-0.1.8-py3-none-any.whl.metadata (639 bytes)\n",
            "Requirement already satisfied: pyyaml>=5.1 in /usr/local/lib/python3.11/dist-packages (from fvcore->pytorchvideo) (6.0.2)\n",
            "Requirement already satisfied: tqdm in /usr/local/lib/python3.11/dist-packages (from fvcore->pytorchvideo) (4.67.1)\n",
            "Requirement already satisfied: termcolor>=1.1 in /usr/local/lib/python3.11/dist-packages (from fvcore->pytorchvideo) (3.0.1)\n",
            "Requirement already satisfied: Pillow in /usr/local/lib/python3.11/dist-packages (from fvcore->pytorchvideo) (11.2.1)\n",
            "Requirement already satisfied: tabulate in /usr/local/lib/python3.11/dist-packages (from fvcore->pytorchvideo) (0.9.0)\n",
            "Requirement already satisfied: typing_extensions in /usr/local/lib/python3.11/dist-packages (from iopath->pytorchvideo) (4.13.2)\n",
            "Collecting portalocker (from iopath->pytorchvideo)\n",
            "  Downloading portalocker-3.1.1-py3-none-any.whl.metadata (8.6 kB)\n",
            "Downloading av-14.3.0-cp311-cp311-manylinux_2_17_x86_64.manylinux2014_x86_64.whl (35.2 MB)\n",
            "\u001b[2K   \u001b[90m━━━━━━━━━━━━━━━━━━━━━━━━━━━━━━━━━━━━━━━━\u001b[0m \u001b[32m35.2/35.2 MB\u001b[0m \u001b[31m62.0 MB/s\u001b[0m eta \u001b[36m0:00:00\u001b[0m\n",
            "\u001b[?25hDownloading parameterized-0.9.0-py2.py3-none-any.whl (20 kB)\n",
            "Downloading yacs-0.1.8-py3-none-any.whl (14 kB)\n",
            "Downloading portalocker-3.1.1-py3-none-any.whl (19 kB)\n",
            "Building wheels for collected packages: pytorchvideo, fvcore, iopath\n",
            "  Building wheel for pytorchvideo (setup.py) ... \u001b[?25l\u001b[?25hdone\n",
            "  Created wheel for pytorchvideo: filename=pytorchvideo-0.1.5-py3-none-any.whl size=188686 sha256=7b06025f1d47145852fa076af9e9f94b546245eeff4d2ed211fd3003557a8af9\n",
            "  Stored in directory: /root/.cache/pip/wheels/a4/6d/ae/d016375a73be141a0e11bb42289e2d0b046c35687fc8010ecc\n",
            "  Building wheel for fvcore (setup.py) ... \u001b[?25l\u001b[?25hdone\n",
            "  Created wheel for fvcore: filename=fvcore-0.1.5.post20221221-py3-none-any.whl size=61397 sha256=07a3dfa210578532aa47c4d133a83bc3f9bc9d9b8a156c882916fcd88d66be2f\n",
            "  Stored in directory: /root/.cache/pip/wheels/65/71/95/3b8fde5c65c6e4a806e0867c1651dcc71a1cb2f3430e8f355f\n",
            "  Building wheel for iopath (setup.py) ... \u001b[?25l\u001b[?25hdone\n",
            "  Created wheel for iopath: filename=iopath-0.1.10-py3-none-any.whl size=31527 sha256=d6e826333e11dcf1a679bdfaefe63d5a02156480d8602ee29180143d4b0fd45e\n",
            "  Stored in directory: /root/.cache/pip/wheels/ba/5e/16/6117f8fe7e9c0c161a795e10d94645ebcf301ccbd01f66d8ec\n",
            "Successfully built pytorchvideo fvcore iopath\n",
            "Installing collected packages: yacs, portalocker, parameterized, av, iopath, fvcore, pytorchvideo\n",
            "Successfully installed av-14.3.0 fvcore-0.1.5.post20221221 iopath-0.1.10 parameterized-0.9.0 portalocker-3.1.1 pytorchvideo-0.1.5 yacs-0.1.8\n"
          ]
        }
      ]
    },
    {
      "cell_type": "code",
      "source": [
        "from google.colab import drive\n",
        "drive.mount('/content/drive')"
      ],
      "metadata": {
        "colab": {
          "base_uri": "https://localhost:8080/"
        },
        "id": "WTiteomht11l",
        "outputId": "d7b27360-ef68-43f4-fd66-9af20af73d4a"
      },
      "id": "WTiteomht11l",
      "execution_count": 2,
      "outputs": [
        {
          "output_type": "stream",
          "name": "stdout",
          "text": [
            "Mounted at /content/drive\n"
          ]
        }
      ]
    },
    {
      "metadata": {
        "ExecuteTime": {
          "end_time": "2025-02-22T11:46:22.236707Z",
          "start_time": "2025-02-22T11:46:16.336297Z"
        },
        "id": "aea6d8027b7de87f"
      },
      "cell_type": "code",
      "source": [
        "import os\n",
        "import pandas as pd\n",
        "import cv2\n",
        "from sklearn.model_selection import train_test_split\n",
        "from torch.utils.data import Dataset, DataLoader\n",
        "import numpy as np"
      ],
      "id": "aea6d8027b7de87f",
      "outputs": [],
      "execution_count": 3
    },
    {
      "metadata": {
        "ExecuteTime": {
          "end_time": "2025-02-22T12:45:17.298142Z",
          "start_time": "2025-02-22T12:45:16.394712Z"
        },
        "id": "d450b013940b2438",
        "outputId": "91cc80bd-46a9-4d6a-babf-75ccfe9883f5",
        "colab": {
          "base_uri": "https://localhost:8080/"
        }
      },
      "cell_type": "code",
      "source": [
        "import zipfile\n",
        "\n",
        "output_path = '/content/drive/MyDrive/dataset.zip'\n",
        "\n",
        "# Dosyayı unzip yap\n",
        "with zipfile.ZipFile(output_path, 'r') as zip_ref:\n",
        "    zip_ref.extractall('/content/sample_data')\n",
        "\n",
        "print(\"Dosya başarıyla indirildi ve çıkarıldı.\")"
      ],
      "id": "d450b013940b2438",
      "outputs": [
        {
          "output_type": "stream",
          "name": "stdout",
          "text": [
            "Dosya başarıyla indirildi ve çıkarıldı.\n"
          ]
        }
      ],
      "execution_count": 4
    },
    {
      "metadata": {
        "ExecuteTime": {
          "end_time": "2025-02-22T12:45:17.315483800Z",
          "start_time": "2025-02-22T11:46:22.239686Z"
        },
        "id": "8be6ceab98346e92"
      },
      "cell_type": "code",
      "source": [
        "import os\n",
        "import pandas as pd\n",
        "\n",
        "# 🔥 Ana dataset klasörü\n",
        "dataset_path = \"/content/sample_data/dataset/Videos/Videos/\"\n",
        "\n",
        "# 📌 Normal ve Abnormal klasörlerini al\n",
        "normal_path = os.path.normpath(os.path.join(dataset_path, \"normal\"))\n",
        "abnormal_path = os.path.normpath(os.path.join(dataset_path, \"abnormal\"))\n",
        "\n",
        "# 📌 Tüm abnormal sınıfları al\n",
        "abnormal_classes = [folder for folder in os.listdir(abnormal_path) if os.path.isdir(os.path.join(abnormal_path, folder))]\n",
        "class_to_index = {cls: idx for idx, cls in enumerate(abnormal_classes, start=1)}  # 1, 2, 3... (Abnormal sınıflar)\n",
        "\n",
        "# 📌 DataFrame oluşturmak için liste\n",
        "data = []\n",
        "\n",
        "# ✅ Normal videolar (Binary = 0, Multi = -1)\n",
        "for subfolder in os.listdir(normal_path):\n",
        "    subfolder_path = os.path.normpath(os.path.join(normal_path, subfolder))\n",
        "\n",
        "    if os.path.isdir(subfolder_path):  # Eğer bir klasörse\n",
        "        videos = [\n",
        "            os.path.normpath(os.path.join(subfolder_path, v)).replace(\"\\\\\", \"/\")  # Windows uyumu için düzeltilmiş\n",
        "            for v in os.listdir(subfolder_path) if v.endswith(('.mp4', '.avi', '.mov'))\n",
        "        ]\n",
        "        for video in videos:\n",
        "            data.append((video, \"normal\", 0, -1))  # Binary label = 0, Multi label = -1 (yok)\n",
        "\n",
        "# ✅ Anormal videolar (Binary = 1, Multi = class index)\n",
        "for subfolder in abnormal_classes:\n",
        "    subfolder_path = os.path.normpath(os.path.join(abnormal_path, subfolder))\n",
        "\n",
        "    if os.path.isdir(subfolder_path):\n",
        "        # Rekürsif olarak tüm alt klasörleri gezer\n",
        "        for root, dirs, files in os.walk(subfolder_path):\n",
        "            for file in files:\n",
        "                if file.endswith(('.mp4', '.avi', '.mov')):\n",
        "                    video_path = os.path.normpath(os.path.join(root, file)).replace(\"\\\\\", \"/\")\n",
        "                    # Burada 'subfolder' en üst düzey klasör adını temsil eder;\n",
        "                    # eğer alt klasörlere göre farklı etiket atamak isterseniz, root veya dosya adını parse edebilirsiniz.\n",
        "                    data.append((video_path, subfolder, 1, class_to_index.get(subfolder, -1)))\n",
        "\n",
        "# 🔥 DataFrame oluştur\n",
        "df = pd.DataFrame(data, columns=[\"video_path\", \"category\", \"binary_label\", \"multi_label\"])\n"
      ],
      "id": "8be6ceab98346e92",
      "outputs": [],
      "execution_count": 5
    },
    {
      "metadata": {
        "ExecuteTime": {
          "end_time": "2025-02-22T11:46:22.392226Z",
          "start_time": "2025-02-22T11:46:22.382103Z"
        },
        "id": "ffc00782cc50e573",
        "outputId": "5f22c3c1-5d69-4566-e8a1-c2c77b4de347",
        "colab": {
          "base_uri": "https://localhost:8080/"
        }
      },
      "cell_type": "code",
      "source": [
        "train_df, test_df = train_test_split(df, test_size=0.2,stratify=df[\"binary_label\"],random_state=42)\n",
        "\n",
        "print(f\"Train set {len(train_df)} videos\")\n",
        "print(f\"Test set {len(test_df)} videos\")"
      ],
      "id": "ffc00782cc50e573",
      "outputs": [
        {
          "output_type": "stream",
          "name": "stdout",
          "text": [
            "Train set 2603 videos\n",
            "Test set 651 videos\n"
          ]
        }
      ],
      "execution_count": 6
    },
    {
      "cell_type": "code",
      "source": [
        "import tensorflow as tf\n",
        "\n",
        "# GPU kullanımını kontrol et\n",
        "physical_devices = tf.config.list_physical_devices('GPU')\n",
        "if physical_devices:\n",
        "    print(\"GPU bulunuyor:\", physical_devices)\n",
        "else:\n",
        "    print(\"GPU bulunamadı.\")\n"
      ],
      "metadata": {
        "id": "xQH8ia_uBS1E",
        "outputId": "1c40beac-83cb-4a8a-97ac-7975127a368b",
        "colab": {
          "base_uri": "https://localhost:8080/"
        }
      },
      "id": "xQH8ia_uBS1E",
      "execution_count": 7,
      "outputs": [
        {
          "output_type": "stream",
          "name": "stdout",
          "text": [
            "GPU bulunuyor: [PhysicalDevice(name='/physical_device:GPU:0', device_type='GPU')]\n"
          ]
        }
      ]
    },
    {
      "cell_type": "code",
      "source": [
        "import os\n",
        "import datetime\n",
        "import tensorflow as tf\n",
        "import cv2\n",
        "import numpy as np\n",
        "import matplotlib.pyplot as plt\n",
        "from tensorflow.keras.layers import Input, Conv2D, MaxPooling2D, UpSampling2D, BatchNormalization\n",
        "from tensorflow.keras.models import Model\n",
        "from tensorflow.keras.callbacks import EarlyStopping, ReduceLROnPlateau, ModelCheckpoint\n",
        "from tqdm import tqdm\n",
        "\n",
        "# Temiz başlatma\n",
        "tf.keras.backend.clear_session()\n",
        "\n",
        "gpus = tf.config.list_physical_devices('GPU')\n",
        "if gpus:\n",
        "    for gpu in gpus:\n",
        "        tf.config.experimental.set_memory_growth(gpu, True)\n",
        "    print(\"GPU için bellek büyüme modu etkinleştirildi.\")\n",
        "else:\n",
        "    print(\"GPU bulunamadı, CPU kullanılacak.\")\n",
        "\n",
        "print(\"TensorFlow CUDA destekli mi?:\", tf.test.is_built_with_cuda())\n",
        "print(\"Fiziksel GPU var mı?:\", tf.config.list_physical_devices('GPU'))\n",
        "\n",
        "\n",
        "def build_autoencoder(input_shape):\n",
        "    input_img = Input(shape=input_shape, name=\"input_layer\")\n",
        "\n",
        "    # Encoder\n",
        "    x = Conv2D(64, (3, 3), activation='relu', padding='same')(input_img)\n",
        "    x = BatchNormalization()(x)\n",
        "    x = MaxPooling2D((2, 2), padding='same')(x)\n",
        "\n",
        "    x = Conv2D(32, (3, 3), activation='relu', padding='same')(x)\n",
        "    x = BatchNormalization()(x)\n",
        "    encoded = MaxPooling2D((2, 2), padding='same')(x)\n",
        "\n",
        "    # Temporal için 1x1 conv\n",
        "    x = Conv2D(16, (1, 1), activation='relu')(encoded)\n",
        "\n",
        "    # Decoder\n",
        "    x = Conv2D(32, (3, 3), activation='relu', padding='same')(x)\n",
        "    x = BatchNormalization()(x)\n",
        "    x = UpSampling2D((2, 2))(x)\n",
        "\n",
        "    x = Conv2D(64, (3, 3), activation='relu', padding='same')(x)\n",
        "    x = BatchNormalization()(x)\n",
        "    x = UpSampling2D((2, 2))(x)\n",
        "\n",
        "    decoded = Conv2D(input_shape[2], (3, 3), activation='sigmoid', padding='same')(x)\n",
        "\n",
        "    autoencoder = Model(input_img, decoded)\n",
        "    autoencoder.compile(optimizer='adam', loss='mse')\n",
        "    return autoencoder\n",
        "\n",
        "\n",
        "def load_frames_from_videos(folder, target_size, frame_interval=30):\n",
        "    frames = []\n",
        "    valid_ext = ('.mp4', '.avi', '.mkv')\n",
        "\n",
        "    for root, _, files in os.walk(folder):\n",
        "        for filename in sorted(files):\n",
        "            if not filename.lower().endswith(valid_ext):\n",
        "                continue\n",
        "\n",
        "            video_path = os.path.join(root, filename)\n",
        "            cap = cv2.VideoCapture(video_path)\n",
        "            frame_idx = 0\n",
        "            total = int(cap.get(cv2.CAP_PROP_FRAME_COUNT))\n",
        "\n",
        "            with tqdm(total=total, desc=f\"İşleniyor: {filename}\", leave=False) as pbar:\n",
        "                while True:\n",
        "                    ret, frame = cap.read()\n",
        "                    if not ret:\n",
        "                        break\n",
        "                    if frame_idx % frame_interval == 0:\n",
        "                        frame_resized = cv2.resize(frame, target_size)\n",
        "                        frame_rgb = cv2.cvtColor(frame_resized, cv2.COLOR_BGR2RGB)\n",
        "                        frames.append(frame_rgb)\n",
        "                    frame_idx += 1\n",
        "                    pbar.update(1)\n",
        "            cap.release()\n",
        "            tqdm.write(f\"{filename}: {frame_idx // frame_interval} kare yüklendi.\")\n",
        "\n",
        "    if not frames:\n",
        "        raise ValueError(f\"'{folder}' klasöründe geçerli video bulunamadı.\")\n",
        "\n",
        "    frames = np.stack(frames, axis=0).astype('float32') / 255.0\n",
        "    return frames\n",
        "\n",
        "\n",
        "def train_autoencoder(normal_videos_folder, target_size=(128, 128), batch_size=32, epochs=100):\n",
        "    print(\"Normal videolardan frame'ler yükleniyor...\")\n",
        "    frames = load_frames_from_videos(normal_videos_folder, target_size)\n",
        "    num_samples = frames.shape[0]\n",
        "    val_count = int(0.1 * num_samples)\n",
        "\n",
        "    train_frames = frames[val_count:]\n",
        "    val_frames = frames[:val_count]\n",
        "\n",
        "    # tf.data pipeline\n",
        "    train_ds = tf.data.Dataset.from_tensor_slices((train_frames, train_frames)) \\\n",
        "        .shuffle(1000).batch(batch_size).prefetch(tf.data.AUTOTUNE)\n",
        "    val_ds = tf.data.Dataset.from_tensor_slices((val_frames, val_frames)) \\\n",
        "        .batch(batch_size).prefetch(tf.data.AUTOTUNE)\n",
        "\n",
        "    input_shape = (target_size[1], target_size[0], 3)\n",
        "    autoencoder = build_autoencoder(input_shape)\n",
        "    autoencoder.summary()\n",
        "\n",
        "    # Callbacks\n",
        "    checkpoint_dir = '/content/sample_data/modelepochsaves'\n",
        "    os.makedirs(checkpoint_dir, exist_ok=True)\n",
        "    callbacks = [\n",
        "        EarlyStopping(monitor='val_loss', patience=5, restore_best_weights=True),\n",
        "        ReduceLROnPlateau(monitor='val_loss', factor=0.2, patience=3, min_lr=1e-6),\n",
        "        ModelCheckpoint(\n",
        "            filepath=os.path.join(checkpoint_dir, 'ae_epoch_{epoch:02d}_val{val_loss:.4f}.h5'),\n",
        "            monitor='val_loss', save_best_only=True\n",
        "        )\n",
        "    ]\n",
        "\n",
        "    print(\"Autoencoder eğitimi başlıyor...\")\n",
        "    history = autoencoder.fit(\n",
        "        train_ds,\n",
        "        validation_data=val_ds,\n",
        "        epochs=epochs,\n",
        "        callbacks=callbacks\n",
        "    )\n",
        "\n",
        "    return autoencoder, history\n",
        "\n",
        "\n",
        "# Eğitimi başlat\n",
        "normal_videos_folder = '/content/sample_data/dataset/Videos/Videos/normal'\n",
        "autoencoder, history = train_autoencoder(normal_videos_folder)\n",
        "\n",
        "# Eğitim sonuçlarını görselleştir\n",
        "plt.figure(figsize=(12, 4))\n",
        "plt.subplot(1, 2, 1)\n",
        "plt.plot(history.history['loss'], label='Training Loss')\n",
        "plt.plot(history.history['val_loss'], label='Validation Loss')\n",
        "plt.title('Model Loss')\n",
        "plt.xlabel('Epoch')\n",
        "plt.ylabel('Loss')\n",
        "plt.legend()\n",
        "plt.tight_layout()\n",
        "plt.show()\n",
        "\n",
        "# Son modeli kaydet\n",
        "timestamp = datetime.datetime.now().strftime(\"%Y%m%d-%H%M%S\")\n",
        "autoencoder.save(f'/content/sample_data/modelepochsaves/autoencoder_final_{timestamp}.h5')\n",
        "print(f\"Model kaydedildi: autoencoder_final_{timestamp}.h5\")"
      ],
      "metadata": {
        "id": "sOc8Qm8MLzeJ",
        "outputId": "f66c3fc0-e84a-4d8c-9ea9-7623ee3fb12a",
        "colab": {
          "base_uri": "https://localhost:8080/",
          "height": 1000
        }
      },
      "id": "sOc8Qm8MLzeJ",
      "execution_count": null,
      "outputs": [
        {
          "output_type": "stream",
          "name": "stdout",
          "text": [
            "GPU için bellek büyüme modu etkinleştirildi.\n",
            "TensorFlow CUDA destekli mi?: True\n",
            "Fiziksel GPU var mı?: [PhysicalDevice(name='/physical_device:GPU:0', device_type='GPU')]\n",
            "Normal videolardan frame'ler yükleniyor...\n"
          ]
        },
        {
          "output_type": "stream",
          "name": "stderr",
          "text": []
        },
        {
          "output_type": "stream",
          "name": "stdout",
          "text": [
            "NTU_fight0027_sit_1.mp4: 2 kare yüklendi.\n"
          ]
        },
        {
          "output_type": "stream",
          "name": "stderr",
          "text": []
        },
        {
          "output_type": "stream",
          "name": "stdout",
          "text": [
            "NTU_fight0030_sit_1.mp4: 4 kare yüklendi.\n"
          ]
        },
        {
          "output_type": "stream",
          "name": "stderr",
          "text": []
        },
        {
          "output_type": "stream",
          "name": "stdout",
          "text": [
            "NTU_fight0042_sit_1.mp4: 6 kare yüklendi.\n"
          ]
        },
        {
          "output_type": "stream",
          "name": "stderr",
          "text": []
        },
        {
          "output_type": "stream",
          "name": "stdout",
          "text": [
            "NTU_fight0054_sit_1.mp4: 4 kare yüklendi.\n"
          ]
        },
        {
          "output_type": "stream",
          "name": "stderr",
          "text": []
        },
        {
          "output_type": "stream",
          "name": "stdout",
          "text": [
            "NTU_fight0054_sit_2.mp4: 4 kare yüklendi.\n"
          ]
        },
        {
          "output_type": "stream",
          "name": "stderr",
          "text": []
        },
        {
          "output_type": "stream",
          "name": "stdout",
          "text": [
            "NTU_fight0067_sit_1.mp4: 4 kare yüklendi.\n"
          ]
        },
        {
          "output_type": "stream",
          "name": "stderr",
          "text": []
        },
        {
          "output_type": "stream",
          "name": "stdout",
          "text": [
            "NTU_fight0097_sit_1.mp4: 3 kare yüklendi.\n"
          ]
        },
        {
          "output_type": "stream",
          "name": "stderr",
          "text": []
        },
        {
          "output_type": "stream",
          "name": "stdout",
          "text": [
            "NTU_fight0098_sit_1.mp4: 4 kare yüklendi.\n"
          ]
        },
        {
          "output_type": "stream",
          "name": "stderr",
          "text": []
        },
        {
          "output_type": "stream",
          "name": "stdout",
          "text": [
            "NTU_fight0098_sit_2.mp4: 4 kare yüklendi.\n"
          ]
        },
        {
          "output_type": "stream",
          "name": "stderr",
          "text": []
        },
        {
          "output_type": "stream",
          "name": "stdout",
          "text": [
            "NTU_fight0115_sit_1.mp4: 3 kare yüklendi.\n"
          ]
        },
        {
          "output_type": "stream",
          "name": "stderr",
          "text": []
        },
        {
          "output_type": "stream",
          "name": "stdout",
          "text": [
            "NTU_fight0121_sit_1.mp4: 3 kare yüklendi.\n"
          ]
        },
        {
          "output_type": "stream",
          "name": "stderr",
          "text": []
        },
        {
          "output_type": "stream",
          "name": "stdout",
          "text": [
            "NTU_fight0122_sit_1.mp4: 3 kare yüklendi.\n"
          ]
        },
        {
          "output_type": "stream",
          "name": "stderr",
          "text": []
        },
        {
          "output_type": "stream",
          "name": "stdout",
          "text": [
            "NTU_fight0133_sit_1.mp4: 3 kare yüklendi.\n"
          ]
        },
        {
          "output_type": "stream",
          "name": "stderr",
          "text": []
        },
        {
          "output_type": "stream",
          "name": "stdout",
          "text": [
            "NTU_fight0146_sit_1.mp4: 2 kare yüklendi.\n"
          ]
        },
        {
          "output_type": "stream",
          "name": "stderr",
          "text": []
        },
        {
          "output_type": "stream",
          "name": "stdout",
          "text": [
            "NTU_fight0162_sit_1.mp4: 4 kare yüklendi.\n"
          ]
        },
        {
          "output_type": "stream",
          "name": "stderr",
          "text": []
        },
        {
          "output_type": "stream",
          "name": "stdout",
          "text": [
            "NTU_fight0188_sit_1.mp4: 4 kare yüklendi.\n"
          ]
        },
        {
          "output_type": "stream",
          "name": "stderr",
          "text": []
        },
        {
          "output_type": "stream",
          "name": "stdout",
          "text": [
            "NTU_fight0200_sit_1.mp4: 4 kare yüklendi.\n"
          ]
        },
        {
          "output_type": "stream",
          "name": "stderr",
          "text": []
        },
        {
          "output_type": "stream",
          "name": "stdout",
          "text": [
            "NTU_fight0223_sit_1.mp4: 4 kare yüklendi.\n"
          ]
        },
        {
          "output_type": "stream",
          "name": "stderr",
          "text": []
        },
        {
          "output_type": "stream",
          "name": "stdout",
          "text": [
            "NTU_fight0226_sit_1.mp4: 6 kare yüklendi.\n"
          ]
        },
        {
          "output_type": "stream",
          "name": "stderr",
          "text": []
        },
        {
          "output_type": "stream",
          "name": "stdout",
          "text": [
            "NTU_fight0228_sit_1.mp4: 5 kare yüklendi.\n"
          ]
        },
        {
          "output_type": "stream",
          "name": "stderr",
          "text": []
        },
        {
          "output_type": "stream",
          "name": "stdout",
          "text": [
            "NTU_fight0242_sit_1.mp4: 5 kare yüklendi.\n"
          ]
        },
        {
          "output_type": "stream",
          "name": "stderr",
          "text": []
        },
        {
          "output_type": "stream",
          "name": "stdout",
          "text": [
            "NTU_fight0244_sit_1.mp4: 3 kare yüklendi.\n"
          ]
        },
        {
          "output_type": "stream",
          "name": "stderr",
          "text": []
        },
        {
          "output_type": "stream",
          "name": "stdout",
          "text": [
            "NTU_fight0246_sit_1.mp4: 5 kare yüklendi.\n"
          ]
        },
        {
          "output_type": "stream",
          "name": "stderr",
          "text": []
        },
        {
          "output_type": "stream",
          "name": "stdout",
          "text": [
            "NTU_fight0321_sit_1.mp4: 1 kare yüklendi.\n"
          ]
        },
        {
          "output_type": "stream",
          "name": "stderr",
          "text": []
        },
        {
          "output_type": "stream",
          "name": "stdout",
          "text": [
            "NTU_fight0599_sit_1.mp4: 5 kare yüklendi.\n"
          ]
        },
        {
          "output_type": "stream",
          "name": "stderr",
          "text": []
        },
        {
          "output_type": "stream",
          "name": "stdout",
          "text": [
            "NTU_fight0990_sit_1.mp4: 5 kare yüklendi.\n"
          ]
        },
        {
          "output_type": "stream",
          "name": "stderr",
          "text": []
        },
        {
          "output_type": "stream",
          "name": "stdout",
          "text": [
            "NTU_fight0994_sit_1.mp4: 4 kare yüklendi.\n"
          ]
        },
        {
          "output_type": "stream",
          "name": "stderr",
          "text": []
        },
        {
          "output_type": "stream",
          "name": "stdout",
          "text": [
            "NTU_fight0995_sit_1.mp4: 1 kare yüklendi.\n"
          ]
        },
        {
          "output_type": "stream",
          "name": "stderr",
          "text": []
        },
        {
          "output_type": "stream",
          "name": "stdout",
          "text": [
            "UCFCRIME_Abuse040_sit_1.mp4: 2 kare yüklendi.\n"
          ]
        },
        {
          "output_type": "stream",
          "name": "stderr",
          "text": []
        },
        {
          "output_type": "stream",
          "name": "stdout",
          "text": [
            "UCFCRIME_Arson016_sit_1.mp4: 3 kare yüklendi.\n"
          ]
        },
        {
          "output_type": "stream",
          "name": "stderr",
          "text": []
        },
        {
          "output_type": "stream",
          "name": "stdout",
          "text": [
            "UCFCRIME_Arson029_sit_1.mp4: 3 kare yüklendi.\n"
          ]
        },
        {
          "output_type": "stream",
          "name": "stderr",
          "text": []
        },
        {
          "output_type": "stream",
          "name": "stdout",
          "text": [
            "UCFCRIME_Assault004_sit_1.mp4: 4 kare yüklendi.\n"
          ]
        },
        {
          "output_type": "stream",
          "name": "stderr",
          "text": []
        },
        {
          "output_type": "stream",
          "name": "stdout",
          "text": [
            "UCFCRIME_Assault009_sit_1.mp4: 4 kare yüklendi.\n"
          ]
        },
        {
          "output_type": "stream",
          "name": "stderr",
          "text": []
        },
        {
          "output_type": "stream",
          "name": "stdout",
          "text": [
            "UCFCRIME_Assault010_sit_1.mp4: 3 kare yüklendi.\n"
          ]
        },
        {
          "output_type": "stream",
          "name": "stderr",
          "text": [
            "                                                                                "
          ]
        },
        {
          "output_type": "stream",
          "name": "stdout",
          "text": [
            "UCFCRIME_Assault010_sit_2.mp4: 3 kare yüklendi.\n"
          ]
        },
        {
          "output_type": "stream",
          "name": "stderr",
          "text": []
        },
        {
          "output_type": "stream",
          "name": "stdout",
          "text": [
            "UCFCRIME_Burglary064_sit_1.mp4: 5 kare yüklendi.\n"
          ]
        },
        {
          "output_type": "stream",
          "name": "stderr",
          "text": []
        },
        {
          "output_type": "stream",
          "name": "stdout",
          "text": [
            "UCFCRIME_Burglary064_sit_2.mp4: 8 kare yüklendi.\n"
          ]
        },
        {
          "output_type": "stream",
          "name": "stderr",
          "text": []
        },
        {
          "output_type": "stream",
          "name": "stdout",
          "text": [
            "UCFCRIME_Fighting046_sit_1.mp4: 3 kare yüklendi.\n"
          ]
        },
        {
          "output_type": "stream",
          "name": "stderr",
          "text": []
        },
        {
          "output_type": "stream",
          "name": "stdout",
          "text": [
            "UCFCRIME_Fighting049_sit_1.mp4: 3 kare yüklendi.\n"
          ]
        },
        {
          "output_type": "stream",
          "name": "stderr",
          "text": [
            "                                                                                  "
          ]
        },
        {
          "output_type": "stream",
          "name": "stdout",
          "text": [
            "UCFCRIME_Fighting049_sit_2.mp4: 4 kare yüklendi.\n"
          ]
        },
        {
          "output_type": "stream",
          "name": "stderr",
          "text": []
        },
        {
          "output_type": "stream",
          "name": "stdout",
          "text": [
            "UCFCRIME_Robbery019_sit_1.mp4: 4 kare yüklendi.\n"
          ]
        },
        {
          "output_type": "stream",
          "name": "stderr",
          "text": []
        },
        {
          "output_type": "stream",
          "name": "stdout",
          "text": [
            "UCFCRIME_Robbery020_sit_1.mp4: 4 kare yüklendi.\n"
          ]
        },
        {
          "output_type": "stream",
          "name": "stderr",
          "text": []
        },
        {
          "output_type": "stream",
          "name": "stdout",
          "text": [
            "UCFCRIME_Robbery024_sit_1.mp4: 5 kare yüklendi.\n"
          ]
        },
        {
          "output_type": "stream",
          "name": "stderr",
          "text": []
        },
        {
          "output_type": "stream",
          "name": "stdout",
          "text": [
            "UCFCRIME_Robbery026_sit_1.mp4: 5 kare yüklendi.\n"
          ]
        },
        {
          "output_type": "stream",
          "name": "stderr",
          "text": []
        },
        {
          "output_type": "stream",
          "name": "stdout",
          "text": [
            "UCFCRIME_Robbery037_sit_1.mp4: 5 kare yüklendi.\n"
          ]
        },
        {
          "output_type": "stream",
          "name": "stderr",
          "text": [
            "                                                                                 "
          ]
        },
        {
          "output_type": "stream",
          "name": "stdout",
          "text": [
            "UCFCRIME_Robbery045_sit_1.mp4: 6 kare yüklendi.\n"
          ]
        },
        {
          "output_type": "stream",
          "name": "stderr",
          "text": []
        },
        {
          "output_type": "stream",
          "name": "stdout",
          "text": [
            "UCFCRIME_Robbery062_sit_1.mp4: 3 kare yüklendi.\n"
          ]
        },
        {
          "output_type": "stream",
          "name": "stderr",
          "text": []
        },
        {
          "output_type": "stream",
          "name": "stdout",
          "text": [
            "UCFCRIME_Robbery073_sit_1.mp4: 6 kare yüklendi.\n"
          ]
        },
        {
          "output_type": "stream",
          "name": "stderr",
          "text": []
        },
        {
          "output_type": "stream",
          "name": "stdout",
          "text": [
            "UCFCRIME_Robbery080_sit_1.mp4: 3 kare yüklendi.\n"
          ]
        },
        {
          "output_type": "stream",
          "name": "stderr",
          "text": []
        },
        {
          "output_type": "stream",
          "name": "stdout",
          "text": [
            "UCFCRIME_Robbery090_sit_1.mp4: 2 kare yüklendi.\n"
          ]
        },
        {
          "output_type": "stream",
          "name": "stderr",
          "text": []
        },
        {
          "output_type": "stream",
          "name": "stdout",
          "text": [
            "UCFCRIME_Robbery093_sit_1.mp4: 3 kare yüklendi.\n"
          ]
        },
        {
          "output_type": "stream",
          "name": "stderr",
          "text": []
        },
        {
          "output_type": "stream",
          "name": "stdout",
          "text": [
            "UCFCRIME_Robbery093_sit_2.mp4: 2 kare yüklendi.\n"
          ]
        },
        {
          "output_type": "stream",
          "name": "stderr",
          "text": []
        },
        {
          "output_type": "stream",
          "name": "stdout",
          "text": [
            "UCFCRIME_Robbery097_sit_1.mp4: 5 kare yüklendi.\n"
          ]
        },
        {
          "output_type": "stream",
          "name": "stderr",
          "text": []
        },
        {
          "output_type": "stream",
          "name": "stdout",
          "text": [
            "UCFCRIME_Robbery123_sit_1.mp4: 4 kare yüklendi.\n"
          ]
        },
        {
          "output_type": "stream",
          "name": "stderr",
          "text": []
        },
        {
          "output_type": "stream",
          "name": "stdout",
          "text": [
            "UCFCRIME_Robbery126_sit_1.mp4: 1 kare yüklendi.\n"
          ]
        },
        {
          "output_type": "stream",
          "name": "stderr",
          "text": []
        },
        {
          "output_type": "stream",
          "name": "stdout",
          "text": [
            "UCFCRIME_Robbery127_sit_1.mp4: 4 kare yüklendi.\n"
          ]
        },
        {
          "output_type": "stream",
          "name": "stderr",
          "text": []
        },
        {
          "output_type": "stream",
          "name": "stdout",
          "text": [
            "UCFCRIME_Robbery144_sit_1.mp4: 5 kare yüklendi.\n"
          ]
        },
        {
          "output_type": "stream",
          "name": "stderr",
          "text": []
        },
        {
          "output_type": "stream",
          "name": "stdout",
          "text": [
            "UCFCRIME_Robbery146_sit_1.mp4: 1 kare yüklendi.\n"
          ]
        },
        {
          "output_type": "stream",
          "name": "stderr",
          "text": []
        },
        {
          "output_type": "stream",
          "name": "stdout",
          "text": [
            "UCFCRIME_Shooting006_sit_1.mp4: 3 kare yüklendi.\n"
          ]
        },
        {
          "output_type": "stream",
          "name": "stderr",
          "text": []
        },
        {
          "output_type": "stream",
          "name": "stdout",
          "text": [
            "UCFCRIME_Shooting017_sit_1.mp4: 3 kare yüklendi.\n"
          ]
        },
        {
          "output_type": "stream",
          "name": "stderr",
          "text": []
        },
        {
          "output_type": "stream",
          "name": "stdout",
          "text": [
            "UCFCRIME_Shooting022_sit_1.mp4: 6 kare yüklendi.\n"
          ]
        },
        {
          "output_type": "stream",
          "name": "stderr",
          "text": []
        },
        {
          "output_type": "stream",
          "name": "stdout",
          "text": [
            "UCFCRIME_Shooting030_sit_1.mp4: 2 kare yüklendi.\n"
          ]
        },
        {
          "output_type": "stream",
          "name": "stderr",
          "text": []
        },
        {
          "output_type": "stream",
          "name": "stdout",
          "text": [
            "UCFCRIME_Shooting031_sit_1.mp4: 2 kare yüklendi.\n"
          ]
        },
        {
          "output_type": "stream",
          "name": "stderr",
          "text": []
        },
        {
          "output_type": "stream",
          "name": "stdout",
          "text": [
            "UCFCRIME_Shooting048_sit_1.mp4: 3 kare yüklendi.\n"
          ]
        },
        {
          "output_type": "stream",
          "name": "stderr",
          "text": []
        },
        {
          "output_type": "stream",
          "name": "stdout",
          "text": [
            "UCFCRIME_Shoplifting003_sit_1.mp4: 4 kare yüklendi.\n"
          ]
        },
        {
          "output_type": "stream",
          "name": "stderr",
          "text": []
        },
        {
          "output_type": "stream",
          "name": "stdout",
          "text": [
            "UCFCRIME_Shoplifting007_sit_1.mp4: 4 kare yüklendi.\n"
          ]
        },
        {
          "output_type": "stream",
          "name": "stderr",
          "text": []
        },
        {
          "output_type": "stream",
          "name": "stdout",
          "text": [
            "UCFCRIME_Shoplifting008_sit_1.mp4: 5 kare yüklendi.\n"
          ]
        },
        {
          "output_type": "stream",
          "name": "stderr",
          "text": []
        },
        {
          "output_type": "stream",
          "name": "stdout",
          "text": [
            "UCFCRIME_Shoplifting010_sit_1.mp4: 2 kare yüklendi.\n"
          ]
        },
        {
          "output_type": "stream",
          "name": "stderr",
          "text": []
        },
        {
          "output_type": "stream",
          "name": "stdout",
          "text": [
            "UCFCRIME_Shoplifting012_sit_1.mp4: 4 kare yüklendi.\n"
          ]
        },
        {
          "output_type": "stream",
          "name": "stderr",
          "text": []
        },
        {
          "output_type": "stream",
          "name": "stdout",
          "text": [
            "UCFCRIME_Shoplifting012_sit_2.mp4: 3 kare yüklendi.\n"
          ]
        },
        {
          "output_type": "stream",
          "name": "stderr",
          "text": []
        },
        {
          "output_type": "stream",
          "name": "stdout",
          "text": [
            "UCFCRIME_Shoplifting024_sit_1.mp4: 4 kare yüklendi.\n"
          ]
        },
        {
          "output_type": "stream",
          "name": "stderr",
          "text": []
        },
        {
          "output_type": "stream",
          "name": "stdout",
          "text": [
            "UCFCRIME_Shoplifting037_sit_1.mp4: 5 kare yüklendi.\n"
          ]
        },
        {
          "output_type": "stream",
          "name": "stderr",
          "text": []
        },
        {
          "output_type": "stream",
          "name": "stdout",
          "text": [
            "UCFCRIME_Shoplifting038_sit_1.mp4: 2 kare yüklendi.\n"
          ]
        },
        {
          "output_type": "stream",
          "name": "stderr",
          "text": []
        },
        {
          "output_type": "stream",
          "name": "stdout",
          "text": [
            "UCFCRIME_Shoplifting043_sit_1.mp4: 4 kare yüklendi.\n"
          ]
        },
        {
          "output_type": "stream",
          "name": "stderr",
          "text": []
        },
        {
          "output_type": "stream",
          "name": "stdout",
          "text": [
            "UCFCRIME_Shoplifting044_sit_1.mp4: 4 kare yüklendi.\n"
          ]
        },
        {
          "output_type": "stream",
          "name": "stderr",
          "text": []
        },
        {
          "output_type": "stream",
          "name": "stdout",
          "text": [
            "UCFCRIME_Shoplifting051_sit_1.mp4: 5 kare yüklendi.\n"
          ]
        },
        {
          "output_type": "stream",
          "name": "stderr",
          "text": []
        },
        {
          "output_type": "stream",
          "name": "stdout",
          "text": [
            "UCFCRIME_Stealing009_sit_1.mp4: 4 kare yüklendi.\n"
          ]
        },
        {
          "output_type": "stream",
          "name": "stderr",
          "text": []
        },
        {
          "output_type": "stream",
          "name": "stdout",
          "text": [
            "UCFCRIME_Stealing011_sit_1.mp4: 5 kare yüklendi.\n"
          ]
        },
        {
          "output_type": "stream",
          "name": "stderr",
          "text": []
        },
        {
          "output_type": "stream",
          "name": "stdout",
          "text": [
            "UCFCRIME_Stealing022_sit_1.mp4: 4 kare yüklendi.\n"
          ]
        },
        {
          "output_type": "stream",
          "name": "stderr",
          "text": []
        },
        {
          "output_type": "stream",
          "name": "stdout",
          "text": [
            "UCFCRIME_Stealing024_sit_1.mp4: 1 kare yüklendi.\n"
          ]
        },
        {
          "output_type": "stream",
          "name": "stderr",
          "text": []
        },
        {
          "output_type": "stream",
          "name": "stdout",
          "text": [
            "UCFCRIME_Stealing024_sit_2.mp4: 2 kare yüklendi.\n"
          ]
        },
        {
          "output_type": "stream",
          "name": "stderr",
          "text": []
        },
        {
          "output_type": "stream",
          "name": "stdout",
          "text": [
            "UCFCRIME_Stealing025_sit_1.mp4: 5 kare yüklendi.\n"
          ]
        },
        {
          "output_type": "stream",
          "name": "stderr",
          "text": []
        },
        {
          "output_type": "stream",
          "name": "stdout",
          "text": [
            "UCFCRIME_Stealing036_sit_1.mp4: 3 kare yüklendi.\n"
          ]
        },
        {
          "output_type": "stream",
          "name": "stderr",
          "text": []
        },
        {
          "output_type": "stream",
          "name": "stdout",
          "text": [
            "UCFCRIME_Stealing042_sit_1.mp4: 4 kare yüklendi.\n"
          ]
        },
        {
          "output_type": "stream",
          "name": "stderr",
          "text": []
        },
        {
          "output_type": "stream",
          "name": "stdout",
          "text": [
            "UCFCRIME_Stealing044_sit_1.mp4: 6 kare yüklendi.\n"
          ]
        },
        {
          "output_type": "stream",
          "name": "stderr",
          "text": []
        },
        {
          "output_type": "stream",
          "name": "stdout",
          "text": [
            "UCFCRIME_Stealing057_sit_1.mp4: 4 kare yüklendi.\n"
          ]
        },
        {
          "output_type": "stream",
          "name": "stderr",
          "text": []
        },
        {
          "output_type": "stream",
          "name": "stdout",
          "text": [
            "UCFCRIME_Stealing057_sit_2.mp4: 3 kare yüklendi.\n"
          ]
        },
        {
          "output_type": "stream",
          "name": "stderr",
          "text": []
        },
        {
          "output_type": "stream",
          "name": "stdout",
          "text": [
            "UCFCRIME_Stealing057_sit_3.mp4: 2 kare yüklendi.\n"
          ]
        },
        {
          "output_type": "stream",
          "name": "stderr",
          "text": []
        },
        {
          "output_type": "stream",
          "name": "stdout",
          "text": [
            "UCFCRIME_Stealing083_sit_1.mp4: 3 kare yüklendi.\n"
          ]
        },
        {
          "output_type": "stream",
          "name": "stderr",
          "text": []
        },
        {
          "output_type": "stream",
          "name": "stdout",
          "text": [
            "UCFCRIME_Stealing096_sit_1.mp4: 4 kare yüklendi.\n"
          ]
        },
        {
          "output_type": "stream",
          "name": "stderr",
          "text": []
        },
        {
          "output_type": "stream",
          "name": "stdout",
          "text": [
            "UCFCRIME_Stealing104_sit_1.mp4: 5 kare yüklendi.\n"
          ]
        },
        {
          "output_type": "stream",
          "name": "stderr",
          "text": []
        },
        {
          "output_type": "stream",
          "name": "stdout",
          "text": [
            "YOUTUBE_YouTubeCCTV001_sit_1.mp4: 1 kare yüklendi.\n"
          ]
        },
        {
          "output_type": "stream",
          "name": "stderr",
          "text": []
        },
        {
          "output_type": "stream",
          "name": "stdout",
          "text": [
            "YOUTUBE_YouTubeCCTV001_sit_10.mp4: 4 kare yüklendi.\n"
          ]
        },
        {
          "output_type": "stream",
          "name": "stderr",
          "text": []
        },
        {
          "output_type": "stream",
          "name": "stdout",
          "text": [
            "YOUTUBE_YouTubeCCTV001_sit_11.mp4: 3 kare yüklendi.\n"
          ]
        },
        {
          "output_type": "stream",
          "name": "stderr",
          "text": []
        },
        {
          "output_type": "stream",
          "name": "stdout",
          "text": [
            "YOUTUBE_YouTubeCCTV001_sit_12.mp4: 3 kare yüklendi.\n"
          ]
        },
        {
          "output_type": "stream",
          "name": "stderr",
          "text": []
        },
        {
          "output_type": "stream",
          "name": "stdout",
          "text": [
            "YOUTUBE_YouTubeCCTV001_sit_13.mp4: 2 kare yüklendi.\n"
          ]
        },
        {
          "output_type": "stream",
          "name": "stderr",
          "text": []
        },
        {
          "output_type": "stream",
          "name": "stdout",
          "text": [
            "YOUTUBE_YouTubeCCTV001_sit_2.mp4: 2 kare yüklendi.\n"
          ]
        },
        {
          "output_type": "stream",
          "name": "stderr",
          "text": []
        },
        {
          "output_type": "stream",
          "name": "stdout",
          "text": [
            "YOUTUBE_YouTubeCCTV001_sit_3.mp4: 3 kare yüklendi.\n"
          ]
        },
        {
          "output_type": "stream",
          "name": "stderr",
          "text": []
        },
        {
          "output_type": "stream",
          "name": "stdout",
          "text": [
            "YOUTUBE_YouTubeCCTV001_sit_4.mp4: 4 kare yüklendi.\n"
          ]
        },
        {
          "output_type": "stream",
          "name": "stderr",
          "text": []
        },
        {
          "output_type": "stream",
          "name": "stdout",
          "text": [
            "YOUTUBE_YouTubeCCTV001_sit_5.mp4: 3 kare yüklendi.\n"
          ]
        },
        {
          "output_type": "stream",
          "name": "stderr",
          "text": []
        },
        {
          "output_type": "stream",
          "name": "stdout",
          "text": [
            "YOUTUBE_YouTubeCCTV001_sit_6.mp4: 3 kare yüklendi.\n"
          ]
        },
        {
          "output_type": "stream",
          "name": "stderr",
          "text": []
        },
        {
          "output_type": "stream",
          "name": "stdout",
          "text": [
            "YOUTUBE_YouTubeCCTV001_sit_7.mp4: 4 kare yüklendi.\n"
          ]
        },
        {
          "output_type": "stream",
          "name": "stderr",
          "text": []
        },
        {
          "output_type": "stream",
          "name": "stdout",
          "text": [
            "YOUTUBE_YouTubeCCTV001_sit_8.mp4: 3 kare yüklendi.\n"
          ]
        },
        {
          "output_type": "stream",
          "name": "stderr",
          "text": []
        },
        {
          "output_type": "stream",
          "name": "stdout",
          "text": [
            "YOUTUBE_YouTubeCCTV001_sit_9.mp4: 3 kare yüklendi.\n"
          ]
        },
        {
          "output_type": "stream",
          "name": "stderr",
          "text": []
        },
        {
          "output_type": "stream",
          "name": "stdout",
          "text": [
            "YOUTUBE_YouTubeCCTV002_sit_1.mp4: 3 kare yüklendi.\n"
          ]
        },
        {
          "output_type": "stream",
          "name": "stderr",
          "text": []
        },
        {
          "output_type": "stream",
          "name": "stdout",
          "text": [
            "YOUTUBE_YouTubeCCTV002_sit_2.mp4: 3 kare yüklendi.\n"
          ]
        },
        {
          "output_type": "stream",
          "name": "stderr",
          "text": []
        },
        {
          "output_type": "stream",
          "name": "stdout",
          "text": [
            "YOUTUBE_YouTubeCCTV002_sit_3.mp4: 5 kare yüklendi.\n"
          ]
        },
        {
          "output_type": "stream",
          "name": "stderr",
          "text": []
        },
        {
          "output_type": "stream",
          "name": "stdout",
          "text": [
            "YOUTUBE_YouTubeCCTV002_sit_4.mp4: 1 kare yüklendi.\n"
          ]
        },
        {
          "output_type": "stream",
          "name": "stderr",
          "text": []
        },
        {
          "output_type": "stream",
          "name": "stdout",
          "text": [
            "YOUTUBE_YouTubeCCTV004_sit_1.mp4: 2 kare yüklendi.\n"
          ]
        },
        {
          "output_type": "stream",
          "name": "stderr",
          "text": []
        },
        {
          "output_type": "stream",
          "name": "stdout",
          "text": [
            "YOUTUBE_YouTubeCCTV005_sit_1.mp4: 3 kare yüklendi.\n"
          ]
        },
        {
          "output_type": "stream",
          "name": "stderr",
          "text": []
        },
        {
          "output_type": "stream",
          "name": "stdout",
          "text": [
            "YOUTUBE_YouTubeCCTV008_sit_1.mp4: 3 kare yüklendi.\n"
          ]
        },
        {
          "output_type": "stream",
          "name": "stderr",
          "text": []
        },
        {
          "output_type": "stream",
          "name": "stdout",
          "text": [
            "YOUTUBE_YouTubeCCTV010_sit_1.mp4: 4 kare yüklendi.\n"
          ]
        },
        {
          "output_type": "stream",
          "name": "stderr",
          "text": []
        },
        {
          "output_type": "stream",
          "name": "stdout",
          "text": [
            "YOUTUBE_YouTubeCCTV010_sit_2.mp4: 3 kare yüklendi.\n"
          ]
        },
        {
          "output_type": "stream",
          "name": "stderr",
          "text": []
        },
        {
          "output_type": "stream",
          "name": "stdout",
          "text": [
            "YOUTUBE_YouTubeCCTV010_sit_3.mp4: 5 kare yüklendi.\n"
          ]
        },
        {
          "output_type": "stream",
          "name": "stderr",
          "text": []
        },
        {
          "output_type": "stream",
          "name": "stdout",
          "text": [
            "YOUTUBE_YouTubeCCTV010_sit_4.mp4: 4 kare yüklendi.\n"
          ]
        },
        {
          "output_type": "stream",
          "name": "stderr",
          "text": []
        },
        {
          "output_type": "stream",
          "name": "stdout",
          "text": [
            "YOUTUBE_YouTubeCCTV010_sit_5.mp4: 5 kare yüklendi.\n"
          ]
        },
        {
          "output_type": "stream",
          "name": "stderr",
          "text": []
        },
        {
          "output_type": "stream",
          "name": "stdout",
          "text": [
            "YOUTUBE_YouTubeCCTV010_sit_6.mp4: 4 kare yüklendi.\n"
          ]
        },
        {
          "output_type": "stream",
          "name": "stderr",
          "text": []
        },
        {
          "output_type": "stream",
          "name": "stdout",
          "text": [
            "YOUTUBE_YouTubeCCTV010_sit_7.mp4: 5 kare yüklendi.\n"
          ]
        },
        {
          "output_type": "stream",
          "name": "stderr",
          "text": []
        },
        {
          "output_type": "stream",
          "name": "stdout",
          "text": [
            "YOUTUBE_YouTubeCCTV012_sit_1.mp4: 3 kare yüklendi.\n"
          ]
        },
        {
          "output_type": "stream",
          "name": "stderr",
          "text": []
        },
        {
          "output_type": "stream",
          "name": "stdout",
          "text": [
            "YOUTUBE_YouTubeCCTV014_sit_1.mp4: 5 kare yüklendi.\n"
          ]
        },
        {
          "output_type": "stream",
          "name": "stderr",
          "text": []
        },
        {
          "output_type": "stream",
          "name": "stdout",
          "text": [
            "YOUTUBE_YouTubeCCTV014_sit_2.mp4: 4 kare yüklendi.\n"
          ]
        },
        {
          "output_type": "stream",
          "name": "stderr",
          "text": []
        },
        {
          "output_type": "stream",
          "name": "stdout",
          "text": [
            "YOUTUBE_YouTubeCCTV014_sit_3.mp4: 4 kare yüklendi.\n"
          ]
        },
        {
          "output_type": "stream",
          "name": "stderr",
          "text": []
        },
        {
          "output_type": "stream",
          "name": "stdout",
          "text": [
            "YOUTUBE_YouTubeCCTV014_sit_4.mp4: 3 kare yüklendi.\n"
          ]
        },
        {
          "output_type": "stream",
          "name": "stderr",
          "text": []
        },
        {
          "output_type": "stream",
          "name": "stdout",
          "text": [
            "YOUTUBE_YouTubeCCTV014_sit_5.mp4: 4 kare yüklendi.\n"
          ]
        },
        {
          "output_type": "stream",
          "name": "stderr",
          "text": []
        },
        {
          "output_type": "stream",
          "name": "stdout",
          "text": [
            "YOUTUBE_YouTubeCCTV015_sit_1.mp4: 1 kare yüklendi.\n"
          ]
        },
        {
          "output_type": "stream",
          "name": "stderr",
          "text": []
        },
        {
          "output_type": "stream",
          "name": "stdout",
          "text": [
            "YOUTUBE_YouTubeCCTV015_sit_2.mp4: 3 kare yüklendi.\n"
          ]
        },
        {
          "output_type": "stream",
          "name": "stderr",
          "text": []
        },
        {
          "output_type": "stream",
          "name": "stdout",
          "text": [
            "YOUTUBE_YouTubeCCTV015_sit_3.mp4: 2 kare yüklendi.\n"
          ]
        },
        {
          "output_type": "stream",
          "name": "stderr",
          "text": []
        },
        {
          "output_type": "stream",
          "name": "stdout",
          "text": [
            "YOUTUBE_YouTubeCCTV015_sit_4.mp4: 1 kare yüklendi.\n"
          ]
        },
        {
          "output_type": "stream",
          "name": "stderr",
          "text": []
        },
        {
          "output_type": "stream",
          "name": "stdout",
          "text": [
            "YOUTUBE_YouTubeCCTV015_sit_5.mp4: 3 kare yüklendi.\n"
          ]
        },
        {
          "output_type": "stream",
          "name": "stderr",
          "text": []
        },
        {
          "output_type": "stream",
          "name": "stdout",
          "text": [
            "YOUTUBE_YouTubeCCTV017_sit_1.mp4: 2 kare yüklendi.\n"
          ]
        },
        {
          "output_type": "stream",
          "name": "stderr",
          "text": []
        },
        {
          "output_type": "stream",
          "name": "stdout",
          "text": [
            "YOUTUBE_YouTubeCCTV017_sit_2.mp4: 4 kare yüklendi.\n"
          ]
        },
        {
          "output_type": "stream",
          "name": "stderr",
          "text": []
        },
        {
          "output_type": "stream",
          "name": "stdout",
          "text": [
            "YOUTUBE_YouTubeCCTV017_sit_3.mp4: 2 kare yüklendi.\n"
          ]
        },
        {
          "output_type": "stream",
          "name": "stderr",
          "text": []
        },
        {
          "output_type": "stream",
          "name": "stdout",
          "text": [
            "YOUTUBE_YouTubeCCTV017_sit_4.mp4: 2 kare yüklendi.\n"
          ]
        },
        {
          "output_type": "stream",
          "name": "stderr",
          "text": []
        },
        {
          "output_type": "stream",
          "name": "stdout",
          "text": [
            "YOUTUBE_YouTubeCCTV017_sit_5.mp4: 1 kare yüklendi.\n"
          ]
        },
        {
          "output_type": "stream",
          "name": "stderr",
          "text": []
        },
        {
          "output_type": "stream",
          "name": "stdout",
          "text": [
            "YOUTUBE_YouTubeCCTV017_sit_6.mp4: 3 kare yüklendi.\n"
          ]
        },
        {
          "output_type": "stream",
          "name": "stderr",
          "text": []
        },
        {
          "output_type": "stream",
          "name": "stdout",
          "text": [
            "YOUTUBE_YouTubeCCTV017_sit_7.mp4: 2 kare yüklendi.\n"
          ]
        },
        {
          "output_type": "stream",
          "name": "stderr",
          "text": []
        },
        {
          "output_type": "stream",
          "name": "stdout",
          "text": [
            "YOUTUBE_YouTubeCCTV017_sit_8.mp4: 3 kare yüklendi.\n"
          ]
        },
        {
          "output_type": "stream",
          "name": "stderr",
          "text": []
        },
        {
          "output_type": "stream",
          "name": "stdout",
          "text": [
            "YOUTUBE_YouTubeCCTV019_sit_1.mp4: 2 kare yüklendi.\n"
          ]
        },
        {
          "output_type": "stream",
          "name": "stderr",
          "text": []
        },
        {
          "output_type": "stream",
          "name": "stdout",
          "text": [
            "YOUTUBE_YouTubeCCTV020_sit_1.mp4: 2 kare yüklendi.\n"
          ]
        },
        {
          "output_type": "stream",
          "name": "stderr",
          "text": []
        },
        {
          "output_type": "stream",
          "name": "stdout",
          "text": [
            "YOUTUBE_YouTubeCCTV021_sit_1.mp4: 3 kare yüklendi.\n"
          ]
        },
        {
          "output_type": "stream",
          "name": "stderr",
          "text": []
        },
        {
          "output_type": "stream",
          "name": "stdout",
          "text": [
            "YOUTUBE_YouTubeCCTV022_sit_1.mp4: 2 kare yüklendi.\n"
          ]
        },
        {
          "output_type": "stream",
          "name": "stderr",
          "text": []
        },
        {
          "output_type": "stream",
          "name": "stdout",
          "text": [
            "YOUTUBE_YouTubeCCTV022_sit_2.mp4: 3 kare yüklendi.\n"
          ]
        },
        {
          "output_type": "stream",
          "name": "stderr",
          "text": []
        },
        {
          "output_type": "stream",
          "name": "stdout",
          "text": [
            "YOUTUBE_YouTubeCCTV022_sit_3.mp4: 2 kare yüklendi.\n"
          ]
        },
        {
          "output_type": "stream",
          "name": "stderr",
          "text": []
        },
        {
          "output_type": "stream",
          "name": "stdout",
          "text": [
            "YOUTUBE_YouTubeCCTV030_sit_1.mp4: 2 kare yüklendi.\n"
          ]
        },
        {
          "output_type": "stream",
          "name": "stderr",
          "text": []
        },
        {
          "output_type": "stream",
          "name": "stdout",
          "text": [
            "YOUTUBE_YouTubeCCTV036_sit_1.mp4: 1 kare yüklendi.\n"
          ]
        },
        {
          "output_type": "stream",
          "name": "stderr",
          "text": []
        },
        {
          "output_type": "stream",
          "name": "stdout",
          "text": [
            "YOUTUBE_YouTubeCCTV036_sit_2.mp4: 3 kare yüklendi.\n"
          ]
        },
        {
          "output_type": "stream",
          "name": "stderr",
          "text": []
        },
        {
          "output_type": "stream",
          "name": "stdout",
          "text": [
            "YOUTUBE_YouTubeCCTV036_sit_3.mp4: 4 kare yüklendi.\n"
          ]
        },
        {
          "output_type": "stream",
          "name": "stderr",
          "text": []
        },
        {
          "output_type": "stream",
          "name": "stdout",
          "text": [
            "YOUTUBE_YouTubeCCTV042_sit_1.mp4: 3 kare yüklendi.\n"
          ]
        },
        {
          "output_type": "stream",
          "name": "stderr",
          "text": []
        },
        {
          "output_type": "stream",
          "name": "stdout",
          "text": [
            "YOUTUBE_YouTubeCCTV042_sit_2.mp4: 3 kare yüklendi.\n"
          ]
        },
        {
          "output_type": "stream",
          "name": "stderr",
          "text": []
        },
        {
          "output_type": "stream",
          "name": "stdout",
          "text": [
            "YOUTUBE_YouTubeCCTV042_sit_3.mp4: 2 kare yüklendi.\n"
          ]
        },
        {
          "output_type": "stream",
          "name": "stderr",
          "text": []
        },
        {
          "output_type": "stream",
          "name": "stdout",
          "text": [
            "YOUTUBE_YouTubeCCTV044_sit_1.mp4: 2 kare yüklendi.\n"
          ]
        },
        {
          "output_type": "stream",
          "name": "stderr",
          "text": []
        },
        {
          "output_type": "stream",
          "name": "stdout",
          "text": [
            "YOUTUBE_YouTubeCCTV044_sit_2.mp4: 2 kare yüklendi.\n"
          ]
        },
        {
          "output_type": "stream",
          "name": "stderr",
          "text": []
        },
        {
          "output_type": "stream",
          "name": "stdout",
          "text": [
            "YOUTUBE_YouTubeCCTV045_sit_1.mp4: 2 kare yüklendi.\n"
          ]
        },
        {
          "output_type": "stream",
          "name": "stderr",
          "text": []
        },
        {
          "output_type": "stream",
          "name": "stdout",
          "text": [
            "YOUTUBE_YouTubeCCTV045_sit_2.mp4: 1 kare yüklendi.\n"
          ]
        },
        {
          "output_type": "stream",
          "name": "stderr",
          "text": []
        },
        {
          "output_type": "stream",
          "name": "stdout",
          "text": [
            "YOUTUBE_YouTubeCCTV045_sit_3.mp4: 2 kare yüklendi.\n"
          ]
        },
        {
          "output_type": "stream",
          "name": "stderr",
          "text": []
        },
        {
          "output_type": "stream",
          "name": "stdout",
          "text": [
            "YOUTUBE_YouTubeCCTV045_sit_4.mp4: 2 kare yüklendi.\n"
          ]
        },
        {
          "output_type": "stream",
          "name": "stderr",
          "text": []
        },
        {
          "output_type": "stream",
          "name": "stdout",
          "text": [
            "YOUTUBE_YouTubeCCTV045_sit_5.mp4: 3 kare yüklendi.\n"
          ]
        },
        {
          "output_type": "stream",
          "name": "stderr",
          "text": []
        },
        {
          "output_type": "stream",
          "name": "stdout",
          "text": [
            "YOUTUBE_YouTubeCCTV045_sit_6.mp4: 3 kare yüklendi.\n"
          ]
        },
        {
          "output_type": "stream",
          "name": "stderr",
          "text": [
            "                                                                                   "
          ]
        },
        {
          "output_type": "stream",
          "name": "stdout",
          "text": [
            "YOUTUBE_YouTubeCCTV045_sit_7.mp4: 3 kare yüklendi.\n"
          ]
        },
        {
          "output_type": "stream",
          "name": "stderr",
          "text": []
        },
        {
          "output_type": "stream",
          "name": "stdout",
          "text": [
            "YOUTUBE_YouTubeCCTV045_sit_8.mp4: 3 kare yüklendi.\n"
          ]
        },
        {
          "output_type": "stream",
          "name": "stderr",
          "text": []
        },
        {
          "output_type": "stream",
          "name": "stdout",
          "text": [
            "YOUTUBE_YouTubeCCTV045_sit_9.mp4: 2 kare yüklendi.\n"
          ]
        },
        {
          "output_type": "stream",
          "name": "stderr",
          "text": []
        },
        {
          "output_type": "stream",
          "name": "stdout",
          "text": [
            "YOUTUBE_YouTubeCCTV049_sit_1.mp4: 2 kare yüklendi.\n"
          ]
        },
        {
          "output_type": "stream",
          "name": "stderr",
          "text": []
        },
        {
          "output_type": "stream",
          "name": "stdout",
          "text": [
            "YOUTUBE_YouTubeCCTV053_sit_1.mp4: 3 kare yüklendi.\n"
          ]
        },
        {
          "output_type": "stream",
          "name": "stderr",
          "text": []
        },
        {
          "output_type": "stream",
          "name": "stdout",
          "text": [
            "YOUTUBE_YouTubeCCTV053_sit_2.mp4: 2 kare yüklendi.\n"
          ]
        },
        {
          "output_type": "stream",
          "name": "stderr",
          "text": []
        },
        {
          "output_type": "stream",
          "name": "stdout",
          "text": [
            "YOUTUBE_YouTubeCCTV057_sit_1.mp4: 2 kare yüklendi.\n"
          ]
        },
        {
          "output_type": "stream",
          "name": "stderr",
          "text": []
        },
        {
          "output_type": "stream",
          "name": "stdout",
          "text": [
            "YOUTUBE_YouTubeCCTV057_sit_10.mp4: 2 kare yüklendi.\n"
          ]
        },
        {
          "output_type": "stream",
          "name": "stderr",
          "text": []
        },
        {
          "output_type": "stream",
          "name": "stdout",
          "text": [
            "YOUTUBE_YouTubeCCTV057_sit_2.mp4: 2 kare yüklendi.\n"
          ]
        },
        {
          "output_type": "stream",
          "name": "stderr",
          "text": []
        },
        {
          "output_type": "stream",
          "name": "stdout",
          "text": [
            "YOUTUBE_YouTubeCCTV057_sit_3.mp4: 4 kare yüklendi.\n"
          ]
        },
        {
          "output_type": "stream",
          "name": "stderr",
          "text": []
        },
        {
          "output_type": "stream",
          "name": "stdout",
          "text": [
            "YOUTUBE_YouTubeCCTV057_sit_4.mp4: 2 kare yüklendi.\n"
          ]
        },
        {
          "output_type": "stream",
          "name": "stderr",
          "text": []
        },
        {
          "output_type": "stream",
          "name": "stdout",
          "text": [
            "YOUTUBE_YouTubeCCTV057_sit_5.mp4: 2 kare yüklendi.\n"
          ]
        },
        {
          "output_type": "stream",
          "name": "stderr",
          "text": []
        },
        {
          "output_type": "stream",
          "name": "stdout",
          "text": [
            "YOUTUBE_YouTubeCCTV057_sit_6.mp4: 4 kare yüklendi.\n"
          ]
        },
        {
          "output_type": "stream",
          "name": "stderr",
          "text": []
        },
        {
          "output_type": "stream",
          "name": "stdout",
          "text": [
            "YOUTUBE_YouTubeCCTV057_sit_7.mp4: 3 kare yüklendi.\n"
          ]
        },
        {
          "output_type": "stream",
          "name": "stderr",
          "text": []
        },
        {
          "output_type": "stream",
          "name": "stdout",
          "text": [
            "YOUTUBE_YouTubeCCTV057_sit_8.mp4: 2 kare yüklendi.\n"
          ]
        },
        {
          "output_type": "stream",
          "name": "stderr",
          "text": []
        },
        {
          "output_type": "stream",
          "name": "stdout",
          "text": [
            "YOUTUBE_YouTubeCCTV057_sit_9.mp4: 2 kare yüklendi.\n"
          ]
        },
        {
          "output_type": "stream",
          "name": "stderr",
          "text": []
        },
        {
          "output_type": "stream",
          "name": "stdout",
          "text": [
            "YOUTUBE_YouTubeCCTV061_sit_1.mp4: 3 kare yüklendi.\n"
          ]
        },
        {
          "output_type": "stream",
          "name": "stderr",
          "text": []
        },
        {
          "output_type": "stream",
          "name": "stdout",
          "text": [
            "YOUTUBE_YouTubeCCTV073_sit_1.mp4: 3 kare yüklendi.\n"
          ]
        },
        {
          "output_type": "stream",
          "name": "stderr",
          "text": []
        },
        {
          "output_type": "stream",
          "name": "stdout",
          "text": [
            "YOUTUBE_YouTubeCCTV076_sit_1.mp4: 2 kare yüklendi.\n"
          ]
        },
        {
          "output_type": "stream",
          "name": "stderr",
          "text": []
        },
        {
          "output_type": "stream",
          "name": "stdout",
          "text": [
            "YOUTUBE_YouTubeCCTV078_sit_1.mp4: 3 kare yüklendi.\n"
          ]
        },
        {
          "output_type": "stream",
          "name": "stderr",
          "text": []
        },
        {
          "output_type": "stream",
          "name": "stdout",
          "text": [
            "YOUTUBE_YouTubeCCTV078_sit_2.mp4: 3 kare yüklendi.\n"
          ]
        },
        {
          "output_type": "stream",
          "name": "stderr",
          "text": []
        },
        {
          "output_type": "stream",
          "name": "stdout",
          "text": [
            "YOUTUBE_YouTubeCCTV081_sit_1.mp4: 3 kare yüklendi.\n"
          ]
        },
        {
          "output_type": "stream",
          "name": "stderr",
          "text": []
        },
        {
          "output_type": "stream",
          "name": "stdout",
          "text": [
            "YOUTUBE_YouTubeCCTV081_sit_2.mp4: 2 kare yüklendi.\n"
          ]
        },
        {
          "output_type": "stream",
          "name": "stderr",
          "text": []
        },
        {
          "output_type": "stream",
          "name": "stdout",
          "text": [
            "YOUTUBE_YouTubeCCTV084_sit_1.mp4: 3 kare yüklendi.\n"
          ]
        },
        {
          "output_type": "stream",
          "name": "stderr",
          "text": []
        },
        {
          "output_type": "stream",
          "name": "stdout",
          "text": [
            "YOUTUBE_YouTubeCCTV086_sit_1.mp4: 3 kare yüklendi.\n"
          ]
        },
        {
          "output_type": "stream",
          "name": "stderr",
          "text": []
        },
        {
          "output_type": "stream",
          "name": "stdout",
          "text": [
            "YOUTUBE_YouTubeCCTV086_sit_2.mp4: 3 kare yüklendi.\n"
          ]
        },
        {
          "output_type": "stream",
          "name": "stderr",
          "text": []
        },
        {
          "output_type": "stream",
          "name": "stdout",
          "text": [
            "YOUTUBE_YouTubeCCTV086_sit_3.mp4: 3 kare yüklendi.\n"
          ]
        },
        {
          "output_type": "stream",
          "name": "stderr",
          "text": []
        },
        {
          "output_type": "stream",
          "name": "stdout",
          "text": [
            "YOUTUBE_YouTubeCCTV086_sit_4.mp4: 4 kare yüklendi.\n"
          ]
        },
        {
          "output_type": "stream",
          "name": "stderr",
          "text": []
        },
        {
          "output_type": "stream",
          "name": "stdout",
          "text": [
            "YOUTUBE_YouTubeCCTV091_sit_1.mp4: 3 kare yüklendi.\n"
          ]
        },
        {
          "output_type": "stream",
          "name": "stderr",
          "text": []
        },
        {
          "output_type": "stream",
          "name": "stdout",
          "text": [
            "YOUTUBE_YouTubeCCTV091_sit_2.mp4: 5 kare yüklendi.\n"
          ]
        },
        {
          "output_type": "stream",
          "name": "stderr",
          "text": []
        },
        {
          "output_type": "stream",
          "name": "stdout",
          "text": [
            "YOUTUBE_YouTubeCCTV096_sit_1.mp4: 1 kare yüklendi.\n"
          ]
        },
        {
          "output_type": "stream",
          "name": "stderr",
          "text": []
        },
        {
          "output_type": "stream",
          "name": "stdout",
          "text": [
            "YOUTUBE_YouTubeCCTV097_sit_1.mp4: 3 kare yüklendi.\n"
          ]
        },
        {
          "output_type": "stream",
          "name": "stderr",
          "text": []
        },
        {
          "output_type": "stream",
          "name": "stdout",
          "text": [
            "YOUTUBE_YouTubeCCTV097_sit_2.mp4: 4 kare yüklendi.\n"
          ]
        },
        {
          "output_type": "stream",
          "name": "stderr",
          "text": []
        },
        {
          "output_type": "stream",
          "name": "stdout",
          "text": [
            "YOUTUBE_YouTubeCCTV097_sit_3.mp4: 3 kare yüklendi.\n"
          ]
        },
        {
          "output_type": "stream",
          "name": "stderr",
          "text": []
        },
        {
          "output_type": "stream",
          "name": "stdout",
          "text": [
            "YOUTUBE_YouTubeCCTV098_sit_1.mp4: 1 kare yüklendi.\n"
          ]
        },
        {
          "output_type": "stream",
          "name": "stderr",
          "text": []
        },
        {
          "output_type": "stream",
          "name": "stdout",
          "text": [
            "YOUTUBE_YouTubeCCTV099_sit_1.mp4: 1 kare yüklendi.\n"
          ]
        },
        {
          "output_type": "stream",
          "name": "stderr",
          "text": []
        },
        {
          "output_type": "stream",
          "name": "stdout",
          "text": [
            "YOUTUBE_YouTubeCCTV100_sit_1.mp4: 3 kare yüklendi.\n"
          ]
        },
        {
          "output_type": "stream",
          "name": "stderr",
          "text": []
        },
        {
          "output_type": "stream",
          "name": "stdout",
          "text": [
            "YOUTUBE_YouTubeCCTV100_sit_2.mp4: 4 kare yüklendi.\n"
          ]
        },
        {
          "output_type": "stream",
          "name": "stderr",
          "text": []
        },
        {
          "output_type": "stream",
          "name": "stdout",
          "text": [
            "YOUTUBE_YouTubeCCTV100_sit_3.mp4: 3 kare yüklendi.\n"
          ]
        },
        {
          "output_type": "stream",
          "name": "stderr",
          "text": []
        },
        {
          "output_type": "stream",
          "name": "stdout",
          "text": [
            "YOUTUBE_YouTubeCCTV101_sit_1.mp4: 3 kare yüklendi.\n"
          ]
        },
        {
          "output_type": "stream",
          "name": "stderr",
          "text": []
        },
        {
          "output_type": "stream",
          "name": "stdout",
          "text": [
            "YOUTUBE_YouTubeCCTV102_sit_1.mp4: 3 kare yüklendi.\n"
          ]
        },
        {
          "output_type": "stream",
          "name": "stderr",
          "text": []
        },
        {
          "output_type": "stream",
          "name": "stdout",
          "text": [
            "YOUTUBE_YouTubeCCTV102_sit_2.mp4: 3 kare yüklendi.\n"
          ]
        },
        {
          "output_type": "stream",
          "name": "stderr",
          "text": []
        },
        {
          "output_type": "stream",
          "name": "stdout",
          "text": [
            "n001_converted.avi: 5 kare yüklendi.\n"
          ]
        },
        {
          "output_type": "stream",
          "name": "stderr",
          "text": []
        },
        {
          "output_type": "stream",
          "name": "stdout",
          "text": [
            "n002_converted.avi: 5 kare yüklendi.\n"
          ]
        },
        {
          "output_type": "stream",
          "name": "stderr",
          "text": []
        },
        {
          "output_type": "stream",
          "name": "stdout",
          "text": [
            "n003_converted.avi: 4 kare yüklendi.\n"
          ]
        },
        {
          "output_type": "stream",
          "name": "stderr",
          "text": []
        },
        {
          "output_type": "stream",
          "name": "stdout",
          "text": [
            "n004_converted.avi: 5 kare yüklendi.\n"
          ]
        },
        {
          "output_type": "stream",
          "name": "stderr",
          "text": []
        },
        {
          "output_type": "stream",
          "name": "stdout",
          "text": [
            "n005_converted.avi: 5 kare yüklendi.\n"
          ]
        },
        {
          "output_type": "stream",
          "name": "stderr",
          "text": []
        },
        {
          "output_type": "stream",
          "name": "stdout",
          "text": [
            "n006_converted.avi: 5 kare yüklendi.\n"
          ]
        },
        {
          "output_type": "stream",
          "name": "stderr",
          "text": []
        },
        {
          "output_type": "stream",
          "name": "stdout",
          "text": [
            "n007_converted.avi: 4 kare yüklendi.\n"
          ]
        },
        {
          "output_type": "stream",
          "name": "stderr",
          "text": []
        },
        {
          "output_type": "stream",
          "name": "stdout",
          "text": [
            "n008_converted.avi: 4 kare yüklendi.\n"
          ]
        },
        {
          "output_type": "stream",
          "name": "stderr",
          "text": []
        },
        {
          "output_type": "stream",
          "name": "stdout",
          "text": [
            "n009_converted.avi: 4 kare yüklendi.\n"
          ]
        },
        {
          "output_type": "stream",
          "name": "stderr",
          "text": []
        },
        {
          "output_type": "stream",
          "name": "stdout",
          "text": [
            "n010_converted.avi: 4 kare yüklendi.\n"
          ]
        },
        {
          "output_type": "stream",
          "name": "stderr",
          "text": []
        },
        {
          "output_type": "stream",
          "name": "stdout",
          "text": [
            "n011_converted.avi: 4 kare yüklendi.\n"
          ]
        },
        {
          "output_type": "stream",
          "name": "stderr",
          "text": []
        },
        {
          "output_type": "stream",
          "name": "stdout",
          "text": [
            "n012_converted.avi: 5 kare yüklendi.\n"
          ]
        },
        {
          "output_type": "stream",
          "name": "stderr",
          "text": []
        },
        {
          "output_type": "stream",
          "name": "stdout",
          "text": [
            "n013_converted.avi: 4 kare yüklendi.\n"
          ]
        },
        {
          "output_type": "stream",
          "name": "stderr",
          "text": []
        },
        {
          "output_type": "stream",
          "name": "stdout",
          "text": [
            "n014_converted.avi: 4 kare yüklendi.\n"
          ]
        },
        {
          "output_type": "stream",
          "name": "stderr",
          "text": []
        },
        {
          "output_type": "stream",
          "name": "stdout",
          "text": [
            "n015_converted.avi: 4 kare yüklendi.\n"
          ]
        },
        {
          "output_type": "stream",
          "name": "stderr",
          "text": []
        },
        {
          "output_type": "stream",
          "name": "stdout",
          "text": [
            "n016_converted.avi: 4 kare yüklendi.\n"
          ]
        },
        {
          "output_type": "stream",
          "name": "stderr",
          "text": []
        },
        {
          "output_type": "stream",
          "name": "stdout",
          "text": [
            "n017_converted.avi: 4 kare yüklendi.\n"
          ]
        },
        {
          "output_type": "stream",
          "name": "stderr",
          "text": []
        },
        {
          "output_type": "stream",
          "name": "stdout",
          "text": [
            "n018_converted.avi: 4 kare yüklendi.\n"
          ]
        },
        {
          "output_type": "stream",
          "name": "stderr",
          "text": []
        },
        {
          "output_type": "stream",
          "name": "stdout",
          "text": [
            "n019_converted.avi: 4 kare yüklendi.\n"
          ]
        },
        {
          "output_type": "stream",
          "name": "stderr",
          "text": []
        },
        {
          "output_type": "stream",
          "name": "stdout",
          "text": [
            "n020_converted.avi: 4 kare yüklendi.\n"
          ]
        },
        {
          "output_type": "stream",
          "name": "stderr",
          "text": []
        },
        {
          "output_type": "stream",
          "name": "stdout",
          "text": [
            "n021_converted.avi: 4 kare yüklendi.\n"
          ]
        },
        {
          "output_type": "stream",
          "name": "stderr",
          "text": []
        },
        {
          "output_type": "stream",
          "name": "stdout",
          "text": [
            "n022_converted.avi: 4 kare yüklendi.\n"
          ]
        },
        {
          "output_type": "stream",
          "name": "stderr",
          "text": []
        },
        {
          "output_type": "stream",
          "name": "stdout",
          "text": [
            "n023_converted.avi: 4 kare yüklendi.\n"
          ]
        },
        {
          "output_type": "stream",
          "name": "stderr",
          "text": []
        },
        {
          "output_type": "stream",
          "name": "stdout",
          "text": [
            "n024_converted.avi: 4 kare yüklendi.\n"
          ]
        },
        {
          "output_type": "stream",
          "name": "stderr",
          "text": []
        },
        {
          "output_type": "stream",
          "name": "stdout",
          "text": [
            "n025_converted.avi: 3 kare yüklendi.\n"
          ]
        },
        {
          "output_type": "stream",
          "name": "stderr",
          "text": []
        },
        {
          "output_type": "stream",
          "name": "stdout",
          "text": [
            "n026_converted.avi: 3 kare yüklendi.\n"
          ]
        },
        {
          "output_type": "stream",
          "name": "stderr",
          "text": []
        },
        {
          "output_type": "stream",
          "name": "stdout",
          "text": [
            "n027_converted.avi: 3 kare yüklendi.\n"
          ]
        },
        {
          "output_type": "stream",
          "name": "stderr",
          "text": []
        },
        {
          "output_type": "stream",
          "name": "stdout",
          "text": [
            "n028_converted.avi: 4 kare yüklendi.\n"
          ]
        },
        {
          "output_type": "stream",
          "name": "stderr",
          "text": []
        },
        {
          "output_type": "stream",
          "name": "stdout",
          "text": [
            "n029_converted.avi: 5 kare yüklendi.\n"
          ]
        },
        {
          "output_type": "stream",
          "name": "stderr",
          "text": []
        },
        {
          "output_type": "stream",
          "name": "stdout",
          "text": [
            "n030_converted.avi: 5 kare yüklendi.\n"
          ]
        },
        {
          "output_type": "stream",
          "name": "stderr",
          "text": []
        },
        {
          "output_type": "stream",
          "name": "stdout",
          "text": [
            "n031_converted.avi: 4 kare yüklendi.\n"
          ]
        },
        {
          "output_type": "stream",
          "name": "stderr",
          "text": []
        },
        {
          "output_type": "stream",
          "name": "stdout",
          "text": [
            "n032_converted.avi: 4 kare yüklendi.\n"
          ]
        },
        {
          "output_type": "stream",
          "name": "stderr",
          "text": []
        },
        {
          "output_type": "stream",
          "name": "stdout",
          "text": [
            "n033_converted.avi: 5 kare yüklendi.\n"
          ]
        },
        {
          "output_type": "stream",
          "name": "stderr",
          "text": []
        },
        {
          "output_type": "stream",
          "name": "stdout",
          "text": [
            "n034_converted.avi: 5 kare yüklendi.\n"
          ]
        },
        {
          "output_type": "stream",
          "name": "stderr",
          "text": []
        },
        {
          "output_type": "stream",
          "name": "stdout",
          "text": [
            "n035_converted.avi: 6 kare yüklendi.\n"
          ]
        },
        {
          "output_type": "stream",
          "name": "stderr",
          "text": []
        },
        {
          "output_type": "stream",
          "name": "stdout",
          "text": [
            "n036_converted.avi: 4 kare yüklendi.\n"
          ]
        },
        {
          "output_type": "stream",
          "name": "stderr",
          "text": []
        },
        {
          "output_type": "stream",
          "name": "stdout",
          "text": [
            "n037_converted.avi: 5 kare yüklendi.\n"
          ]
        },
        {
          "output_type": "stream",
          "name": "stderr",
          "text": []
        },
        {
          "output_type": "stream",
          "name": "stdout",
          "text": [
            "n038_converted.avi: 5 kare yüklendi.\n"
          ]
        },
        {
          "output_type": "stream",
          "name": "stderr",
          "text": []
        },
        {
          "output_type": "stream",
          "name": "stdout",
          "text": [
            "n039_converted.avi: 4 kare yüklendi.\n"
          ]
        },
        {
          "output_type": "stream",
          "name": "stderr",
          "text": []
        },
        {
          "output_type": "stream",
          "name": "stdout",
          "text": [
            "n040_converted.avi: 5 kare yüklendi.\n"
          ]
        },
        {
          "output_type": "stream",
          "name": "stderr",
          "text": []
        },
        {
          "output_type": "stream",
          "name": "stdout",
          "text": [
            "n041_converted.avi: 5 kare yüklendi.\n"
          ]
        },
        {
          "output_type": "stream",
          "name": "stderr",
          "text": []
        },
        {
          "output_type": "stream",
          "name": "stdout",
          "text": [
            "n042_converted.avi: 5 kare yüklendi.\n"
          ]
        },
        {
          "output_type": "stream",
          "name": "stderr",
          "text": []
        },
        {
          "output_type": "stream",
          "name": "stdout",
          "text": [
            "n043_converted.avi: 5 kare yüklendi.\n"
          ]
        },
        {
          "output_type": "stream",
          "name": "stderr",
          "text": []
        },
        {
          "output_type": "stream",
          "name": "stdout",
          "text": [
            "n044_converted.avi: 4 kare yüklendi.\n"
          ]
        },
        {
          "output_type": "stream",
          "name": "stderr",
          "text": []
        },
        {
          "output_type": "stream",
          "name": "stdout",
          "text": [
            "n045_converted.avi: 5 kare yüklendi.\n"
          ]
        },
        {
          "output_type": "stream",
          "name": "stderr",
          "text": []
        },
        {
          "output_type": "stream",
          "name": "stdout",
          "text": [
            "n046_converted.avi: 4 kare yüklendi.\n"
          ]
        },
        {
          "output_type": "stream",
          "name": "stderr",
          "text": []
        },
        {
          "output_type": "stream",
          "name": "stdout",
          "text": [
            "n047_converted.avi: 5 kare yüklendi.\n"
          ]
        },
        {
          "output_type": "stream",
          "name": "stderr",
          "text": []
        },
        {
          "output_type": "stream",
          "name": "stdout",
          "text": [
            "n048_converted.avi: 5 kare yüklendi.\n"
          ]
        },
        {
          "output_type": "stream",
          "name": "stderr",
          "text": []
        },
        {
          "output_type": "stream",
          "name": "stdout",
          "text": [
            "n049_converted.avi: 5 kare yüklendi.\n"
          ]
        },
        {
          "output_type": "stream",
          "name": "stderr",
          "text": []
        },
        {
          "output_type": "stream",
          "name": "stdout",
          "text": [
            "n050_converted.avi: 5 kare yüklendi.\n"
          ]
        },
        {
          "output_type": "stream",
          "name": "stderr",
          "text": []
        },
        {
          "output_type": "stream",
          "name": "stdout",
          "text": [
            "n051_converted.avi: 4 kare yüklendi.\n"
          ]
        },
        {
          "output_type": "stream",
          "name": "stderr",
          "text": []
        },
        {
          "output_type": "stream",
          "name": "stdout",
          "text": [
            "n052_converted.avi: 4 kare yüklendi.\n"
          ]
        },
        {
          "output_type": "stream",
          "name": "stderr",
          "text": []
        },
        {
          "output_type": "stream",
          "name": "stdout",
          "text": [
            "n053_converted.avi: 5 kare yüklendi.\n"
          ]
        },
        {
          "output_type": "stream",
          "name": "stderr",
          "text": []
        },
        {
          "output_type": "stream",
          "name": "stdout",
          "text": [
            "n054_converted.avi: 4 kare yüklendi.\n"
          ]
        },
        {
          "output_type": "stream",
          "name": "stderr",
          "text": []
        },
        {
          "output_type": "stream",
          "name": "stdout",
          "text": [
            "n055_converted.avi: 4 kare yüklendi.\n"
          ]
        },
        {
          "output_type": "stream",
          "name": "stderr",
          "text": []
        },
        {
          "output_type": "stream",
          "name": "stdout",
          "text": [
            "n056_converted.avi: 3 kare yüklendi.\n"
          ]
        },
        {
          "output_type": "stream",
          "name": "stderr",
          "text": []
        },
        {
          "output_type": "stream",
          "name": "stdout",
          "text": [
            "n057_converted.avi: 4 kare yüklendi.\n"
          ]
        },
        {
          "output_type": "stream",
          "name": "stderr",
          "text": []
        },
        {
          "output_type": "stream",
          "name": "stdout",
          "text": [
            "n058_converted.avi: 4 kare yüklendi.\n"
          ]
        },
        {
          "output_type": "stream",
          "name": "stderr",
          "text": []
        },
        {
          "output_type": "stream",
          "name": "stdout",
          "text": [
            "n059_converted.avi: 4 kare yüklendi.\n"
          ]
        },
        {
          "output_type": "stream",
          "name": "stderr",
          "text": []
        },
        {
          "output_type": "stream",
          "name": "stdout",
          "text": [
            "n060_converted.avi: 4 kare yüklendi.\n"
          ]
        },
        {
          "output_type": "stream",
          "name": "stderr",
          "text": []
        },
        {
          "output_type": "stream",
          "name": "stdout",
          "text": [
            "n061_converted.avi: 4 kare yüklendi.\n"
          ]
        },
        {
          "output_type": "stream",
          "name": "stderr",
          "text": []
        },
        {
          "output_type": "stream",
          "name": "stdout",
          "text": [
            "n062_converted.avi: 4 kare yüklendi.\n"
          ]
        },
        {
          "output_type": "stream",
          "name": "stderr",
          "text": []
        },
        {
          "output_type": "stream",
          "name": "stdout",
          "text": [
            "n063_converted.avi: 3 kare yüklendi.\n"
          ]
        },
        {
          "output_type": "stream",
          "name": "stderr",
          "text": []
        },
        {
          "output_type": "stream",
          "name": "stdout",
          "text": [
            "n064_converted.avi: 5 kare yüklendi.\n"
          ]
        },
        {
          "output_type": "stream",
          "name": "stderr",
          "text": []
        },
        {
          "output_type": "stream",
          "name": "stdout",
          "text": [
            "n065_converted.avi: 5 kare yüklendi.\n"
          ]
        },
        {
          "output_type": "stream",
          "name": "stderr",
          "text": []
        },
        {
          "output_type": "stream",
          "name": "stdout",
          "text": [
            "n066_converted.avi: 5 kare yüklendi.\n"
          ]
        },
        {
          "output_type": "stream",
          "name": "stderr",
          "text": []
        },
        {
          "output_type": "stream",
          "name": "stdout",
          "text": [
            "n067_converted.avi: 6 kare yüklendi.\n"
          ]
        },
        {
          "output_type": "stream",
          "name": "stderr",
          "text": []
        },
        {
          "output_type": "stream",
          "name": "stdout",
          "text": [
            "n068_converted.avi: 5 kare yüklendi.\n"
          ]
        },
        {
          "output_type": "stream",
          "name": "stderr",
          "text": []
        },
        {
          "output_type": "stream",
          "name": "stdout",
          "text": [
            "n069_converted.avi: 4 kare yüklendi.\n"
          ]
        },
        {
          "output_type": "stream",
          "name": "stderr",
          "text": []
        },
        {
          "output_type": "stream",
          "name": "stdout",
          "text": [
            "n070_converted.avi: 4 kare yüklendi.\n"
          ]
        },
        {
          "output_type": "stream",
          "name": "stderr",
          "text": []
        },
        {
          "output_type": "stream",
          "name": "stdout",
          "text": [
            "n071_converted.avi: 4 kare yüklendi.\n"
          ]
        },
        {
          "output_type": "stream",
          "name": "stderr",
          "text": []
        },
        {
          "output_type": "stream",
          "name": "stdout",
          "text": [
            "n072_converted.avi: 4 kare yüklendi.\n"
          ]
        },
        {
          "output_type": "stream",
          "name": "stderr",
          "text": []
        },
        {
          "output_type": "stream",
          "name": "stdout",
          "text": [
            "n073_converted.avi: 4 kare yüklendi.\n"
          ]
        },
        {
          "output_type": "stream",
          "name": "stderr",
          "text": []
        },
        {
          "output_type": "stream",
          "name": "stdout",
          "text": [
            "n074_converted.avi: 4 kare yüklendi.\n"
          ]
        },
        {
          "output_type": "stream",
          "name": "stderr",
          "text": []
        },
        {
          "output_type": "stream",
          "name": "stdout",
          "text": [
            "n075_converted.avi: 4 kare yüklendi.\n"
          ]
        },
        {
          "output_type": "stream",
          "name": "stderr",
          "text": []
        },
        {
          "output_type": "stream",
          "name": "stdout",
          "text": [
            "n076_converted.avi: 3 kare yüklendi.\n"
          ]
        },
        {
          "output_type": "stream",
          "name": "stderr",
          "text": []
        },
        {
          "output_type": "stream",
          "name": "stdout",
          "text": [
            "n077_converted.avi: 4 kare yüklendi.\n"
          ]
        },
        {
          "output_type": "stream",
          "name": "stderr",
          "text": []
        },
        {
          "output_type": "stream",
          "name": "stdout",
          "text": [
            "n078_converted.avi: 4 kare yüklendi.\n"
          ]
        },
        {
          "output_type": "stream",
          "name": "stderr",
          "text": []
        },
        {
          "output_type": "stream",
          "name": "stdout",
          "text": [
            "n079_converted.avi: 4 kare yüklendi.\n"
          ]
        },
        {
          "output_type": "stream",
          "name": "stderr",
          "text": []
        },
        {
          "output_type": "stream",
          "name": "stdout",
          "text": [
            "n080_converted.avi: 4 kare yüklendi.\n"
          ]
        },
        {
          "output_type": "stream",
          "name": "stderr",
          "text": []
        },
        {
          "output_type": "stream",
          "name": "stdout",
          "text": [
            "n081_converted.avi: 3 kare yüklendi.\n"
          ]
        },
        {
          "output_type": "stream",
          "name": "stderr",
          "text": []
        },
        {
          "output_type": "stream",
          "name": "stdout",
          "text": [
            "n082_converted.avi: 4 kare yüklendi.\n"
          ]
        },
        {
          "output_type": "stream",
          "name": "stderr",
          "text": []
        },
        {
          "output_type": "stream",
          "name": "stdout",
          "text": [
            "n083_converted.avi: 4 kare yüklendi.\n"
          ]
        },
        {
          "output_type": "stream",
          "name": "stderr",
          "text": []
        },
        {
          "output_type": "stream",
          "name": "stdout",
          "text": [
            "n084_converted.avi: 3 kare yüklendi.\n"
          ]
        },
        {
          "output_type": "stream",
          "name": "stderr",
          "text": []
        },
        {
          "output_type": "stream",
          "name": "stdout",
          "text": [
            "n085_converted.avi: 3 kare yüklendi.\n"
          ]
        },
        {
          "output_type": "stream",
          "name": "stderr",
          "text": []
        },
        {
          "output_type": "stream",
          "name": "stdout",
          "text": [
            "n086_converted.avi: 5 kare yüklendi.\n"
          ]
        },
        {
          "output_type": "stream",
          "name": "stderr",
          "text": []
        },
        {
          "output_type": "stream",
          "name": "stdout",
          "text": [
            "n087_converted.avi: 4 kare yüklendi.\n"
          ]
        },
        {
          "output_type": "stream",
          "name": "stderr",
          "text": []
        },
        {
          "output_type": "stream",
          "name": "stdout",
          "text": [
            "n088_converted.avi: 4 kare yüklendi.\n"
          ]
        },
        {
          "output_type": "stream",
          "name": "stderr",
          "text": []
        },
        {
          "output_type": "stream",
          "name": "stdout",
          "text": [
            "n089_converted.avi: 5 kare yüklendi.\n"
          ]
        },
        {
          "output_type": "stream",
          "name": "stderr",
          "text": []
        },
        {
          "output_type": "stream",
          "name": "stdout",
          "text": [
            "n090_converted.avi: 4 kare yüklendi.\n"
          ]
        },
        {
          "output_type": "stream",
          "name": "stderr",
          "text": []
        },
        {
          "output_type": "stream",
          "name": "stdout",
          "text": [
            "n091_converted.avi: 4 kare yüklendi.\n"
          ]
        },
        {
          "output_type": "stream",
          "name": "stderr",
          "text": []
        },
        {
          "output_type": "stream",
          "name": "stdout",
          "text": [
            "n092_converted.avi: 4 kare yüklendi.\n"
          ]
        },
        {
          "output_type": "stream",
          "name": "stderr",
          "text": []
        },
        {
          "output_type": "stream",
          "name": "stdout",
          "text": [
            "n093_converted.avi: 4 kare yüklendi.\n"
          ]
        },
        {
          "output_type": "stream",
          "name": "stderr",
          "text": []
        },
        {
          "output_type": "stream",
          "name": "stdout",
          "text": [
            "n094_converted.avi: 3 kare yüklendi.\n"
          ]
        },
        {
          "output_type": "stream",
          "name": "stderr",
          "text": []
        },
        {
          "output_type": "stream",
          "name": "stdout",
          "text": [
            "n095_converted.avi: 3 kare yüklendi.\n"
          ]
        },
        {
          "output_type": "stream",
          "name": "stderr",
          "text": []
        },
        {
          "output_type": "stream",
          "name": "stdout",
          "text": [
            "n096_converted.avi: 3 kare yüklendi.\n"
          ]
        },
        {
          "output_type": "stream",
          "name": "stderr",
          "text": []
        },
        {
          "output_type": "stream",
          "name": "stdout",
          "text": [
            "n097_converted.avi: 4 kare yüklendi.\n"
          ]
        },
        {
          "output_type": "stream",
          "name": "stderr",
          "text": []
        },
        {
          "output_type": "stream",
          "name": "stdout",
          "text": [
            "n098_converted.avi: 3 kare yüklendi.\n"
          ]
        },
        {
          "output_type": "stream",
          "name": "stderr",
          "text": []
        },
        {
          "output_type": "stream",
          "name": "stdout",
          "text": [
            "n099_converted.avi: 5 kare yüklendi.\n"
          ]
        },
        {
          "output_type": "stream",
          "name": "stderr",
          "text": []
        },
        {
          "output_type": "stream",
          "name": "stdout",
          "text": [
            "n100_converted.avi: 5 kare yüklendi.\n"
          ]
        },
        {
          "output_type": "stream",
          "name": "stderr",
          "text": []
        },
        {
          "output_type": "stream",
          "name": "stdout",
          "text": [
            "n101_converted.avi: 5 kare yüklendi.\n"
          ]
        },
        {
          "output_type": "stream",
          "name": "stderr",
          "text": []
        },
        {
          "output_type": "stream",
          "name": "stdout",
          "text": [
            "n102_converted.avi: 4 kare yüklendi.\n"
          ]
        },
        {
          "output_type": "stream",
          "name": "stderr",
          "text": []
        },
        {
          "output_type": "stream",
          "name": "stdout",
          "text": [
            "n103_converted.avi: 4 kare yüklendi.\n"
          ]
        },
        {
          "output_type": "stream",
          "name": "stderr",
          "text": []
        },
        {
          "output_type": "stream",
          "name": "stdout",
          "text": [
            "n104_converted.avi: 4 kare yüklendi.\n"
          ]
        },
        {
          "output_type": "stream",
          "name": "stderr",
          "text": []
        },
        {
          "output_type": "stream",
          "name": "stdout",
          "text": [
            "n105_converted.avi: 4 kare yüklendi.\n"
          ]
        },
        {
          "output_type": "stream",
          "name": "stderr",
          "text": []
        },
        {
          "output_type": "stream",
          "name": "stdout",
          "text": [
            "n106_converted.avi: 4 kare yüklendi.\n"
          ]
        },
        {
          "output_type": "stream",
          "name": "stderr",
          "text": []
        },
        {
          "output_type": "stream",
          "name": "stdout",
          "text": [
            "n107_converted.avi: 4 kare yüklendi.\n"
          ]
        },
        {
          "output_type": "stream",
          "name": "stderr",
          "text": []
        },
        {
          "output_type": "stream",
          "name": "stdout",
          "text": [
            "n108_converted.avi: 5 kare yüklendi.\n"
          ]
        },
        {
          "output_type": "stream",
          "name": "stderr",
          "text": []
        },
        {
          "output_type": "stream",
          "name": "stdout",
          "text": [
            "n109_converted.avi: 4 kare yüklendi.\n"
          ]
        },
        {
          "output_type": "stream",
          "name": "stderr",
          "text": []
        },
        {
          "output_type": "stream",
          "name": "stdout",
          "text": [
            "n110_converted.avi: 5 kare yüklendi.\n"
          ]
        },
        {
          "output_type": "stream",
          "name": "stderr",
          "text": []
        },
        {
          "output_type": "stream",
          "name": "stdout",
          "text": [
            "n111_converted.avi: 3 kare yüklendi.\n"
          ]
        },
        {
          "output_type": "stream",
          "name": "stderr",
          "text": []
        },
        {
          "output_type": "stream",
          "name": "stdout",
          "text": [
            "n112_converted.avi: 3 kare yüklendi.\n"
          ]
        },
        {
          "output_type": "stream",
          "name": "stderr",
          "text": []
        },
        {
          "output_type": "stream",
          "name": "stdout",
          "text": [
            "n113_converted.avi: 9 kare yüklendi.\n"
          ]
        },
        {
          "output_type": "stream",
          "name": "stderr",
          "text": []
        },
        {
          "output_type": "stream",
          "name": "stdout",
          "text": [
            "n114_converted.avi: 8 kare yüklendi.\n"
          ]
        },
        {
          "output_type": "stream",
          "name": "stderr",
          "text": []
        },
        {
          "output_type": "stream",
          "name": "stdout",
          "text": [
            "n115_converted.avi: 8 kare yüklendi.\n"
          ]
        },
        {
          "output_type": "stream",
          "name": "stderr",
          "text": []
        },
        {
          "output_type": "stream",
          "name": "stdout",
          "text": [
            "n116_converted.avi: 4 kare yüklendi.\n"
          ]
        },
        {
          "output_type": "stream",
          "name": "stderr",
          "text": []
        },
        {
          "output_type": "stream",
          "name": "stdout",
          "text": [
            "n117_converted.avi: 3 kare yüklendi.\n"
          ]
        },
        {
          "output_type": "stream",
          "name": "stderr",
          "text": []
        },
        {
          "output_type": "stream",
          "name": "stdout",
          "text": [
            "n118_converted.avi: 4 kare yüklendi.\n"
          ]
        },
        {
          "output_type": "stream",
          "name": "stderr",
          "text": []
        },
        {
          "output_type": "stream",
          "name": "stdout",
          "text": [
            "n119_converted.avi: 4 kare yüklendi.\n"
          ]
        },
        {
          "output_type": "stream",
          "name": "stderr",
          "text": []
        },
        {
          "output_type": "stream",
          "name": "stdout",
          "text": [
            "n120_converted.avi: 3 kare yüklendi.\n"
          ]
        },
        {
          "output_type": "stream",
          "name": "stderr",
          "text": []
        },
        {
          "output_type": "stream",
          "name": "stdout",
          "text": [
            "n121_converted.avi: 4 kare yüklendi.\n"
          ]
        },
        {
          "output_type": "stream",
          "name": "stderr",
          "text": []
        },
        {
          "output_type": "stream",
          "name": "stdout",
          "text": [
            "n122_converted.avi: 3 kare yüklendi.\n"
          ]
        },
        {
          "output_type": "stream",
          "name": "stderr",
          "text": []
        },
        {
          "output_type": "stream",
          "name": "stdout",
          "text": [
            "n123_converted.avi: 4 kare yüklendi.\n"
          ]
        },
        {
          "output_type": "stream",
          "name": "stderr",
          "text": []
        },
        {
          "output_type": "stream",
          "name": "stdout",
          "text": [
            "n124_converted.avi: 3 kare yüklendi.\n"
          ]
        },
        {
          "output_type": "stream",
          "name": "stderr",
          "text": []
        },
        {
          "output_type": "stream",
          "name": "stdout",
          "text": [
            "n125_converted.avi: 4 kare yüklendi.\n"
          ]
        },
        {
          "output_type": "stream",
          "name": "stderr",
          "text": []
        },
        {
          "output_type": "stream",
          "name": "stdout",
          "text": [
            "n126_converted.avi: 4 kare yüklendi.\n"
          ]
        },
        {
          "output_type": "stream",
          "name": "stderr",
          "text": []
        },
        {
          "output_type": "stream",
          "name": "stdout",
          "text": [
            "n127_converted.avi: 4 kare yüklendi.\n"
          ]
        },
        {
          "output_type": "stream",
          "name": "stderr",
          "text": []
        },
        {
          "output_type": "stream",
          "name": "stdout",
          "text": [
            "n128_converted.avi: 4 kare yüklendi.\n"
          ]
        },
        {
          "output_type": "stream",
          "name": "stderr",
          "text": []
        },
        {
          "output_type": "stream",
          "name": "stdout",
          "text": [
            "n129_converted.avi: 4 kare yüklendi.\n"
          ]
        },
        {
          "output_type": "stream",
          "name": "stderr",
          "text": []
        },
        {
          "output_type": "stream",
          "name": "stdout",
          "text": [
            "n130_converted.avi: 4 kare yüklendi.\n"
          ]
        },
        {
          "output_type": "stream",
          "name": "stderr",
          "text": []
        },
        {
          "output_type": "stream",
          "name": "stdout",
          "text": [
            "n131_converted.avi: 5 kare yüklendi.\n"
          ]
        },
        {
          "output_type": "stream",
          "name": "stderr",
          "text": []
        },
        {
          "output_type": "stream",
          "name": "stdout",
          "text": [
            "n132_converted.avi: 5 kare yüklendi.\n"
          ]
        },
        {
          "output_type": "stream",
          "name": "stderr",
          "text": []
        },
        {
          "output_type": "stream",
          "name": "stdout",
          "text": [
            "n133_converted.avi: 4 kare yüklendi.\n"
          ]
        },
        {
          "output_type": "stream",
          "name": "stderr",
          "text": []
        },
        {
          "output_type": "stream",
          "name": "stdout",
          "text": [
            "n134_converted.avi: 5 kare yüklendi.\n"
          ]
        },
        {
          "output_type": "stream",
          "name": "stderr",
          "text": []
        },
        {
          "output_type": "stream",
          "name": "stdout",
          "text": [
            "n135_converted.avi: 4 kare yüklendi.\n"
          ]
        },
        {
          "output_type": "stream",
          "name": "stderr",
          "text": []
        },
        {
          "output_type": "stream",
          "name": "stdout",
          "text": [
            "n136_converted.avi: 4 kare yüklendi.\n"
          ]
        },
        {
          "output_type": "stream",
          "name": "stderr",
          "text": []
        },
        {
          "output_type": "stream",
          "name": "stdout",
          "text": [
            "n137_converted.avi: 3 kare yüklendi.\n"
          ]
        },
        {
          "output_type": "stream",
          "name": "stderr",
          "text": []
        },
        {
          "output_type": "stream",
          "name": "stdout",
          "text": [
            "n138_converted.avi: 4 kare yüklendi.\n"
          ]
        },
        {
          "output_type": "stream",
          "name": "stderr",
          "text": []
        },
        {
          "output_type": "stream",
          "name": "stdout",
          "text": [
            "n139_converted.avi: 3 kare yüklendi.\n"
          ]
        },
        {
          "output_type": "stream",
          "name": "stderr",
          "text": []
        },
        {
          "output_type": "stream",
          "name": "stdout",
          "text": [
            "n140_converted.avi: 4 kare yüklendi.\n"
          ]
        },
        {
          "output_type": "stream",
          "name": "stderr",
          "text": []
        },
        {
          "output_type": "stream",
          "name": "stdout",
          "text": [
            "n141_converted.avi: 4 kare yüklendi.\n"
          ]
        },
        {
          "output_type": "stream",
          "name": "stderr",
          "text": []
        },
        {
          "output_type": "stream",
          "name": "stdout",
          "text": [
            "n142_converted.avi: 4 kare yüklendi.\n"
          ]
        },
        {
          "output_type": "stream",
          "name": "stderr",
          "text": []
        },
        {
          "output_type": "stream",
          "name": "stdout",
          "text": [
            "n143_converted.avi: 1 kare yüklendi.\n"
          ]
        },
        {
          "output_type": "stream",
          "name": "stderr",
          "text": []
        },
        {
          "output_type": "stream",
          "name": "stdout",
          "text": [
            "n144_converted.avi: 1 kare yüklendi.\n"
          ]
        },
        {
          "output_type": "stream",
          "name": "stderr",
          "text": []
        },
        {
          "output_type": "stream",
          "name": "stdout",
          "text": [
            "n145_converted.avi: 0 kare yüklendi.\n"
          ]
        },
        {
          "output_type": "stream",
          "name": "stderr",
          "text": []
        },
        {
          "output_type": "stream",
          "name": "stdout",
          "text": [
            "n146_converted.avi: 1 kare yüklendi.\n"
          ]
        },
        {
          "output_type": "stream",
          "name": "stderr",
          "text": []
        },
        {
          "output_type": "stream",
          "name": "stdout",
          "text": [
            "n147_converted.avi: 1 kare yüklendi.\n"
          ]
        },
        {
          "output_type": "stream",
          "name": "stderr",
          "text": []
        },
        {
          "output_type": "stream",
          "name": "stdout",
          "text": [
            "n148_converted.avi: 0 kare yüklendi.\n"
          ]
        },
        {
          "output_type": "stream",
          "name": "stderr",
          "text": []
        },
        {
          "output_type": "stream",
          "name": "stdout",
          "text": [
            "n149_converted.avi: 0 kare yüklendi.\n"
          ]
        },
        {
          "output_type": "stream",
          "name": "stderr",
          "text": []
        },
        {
          "output_type": "stream",
          "name": "stdout",
          "text": [
            "n150_converted.avi: 1 kare yüklendi.\n"
          ]
        },
        {
          "output_type": "stream",
          "name": "stderr",
          "text": []
        },
        {
          "output_type": "stream",
          "name": "stdout",
          "text": [
            "n151_converted.avi: 0 kare yüklendi.\n"
          ]
        },
        {
          "output_type": "stream",
          "name": "stderr",
          "text": []
        },
        {
          "output_type": "stream",
          "name": "stdout",
          "text": [
            "n152_converted.avi: 0 kare yüklendi.\n"
          ]
        },
        {
          "output_type": "stream",
          "name": "stderr",
          "text": []
        },
        {
          "output_type": "stream",
          "name": "stdout",
          "text": [
            "n153_converted.avi: 1 kare yüklendi.\n"
          ]
        },
        {
          "output_type": "stream",
          "name": "stderr",
          "text": []
        },
        {
          "output_type": "stream",
          "name": "stdout",
          "text": [
            "n154_converted.avi: 1 kare yüklendi.\n"
          ]
        },
        {
          "output_type": "stream",
          "name": "stderr",
          "text": []
        },
        {
          "output_type": "stream",
          "name": "stdout",
          "text": [
            "n155_converted.avi: 1 kare yüklendi.\n"
          ]
        },
        {
          "output_type": "stream",
          "name": "stderr",
          "text": []
        },
        {
          "output_type": "stream",
          "name": "stdout",
          "text": [
            "n156_converted.avi: 4 kare yüklendi.\n"
          ]
        },
        {
          "output_type": "stream",
          "name": "stderr",
          "text": []
        },
        {
          "output_type": "stream",
          "name": "stdout",
          "text": [
            "n157_converted.avi: 3 kare yüklendi.\n"
          ]
        },
        {
          "output_type": "stream",
          "name": "stderr",
          "text": []
        },
        {
          "output_type": "stream",
          "name": "stdout",
          "text": [
            "n158_converted.avi: 3 kare yüklendi.\n"
          ]
        },
        {
          "output_type": "stream",
          "name": "stderr",
          "text": [
            "                                                                      "
          ]
        },
        {
          "output_type": "stream",
          "name": "stdout",
          "text": [
            "n159_converted.avi: 3 kare yüklendi.\n"
          ]
        },
        {
          "output_type": "stream",
          "name": "stderr",
          "text": []
        },
        {
          "output_type": "stream",
          "name": "stdout",
          "text": [
            "n160_converted.avi: 3 kare yüklendi.\n"
          ]
        },
        {
          "output_type": "stream",
          "name": "stderr",
          "text": []
        },
        {
          "output_type": "stream",
          "name": "stdout",
          "text": [
            "n161_converted.avi: 5 kare yüklendi.\n"
          ]
        },
        {
          "output_type": "stream",
          "name": "stderr",
          "text": []
        },
        {
          "output_type": "stream",
          "name": "stdout",
          "text": [
            "n162_converted.avi: 3 kare yüklendi.\n"
          ]
        },
        {
          "output_type": "stream",
          "name": "stderr",
          "text": []
        },
        {
          "output_type": "stream",
          "name": "stdout",
          "text": [
            "n163_converted.avi: 3 kare yüklendi.\n"
          ]
        },
        {
          "output_type": "stream",
          "name": "stderr",
          "text": []
        },
        {
          "output_type": "stream",
          "name": "stdout",
          "text": [
            "n164_converted.avi: 3 kare yüklendi.\n"
          ]
        },
        {
          "output_type": "stream",
          "name": "stderr",
          "text": []
        },
        {
          "output_type": "stream",
          "name": "stdout",
          "text": [
            "n165_converted.avi: 4 kare yüklendi.\n"
          ]
        },
        {
          "output_type": "stream",
          "name": "stderr",
          "text": []
        },
        {
          "output_type": "stream",
          "name": "stdout",
          "text": [
            "n166_converted.avi: 2 kare yüklendi.\n"
          ]
        },
        {
          "output_type": "stream",
          "name": "stderr",
          "text": []
        },
        {
          "output_type": "stream",
          "name": "stdout",
          "text": [
            "n167_converted.avi: 1 kare yüklendi.\n"
          ]
        },
        {
          "output_type": "stream",
          "name": "stderr",
          "text": []
        },
        {
          "output_type": "stream",
          "name": "stdout",
          "text": [
            "n168_converted.avi: 1 kare yüklendi.\n"
          ]
        },
        {
          "output_type": "stream",
          "name": "stderr",
          "text": []
        },
        {
          "output_type": "stream",
          "name": "stdout",
          "text": [
            "n169_converted.avi: 1 kare yüklendi.\n"
          ]
        },
        {
          "output_type": "stream",
          "name": "stderr",
          "text": []
        },
        {
          "output_type": "stream",
          "name": "stdout",
          "text": [
            "n170_converted.avi: 1 kare yüklendi.\n"
          ]
        },
        {
          "output_type": "stream",
          "name": "stderr",
          "text": []
        },
        {
          "output_type": "stream",
          "name": "stdout",
          "text": [
            "n171_converted.avi: 1 kare yüklendi.\n"
          ]
        },
        {
          "output_type": "stream",
          "name": "stderr",
          "text": []
        },
        {
          "output_type": "stream",
          "name": "stdout",
          "text": [
            "n172_converted.avi: 0 kare yüklendi.\n"
          ]
        },
        {
          "output_type": "stream",
          "name": "stderr",
          "text": []
        },
        {
          "output_type": "stream",
          "name": "stdout",
          "text": [
            "n173_converted.avi: 0 kare yüklendi.\n"
          ]
        },
        {
          "output_type": "stream",
          "name": "stderr",
          "text": []
        },
        {
          "output_type": "stream",
          "name": "stdout",
          "text": [
            "n174_converted.avi: 1 kare yüklendi.\n"
          ]
        },
        {
          "output_type": "stream",
          "name": "stderr",
          "text": []
        },
        {
          "output_type": "stream",
          "name": "stdout",
          "text": [
            "n175_converted.avi: 1 kare yüklendi.\n"
          ]
        },
        {
          "output_type": "stream",
          "name": "stderr",
          "text": []
        },
        {
          "output_type": "stream",
          "name": "stdout",
          "text": [
            "n176_converted.avi: 0 kare yüklendi.\n"
          ]
        },
        {
          "output_type": "stream",
          "name": "stderr",
          "text": []
        },
        {
          "output_type": "stream",
          "name": "stdout",
          "text": [
            "n177_converted.avi: 1 kare yüklendi.\n"
          ]
        },
        {
          "output_type": "stream",
          "name": "stderr",
          "text": []
        },
        {
          "output_type": "stream",
          "name": "stdout",
          "text": [
            "n178_converted.avi: 1 kare yüklendi.\n"
          ]
        },
        {
          "output_type": "stream",
          "name": "stderr",
          "text": []
        },
        {
          "output_type": "stream",
          "name": "stdout",
          "text": [
            "n179_converted.avi: 1 kare yüklendi.\n"
          ]
        },
        {
          "output_type": "stream",
          "name": "stderr",
          "text": []
        },
        {
          "output_type": "stream",
          "name": "stdout",
          "text": [
            "n180_converted.avi: 0 kare yüklendi.\n"
          ]
        },
        {
          "output_type": "stream",
          "name": "stderr",
          "text": []
        },
        {
          "output_type": "stream",
          "name": "stdout",
          "text": [
            "n181_converted.avi: 0 kare yüklendi.\n"
          ]
        },
        {
          "output_type": "stream",
          "name": "stderr",
          "text": []
        },
        {
          "output_type": "stream",
          "name": "stdout",
          "text": [
            "n182_converted.avi: 0 kare yüklendi.\n"
          ]
        },
        {
          "output_type": "stream",
          "name": "stderr",
          "text": []
        },
        {
          "output_type": "stream",
          "name": "stdout",
          "text": [
            "n183_converted.avi: 1 kare yüklendi.\n"
          ]
        },
        {
          "output_type": "stream",
          "name": "stderr",
          "text": []
        },
        {
          "output_type": "stream",
          "name": "stdout",
          "text": [
            "n184_converted.avi: 0 kare yüklendi.\n"
          ]
        },
        {
          "output_type": "stream",
          "name": "stderr",
          "text": []
        },
        {
          "output_type": "stream",
          "name": "stdout",
          "text": [
            "n185_converted.avi: 1 kare yüklendi.\n"
          ]
        },
        {
          "output_type": "stream",
          "name": "stderr",
          "text": []
        },
        {
          "output_type": "stream",
          "name": "stdout",
          "text": [
            "n186_converted.avi: 1 kare yüklendi.\n"
          ]
        },
        {
          "output_type": "stream",
          "name": "stderr",
          "text": []
        },
        {
          "output_type": "stream",
          "name": "stdout",
          "text": [
            "n187_converted.avi: 1 kare yüklendi.\n"
          ]
        },
        {
          "output_type": "stream",
          "name": "stderr",
          "text": []
        },
        {
          "output_type": "stream",
          "name": "stdout",
          "text": [
            "n188_converted.avi: 1 kare yüklendi.\n"
          ]
        },
        {
          "output_type": "stream",
          "name": "stderr",
          "text": []
        },
        {
          "output_type": "stream",
          "name": "stdout",
          "text": [
            "n189_converted.avi: 1 kare yüklendi.\n"
          ]
        },
        {
          "output_type": "stream",
          "name": "stderr",
          "text": []
        },
        {
          "output_type": "stream",
          "name": "stdout",
          "text": [
            "n190_converted.avi: 4 kare yüklendi.\n"
          ]
        },
        {
          "output_type": "stream",
          "name": "stderr",
          "text": []
        },
        {
          "output_type": "stream",
          "name": "stdout",
          "text": [
            "n191_converted.avi: 4 kare yüklendi.\n"
          ]
        },
        {
          "output_type": "stream",
          "name": "stderr",
          "text": []
        },
        {
          "output_type": "stream",
          "name": "stdout",
          "text": [
            "n192_converted.avi: 4 kare yüklendi.\n"
          ]
        },
        {
          "output_type": "stream",
          "name": "stderr",
          "text": []
        },
        {
          "output_type": "stream",
          "name": "stdout",
          "text": [
            "n193_converted.avi: 4 kare yüklendi.\n"
          ]
        },
        {
          "output_type": "stream",
          "name": "stderr",
          "text": []
        },
        {
          "output_type": "stream",
          "name": "stdout",
          "text": [
            "n194_converted.avi: 3 kare yüklendi.\n"
          ]
        },
        {
          "output_type": "stream",
          "name": "stderr",
          "text": []
        },
        {
          "output_type": "stream",
          "name": "stdout",
          "text": [
            "n195_converted.avi: 4 kare yüklendi.\n"
          ]
        },
        {
          "output_type": "stream",
          "name": "stderr",
          "text": []
        },
        {
          "output_type": "stream",
          "name": "stdout",
          "text": [
            "n196_converted.avi: 4 kare yüklendi.\n"
          ]
        },
        {
          "output_type": "stream",
          "name": "stderr",
          "text": []
        },
        {
          "output_type": "stream",
          "name": "stdout",
          "text": [
            "n197_converted.avi: 4 kare yüklendi.\n"
          ]
        },
        {
          "output_type": "stream",
          "name": "stderr",
          "text": []
        },
        {
          "output_type": "stream",
          "name": "stdout",
          "text": [
            "n198_converted.avi: 4 kare yüklendi.\n"
          ]
        },
        {
          "output_type": "stream",
          "name": "stderr",
          "text": []
        },
        {
          "output_type": "stream",
          "name": "stdout",
          "text": [
            "n199_converted.avi: 4 kare yüklendi.\n"
          ]
        },
        {
          "output_type": "stream",
          "name": "stderr",
          "text": []
        },
        {
          "output_type": "stream",
          "name": "stdout",
          "text": [
            "n200_converted.avi: 4 kare yüklendi.\n"
          ]
        },
        {
          "output_type": "stream",
          "name": "stderr",
          "text": []
        },
        {
          "output_type": "stream",
          "name": "stdout",
          "text": [
            "t_n001_converted.avi: 4 kare yüklendi.\n"
          ]
        },
        {
          "output_type": "stream",
          "name": "stderr",
          "text": []
        },
        {
          "output_type": "stream",
          "name": "stdout",
          "text": [
            "t_n002_converted.avi: 4 kare yüklendi.\n"
          ]
        },
        {
          "output_type": "stream",
          "name": "stderr",
          "text": []
        },
        {
          "output_type": "stream",
          "name": "stdout",
          "text": [
            "t_n003_converted.avi: 3 kare yüklendi.\n"
          ]
        },
        {
          "output_type": "stream",
          "name": "stderr",
          "text": []
        },
        {
          "output_type": "stream",
          "name": "stdout",
          "text": [
            "t_n004_converted.avi: 4 kare yüklendi.\n"
          ]
        },
        {
          "output_type": "stream",
          "name": "stderr",
          "text": []
        },
        {
          "output_type": "stream",
          "name": "stdout",
          "text": [
            "t_n005_converted.avi: 3 kare yüklendi.\n"
          ]
        },
        {
          "output_type": "stream",
          "name": "stderr",
          "text": []
        },
        {
          "output_type": "stream",
          "name": "stdout",
          "text": [
            "t_n006_converted.avi: 4 kare yüklendi.\n"
          ]
        },
        {
          "output_type": "stream",
          "name": "stderr",
          "text": []
        },
        {
          "output_type": "stream",
          "name": "stdout",
          "text": [
            "t_n007_converted.avi: 3 kare yüklendi.\n"
          ]
        },
        {
          "output_type": "stream",
          "name": "stderr",
          "text": []
        },
        {
          "output_type": "stream",
          "name": "stdout",
          "text": [
            "t_n008_converted.avi: 3 kare yüklendi.\n"
          ]
        },
        {
          "output_type": "stream",
          "name": "stderr",
          "text": []
        },
        {
          "output_type": "stream",
          "name": "stdout",
          "text": [
            "t_n009_converted.avi: 4 kare yüklendi.\n"
          ]
        },
        {
          "output_type": "stream",
          "name": "stderr",
          "text": []
        },
        {
          "output_type": "stream",
          "name": "stdout",
          "text": [
            "t_n010_converted.avi: 4 kare yüklendi.\n"
          ]
        },
        {
          "output_type": "stream",
          "name": "stderr",
          "text": []
        },
        {
          "output_type": "stream",
          "name": "stdout",
          "text": [
            "t_n011_converted.avi: 4 kare yüklendi.\n"
          ]
        },
        {
          "output_type": "stream",
          "name": "stderr",
          "text": []
        },
        {
          "output_type": "stream",
          "name": "stdout",
          "text": [
            "t_n012_converted.avi: 4 kare yüklendi.\n"
          ]
        },
        {
          "output_type": "stream",
          "name": "stderr",
          "text": []
        },
        {
          "output_type": "stream",
          "name": "stdout",
          "text": [
            "t_n013_converted.avi: 4 kare yüklendi.\n"
          ]
        },
        {
          "output_type": "stream",
          "name": "stderr",
          "text": []
        },
        {
          "output_type": "stream",
          "name": "stdout",
          "text": [
            "t_n014_converted.avi: 4 kare yüklendi.\n"
          ]
        },
        {
          "output_type": "stream",
          "name": "stderr",
          "text": []
        },
        {
          "output_type": "stream",
          "name": "stdout",
          "text": [
            "t_n015_converted.avi: 4 kare yüklendi.\n"
          ]
        },
        {
          "output_type": "stream",
          "name": "stderr",
          "text": []
        },
        {
          "output_type": "stream",
          "name": "stdout",
          "text": [
            "t_n016_converted.avi: 2 kare yüklendi.\n"
          ]
        },
        {
          "output_type": "stream",
          "name": "stderr",
          "text": []
        },
        {
          "output_type": "stream",
          "name": "stdout",
          "text": [
            "t_n017_converted.avi: 7 kare yüklendi.\n"
          ]
        },
        {
          "output_type": "stream",
          "name": "stderr",
          "text": []
        },
        {
          "output_type": "stream",
          "name": "stdout",
          "text": [
            "t_n018_converted.avi: 4 kare yüklendi.\n"
          ]
        },
        {
          "output_type": "stream",
          "name": "stderr",
          "text": []
        },
        {
          "output_type": "stream",
          "name": "stdout",
          "text": [
            "t_n019_converted.avi: 3 kare yüklendi.\n"
          ]
        },
        {
          "output_type": "stream",
          "name": "stderr",
          "text": []
        },
        {
          "output_type": "stream",
          "name": "stdout",
          "text": [
            "t_n020_converted.avi: 3 kare yüklendi.\n"
          ]
        },
        {
          "output_type": "stream",
          "name": "stderr",
          "text": []
        },
        {
          "output_type": "stream",
          "name": "stdout",
          "text": [
            "t_n021_converted.avi: 4 kare yüklendi.\n"
          ]
        },
        {
          "output_type": "stream",
          "name": "stderr",
          "text": []
        },
        {
          "output_type": "stream",
          "name": "stdout",
          "text": [
            "t_n022_converted.avi: 4 kare yüklendi.\n"
          ]
        },
        {
          "output_type": "stream",
          "name": "stderr",
          "text": []
        },
        {
          "output_type": "stream",
          "name": "stdout",
          "text": [
            "t_n023_converted.avi: 3 kare yüklendi.\n"
          ]
        },
        {
          "output_type": "stream",
          "name": "stderr",
          "text": []
        },
        {
          "output_type": "stream",
          "name": "stdout",
          "text": [
            "t_n024_converted.avi: 4 kare yüklendi.\n"
          ]
        },
        {
          "output_type": "stream",
          "name": "stderr",
          "text": []
        },
        {
          "output_type": "stream",
          "name": "stdout",
          "text": [
            "t_n025_converted.avi: 4 kare yüklendi.\n"
          ]
        },
        {
          "output_type": "stream",
          "name": "stderr",
          "text": []
        },
        {
          "output_type": "stream",
          "name": "stdout",
          "text": [
            "t_n026_converted.avi: 4 kare yüklendi.\n"
          ]
        },
        {
          "output_type": "stream",
          "name": "stderr",
          "text": []
        },
        {
          "output_type": "stream",
          "name": "stdout",
          "text": [
            "t_n027_converted.avi: 3 kare yüklendi.\n"
          ]
        },
        {
          "output_type": "stream",
          "name": "stderr",
          "text": []
        },
        {
          "output_type": "stream",
          "name": "stdout",
          "text": [
            "t_n028_converted.avi: 4 kare yüklendi.\n"
          ]
        },
        {
          "output_type": "stream",
          "name": "stderr",
          "text": []
        },
        {
          "output_type": "stream",
          "name": "stdout",
          "text": [
            "t_n029_converted.avi: 4 kare yüklendi.\n"
          ]
        },
        {
          "output_type": "stream",
          "name": "stderr",
          "text": []
        },
        {
          "output_type": "stream",
          "name": "stdout",
          "text": [
            "t_n030_converted.avi: 3 kare yüklendi.\n"
          ]
        },
        {
          "output_type": "stream",
          "name": "stderr",
          "text": []
        },
        {
          "output_type": "stream",
          "name": "stdout",
          "text": [
            "t_n031_converted.avi: 3 kare yüklendi.\n"
          ]
        },
        {
          "output_type": "stream",
          "name": "stderr",
          "text": []
        },
        {
          "output_type": "stream",
          "name": "stdout",
          "text": [
            "t_n032_converted.avi: 4 kare yüklendi.\n"
          ]
        },
        {
          "output_type": "stream",
          "name": "stderr",
          "text": []
        },
        {
          "output_type": "stream",
          "name": "stdout",
          "text": [
            "t_n033_converted.avi: 4 kare yüklendi.\n"
          ]
        },
        {
          "output_type": "stream",
          "name": "stderr",
          "text": []
        },
        {
          "output_type": "stream",
          "name": "stdout",
          "text": [
            "t_n034_converted.avi: 4 kare yüklendi.\n"
          ]
        },
        {
          "output_type": "stream",
          "name": "stderr",
          "text": []
        },
        {
          "output_type": "stream",
          "name": "stdout",
          "text": [
            "t_n035_converted.avi: 3 kare yüklendi.\n"
          ]
        },
        {
          "output_type": "stream",
          "name": "stderr",
          "text": []
        },
        {
          "output_type": "stream",
          "name": "stdout",
          "text": [
            "t_n036_converted.avi: 3 kare yüklendi.\n"
          ]
        },
        {
          "output_type": "stream",
          "name": "stderr",
          "text": []
        },
        {
          "output_type": "stream",
          "name": "stdout",
          "text": [
            "t_n037_converted.avi: 1 kare yüklendi.\n"
          ]
        },
        {
          "output_type": "stream",
          "name": "stderr",
          "text": []
        },
        {
          "output_type": "stream",
          "name": "stdout",
          "text": [
            "t_n038_converted.avi: 4 kare yüklendi.\n"
          ]
        },
        {
          "output_type": "stream",
          "name": "stderr",
          "text": []
        },
        {
          "output_type": "stream",
          "name": "stdout",
          "text": [
            "t_n039_converted.avi: 3 kare yüklendi.\n"
          ]
        },
        {
          "output_type": "stream",
          "name": "stderr",
          "text": []
        },
        {
          "output_type": "stream",
          "name": "stdout",
          "text": [
            "t_n040_converted.avi: 4 kare yüklendi.\n"
          ]
        },
        {
          "output_type": "stream",
          "name": "stderr",
          "text": []
        },
        {
          "output_type": "stream",
          "name": "stdout",
          "text": [
            "t_n041_converted.avi: 4 kare yüklendi.\n"
          ]
        },
        {
          "output_type": "stream",
          "name": "stderr",
          "text": []
        },
        {
          "output_type": "stream",
          "name": "stdout",
          "text": [
            "t_n042_converted.avi: 4 kare yüklendi.\n"
          ]
        },
        {
          "output_type": "stream",
          "name": "stderr",
          "text": []
        },
        {
          "output_type": "stream",
          "name": "stdout",
          "text": [
            "t_n043_converted.avi: 4 kare yüklendi.\n"
          ]
        },
        {
          "output_type": "stream",
          "name": "stderr",
          "text": []
        },
        {
          "output_type": "stream",
          "name": "stdout",
          "text": [
            "t_n044_converted.avi: 4 kare yüklendi.\n"
          ]
        },
        {
          "output_type": "stream",
          "name": "stderr",
          "text": []
        },
        {
          "output_type": "stream",
          "name": "stdout",
          "text": [
            "t_n045_converted.avi: 4 kare yüklendi.\n"
          ]
        },
        {
          "output_type": "stream",
          "name": "stderr",
          "text": []
        },
        {
          "output_type": "stream",
          "name": "stdout",
          "text": [
            "t_n046_converted.avi: 4 kare yüklendi.\n"
          ]
        },
        {
          "output_type": "stream",
          "name": "stderr",
          "text": []
        },
        {
          "output_type": "stream",
          "name": "stdout",
          "text": [
            "UCFCRIME_Abuse007_walk_1.mp4: 5 kare yüklendi.\n"
          ]
        },
        {
          "output_type": "stream",
          "name": "stderr",
          "text": []
        },
        {
          "output_type": "stream",
          "name": "stdout",
          "text": [
            "UCFCRIME_Abuse007_walk_2.mp4: 5 kare yüklendi.\n"
          ]
        },
        {
          "output_type": "stream",
          "name": "stderr",
          "text": []
        },
        {
          "output_type": "stream",
          "name": "stdout",
          "text": [
            "UCFCRIME_Abuse007_walk_3.mp4: 5 kare yüklendi.\n"
          ]
        },
        {
          "output_type": "stream",
          "name": "stderr",
          "text": []
        },
        {
          "output_type": "stream",
          "name": "stdout",
          "text": [
            "UCFCRIME_Abuse014_walk_1.mp4: 4 kare yüklendi.\n"
          ]
        },
        {
          "output_type": "stream",
          "name": "stderr",
          "text": []
        },
        {
          "output_type": "stream",
          "name": "stdout",
          "text": [
            "UCFCRIME_Abuse014_walk_2.mp4: 5 kare yüklendi.\n"
          ]
        },
        {
          "output_type": "stream",
          "name": "stderr",
          "text": []
        },
        {
          "output_type": "stream",
          "name": "stdout",
          "text": [
            "UCFCRIME_Abuse018_walk_1.mp4: 4 kare yüklendi.\n"
          ]
        },
        {
          "output_type": "stream",
          "name": "stderr",
          "text": []
        },
        {
          "output_type": "stream",
          "name": "stdout",
          "text": [
            "UCFCRIME_Abuse022_walk_1.mp4: 3 kare yüklendi.\n"
          ]
        },
        {
          "output_type": "stream",
          "name": "stderr",
          "text": []
        },
        {
          "output_type": "stream",
          "name": "stdout",
          "text": [
            "UCFCRIME_Abuse028_walk_1.mp4: 4 kare yüklendi.\n"
          ]
        },
        {
          "output_type": "stream",
          "name": "stderr",
          "text": []
        },
        {
          "output_type": "stream",
          "name": "stdout",
          "text": [
            "UCFCRIME_Abuse028_walk_2.mp4: 3 kare yüklendi.\n"
          ]
        },
        {
          "output_type": "stream",
          "name": "stderr",
          "text": []
        },
        {
          "output_type": "stream",
          "name": "stdout",
          "text": [
            "UCFCRIME_Abuse028_walk_3.mp4: 3 kare yüklendi.\n"
          ]
        },
        {
          "output_type": "stream",
          "name": "stderr",
          "text": []
        },
        {
          "output_type": "stream",
          "name": "stdout",
          "text": [
            "UCFCRIME_Abuse029_walk_1.mp4: 4 kare yüklendi.\n"
          ]
        },
        {
          "output_type": "stream",
          "name": "stderr",
          "text": []
        },
        {
          "output_type": "stream",
          "name": "stdout",
          "text": [
            "UCFCRIME_Abuse030_walk_1.mp4: 3 kare yüklendi.\n"
          ]
        },
        {
          "output_type": "stream",
          "name": "stderr",
          "text": []
        },
        {
          "output_type": "stream",
          "name": "stdout",
          "text": [
            "UCFCRIME_Abuse030_walk_2.mp4: 5 kare yüklendi.\n"
          ]
        },
        {
          "output_type": "stream",
          "name": "stderr",
          "text": []
        },
        {
          "output_type": "stream",
          "name": "stdout",
          "text": [
            "UCFCRIME_Abuse031_walk_1.mp4: 5 kare yüklendi.\n"
          ]
        },
        {
          "output_type": "stream",
          "name": "stderr",
          "text": []
        },
        {
          "output_type": "stream",
          "name": "stdout",
          "text": [
            "UCFCRIME_Abuse031_walk_2.mp4: 3 kare yüklendi.\n"
          ]
        },
        {
          "output_type": "stream",
          "name": "stderr",
          "text": []
        },
        {
          "output_type": "stream",
          "name": "stdout",
          "text": [
            "UCFCRIME_Abuse034_walk_1.mp4: 4 kare yüklendi.\n"
          ]
        },
        {
          "output_type": "stream",
          "name": "stderr",
          "text": []
        },
        {
          "output_type": "stream",
          "name": "stdout",
          "text": [
            "UCFCRIME_Abuse046_walk_1.mp4: 3 kare yüklendi.\n"
          ]
        },
        {
          "output_type": "stream",
          "name": "stderr",
          "text": []
        },
        {
          "output_type": "stream",
          "name": "stdout",
          "text": [
            "UCFCRIME_Arrest001_walk_1.mp4: 3 kare yüklendi.\n"
          ]
        },
        {
          "output_type": "stream",
          "name": "stderr",
          "text": []
        },
        {
          "output_type": "stream",
          "name": "stdout",
          "text": [
            "UCFCRIME_Arrest001_walk_2.mp4: 2 kare yüklendi.\n"
          ]
        },
        {
          "output_type": "stream",
          "name": "stderr",
          "text": []
        },
        {
          "output_type": "stream",
          "name": "stdout",
          "text": [
            "UCFCRIME_Arrest002_walk_1.mp4: 3 kare yüklendi.\n"
          ]
        },
        {
          "output_type": "stream",
          "name": "stderr",
          "text": []
        },
        {
          "output_type": "stream",
          "name": "stdout",
          "text": [
            "UCFCRIME_Arrest004_walk_1.mp4: 3 kare yüklendi.\n"
          ]
        },
        {
          "output_type": "stream",
          "name": "stderr",
          "text": []
        },
        {
          "output_type": "stream",
          "name": "stdout",
          "text": [
            "UCFCRIME_Arrest005_walk_1.mp4: 4 kare yüklendi.\n"
          ]
        },
        {
          "output_type": "stream",
          "name": "stderr",
          "text": [
            "                                                                                 "
          ]
        },
        {
          "output_type": "stream",
          "name": "stdout",
          "text": [
            "UCFCRIME_Arrest007_walk_1.mp4: 4 kare yüklendi.\n"
          ]
        },
        {
          "output_type": "stream",
          "name": "stderr",
          "text": []
        },
        {
          "output_type": "stream",
          "name": "stdout",
          "text": [
            "UCFCRIME_Arrest009_walk_1.mp4: 3 kare yüklendi.\n"
          ]
        },
        {
          "output_type": "stream",
          "name": "stderr",
          "text": []
        },
        {
          "output_type": "stream",
          "name": "stdout",
          "text": [
            "UCFCRIME_Arrest014_walk_1.mp4: 3 kare yüklendi.\n"
          ]
        },
        {
          "output_type": "stream",
          "name": "stderr",
          "text": []
        },
        {
          "output_type": "stream",
          "name": "stdout",
          "text": [
            "UCFCRIME_Arrest016_walk_1.mp4: 4 kare yüklendi.\n"
          ]
        },
        {
          "output_type": "stream",
          "name": "stderr",
          "text": []
        },
        {
          "output_type": "stream",
          "name": "stdout",
          "text": [
            "UCFCRIME_Arrest016_walk_2.mp4: 3 kare yüklendi.\n"
          ]
        },
        {
          "output_type": "stream",
          "name": "stderr",
          "text": []
        },
        {
          "output_type": "stream",
          "name": "stdout",
          "text": [
            "UCFCRIME_Arrest016_walk_3.mp4: 4 kare yüklendi.\n"
          ]
        },
        {
          "output_type": "stream",
          "name": "stderr",
          "text": []
        },
        {
          "output_type": "stream",
          "name": "stdout",
          "text": [
            "UCFCRIME_Arrest020_walk_1.mp4: 2 kare yüklendi.\n"
          ]
        },
        {
          "output_type": "stream",
          "name": "stderr",
          "text": []
        },
        {
          "output_type": "stream",
          "name": "stdout",
          "text": [
            "UCFCRIME_Arrest022_walk_1.mp4: 3 kare yüklendi.\n"
          ]
        },
        {
          "output_type": "stream",
          "name": "stderr",
          "text": []
        },
        {
          "output_type": "stream",
          "name": "stdout",
          "text": [
            "UCFCRIME_Arrest022_walk_2.mp4: 3 kare yüklendi.\n"
          ]
        },
        {
          "output_type": "stream",
          "name": "stderr",
          "text": []
        },
        {
          "output_type": "stream",
          "name": "stdout",
          "text": [
            "UCFCRIME_Arrest026_walk_1.mp4: 3 kare yüklendi.\n"
          ]
        },
        {
          "output_type": "stream",
          "name": "stderr",
          "text": []
        },
        {
          "output_type": "stream",
          "name": "stdout",
          "text": [
            "UCFCRIME_Arrest029_walk_1.mp4: 3 kare yüklendi.\n"
          ]
        },
        {
          "output_type": "stream",
          "name": "stderr",
          "text": []
        },
        {
          "output_type": "stream",
          "name": "stdout",
          "text": [
            "UCFCRIME_Arrest029_walk_2.mp4: 3 kare yüklendi.\n"
          ]
        },
        {
          "output_type": "stream",
          "name": "stderr",
          "text": []
        },
        {
          "output_type": "stream",
          "name": "stdout",
          "text": [
            "UCFCRIME_Arrest029_walk_3.mp4: 3 kare yüklendi.\n"
          ]
        },
        {
          "output_type": "stream",
          "name": "stderr",
          "text": []
        },
        {
          "output_type": "stream",
          "name": "stdout",
          "text": [
            "UCFCRIME_Arrest033_walk_1.mp4: 4 kare yüklendi.\n"
          ]
        },
        {
          "output_type": "stream",
          "name": "stderr",
          "text": []
        },
        {
          "output_type": "stream",
          "name": "stdout",
          "text": [
            "UCFCRIME_Arrest035_walk_1.mp4: 3 kare yüklendi.\n"
          ]
        },
        {
          "output_type": "stream",
          "name": "stderr",
          "text": []
        },
        {
          "output_type": "stream",
          "name": "stdout",
          "text": [
            "UCFCRIME_Arrest041_walk_1.mp4: 4 kare yüklendi.\n"
          ]
        },
        {
          "output_type": "stream",
          "name": "stderr",
          "text": []
        },
        {
          "output_type": "stream",
          "name": "stdout",
          "text": [
            "UCFCRIME_Arrest043_walk_1.mp4: 4 kare yüklendi.\n"
          ]
        },
        {
          "output_type": "stream",
          "name": "stderr",
          "text": []
        },
        {
          "output_type": "stream",
          "name": "stdout",
          "text": [
            "UCFCRIME_Arrest044_walk_1.mp4: 4 kare yüklendi.\n"
          ]
        },
        {
          "output_type": "stream",
          "name": "stderr",
          "text": []
        },
        {
          "output_type": "stream",
          "name": "stdout",
          "text": [
            "UCFCRIME_Arrest044_walk_2.mp4: 3 kare yüklendi.\n"
          ]
        },
        {
          "output_type": "stream",
          "name": "stderr",
          "text": []
        },
        {
          "output_type": "stream",
          "name": "stdout",
          "text": [
            "UCFCRIME_Arrest046_walk_1.mp4: 3 kare yüklendi.\n"
          ]
        },
        {
          "output_type": "stream",
          "name": "stderr",
          "text": []
        },
        {
          "output_type": "stream",
          "name": "stdout",
          "text": [
            "UCFCRIME_Arrest047_walk_1.mp4: 4 kare yüklendi.\n"
          ]
        },
        {
          "output_type": "stream",
          "name": "stderr",
          "text": []
        },
        {
          "output_type": "stream",
          "name": "stdout",
          "text": [
            "UCFCRIME_Arrest048_walk_1.mp4: 3 kare yüklendi.\n"
          ]
        },
        {
          "output_type": "stream",
          "name": "stderr",
          "text": []
        },
        {
          "output_type": "stream",
          "name": "stdout",
          "text": [
            "UCFCRIME_Arrest049_walk_1.mp4: 5 kare yüklendi.\n"
          ]
        },
        {
          "output_type": "stream",
          "name": "stderr",
          "text": []
        },
        {
          "output_type": "stream",
          "name": "stdout",
          "text": [
            "UCFCRIME_Arson001_walk_1.mp4: 3 kare yüklendi.\n"
          ]
        },
        {
          "output_type": "stream",
          "name": "stderr",
          "text": []
        },
        {
          "output_type": "stream",
          "name": "stdout",
          "text": [
            "UCFCRIME_Arson001_walk_2.mp4: 2 kare yüklendi.\n"
          ]
        },
        {
          "output_type": "stream",
          "name": "stderr",
          "text": []
        },
        {
          "output_type": "stream",
          "name": "stdout",
          "text": [
            "UCFCRIME_Arson002_walk_1.mp4: 4 kare yüklendi.\n"
          ]
        },
        {
          "output_type": "stream",
          "name": "stderr",
          "text": []
        },
        {
          "output_type": "stream",
          "name": "stdout",
          "text": [
            "UCFCRIME_Arson006_walk_1.mp4: 3 kare yüklendi.\n"
          ]
        },
        {
          "output_type": "stream",
          "name": "stderr",
          "text": []
        },
        {
          "output_type": "stream",
          "name": "stdout",
          "text": [
            "UCFCRIME_Arson007_walk_1.mp4: 3 kare yüklendi.\n"
          ]
        },
        {
          "output_type": "stream",
          "name": "stderr",
          "text": []
        },
        {
          "output_type": "stream",
          "name": "stdout",
          "text": [
            "UCFCRIME_Arson007_walk_2.mp4: 4 kare yüklendi.\n"
          ]
        },
        {
          "output_type": "stream",
          "name": "stderr",
          "text": []
        },
        {
          "output_type": "stream",
          "name": "stdout",
          "text": [
            "UCFCRIME_Arson014_walk_1.mp4: 3 kare yüklendi.\n"
          ]
        },
        {
          "output_type": "stream",
          "name": "stderr",
          "text": []
        },
        {
          "output_type": "stream",
          "name": "stdout",
          "text": [
            "UCFCRIME_Arson015_walk_1.mp4: 2 kare yüklendi.\n"
          ]
        },
        {
          "output_type": "stream",
          "name": "stderr",
          "text": []
        },
        {
          "output_type": "stream",
          "name": "stdout",
          "text": [
            "UCFCRIME_Arson017_walk_1.mp4: 2 kare yüklendi.\n"
          ]
        },
        {
          "output_type": "stream",
          "name": "stderr",
          "text": []
        },
        {
          "output_type": "stream",
          "name": "stdout",
          "text": [
            "UCFCRIME_Arson017_walk_2.mp4: 3 kare yüklendi.\n"
          ]
        },
        {
          "output_type": "stream",
          "name": "stderr",
          "text": []
        },
        {
          "output_type": "stream",
          "name": "stdout",
          "text": [
            "UCFCRIME_Arson020_walk_1.mp4: 3 kare yüklendi.\n"
          ]
        },
        {
          "output_type": "stream",
          "name": "stderr",
          "text": []
        },
        {
          "output_type": "stream",
          "name": "stdout",
          "text": [
            "UCFCRIME_Arson027_walk_1.mp4: 2 kare yüklendi.\n"
          ]
        },
        {
          "output_type": "stream",
          "name": "stderr",
          "text": []
        },
        {
          "output_type": "stream",
          "name": "stdout",
          "text": [
            "UCFCRIME_Arson028_walk_1.mp4: 3 kare yüklendi.\n"
          ]
        },
        {
          "output_type": "stream",
          "name": "stderr",
          "text": []
        },
        {
          "output_type": "stream",
          "name": "stdout",
          "text": [
            "UCFCRIME_Arson034_walk_1.mp4: 2 kare yüklendi.\n"
          ]
        },
        {
          "output_type": "stream",
          "name": "stderr",
          "text": []
        },
        {
          "output_type": "stream",
          "name": "stdout",
          "text": [
            "UCFCRIME_Arson044_walk_1.mp4: 3 kare yüklendi.\n"
          ]
        },
        {
          "output_type": "stream",
          "name": "stderr",
          "text": []
        },
        {
          "output_type": "stream",
          "name": "stdout",
          "text": [
            "UCFCRIME_Arson047_walk_1.mp4: 1 kare yüklendi.\n"
          ]
        },
        {
          "output_type": "stream",
          "name": "stderr",
          "text": []
        },
        {
          "output_type": "stream",
          "name": "stdout",
          "text": [
            "UCFCRIME_Arson052_walk_1.mp4: 5 kare yüklendi.\n"
          ]
        },
        {
          "output_type": "stream",
          "name": "stderr",
          "text": []
        },
        {
          "output_type": "stream",
          "name": "stdout",
          "text": [
            "UCFCRIME_Assault010_walk_1.mp4: 4 kare yüklendi.\n"
          ]
        },
        {
          "output_type": "stream",
          "name": "stderr",
          "text": []
        },
        {
          "output_type": "stream",
          "name": "stdout",
          "text": [
            "UCFCRIME_Assault010_walk_2.mp4: 4 kare yüklendi.\n"
          ]
        },
        {
          "output_type": "stream",
          "name": "stderr",
          "text": []
        },
        {
          "output_type": "stream",
          "name": "stdout",
          "text": [
            "UCFCRIME_Assault011_walk_1.mp4: 3 kare yüklendi.\n"
          ]
        },
        {
          "output_type": "stream",
          "name": "stderr",
          "text": []
        },
        {
          "output_type": "stream",
          "name": "stdout",
          "text": [
            "UCFCRIME_Assault011_walk_2.mp4: 3 kare yüklendi.\n"
          ]
        },
        {
          "output_type": "stream",
          "name": "stderr",
          "text": []
        },
        {
          "output_type": "stream",
          "name": "stdout",
          "text": [
            "UCFCRIME_Assault014_walk_1.mp4: 4 kare yüklendi.\n"
          ]
        },
        {
          "output_type": "stream",
          "name": "stderr",
          "text": []
        },
        {
          "output_type": "stream",
          "name": "stdout",
          "text": [
            "UCFCRIME_Assault016_walk_1.mp4: 3 kare yüklendi.\n"
          ]
        },
        {
          "output_type": "stream",
          "name": "stderr",
          "text": []
        },
        {
          "output_type": "stream",
          "name": "stdout",
          "text": [
            "UCFCRIME_Assault016_walk_2.mp4: 3 kare yüklendi.\n"
          ]
        },
        {
          "output_type": "stream",
          "name": "stderr",
          "text": []
        },
        {
          "output_type": "stream",
          "name": "stdout",
          "text": [
            "UCFCRIME_Assault034_walk_1.mp4: 4 kare yüklendi.\n"
          ]
        },
        {
          "output_type": "stream",
          "name": "stderr",
          "text": []
        },
        {
          "output_type": "stream",
          "name": "stdout",
          "text": [
            "UCFCRIME_Assault040_walk_1.mp4: 5 kare yüklendi.\n"
          ]
        },
        {
          "output_type": "stream",
          "name": "stderr",
          "text": []
        },
        {
          "output_type": "stream",
          "name": "stdout",
          "text": [
            "UCFCRIME_Assault047_walk_1.mp4: 4 kare yüklendi.\n"
          ]
        },
        {
          "output_type": "stream",
          "name": "stderr",
          "text": []
        },
        {
          "output_type": "stream",
          "name": "stdout",
          "text": [
            "UCFCRIME_Burglary005_walk_1.mp4: 6 kare yüklendi.\n"
          ]
        },
        {
          "output_type": "stream",
          "name": "stderr",
          "text": []
        },
        {
          "output_type": "stream",
          "name": "stdout",
          "text": [
            "UCFCRIME_Burglary016_walk_1.mp4: 3 kare yüklendi.\n"
          ]
        },
        {
          "output_type": "stream",
          "name": "stderr",
          "text": []
        },
        {
          "output_type": "stream",
          "name": "stdout",
          "text": [
            "UCFCRIME_Burglary020_walk_1.mp4: 4 kare yüklendi.\n"
          ]
        },
        {
          "output_type": "stream",
          "name": "stderr",
          "text": []
        },
        {
          "output_type": "stream",
          "name": "stdout",
          "text": [
            "UCFCRIME_Burglary025_walk_1.mp4: 4 kare yüklendi.\n"
          ]
        },
        {
          "output_type": "stream",
          "name": "stderr",
          "text": []
        },
        {
          "output_type": "stream",
          "name": "stdout",
          "text": [
            "UCFCRIME_Burglary031_walk_1.mp4: 4 kare yüklendi.\n"
          ]
        },
        {
          "output_type": "stream",
          "name": "stderr",
          "text": []
        },
        {
          "output_type": "stream",
          "name": "stdout",
          "text": [
            "UCFCRIME_Burglary039_walk_1.mp4: 6 kare yüklendi.\n"
          ]
        },
        {
          "output_type": "stream",
          "name": "stderr",
          "text": []
        },
        {
          "output_type": "stream",
          "name": "stdout",
          "text": [
            "UCFCRIME_Burglary040_walk_1.mp4: 6 kare yüklendi.\n"
          ]
        },
        {
          "output_type": "stream",
          "name": "stderr",
          "text": []
        },
        {
          "output_type": "stream",
          "name": "stdout",
          "text": [
            "UCFCRIME_Burglary040_walk_2.mp4: 5 kare yüklendi.\n"
          ]
        },
        {
          "output_type": "stream",
          "name": "stderr",
          "text": []
        },
        {
          "output_type": "stream",
          "name": "stdout",
          "text": [
            "UCFCRIME_Burglary055_walk_1.mp4: 3 kare yüklendi.\n"
          ]
        },
        {
          "output_type": "stream",
          "name": "stderr",
          "text": []
        },
        {
          "output_type": "stream",
          "name": "stdout",
          "text": [
            "UCFCRIME_Burglary062_walk_1.mp4: 6 kare yüklendi.\n"
          ]
        },
        {
          "output_type": "stream",
          "name": "stderr",
          "text": []
        },
        {
          "output_type": "stream",
          "name": "stdout",
          "text": [
            "UCFCRIME_Burglary063_walk_1.mp4: 3 kare yüklendi.\n"
          ]
        },
        {
          "output_type": "stream",
          "name": "stderr",
          "text": []
        },
        {
          "output_type": "stream",
          "name": "stdout",
          "text": [
            "UCFCRIME_Burglary066_walk_1.mp4: 3 kare yüklendi.\n"
          ]
        },
        {
          "output_type": "stream",
          "name": "stderr",
          "text": []
        },
        {
          "output_type": "stream",
          "name": "stdout",
          "text": [
            "UCFCRIME_Burglary067_walk_1.mp4: 5 kare yüklendi.\n"
          ]
        },
        {
          "output_type": "stream",
          "name": "stderr",
          "text": []
        },
        {
          "output_type": "stream",
          "name": "stdout",
          "text": [
            "UCFCRIME_Burglary073_walk_1.mp4: 5 kare yüklendi.\n"
          ]
        },
        {
          "output_type": "stream",
          "name": "stderr",
          "text": [
            "                                                                                   "
          ]
        },
        {
          "output_type": "stream",
          "name": "stdout",
          "text": [
            "UCFCRIME_Burglary076_walk_1.mp4: 5 kare yüklendi.\n"
          ]
        },
        {
          "output_type": "stream",
          "name": "stderr",
          "text": [
            "                                                                                   "
          ]
        },
        {
          "output_type": "stream",
          "name": "stdout",
          "text": [
            "UCFCRIME_Burglary092_walk_1.mp4: 5 kare yüklendi.\n"
          ]
        },
        {
          "output_type": "stream",
          "name": "stderr",
          "text": []
        },
        {
          "output_type": "stream",
          "name": "stdout",
          "text": [
            "UCFCRIME_Fighting021_walk_1.mp4: 6 kare yüklendi.\n"
          ]
        },
        {
          "output_type": "stream",
          "name": "stderr",
          "text": []
        },
        {
          "output_type": "stream",
          "name": "stdout",
          "text": [
            "UCFCRIME_Fighting027_walk_1.mp4: 6 kare yüklendi.\n"
          ]
        },
        {
          "output_type": "stream",
          "name": "stderr",
          "text": []
        },
        {
          "output_type": "stream",
          "name": "stdout",
          "text": [
            "UCFCRIME_Fighting030_walk_1.mp4: 6 kare yüklendi.\n"
          ]
        },
        {
          "output_type": "stream",
          "name": "stderr",
          "text": []
        },
        {
          "output_type": "stream",
          "name": "stdout",
          "text": [
            "UCFCRIME_Fighting031_walk_1.mp4: 3 kare yüklendi.\n"
          ]
        },
        {
          "output_type": "stream",
          "name": "stderr",
          "text": []
        },
        {
          "output_type": "stream",
          "name": "stdout",
          "text": [
            "UCFCRIME_Fighting031_walk_2.mp4: 7 kare yüklendi.\n"
          ]
        },
        {
          "output_type": "stream",
          "name": "stderr",
          "text": []
        },
        {
          "output_type": "stream",
          "name": "stdout",
          "text": [
            "UCFCRIME_Fighting041_walk_1.mp4: 4 kare yüklendi.\n"
          ]
        },
        {
          "output_type": "stream",
          "name": "stderr",
          "text": []
        },
        {
          "output_type": "stream",
          "name": "stdout",
          "text": [
            "UCFCRIME_Fighting041_walk_2.mp4: 6 kare yüklendi.\n"
          ]
        },
        {
          "output_type": "stream",
          "name": "stderr",
          "text": []
        },
        {
          "output_type": "stream",
          "name": "stdout",
          "text": [
            "UCFCRIME_Fighting043_walk_1.mp4: 3 kare yüklendi.\n"
          ]
        },
        {
          "output_type": "stream",
          "name": "stderr",
          "text": []
        },
        {
          "output_type": "stream",
          "name": "stdout",
          "text": [
            "UCFCRIME_Robbery009_walk_1.mp4: 5 kare yüklendi.\n"
          ]
        },
        {
          "output_type": "stream",
          "name": "stderr",
          "text": []
        },
        {
          "output_type": "stream",
          "name": "stdout",
          "text": [
            "UCFCRIME_Robbery021_walk_1.mp4: 3 kare yüklendi.\n"
          ]
        },
        {
          "output_type": "stream",
          "name": "stderr",
          "text": []
        },
        {
          "output_type": "stream",
          "name": "stdout",
          "text": [
            "UCFCRIME_Robbery027_walk_1.mp4: 5 kare yüklendi.\n"
          ]
        },
        {
          "output_type": "stream",
          "name": "stderr",
          "text": []
        },
        {
          "output_type": "stream",
          "name": "stdout",
          "text": [
            "UCFCRIME_Robbery032_walk_1.mp4: 6 kare yüklendi.\n"
          ]
        },
        {
          "output_type": "stream",
          "name": "stderr",
          "text": []
        },
        {
          "output_type": "stream",
          "name": "stdout",
          "text": [
            "UCFCRIME_Robbery037_walk_1.mp4: 3 kare yüklendi.\n"
          ]
        },
        {
          "output_type": "stream",
          "name": "stderr",
          "text": []
        },
        {
          "output_type": "stream",
          "name": "stdout",
          "text": [
            "UCFCRIME_Robbery042_walk_1.mp4: 3 kare yüklendi.\n"
          ]
        },
        {
          "output_type": "stream",
          "name": "stderr",
          "text": []
        },
        {
          "output_type": "stream",
          "name": "stdout",
          "text": [
            "UCFCRIME_Robbery052_walk_1.mp4: 3 kare yüklendi.\n"
          ]
        },
        {
          "output_type": "stream",
          "name": "stderr",
          "text": []
        },
        {
          "output_type": "stream",
          "name": "stdout",
          "text": [
            "UCFCRIME_Robbery059_walk_1.mp4: 3 kare yüklendi.\n"
          ]
        },
        {
          "output_type": "stream",
          "name": "stderr",
          "text": []
        },
        {
          "output_type": "stream",
          "name": "stdout",
          "text": [
            "UCFCRIME_Robbery061_walk_1.mp4: 4 kare yüklendi.\n"
          ]
        },
        {
          "output_type": "stream",
          "name": "stderr",
          "text": []
        },
        {
          "output_type": "stream",
          "name": "stdout",
          "text": [
            "UCFCRIME_Robbery062_walk_1.mp4: 5 kare yüklendi.\n"
          ]
        },
        {
          "output_type": "stream",
          "name": "stderr",
          "text": []
        },
        {
          "output_type": "stream",
          "name": "stdout",
          "text": [
            "UCFCRIME_Robbery063_walk_1.mp4: 4 kare yüklendi.\n"
          ]
        },
        {
          "output_type": "stream",
          "name": "stderr",
          "text": []
        },
        {
          "output_type": "stream",
          "name": "stdout",
          "text": [
            "UCFCRIME_Robbery067_walk_1.mp4: 2 kare yüklendi.\n"
          ]
        },
        {
          "output_type": "stream",
          "name": "stderr",
          "text": []
        },
        {
          "output_type": "stream",
          "name": "stdout",
          "text": [
            "UCFCRIME_Robbery069_walk_1.mp4: 4 kare yüklendi.\n"
          ]
        },
        {
          "output_type": "stream",
          "name": "stderr",
          "text": []
        },
        {
          "output_type": "stream",
          "name": "stdout",
          "text": [
            "UCFCRIME_Robbery069_walk_2.mp4: 4 kare yüklendi.\n"
          ]
        },
        {
          "output_type": "stream",
          "name": "stderr",
          "text": []
        },
        {
          "output_type": "stream",
          "name": "stdout",
          "text": [
            "UCFCRIME_Robbery072_walk_1.mp4: 4 kare yüklendi.\n"
          ]
        },
        {
          "output_type": "stream",
          "name": "stderr",
          "text": []
        },
        {
          "output_type": "stream",
          "name": "stdout",
          "text": [
            "UCFCRIME_Robbery073_walk_1.mp4: 4 kare yüklendi.\n"
          ]
        },
        {
          "output_type": "stream",
          "name": "stderr",
          "text": []
        },
        {
          "output_type": "stream",
          "name": "stdout",
          "text": [
            "UCFCRIME_Robbery080_walk_1.mp4: 3 kare yüklendi.\n"
          ]
        },
        {
          "output_type": "stream",
          "name": "stderr",
          "text": []
        },
        {
          "output_type": "stream",
          "name": "stdout",
          "text": [
            "UCFCRIME_Robbery091_walk_1.mp4: 3 kare yüklendi.\n"
          ]
        },
        {
          "output_type": "stream",
          "name": "stderr",
          "text": []
        },
        {
          "output_type": "stream",
          "name": "stdout",
          "text": [
            "UCFCRIME_Robbery094_walk_1.mp4: 2 kare yüklendi.\n"
          ]
        },
        {
          "output_type": "stream",
          "name": "stderr",
          "text": []
        },
        {
          "output_type": "stream",
          "name": "stdout",
          "text": [
            "UCFCRIME_Robbery095_walk_1.mp4: 3 kare yüklendi.\n"
          ]
        },
        {
          "output_type": "stream",
          "name": "stderr",
          "text": []
        },
        {
          "output_type": "stream",
          "name": "stdout",
          "text": [
            "UCFCRIME_Robbery096_walk_1.mp4: 4 kare yüklendi.\n"
          ]
        },
        {
          "output_type": "stream",
          "name": "stderr",
          "text": []
        },
        {
          "output_type": "stream",
          "name": "stdout",
          "text": [
            "UCFCRIME_Robbery097_walk_1.mp4: 3 kare yüklendi.\n"
          ]
        },
        {
          "output_type": "stream",
          "name": "stderr",
          "text": []
        },
        {
          "output_type": "stream",
          "name": "stdout",
          "text": [
            "UCFCRIME_Robbery099_walk_1.mp4: 3 kare yüklendi.\n"
          ]
        },
        {
          "output_type": "stream",
          "name": "stderr",
          "text": []
        },
        {
          "output_type": "stream",
          "name": "stdout",
          "text": [
            "UCFCRIME_Robbery103_walk_1.mp4: 4 kare yüklendi.\n"
          ]
        },
        {
          "output_type": "stream",
          "name": "stderr",
          "text": []
        },
        {
          "output_type": "stream",
          "name": "stdout",
          "text": [
            "UCFCRIME_Robbery106_walk_1.mp4: 4 kare yüklendi.\n"
          ]
        },
        {
          "output_type": "stream",
          "name": "stderr",
          "text": []
        },
        {
          "output_type": "stream",
          "name": "stdout",
          "text": [
            "UCFCRIME_Robbery112_walk_1.mp4: 4 kare yüklendi.\n"
          ]
        },
        {
          "output_type": "stream",
          "name": "stderr",
          "text": []
        },
        {
          "output_type": "stream",
          "name": "stdout",
          "text": [
            "UCFCRIME_Robbery119_walk_1.mp4: 3 kare yüklendi.\n"
          ]
        },
        {
          "output_type": "stream",
          "name": "stderr",
          "text": []
        },
        {
          "output_type": "stream",
          "name": "stdout",
          "text": [
            "UCFCRIME_Robbery119_walk_2.mp4: 4 kare yüklendi.\n"
          ]
        },
        {
          "output_type": "stream",
          "name": "stderr",
          "text": []
        },
        {
          "output_type": "stream",
          "name": "stdout",
          "text": [
            "UCFCRIME_Robbery135_walk_1.mp4: 5 kare yüklendi.\n"
          ]
        },
        {
          "output_type": "stream",
          "name": "stderr",
          "text": []
        },
        {
          "output_type": "stream",
          "name": "stdout",
          "text": [
            "UCFCRIME_Robbery150_walk_1.mp4: 5 kare yüklendi.\n"
          ]
        },
        {
          "output_type": "stream",
          "name": "stderr",
          "text": []
        },
        {
          "output_type": "stream",
          "name": "stdout",
          "text": [
            "UCFCRIME_Shooting010_walk_1.mp4: 3 kare yüklendi.\n"
          ]
        },
        {
          "output_type": "stream",
          "name": "stderr",
          "text": []
        },
        {
          "output_type": "stream",
          "name": "stdout",
          "text": [
            "UCFCRIME_Shooting014_walk_1.mp4: 4 kare yüklendi.\n"
          ]
        },
        {
          "output_type": "stream",
          "name": "stderr",
          "text": []
        },
        {
          "output_type": "stream",
          "name": "stdout",
          "text": [
            "UCFCRIME_Shooting014_walk_2.mp4: 3 kare yüklendi.\n"
          ]
        },
        {
          "output_type": "stream",
          "name": "stderr",
          "text": []
        },
        {
          "output_type": "stream",
          "name": "stdout",
          "text": [
            "UCFCRIME_Shooting022_walk_1.mp4: 3 kare yüklendi.\n"
          ]
        },
        {
          "output_type": "stream",
          "name": "stderr",
          "text": []
        },
        {
          "output_type": "stream",
          "name": "stdout",
          "text": [
            "UCFCRIME_Shooting028_walk_1.mp4: 4 kare yüklendi.\n"
          ]
        },
        {
          "output_type": "stream",
          "name": "stderr",
          "text": []
        },
        {
          "output_type": "stream",
          "name": "stdout",
          "text": [
            "UCFCRIME_Shooting031_walk_1.mp4: 3 kare yüklendi.\n"
          ]
        },
        {
          "output_type": "stream",
          "name": "stderr",
          "text": []
        },
        {
          "output_type": "stream",
          "name": "stdout",
          "text": [
            "UCFCRIME_Shooting032_walk_1.mp4: 3 kare yüklendi.\n"
          ]
        },
        {
          "output_type": "stream",
          "name": "stderr",
          "text": []
        },
        {
          "output_type": "stream",
          "name": "stdout",
          "text": [
            "UCFCRIME_Shooting032_walk_2.mp4: 4 kare yüklendi.\n"
          ]
        },
        {
          "output_type": "stream",
          "name": "stderr",
          "text": []
        },
        {
          "output_type": "stream",
          "name": "stdout",
          "text": [
            "UCFCRIME_Shooting038_walk_1.mp4: 3 kare yüklendi.\n"
          ]
        },
        {
          "output_type": "stream",
          "name": "stderr",
          "text": [
            "                                                                                  "
          ]
        },
        {
          "output_type": "stream",
          "name": "stdout",
          "text": [
            "UCFCRIME_Shooting040_walk_1.mp4: 3 kare yüklendi.\n"
          ]
        },
        {
          "output_type": "stream",
          "name": "stderr",
          "text": []
        },
        {
          "output_type": "stream",
          "name": "stdout",
          "text": [
            "UCFCRIME_Shooting040_walk_2.mp4: 4 kare yüklendi.\n"
          ]
        },
        {
          "output_type": "stream",
          "name": "stderr",
          "text": []
        },
        {
          "output_type": "stream",
          "name": "stdout",
          "text": [
            "UCFCRIME_Shooting047_walk_1.mp4: 5 kare yüklendi.\n"
          ]
        },
        {
          "output_type": "stream",
          "name": "stderr",
          "text": []
        },
        {
          "output_type": "stream",
          "name": "stdout",
          "text": [
            "UCFCRIME_Shooting047_walk_2.mp4: 3 kare yüklendi.\n"
          ]
        },
        {
          "output_type": "stream",
          "name": "stderr",
          "text": []
        },
        {
          "output_type": "stream",
          "name": "stdout",
          "text": [
            "UCFCRIME_Shooting047_walk_3.mp4: 2 kare yüklendi.\n"
          ]
        },
        {
          "output_type": "stream",
          "name": "stderr",
          "text": []
        },
        {
          "output_type": "stream",
          "name": "stdout",
          "text": [
            "UCFCRIME_Shooting054_walk_1.mp4: 4 kare yüklendi.\n"
          ]
        },
        {
          "output_type": "stream",
          "name": "stderr",
          "text": []
        },
        {
          "output_type": "stream",
          "name": "stdout",
          "text": [
            "UCFCRIME_Shoplifting001_walk_1.mp4: 4 kare yüklendi.\n"
          ]
        },
        {
          "output_type": "stream",
          "name": "stderr",
          "text": []
        },
        {
          "output_type": "stream",
          "name": "stdout",
          "text": [
            "UCFCRIME_Shoplifting001_walk_2.mp4: 3 kare yüklendi.\n"
          ]
        },
        {
          "output_type": "stream",
          "name": "stderr",
          "text": []
        },
        {
          "output_type": "stream",
          "name": "stdout",
          "text": [
            "UCFCRIME_Shoplifting003_walk_1.mp4: 3 kare yüklendi.\n"
          ]
        },
        {
          "output_type": "stream",
          "name": "stderr",
          "text": []
        },
        {
          "output_type": "stream",
          "name": "stdout",
          "text": [
            "UCFCRIME_Shoplifting005_walk_1.mp4: 4 kare yüklendi.\n"
          ]
        },
        {
          "output_type": "stream",
          "name": "stderr",
          "text": []
        },
        {
          "output_type": "stream",
          "name": "stdout",
          "text": [
            "UCFCRIME_Shoplifting005_walk_2.mp4: 2 kare yüklendi.\n"
          ]
        },
        {
          "output_type": "stream",
          "name": "stderr",
          "text": []
        },
        {
          "output_type": "stream",
          "name": "stdout",
          "text": [
            "UCFCRIME_Shoplifting010_walk_1.mp4: 5 kare yüklendi.\n"
          ]
        },
        {
          "output_type": "stream",
          "name": "stderr",
          "text": []
        },
        {
          "output_type": "stream",
          "name": "stdout",
          "text": [
            "UCFCRIME_Shoplifting012_walk_1.mp4: 3 kare yüklendi.\n"
          ]
        },
        {
          "output_type": "stream",
          "name": "stderr",
          "text": []
        },
        {
          "output_type": "stream",
          "name": "stdout",
          "text": [
            "UCFCRIME_Shoplifting014_walk_1.mp4: 3 kare yüklendi.\n"
          ]
        },
        {
          "output_type": "stream",
          "name": "stderr",
          "text": []
        },
        {
          "output_type": "stream",
          "name": "stdout",
          "text": [
            "UCFCRIME_Shoplifting015_walk_1.mp4: 4 kare yüklendi.\n"
          ]
        },
        {
          "output_type": "stream",
          "name": "stderr",
          "text": []
        },
        {
          "output_type": "stream",
          "name": "stdout",
          "text": [
            "UCFCRIME_Shoplifting016_walk_1.mp4: 4 kare yüklendi.\n"
          ]
        },
        {
          "output_type": "stream",
          "name": "stderr",
          "text": []
        },
        {
          "output_type": "stream",
          "name": "stdout",
          "text": [
            "UCFCRIME_Shoplifting018_walk_1.mp4: 5 kare yüklendi.\n"
          ]
        },
        {
          "output_type": "stream",
          "name": "stderr",
          "text": []
        },
        {
          "output_type": "stream",
          "name": "stdout",
          "text": [
            "UCFCRIME_Shoplifting020_walk_1.mp4: 5 kare yüklendi.\n"
          ]
        },
        {
          "output_type": "stream",
          "name": "stderr",
          "text": []
        },
        {
          "output_type": "stream",
          "name": "stdout",
          "text": [
            "UCFCRIME_Shoplifting026_walk_1.mp4: 4 kare yüklendi.\n"
          ]
        },
        {
          "output_type": "stream",
          "name": "stderr",
          "text": []
        },
        {
          "output_type": "stream",
          "name": "stdout",
          "text": [
            "UCFCRIME_Shoplifting027_walk_1.mp4: 3 kare yüklendi.\n"
          ]
        },
        {
          "output_type": "stream",
          "name": "stderr",
          "text": []
        },
        {
          "output_type": "stream",
          "name": "stdout",
          "text": [
            "UCFCRIME_Shoplifting027_walk_2.mp4: 4 kare yüklendi.\n"
          ]
        },
        {
          "output_type": "stream",
          "name": "stderr",
          "text": []
        },
        {
          "output_type": "stream",
          "name": "stdout",
          "text": [
            "UCFCRIME_Shoplifting029_walk_1.mp4: 4 kare yüklendi.\n"
          ]
        },
        {
          "output_type": "stream",
          "name": "stderr",
          "text": []
        },
        {
          "output_type": "stream",
          "name": "stdout",
          "text": [
            "UCFCRIME_Shoplifting029_walk_2.mp4: 5 kare yüklendi.\n"
          ]
        },
        {
          "output_type": "stream",
          "name": "stderr",
          "text": []
        },
        {
          "output_type": "stream",
          "name": "stdout",
          "text": [
            "UCFCRIME_Shoplifting032_walk_1.mp4: 5 kare yüklendi.\n"
          ]
        },
        {
          "output_type": "stream",
          "name": "stderr",
          "text": [
            "                                                                                     "
          ]
        },
        {
          "output_type": "stream",
          "name": "stdout",
          "text": [
            "UCFCRIME_Shoplifting032_walk_2.mp4: 3 kare yüklendi.\n"
          ]
        },
        {
          "output_type": "stream",
          "name": "stderr",
          "text": []
        },
        {
          "output_type": "stream",
          "name": "stdout",
          "text": [
            "UCFCRIME_Shoplifting034_walk_1.mp4: 3 kare yüklendi.\n"
          ]
        },
        {
          "output_type": "stream",
          "name": "stderr",
          "text": []
        },
        {
          "output_type": "stream",
          "name": "stdout",
          "text": [
            "UCFCRIME_Shoplifting038_walk_1.mp4: 3 kare yüklendi.\n"
          ]
        },
        {
          "output_type": "stream",
          "name": "stderr",
          "text": []
        },
        {
          "output_type": "stream",
          "name": "stdout",
          "text": [
            "UCFCRIME_Shoplifting039_walk_1.mp4: 4 kare yüklendi.\n"
          ]
        },
        {
          "output_type": "stream",
          "name": "stderr",
          "text": []
        },
        {
          "output_type": "stream",
          "name": "stdout",
          "text": [
            "UCFCRIME_Shoplifting039_walk_2.mp4: 3 kare yüklendi.\n"
          ]
        },
        {
          "output_type": "stream",
          "name": "stderr",
          "text": []
        },
        {
          "output_type": "stream",
          "name": "stdout",
          "text": [
            "UCFCRIME_Shoplifting040_walk_1.mp4: 5 kare yüklendi.\n"
          ]
        },
        {
          "output_type": "stream",
          "name": "stderr",
          "text": []
        },
        {
          "output_type": "stream",
          "name": "stdout",
          "text": [
            "UCFCRIME_Shoplifting044_walk_1.mp4: 4 kare yüklendi.\n"
          ]
        },
        {
          "output_type": "stream",
          "name": "stderr",
          "text": []
        },
        {
          "output_type": "stream",
          "name": "stdout",
          "text": [
            "UCFCRIME_Shoplifting047_walk_1.mp4: 5 kare yüklendi.\n"
          ]
        },
        {
          "output_type": "stream",
          "name": "stderr",
          "text": []
        },
        {
          "output_type": "stream",
          "name": "stdout",
          "text": [
            "UCFCRIME_Shoplifting051_walk_1.mp4: 6 kare yüklendi.\n"
          ]
        },
        {
          "output_type": "stream",
          "name": "stderr",
          "text": []
        },
        {
          "output_type": "stream",
          "name": "stdout",
          "text": [
            "UCFCRIME_Shoplifting052_walk_1.mp4: 5 kare yüklendi.\n"
          ]
        },
        {
          "output_type": "stream",
          "name": "stderr",
          "text": []
        },
        {
          "output_type": "stream",
          "name": "stdout",
          "text": [
            "UCFCRIME_Shoplifting052_walk_2.mp4: 4 kare yüklendi.\n"
          ]
        },
        {
          "output_type": "stream",
          "name": "stderr",
          "text": []
        },
        {
          "output_type": "stream",
          "name": "stdout",
          "text": [
            "UCFCRIME_Shoplifting053_walk_1.mp4: 4 kare yüklendi.\n"
          ]
        },
        {
          "output_type": "stream",
          "name": "stderr",
          "text": []
        },
        {
          "output_type": "stream",
          "name": "stdout",
          "text": [
            "UCFCRIME_Shoplifting055_walk_1.mp4: 5 kare yüklendi.\n"
          ]
        },
        {
          "output_type": "stream",
          "name": "stderr",
          "text": []
        },
        {
          "output_type": "stream",
          "name": "stdout",
          "text": [
            "UCFCRIME_Shoplifting055_walk_2.mp4: 3 kare yüklendi.\n"
          ]
        },
        {
          "output_type": "stream",
          "name": "stderr",
          "text": []
        },
        {
          "output_type": "stream",
          "name": "stdout",
          "text": [
            "UCFCRIME_Shoplifting055_walk_3.mp4: 7 kare yüklendi.\n"
          ]
        },
        {
          "output_type": "stream",
          "name": "stderr",
          "text": []
        },
        {
          "output_type": "stream",
          "name": "stdout",
          "text": [
            "UCFCRIME_Stealing002_walk_1.mp4: 4 kare yüklendi.\n"
          ]
        },
        {
          "output_type": "stream",
          "name": "stderr",
          "text": []
        },
        {
          "output_type": "stream",
          "name": "stdout",
          "text": [
            "UCFCRIME_Stealing003_walk_1.mp4: 4 kare yüklendi.\n"
          ]
        },
        {
          "output_type": "stream",
          "name": "stderr",
          "text": []
        },
        {
          "output_type": "stream",
          "name": "stdout",
          "text": [
            "UCFCRIME_Stealing004_walk_1.mp4: 4 kare yüklendi.\n"
          ]
        },
        {
          "output_type": "stream",
          "name": "stderr",
          "text": []
        },
        {
          "output_type": "stream",
          "name": "stdout",
          "text": [
            "UCFCRIME_Stealing004_walk_2.mp4: 5 kare yüklendi.\n"
          ]
        },
        {
          "output_type": "stream",
          "name": "stderr",
          "text": []
        },
        {
          "output_type": "stream",
          "name": "stdout",
          "text": [
            "UCFCRIME_Stealing007_walk_1.mp4: 3 kare yüklendi.\n"
          ]
        },
        {
          "output_type": "stream",
          "name": "stderr",
          "text": []
        },
        {
          "output_type": "stream",
          "name": "stdout",
          "text": [
            "UCFCRIME_Stealing009_walk_1.mp4: 6 kare yüklendi.\n"
          ]
        },
        {
          "output_type": "stream",
          "name": "stderr",
          "text": []
        },
        {
          "output_type": "stream",
          "name": "stdout",
          "text": [
            "UCFCRIME_Stealing011_walk_1.mp4: 4 kare yüklendi.\n"
          ]
        },
        {
          "output_type": "stream",
          "name": "stderr",
          "text": []
        },
        {
          "output_type": "stream",
          "name": "stdout",
          "text": [
            "UCFCRIME_Stealing012_walk_1.mp4: 5 kare yüklendi.\n"
          ]
        },
        {
          "output_type": "stream",
          "name": "stderr",
          "text": []
        },
        {
          "output_type": "stream",
          "name": "stdout",
          "text": [
            "UCFCRIME_Stealing015_walk_1.mp4: 6 kare yüklendi.\n"
          ]
        },
        {
          "output_type": "stream",
          "name": "stderr",
          "text": []
        },
        {
          "output_type": "stream",
          "name": "stdout",
          "text": [
            "UCFCRIME_Stealing016_walk_1.mp4: 6 kare yüklendi.\n"
          ]
        },
        {
          "output_type": "stream",
          "name": "stderr",
          "text": []
        },
        {
          "output_type": "stream",
          "name": "stdout",
          "text": [
            "UCFCRIME_Stealing019_walk_1.mp4: 4 kare yüklendi.\n"
          ]
        },
        {
          "output_type": "stream",
          "name": "stderr",
          "text": []
        },
        {
          "output_type": "stream",
          "name": "stdout",
          "text": [
            "UCFCRIME_Stealing025_walk_1.mp4: 6 kare yüklendi.\n"
          ]
        },
        {
          "output_type": "stream",
          "name": "stderr",
          "text": []
        },
        {
          "output_type": "stream",
          "name": "stdout",
          "text": [
            "UCFCRIME_Stealing026_walk_1.mp4: 3 kare yüklendi.\n"
          ]
        },
        {
          "output_type": "stream",
          "name": "stderr",
          "text": []
        },
        {
          "output_type": "stream",
          "name": "stdout",
          "text": [
            "UCFCRIME_Stealing035_walk_1.mp4: 4 kare yüklendi.\n"
          ]
        },
        {
          "output_type": "stream",
          "name": "stderr",
          "text": []
        },
        {
          "output_type": "stream",
          "name": "stdout",
          "text": [
            "UCFCRIME_Stealing047_walk_1.mp4: 4 kare yüklendi.\n"
          ]
        },
        {
          "output_type": "stream",
          "name": "stderr",
          "text": []
        },
        {
          "output_type": "stream",
          "name": "stdout",
          "text": [
            "UCFCRIME_Stealing048_walk_1.mp4: 3 kare yüklendi.\n"
          ]
        },
        {
          "output_type": "stream",
          "name": "stderr",
          "text": []
        },
        {
          "output_type": "stream",
          "name": "stdout",
          "text": [
            "UCFCRIME_Stealing052_walk_1.mp4: 5 kare yüklendi.\n"
          ]
        },
        {
          "output_type": "stream",
          "name": "stderr",
          "text": []
        },
        {
          "output_type": "stream",
          "name": "stdout",
          "text": [
            "UCFCRIME_Stealing054_walk_1.mp4: 4 kare yüklendi.\n"
          ]
        },
        {
          "output_type": "stream",
          "name": "stderr",
          "text": []
        },
        {
          "output_type": "stream",
          "name": "stdout",
          "text": [
            "UCFCRIME_Stealing059_walk_1.mp4: 4 kare yüklendi.\n"
          ]
        },
        {
          "output_type": "stream",
          "name": "stderr",
          "text": []
        },
        {
          "output_type": "stream",
          "name": "stdout",
          "text": [
            "UCFCRIME_Stealing062_walk_1.mp4: 4 kare yüklendi.\n"
          ]
        },
        {
          "output_type": "stream",
          "name": "stderr",
          "text": []
        },
        {
          "output_type": "stream",
          "name": "stdout",
          "text": [
            "UCFCRIME_Stealing065_walk_1.mp4: 5 kare yüklendi.\n"
          ]
        },
        {
          "output_type": "stream",
          "name": "stderr",
          "text": []
        },
        {
          "output_type": "stream",
          "name": "stdout",
          "text": [
            "UCFCRIME_Stealing067_walk_1.mp4: 6 kare yüklendi.\n"
          ]
        },
        {
          "output_type": "stream",
          "name": "stderr",
          "text": []
        },
        {
          "output_type": "stream",
          "name": "stdout",
          "text": [
            "UCFCRIME_Stealing078_walk_1.mp4: 4 kare yüklendi.\n"
          ]
        },
        {
          "output_type": "stream",
          "name": "stderr",
          "text": []
        },
        {
          "output_type": "stream",
          "name": "stdout",
          "text": [
            "UCFCRIME_Stealing083_walk_1.mp4: 3 kare yüklendi.\n"
          ]
        },
        {
          "output_type": "stream",
          "name": "stderr",
          "text": []
        },
        {
          "output_type": "stream",
          "name": "stdout",
          "text": [
            "UCFCRIME_Stealing091_walk_1.mp4: 5 kare yüklendi.\n"
          ]
        },
        {
          "output_type": "stream",
          "name": "stderr",
          "text": []
        },
        {
          "output_type": "stream",
          "name": "stdout",
          "text": [
            "UCFCRIME_Stealing101_walk_1.mp4: 4 kare yüklendi.\n"
          ]
        },
        {
          "output_type": "stream",
          "name": "stderr",
          "text": []
        },
        {
          "output_type": "stream",
          "name": "stdout",
          "text": [
            "UCFCRIME_Abuse004_stand_1.mp4: 4 kare yüklendi.\n"
          ]
        },
        {
          "output_type": "stream",
          "name": "stderr",
          "text": []
        },
        {
          "output_type": "stream",
          "name": "stdout",
          "text": [
            "UCFCRIME_Abuse004_stand_2.mp4: 5 kare yüklendi.\n"
          ]
        },
        {
          "output_type": "stream",
          "name": "stderr",
          "text": []
        },
        {
          "output_type": "stream",
          "name": "stdout",
          "text": [
            "UCFCRIME_Abuse005_stand_1.mp4: 4 kare yüklendi.\n"
          ]
        },
        {
          "output_type": "stream",
          "name": "stderr",
          "text": []
        },
        {
          "output_type": "stream",
          "name": "stdout",
          "text": [
            "UCFCRIME_Abuse006_stand_1.mp4: 3 kare yüklendi.\n"
          ]
        },
        {
          "output_type": "stream",
          "name": "stderr",
          "text": []
        },
        {
          "output_type": "stream",
          "name": "stdout",
          "text": [
            "UCFCRIME_Abuse008_stand_1.mp4: 5 kare yüklendi.\n"
          ]
        },
        {
          "output_type": "stream",
          "name": "stderr",
          "text": []
        },
        {
          "output_type": "stream",
          "name": "stdout",
          "text": [
            "UCFCRIME_Abuse008_stand_2.mp4: 5 kare yüklendi.\n"
          ]
        },
        {
          "output_type": "stream",
          "name": "stderr",
          "text": []
        },
        {
          "output_type": "stream",
          "name": "stdout",
          "text": [
            "UCFCRIME_Abuse014_stand_1.mp4: 5 kare yüklendi.\n"
          ]
        },
        {
          "output_type": "stream",
          "name": "stderr",
          "text": []
        },
        {
          "output_type": "stream",
          "name": "stdout",
          "text": [
            "UCFCRIME_Abuse018_stand_1.mp4: 4 kare yüklendi.\n"
          ]
        },
        {
          "output_type": "stream",
          "name": "stderr",
          "text": []
        },
        {
          "output_type": "stream",
          "name": "stdout",
          "text": [
            "UCFCRIME_Abuse028_stand_1.mp4: 4 kare yüklendi.\n"
          ]
        },
        {
          "output_type": "stream",
          "name": "stderr",
          "text": []
        },
        {
          "output_type": "stream",
          "name": "stdout",
          "text": [
            "UCFCRIME_Abuse030_stand_1.mp4: 4 kare yüklendi.\n"
          ]
        },
        {
          "output_type": "stream",
          "name": "stderr",
          "text": []
        },
        {
          "output_type": "stream",
          "name": "stdout",
          "text": [
            "UCFCRIME_Abuse031_stand_1.mp4: 3 kare yüklendi.\n"
          ]
        },
        {
          "output_type": "stream",
          "name": "stderr",
          "text": []
        },
        {
          "output_type": "stream",
          "name": "stdout",
          "text": [
            "UCFCRIME_Abuse038_stand_1.mp4: 5 kare yüklendi.\n"
          ]
        },
        {
          "output_type": "stream",
          "name": "stderr",
          "text": []
        },
        {
          "output_type": "stream",
          "name": "stdout",
          "text": [
            "UCFCRIME_Abuse038_stand_2.mp4: 5 kare yüklendi.\n"
          ]
        },
        {
          "output_type": "stream",
          "name": "stderr",
          "text": []
        },
        {
          "output_type": "stream",
          "name": "stdout",
          "text": [
            "UCFCRIME_Abuse039_stand_1.mp4: 5 kare yüklendi.\n"
          ]
        },
        {
          "output_type": "stream",
          "name": "stderr",
          "text": []
        },
        {
          "output_type": "stream",
          "name": "stdout",
          "text": [
            "UCFCRIME_Abuse039_stand_2.mp4: 5 kare yüklendi.\n"
          ]
        },
        {
          "output_type": "stream",
          "name": "stderr",
          "text": []
        },
        {
          "output_type": "stream",
          "name": "stdout",
          "text": [
            "UCFCRIME_Abuse040_stand_1.mp4: 2 kare yüklendi.\n"
          ]
        },
        {
          "output_type": "stream",
          "name": "stderr",
          "text": []
        },
        {
          "output_type": "stream",
          "name": "stdout",
          "text": [
            "UCFCRIME_Abuse040_stand_2.mp4: 4 kare yüklendi.\n"
          ]
        },
        {
          "output_type": "stream",
          "name": "stderr",
          "text": []
        },
        {
          "output_type": "stream",
          "name": "stdout",
          "text": [
            "UCFCRIME_Abuse044_stand_1.mp4: 3 kare yüklendi.\n"
          ]
        },
        {
          "output_type": "stream",
          "name": "stderr",
          "text": []
        },
        {
          "output_type": "stream",
          "name": "stdout",
          "text": [
            "UCFCRIME_Abuse045_stand_1.mp4: 4 kare yüklendi.\n"
          ]
        },
        {
          "output_type": "stream",
          "name": "stderr",
          "text": []
        },
        {
          "output_type": "stream",
          "name": "stdout",
          "text": [
            "UCFCRIME_Abuse046_stand_1.mp4: 2 kare yüklendi.\n"
          ]
        },
        {
          "output_type": "stream",
          "name": "stderr",
          "text": []
        },
        {
          "output_type": "stream",
          "name": "stdout",
          "text": [
            "UCFCRIME_Arrest001_stand_1.mp4: 3 kare yüklendi.\n"
          ]
        },
        {
          "output_type": "stream",
          "name": "stderr",
          "text": []
        },
        {
          "output_type": "stream",
          "name": "stdout",
          "text": [
            "UCFCRIME_Arrest003_stand_1.mp4: 3 kare yüklendi.\n"
          ]
        },
        {
          "output_type": "stream",
          "name": "stderr",
          "text": []
        },
        {
          "output_type": "stream",
          "name": "stdout",
          "text": [
            "UCFCRIME_Arrest003_stand_2.mp4: 2 kare yüklendi.\n"
          ]
        },
        {
          "output_type": "stream",
          "name": "stderr",
          "text": []
        },
        {
          "output_type": "stream",
          "name": "stdout",
          "text": [
            "UCFCRIME_Arrest007_stand_1.mp4: 4 kare yüklendi.\n"
          ]
        },
        {
          "output_type": "stream",
          "name": "stderr",
          "text": []
        },
        {
          "output_type": "stream",
          "name": "stdout",
          "text": [
            "UCFCRIME_Arrest007_stand_2.mp4: 2 kare yüklendi.\n"
          ]
        },
        {
          "output_type": "stream",
          "name": "stderr",
          "text": []
        },
        {
          "output_type": "stream",
          "name": "stdout",
          "text": [
            "UCFCRIME_Arrest009_stand_1.mp4: 2 kare yüklendi.\n"
          ]
        },
        {
          "output_type": "stream",
          "name": "stderr",
          "text": []
        },
        {
          "output_type": "stream",
          "name": "stdout",
          "text": [
            "UCFCRIME_Arrest011_stand_1.mp4: 3 kare yüklendi.\n"
          ]
        },
        {
          "output_type": "stream",
          "name": "stderr",
          "text": []
        },
        {
          "output_type": "stream",
          "name": "stdout",
          "text": [
            "UCFCRIME_Arrest014_stand_1.mp4: 2 kare yüklendi.\n"
          ]
        },
        {
          "output_type": "stream",
          "name": "stderr",
          "text": []
        },
        {
          "output_type": "stream",
          "name": "stdout",
          "text": [
            "UCFCRIME_Arrest014_stand_2.mp4: 1 kare yüklendi.\n"
          ]
        },
        {
          "output_type": "stream",
          "name": "stderr",
          "text": []
        },
        {
          "output_type": "stream",
          "name": "stdout",
          "text": [
            "UCFCRIME_Arrest016_stand_1.mp4: 3 kare yüklendi.\n"
          ]
        },
        {
          "output_type": "stream",
          "name": "stderr",
          "text": []
        },
        {
          "output_type": "stream",
          "name": "stdout",
          "text": [
            "UCFCRIME_Arrest016_stand_2.mp4: 2 kare yüklendi.\n"
          ]
        },
        {
          "output_type": "stream",
          "name": "stderr",
          "text": []
        },
        {
          "output_type": "stream",
          "name": "stdout",
          "text": [
            "UCFCRIME_Arrest020_stand_1.mp4: 2 kare yüklendi.\n"
          ]
        },
        {
          "output_type": "stream",
          "name": "stderr",
          "text": [
            "                                                                                 "
          ]
        },
        {
          "output_type": "stream",
          "name": "stdout",
          "text": [
            "UCFCRIME_Arrest021_stand_1.mp4: 3 kare yüklendi.\n"
          ]
        },
        {
          "output_type": "stream",
          "name": "stderr",
          "text": []
        },
        {
          "output_type": "stream",
          "name": "stdout",
          "text": [
            "UCFCRIME_Arrest026_stand_1.mp4: 4 kare yüklendi.\n"
          ]
        },
        {
          "output_type": "stream",
          "name": "stderr",
          "text": []
        },
        {
          "output_type": "stream",
          "name": "stdout",
          "text": [
            "UCFCRIME_Arrest028_stand_1.mp4: 3 kare yüklendi.\n"
          ]
        },
        {
          "output_type": "stream",
          "name": "stderr",
          "text": []
        },
        {
          "output_type": "stream",
          "name": "stdout",
          "text": [
            "UCFCRIME_Arrest032_stand_1.mp4: 4 kare yüklendi.\n"
          ]
        },
        {
          "output_type": "stream",
          "name": "stderr",
          "text": []
        },
        {
          "output_type": "stream",
          "name": "stdout",
          "text": [
            "UCFCRIME_Arrest041_stand_1.mp4: 4 kare yüklendi.\n"
          ]
        },
        {
          "output_type": "stream",
          "name": "stderr",
          "text": []
        },
        {
          "output_type": "stream",
          "name": "stdout",
          "text": [
            "UCFCRIME_Arrest043_stand_1.mp4: 3 kare yüklendi.\n"
          ]
        },
        {
          "output_type": "stream",
          "name": "stderr",
          "text": []
        },
        {
          "output_type": "stream",
          "name": "stdout",
          "text": [
            "UCFCRIME_Arrest044_stand_1.mp4: 3 kare yüklendi.\n"
          ]
        },
        {
          "output_type": "stream",
          "name": "stderr",
          "text": []
        },
        {
          "output_type": "stream",
          "name": "stdout",
          "text": [
            "UCFCRIME_Arrest046_stand_1.mp4: 3 kare yüklendi.\n"
          ]
        },
        {
          "output_type": "stream",
          "name": "stderr",
          "text": []
        },
        {
          "output_type": "stream",
          "name": "stdout",
          "text": [
            "UCFCRIME_Arrest048_stand_1.mp4: 3 kare yüklendi.\n"
          ]
        },
        {
          "output_type": "stream",
          "name": "stderr",
          "text": []
        },
        {
          "output_type": "stream",
          "name": "stdout",
          "text": [
            "UCFCRIME_Arson001_stand_1.mp4: 3 kare yüklendi.\n"
          ]
        },
        {
          "output_type": "stream",
          "name": "stderr",
          "text": []
        },
        {
          "output_type": "stream",
          "name": "stdout",
          "text": [
            "UCFCRIME_Arson015_stand_1.mp4: 3 kare yüklendi.\n"
          ]
        },
        {
          "output_type": "stream",
          "name": "stderr",
          "text": []
        },
        {
          "output_type": "stream",
          "name": "stdout",
          "text": [
            "UCFCRIME_Arson022_stand_1.mp4: 2 kare yüklendi.\n"
          ]
        },
        {
          "output_type": "stream",
          "name": "stderr",
          "text": []
        },
        {
          "output_type": "stream",
          "name": "stdout",
          "text": [
            "UCFCRIME_Arson026_stand_1.mp4: 2 kare yüklendi.\n"
          ]
        },
        {
          "output_type": "stream",
          "name": "stderr",
          "text": []
        },
        {
          "output_type": "stream",
          "name": "stdout",
          "text": [
            "UCFCRIME_Arson027_stand_1.mp4: 3 kare yüklendi.\n"
          ]
        },
        {
          "output_type": "stream",
          "name": "stderr",
          "text": []
        },
        {
          "output_type": "stream",
          "name": "stdout",
          "text": [
            "UCFCRIME_Arson035_stand_1.mp4: 3 kare yüklendi.\n"
          ]
        },
        {
          "output_type": "stream",
          "name": "stderr",
          "text": []
        },
        {
          "output_type": "stream",
          "name": "stdout",
          "text": [
            "UCFCRIME_Arson041_stand_1.mp4: 3 kare yüklendi.\n"
          ]
        },
        {
          "output_type": "stream",
          "name": "stderr",
          "text": []
        },
        {
          "output_type": "stream",
          "name": "stdout",
          "text": [
            "UCFCRIME_Arson042_stand_1.mp4: 4 kare yüklendi.\n"
          ]
        },
        {
          "output_type": "stream",
          "name": "stderr",
          "text": []
        },
        {
          "output_type": "stream",
          "name": "stdout",
          "text": [
            "UCFCRIME_Arson044_stand_1.mp4: 2 kare yüklendi.\n"
          ]
        },
        {
          "output_type": "stream",
          "name": "stderr",
          "text": []
        },
        {
          "output_type": "stream",
          "name": "stdout",
          "text": [
            "UCFCRIME_Assault013_stand_1.mp4: 3 kare yüklendi.\n"
          ]
        },
        {
          "output_type": "stream",
          "name": "stderr",
          "text": []
        },
        {
          "output_type": "stream",
          "name": "stdout",
          "text": [
            "UCFCRIME_Assault014_stand_1.mp4: 3 kare yüklendi.\n"
          ]
        },
        {
          "output_type": "stream",
          "name": "stderr",
          "text": []
        },
        {
          "output_type": "stream",
          "name": "stdout",
          "text": [
            "UCFCRIME_Assault015_stand_1.mp4: 3 kare yüklendi.\n"
          ]
        },
        {
          "output_type": "stream",
          "name": "stderr",
          "text": []
        },
        {
          "output_type": "stream",
          "name": "stdout",
          "text": [
            "UCFCRIME_Assault016_stand_1.mp4: 5 kare yüklendi.\n"
          ]
        },
        {
          "output_type": "stream",
          "name": "stderr",
          "text": []
        },
        {
          "output_type": "stream",
          "name": "stdout",
          "text": [
            "UCFCRIME_Assault019_stand_1.mp4: 3 kare yüklendi.\n"
          ]
        },
        {
          "output_type": "stream",
          "name": "stderr",
          "text": []
        },
        {
          "output_type": "stream",
          "name": "stdout",
          "text": [
            "UCFCRIME_Assault023_stand_1.mp4: 3 kare yüklendi.\n"
          ]
        },
        {
          "output_type": "stream",
          "name": "stderr",
          "text": []
        },
        {
          "output_type": "stream",
          "name": "stdout",
          "text": [
            "UCFCRIME_Assault027_stand_1.mp4: 4 kare yüklendi.\n"
          ]
        },
        {
          "output_type": "stream",
          "name": "stderr",
          "text": []
        },
        {
          "output_type": "stream",
          "name": "stdout",
          "text": [
            "UCFCRIME_Assault030_stand_1.mp4: 2 kare yüklendi.\n"
          ]
        },
        {
          "output_type": "stream",
          "name": "stderr",
          "text": []
        },
        {
          "output_type": "stream",
          "name": "stdout",
          "text": [
            "UCFCRIME_Assault041_stand_1.mp4: 5 kare yüklendi.\n"
          ]
        },
        {
          "output_type": "stream",
          "name": "stderr",
          "text": []
        },
        {
          "output_type": "stream",
          "name": "stdout",
          "text": [
            "UCFCRIME_Assault047_stand_1.mp4: 4 kare yüklendi.\n"
          ]
        },
        {
          "output_type": "stream",
          "name": "stderr",
          "text": []
        },
        {
          "output_type": "stream",
          "name": "stdout",
          "text": [
            "UCFCRIME_Assault050_stand_1.mp4: 1 kare yüklendi.\n"
          ]
        },
        {
          "output_type": "stream",
          "name": "stderr",
          "text": []
        },
        {
          "output_type": "stream",
          "name": "stdout",
          "text": [
            "UCFCRIME_Burglary002_stand_1.mp4: 3 kare yüklendi.\n"
          ]
        },
        {
          "output_type": "stream",
          "name": "stderr",
          "text": []
        },
        {
          "output_type": "stream",
          "name": "stdout",
          "text": [
            "UCFCRIME_Burglary003_stand_1.mp4: 4 kare yüklendi.\n"
          ]
        },
        {
          "output_type": "stream",
          "name": "stderr",
          "text": []
        },
        {
          "output_type": "stream",
          "name": "stdout",
          "text": [
            "UCFCRIME_Burglary005_stand_1.mp4: 4 kare yüklendi.\n"
          ]
        },
        {
          "output_type": "stream",
          "name": "stderr",
          "text": [
            "                                                                                    "
          ]
        },
        {
          "output_type": "stream",
          "name": "stdout",
          "text": [
            "UCFCRIME_Burglary029_stand_1.mp4: 4 kare yüklendi.\n"
          ]
        },
        {
          "output_type": "stream",
          "name": "stderr",
          "text": []
        },
        {
          "output_type": "stream",
          "name": "stdout",
          "text": [
            "UCFCRIME_Burglary052_stand_1.mp4: 4 kare yüklendi.\n"
          ]
        },
        {
          "output_type": "stream",
          "name": "stderr",
          "text": []
        },
        {
          "output_type": "stream",
          "name": "stdout",
          "text": [
            "UCFCRIME_Burglary076_stand_1.mp4: 5 kare yüklendi.\n"
          ]
        },
        {
          "output_type": "stream",
          "name": "stderr",
          "text": []
        },
        {
          "output_type": "stream",
          "name": "stdout",
          "text": [
            "UCFCRIME_Fighting002_stand_1.mp4: 3 kare yüklendi.\n"
          ]
        },
        {
          "output_type": "stream",
          "name": "stderr",
          "text": []
        },
        {
          "output_type": "stream",
          "name": "stdout",
          "text": [
            "UCFCRIME_Fighting003_stand_1.mp4: 4 kare yüklendi.\n"
          ]
        },
        {
          "output_type": "stream",
          "name": "stderr",
          "text": []
        },
        {
          "output_type": "stream",
          "name": "stdout",
          "text": [
            "UCFCRIME_Fighting027_stand_1.mp4: 4 kare yüklendi.\n"
          ]
        },
        {
          "output_type": "stream",
          "name": "stderr",
          "text": []
        },
        {
          "output_type": "stream",
          "name": "stdout",
          "text": [
            "UCFCRIME_Fighting042_stand_1.mp4: 5 kare yüklendi.\n"
          ]
        },
        {
          "output_type": "stream",
          "name": "stderr",
          "text": []
        },
        {
          "output_type": "stream",
          "name": "stdout",
          "text": [
            "UCFCRIME_Fighting050_stand_1.mp4: 3 kare yüklendi.\n"
          ]
        },
        {
          "output_type": "stream",
          "name": "stderr",
          "text": [
            "                                                                                  "
          ]
        },
        {
          "output_type": "stream",
          "name": "stdout",
          "text": [
            "UCFCRIME_Robbery001_stand_1.mp4: 3 kare yüklendi.\n"
          ]
        },
        {
          "output_type": "stream",
          "name": "stderr",
          "text": []
        },
        {
          "output_type": "stream",
          "name": "stdout",
          "text": [
            "UCFCRIME_Robbery003_stand_1.mp4: 4 kare yüklendi.\n"
          ]
        },
        {
          "output_type": "stream",
          "name": "stderr",
          "text": [
            "                                                                                  "
          ]
        },
        {
          "output_type": "stream",
          "name": "stdout",
          "text": [
            "UCFCRIME_Robbery004_stand_1.mp4: 3 kare yüklendi.\n"
          ]
        },
        {
          "output_type": "stream",
          "name": "stderr",
          "text": []
        },
        {
          "output_type": "stream",
          "name": "stdout",
          "text": [
            "UCFCRIME_Robbery006_stand_1.mp4: 4 kare yüklendi.\n"
          ]
        },
        {
          "output_type": "stream",
          "name": "stderr",
          "text": []
        },
        {
          "output_type": "stream",
          "name": "stdout",
          "text": [
            "UCFCRIME_Robbery007_stand_1.mp4: 4 kare yüklendi.\n"
          ]
        },
        {
          "output_type": "stream",
          "name": "stderr",
          "text": [
            "                                                                                  "
          ]
        },
        {
          "output_type": "stream",
          "name": "stdout",
          "text": [
            "UCFCRIME_Robbery009_stand_1.mp4: 3 kare yüklendi.\n"
          ]
        },
        {
          "output_type": "stream",
          "name": "stderr",
          "text": []
        },
        {
          "output_type": "stream",
          "name": "stdout",
          "text": [
            "UCFCRIME_Robbery016_stand_1.mp4: 4 kare yüklendi.\n"
          ]
        },
        {
          "output_type": "stream",
          "name": "stderr",
          "text": []
        },
        {
          "output_type": "stream",
          "name": "stdout",
          "text": [
            "UCFCRIME_Robbery020_stand_1.mp4: 6 kare yüklendi.\n"
          ]
        },
        {
          "output_type": "stream",
          "name": "stderr",
          "text": []
        },
        {
          "output_type": "stream",
          "name": "stdout",
          "text": [
            "UCFCRIME_Robbery026_stand_1.mp4: 4 kare yüklendi.\n"
          ]
        },
        {
          "output_type": "stream",
          "name": "stderr",
          "text": []
        },
        {
          "output_type": "stream",
          "name": "stdout",
          "text": [
            "UCFCRIME_Robbery027_stand_1.mp4: 5 kare yüklendi.\n"
          ]
        },
        {
          "output_type": "stream",
          "name": "stderr",
          "text": []
        },
        {
          "output_type": "stream",
          "name": "stdout",
          "text": [
            "UCFCRIME_Robbery038_stand_1.mp4: 5 kare yüklendi.\n"
          ]
        },
        {
          "output_type": "stream",
          "name": "stderr",
          "text": []
        },
        {
          "output_type": "stream",
          "name": "stdout",
          "text": [
            "UCFCRIME_Robbery042_stand_1.mp4: 5 kare yüklendi.\n"
          ]
        },
        {
          "output_type": "stream",
          "name": "stderr",
          "text": []
        },
        {
          "output_type": "stream",
          "name": "stdout",
          "text": [
            "UCFCRIME_Robbery048_stand_1.mp4: 4 kare yüklendi.\n"
          ]
        },
        {
          "output_type": "stream",
          "name": "stderr",
          "text": []
        },
        {
          "output_type": "stream",
          "name": "stdout",
          "text": [
            "UCFCRIME_Robbery050_stand_1.mp4: 5 kare yüklendi.\n"
          ]
        },
        {
          "output_type": "stream",
          "name": "stderr",
          "text": []
        },
        {
          "output_type": "stream",
          "name": "stdout",
          "text": [
            "UCFCRIME_Robbery054_stand_1.mp4: 3 kare yüklendi.\n"
          ]
        },
        {
          "output_type": "stream",
          "name": "stderr",
          "text": []
        },
        {
          "output_type": "stream",
          "name": "stdout",
          "text": [
            "UCFCRIME_Robbery059_stand_1.mp4: 5 kare yüklendi.\n"
          ]
        },
        {
          "output_type": "stream",
          "name": "stderr",
          "text": []
        },
        {
          "output_type": "stream",
          "name": "stdout",
          "text": [
            "UCFCRIME_Robbery064_stand_1.mp4: 9 kare yüklendi.\n"
          ]
        },
        {
          "output_type": "stream",
          "name": "stderr",
          "text": []
        },
        {
          "output_type": "stream",
          "name": "stdout",
          "text": [
            "UCFCRIME_Robbery071_stand_1.mp4: 5 kare yüklendi.\n"
          ]
        },
        {
          "output_type": "stream",
          "name": "stderr",
          "text": []
        },
        {
          "output_type": "stream",
          "name": "stdout",
          "text": [
            "UCFCRIME_Robbery079_stand_1.mp4: 3 kare yüklendi.\n"
          ]
        },
        {
          "output_type": "stream",
          "name": "stderr",
          "text": []
        },
        {
          "output_type": "stream",
          "name": "stdout",
          "text": [
            "UCFCRIME_Robbery080_stand_1.mp4: 3 kare yüklendi.\n"
          ]
        },
        {
          "output_type": "stream",
          "name": "stderr",
          "text": []
        },
        {
          "output_type": "stream",
          "name": "stdout",
          "text": [
            "UCFCRIME_Robbery092_stand_1.mp4: 5 kare yüklendi.\n"
          ]
        },
        {
          "output_type": "stream",
          "name": "stderr",
          "text": []
        },
        {
          "output_type": "stream",
          "name": "stdout",
          "text": [
            "UCFCRIME_Robbery098_stand_1.mp4: 5 kare yüklendi.\n"
          ]
        },
        {
          "output_type": "stream",
          "name": "stderr",
          "text": []
        },
        {
          "output_type": "stream",
          "name": "stdout",
          "text": [
            "UCFCRIME_Robbery098_stand_2.mp4: 4 kare yüklendi.\n"
          ]
        },
        {
          "output_type": "stream",
          "name": "stderr",
          "text": []
        },
        {
          "output_type": "stream",
          "name": "stdout",
          "text": [
            "UCFCRIME_Robbery101_stand_1.mp4: 4 kare yüklendi.\n"
          ]
        },
        {
          "output_type": "stream",
          "name": "stderr",
          "text": []
        },
        {
          "output_type": "stream",
          "name": "stdout",
          "text": [
            "UCFCRIME_Robbery106_stand_1.mp4: 3 kare yüklendi.\n"
          ]
        },
        {
          "output_type": "stream",
          "name": "stderr",
          "text": []
        },
        {
          "output_type": "stream",
          "name": "stdout",
          "text": [
            "UCFCRIME_Robbery107_stand_1.mp4: 3 kare yüklendi.\n"
          ]
        },
        {
          "output_type": "stream",
          "name": "stderr",
          "text": []
        },
        {
          "output_type": "stream",
          "name": "stdout",
          "text": [
            "UCFCRIME_Robbery115_stand_1.mp4: 2 kare yüklendi.\n"
          ]
        },
        {
          "output_type": "stream",
          "name": "stderr",
          "text": []
        },
        {
          "output_type": "stream",
          "name": "stdout",
          "text": [
            "UCFCRIME_Robbery117_stand_1.mp4: 3 kare yüklendi.\n"
          ]
        },
        {
          "output_type": "stream",
          "name": "stderr",
          "text": []
        },
        {
          "output_type": "stream",
          "name": "stdout",
          "text": [
            "UCFCRIME_Robbery124_stand_1.mp4: 5 kare yüklendi.\n"
          ]
        },
        {
          "output_type": "stream",
          "name": "stderr",
          "text": []
        },
        {
          "output_type": "stream",
          "name": "stdout",
          "text": [
            "UCFCRIME_Robbery125_stand_1.mp4: 4 kare yüklendi.\n"
          ]
        },
        {
          "output_type": "stream",
          "name": "stderr",
          "text": []
        },
        {
          "output_type": "stream",
          "name": "stdout",
          "text": [
            "UCFCRIME_Robbery132_stand_1.mp4: 4 kare yüklendi.\n"
          ]
        },
        {
          "output_type": "stream",
          "name": "stderr",
          "text": []
        },
        {
          "output_type": "stream",
          "name": "stdout",
          "text": [
            "UCFCRIME_Robbery133_stand_1.mp4: 3 kare yüklendi.\n"
          ]
        },
        {
          "output_type": "stream",
          "name": "stderr",
          "text": []
        },
        {
          "output_type": "stream",
          "name": "stdout",
          "text": [
            "UCFCRIME_Robbery137_stand_1.mp4: 5 kare yüklendi.\n"
          ]
        },
        {
          "output_type": "stream",
          "name": "stderr",
          "text": []
        },
        {
          "output_type": "stream",
          "name": "stdout",
          "text": [
            "UCFCRIME_Robbery139_stand_1.mp4: 4 kare yüklendi.\n"
          ]
        },
        {
          "output_type": "stream",
          "name": "stderr",
          "text": []
        },
        {
          "output_type": "stream",
          "name": "stdout",
          "text": [
            "UCFCRIME_Robbery140_stand_1.mp4: 3 kare yüklendi.\n"
          ]
        },
        {
          "output_type": "stream",
          "name": "stderr",
          "text": []
        },
        {
          "output_type": "stream",
          "name": "stdout",
          "text": [
            "UCFCRIME_Robbery148_stand_1.mp4: 3 kare yüklendi.\n"
          ]
        },
        {
          "output_type": "stream",
          "name": "stderr",
          "text": []
        },
        {
          "output_type": "stream",
          "name": "stdout",
          "text": [
            "UCFCRIME_Robbery148_stand_2.mp4: 4 kare yüklendi.\n"
          ]
        },
        {
          "output_type": "stream",
          "name": "stderr",
          "text": []
        },
        {
          "output_type": "stream",
          "name": "stdout",
          "text": [
            "UCFCRIME_Shooting009_stand_1.mp4: 4 kare yüklendi.\n"
          ]
        },
        {
          "output_type": "stream",
          "name": "stderr",
          "text": []
        },
        {
          "output_type": "stream",
          "name": "stdout",
          "text": [
            "UCFCRIME_Shooting011_stand_1.mp4: 3 kare yüklendi.\n"
          ]
        },
        {
          "output_type": "stream",
          "name": "stderr",
          "text": []
        },
        {
          "output_type": "stream",
          "name": "stdout",
          "text": [
            "UCFCRIME_Shooting013_stand_1.mp4: 5 kare yüklendi.\n"
          ]
        },
        {
          "output_type": "stream",
          "name": "stderr",
          "text": []
        },
        {
          "output_type": "stream",
          "name": "stdout",
          "text": [
            "UCFCRIME_Shooting014_stand_1.mp4: 3 kare yüklendi.\n"
          ]
        },
        {
          "output_type": "stream",
          "name": "stderr",
          "text": []
        },
        {
          "output_type": "stream",
          "name": "stdout",
          "text": [
            "UCFCRIME_Shooting014_stand_2.mp4: 3 kare yüklendi.\n"
          ]
        },
        {
          "output_type": "stream",
          "name": "stderr",
          "text": []
        },
        {
          "output_type": "stream",
          "name": "stdout",
          "text": [
            "UCFCRIME_Shooting018_stand_1.mp4: 2 kare yüklendi.\n"
          ]
        },
        {
          "output_type": "stream",
          "name": "stderr",
          "text": []
        },
        {
          "output_type": "stream",
          "name": "stdout",
          "text": [
            "UCFCRIME_Shooting019_stand_1.mp4: 3 kare yüklendi.\n"
          ]
        },
        {
          "output_type": "stream",
          "name": "stderr",
          "text": []
        },
        {
          "output_type": "stream",
          "name": "stdout",
          "text": [
            "UCFCRIME_Shooting019_stand_2.mp4: 4 kare yüklendi.\n"
          ]
        },
        {
          "output_type": "stream",
          "name": "stderr",
          "text": []
        },
        {
          "output_type": "stream",
          "name": "stdout",
          "text": [
            "UCFCRIME_Shooting029_stand_1.mp4: 5 kare yüklendi.\n"
          ]
        },
        {
          "output_type": "stream",
          "name": "stderr",
          "text": []
        },
        {
          "output_type": "stream",
          "name": "stdout",
          "text": [
            "UCFCRIME_Shooting031_stand_1.mp4: 2 kare yüklendi.\n"
          ]
        },
        {
          "output_type": "stream",
          "name": "stderr",
          "text": []
        },
        {
          "output_type": "stream",
          "name": "stdout",
          "text": [
            "UCFCRIME_Shooting032_stand_1.mp4: 4 kare yüklendi.\n"
          ]
        },
        {
          "output_type": "stream",
          "name": "stderr",
          "text": []
        },
        {
          "output_type": "stream",
          "name": "stdout",
          "text": [
            "UCFCRIME_Shooting033_stand_1.mp4: 4 kare yüklendi.\n"
          ]
        },
        {
          "output_type": "stream",
          "name": "stderr",
          "text": []
        },
        {
          "output_type": "stream",
          "name": "stdout",
          "text": [
            "UCFCRIME_Shooting039_stand_1.mp4: 6 kare yüklendi.\n"
          ]
        },
        {
          "output_type": "stream",
          "name": "stderr",
          "text": []
        },
        {
          "output_type": "stream",
          "name": "stdout",
          "text": [
            "UCFCRIME_Shooting040_stand_1.mp4: 1 kare yüklendi.\n"
          ]
        },
        {
          "output_type": "stream",
          "name": "stderr",
          "text": []
        },
        {
          "output_type": "stream",
          "name": "stdout",
          "text": [
            "UCFCRIME_Shooting040_stand_2.mp4: 2 kare yüklendi.\n"
          ]
        },
        {
          "output_type": "stream",
          "name": "stderr",
          "text": []
        },
        {
          "output_type": "stream",
          "name": "stdout",
          "text": [
            "UCFCRIME_Shooting043_stand_1.mp4: 4 kare yüklendi.\n"
          ]
        },
        {
          "output_type": "stream",
          "name": "stderr",
          "text": []
        },
        {
          "output_type": "stream",
          "name": "stdout",
          "text": [
            "UCFCRIME_Shooting043_stand_2.mp4: 4 kare yüklendi.\n"
          ]
        },
        {
          "output_type": "stream",
          "name": "stderr",
          "text": []
        },
        {
          "output_type": "stream",
          "name": "stdout",
          "text": [
            "UCFCRIME_Shooting044_stand_1.mp4: 3 kare yüklendi.\n"
          ]
        },
        {
          "output_type": "stream",
          "name": "stderr",
          "text": []
        },
        {
          "output_type": "stream",
          "name": "stdout",
          "text": [
            "UCFCRIME_Shooting046_stand_1.mp4: 5 kare yüklendi.\n"
          ]
        },
        {
          "output_type": "stream",
          "name": "stderr",
          "text": []
        },
        {
          "output_type": "stream",
          "name": "stdout",
          "text": [
            "UCFCRIME_Shooting046_stand_2.mp4: 4 kare yüklendi.\n"
          ]
        },
        {
          "output_type": "stream",
          "name": "stderr",
          "text": []
        },
        {
          "output_type": "stream",
          "name": "stdout",
          "text": [
            "UCFCRIME_Shooting047_stand_1.mp4: 3 kare yüklendi.\n"
          ]
        },
        {
          "output_type": "stream",
          "name": "stderr",
          "text": []
        },
        {
          "output_type": "stream",
          "name": "stdout",
          "text": [
            "UCFCRIME_Shooting048_stand_1.mp4: 5 kare yüklendi.\n"
          ]
        },
        {
          "output_type": "stream",
          "name": "stderr",
          "text": []
        },
        {
          "output_type": "stream",
          "name": "stdout",
          "text": [
            "UCFCRIME_Shooting050_stand_1.mp4: 3 kare yüklendi.\n"
          ]
        },
        {
          "output_type": "stream",
          "name": "stderr",
          "text": []
        },
        {
          "output_type": "stream",
          "name": "stdout",
          "text": [
            "UCFCRIME_Shooting053_stand_1.mp4: 2 kare yüklendi.\n"
          ]
        },
        {
          "output_type": "stream",
          "name": "stderr",
          "text": []
        },
        {
          "output_type": "stream",
          "name": "stdout",
          "text": [
            "UCFCRIME_Shoplifting001_stand_1.mp4: 3 kare yüklendi.\n"
          ]
        },
        {
          "output_type": "stream",
          "name": "stderr",
          "text": []
        },
        {
          "output_type": "stream",
          "name": "stdout",
          "text": [
            "UCFCRIME_Shoplifting003_stand_1.mp4: 3 kare yüklendi.\n"
          ]
        },
        {
          "output_type": "stream",
          "name": "stderr",
          "text": []
        },
        {
          "output_type": "stream",
          "name": "stdout",
          "text": [
            "UCFCRIME_Shoplifting004_stand_1.mp4: 4 kare yüklendi.\n"
          ]
        },
        {
          "output_type": "stream",
          "name": "stderr",
          "text": []
        },
        {
          "output_type": "stream",
          "name": "stdout",
          "text": [
            "UCFCRIME_Shoplifting005_stand_1.mp4: 3 kare yüklendi.\n"
          ]
        },
        {
          "output_type": "stream",
          "name": "stderr",
          "text": []
        },
        {
          "output_type": "stream",
          "name": "stdout",
          "text": [
            "UCFCRIME_Shoplifting006_stand_1.mp4: 5 kare yüklendi.\n"
          ]
        },
        {
          "output_type": "stream",
          "name": "stderr",
          "text": []
        },
        {
          "output_type": "stream",
          "name": "stdout",
          "text": [
            "UCFCRIME_Shoplifting007_stand_1.mp4: 5 kare yüklendi.\n"
          ]
        },
        {
          "output_type": "stream",
          "name": "stderr",
          "text": []
        },
        {
          "output_type": "stream",
          "name": "stdout",
          "text": [
            "UCFCRIME_Shoplifting009_stand_1.mp4: 2 kare yüklendi.\n"
          ]
        },
        {
          "output_type": "stream",
          "name": "stderr",
          "text": []
        },
        {
          "output_type": "stream",
          "name": "stdout",
          "text": [
            "UCFCRIME_Shoplifting010_stand_1.mp4: 3 kare yüklendi.\n"
          ]
        },
        {
          "output_type": "stream",
          "name": "stderr",
          "text": []
        },
        {
          "output_type": "stream",
          "name": "stdout",
          "text": [
            "UCFCRIME_Shoplifting012_stand_1.mp4: 4 kare yüklendi.\n"
          ]
        },
        {
          "output_type": "stream",
          "name": "stderr",
          "text": []
        },
        {
          "output_type": "stream",
          "name": "stdout",
          "text": [
            "UCFCRIME_Shoplifting014_stand_1.mp4: 2 kare yüklendi.\n"
          ]
        },
        {
          "output_type": "stream",
          "name": "stderr",
          "text": []
        },
        {
          "output_type": "stream",
          "name": "stdout",
          "text": [
            "UCFCRIME_Shoplifting015_stand_1.mp4: 4 kare yüklendi.\n"
          ]
        },
        {
          "output_type": "stream",
          "name": "stderr",
          "text": []
        },
        {
          "output_type": "stream",
          "name": "stdout",
          "text": [
            "UCFCRIME_Shoplifting015_stand_2.mp4: 3 kare yüklendi.\n"
          ]
        },
        {
          "output_type": "stream",
          "name": "stderr",
          "text": []
        },
        {
          "output_type": "stream",
          "name": "stdout",
          "text": [
            "UCFCRIME_Shoplifting016_stand_1.mp4: 3 kare yüklendi.\n"
          ]
        },
        {
          "output_type": "stream",
          "name": "stderr",
          "text": []
        },
        {
          "output_type": "stream",
          "name": "stdout",
          "text": [
            "UCFCRIME_Shoplifting017_stand_1.mp4: 3 kare yüklendi.\n"
          ]
        },
        {
          "output_type": "stream",
          "name": "stderr",
          "text": []
        },
        {
          "output_type": "stream",
          "name": "stdout",
          "text": [
            "UCFCRIME_Shoplifting020_stand_1.mp4: 3 kare yüklendi.\n"
          ]
        },
        {
          "output_type": "stream",
          "name": "stderr",
          "text": []
        },
        {
          "output_type": "stream",
          "name": "stdout",
          "text": [
            "UCFCRIME_Shoplifting021_stand_1.mp4: 3 kare yüklendi.\n"
          ]
        },
        {
          "output_type": "stream",
          "name": "stderr",
          "text": []
        },
        {
          "output_type": "stream",
          "name": "stdout",
          "text": [
            "UCFCRIME_Shoplifting025_stand_1.mp4: 4 kare yüklendi.\n"
          ]
        },
        {
          "output_type": "stream",
          "name": "stderr",
          "text": []
        },
        {
          "output_type": "stream",
          "name": "stdout",
          "text": [
            "UCFCRIME_Shoplifting027_stand_1.mp4: 3 kare yüklendi.\n"
          ]
        },
        {
          "output_type": "stream",
          "name": "stderr",
          "text": []
        },
        {
          "output_type": "stream",
          "name": "stdout",
          "text": [
            "UCFCRIME_Shoplifting028_stand_1.mp4: 4 kare yüklendi.\n"
          ]
        },
        {
          "output_type": "stream",
          "name": "stderr",
          "text": []
        },
        {
          "output_type": "stream",
          "name": "stdout",
          "text": [
            "UCFCRIME_Shoplifting029_stand_1.mp4: 2 kare yüklendi.\n"
          ]
        },
        {
          "output_type": "stream",
          "name": "stderr",
          "text": []
        },
        {
          "output_type": "stream",
          "name": "stdout",
          "text": [
            "UCFCRIME_Shoplifting029_stand_2.mp4: 4 kare yüklendi.\n"
          ]
        },
        {
          "output_type": "stream",
          "name": "stderr",
          "text": []
        },
        {
          "output_type": "stream",
          "name": "stdout",
          "text": [
            "UCFCRIME_Shoplifting030_stand_1.mp4: 4 kare yüklendi.\n"
          ]
        },
        {
          "output_type": "stream",
          "name": "stderr",
          "text": []
        },
        {
          "output_type": "stream",
          "name": "stdout",
          "text": [
            "UCFCRIME_Shoplifting030_stand_2.mp4: 3 kare yüklendi.\n"
          ]
        },
        {
          "output_type": "stream",
          "name": "stderr",
          "text": []
        },
        {
          "output_type": "stream",
          "name": "stdout",
          "text": [
            "UCFCRIME_Shoplifting032_stand_1.mp4: 4 kare yüklendi.\n"
          ]
        },
        {
          "output_type": "stream",
          "name": "stderr",
          "text": []
        },
        {
          "output_type": "stream",
          "name": "stdout",
          "text": [
            "UCFCRIME_Shoplifting033_stand_1.mp4: 3 kare yüklendi.\n"
          ]
        },
        {
          "output_type": "stream",
          "name": "stderr",
          "text": []
        },
        {
          "output_type": "stream",
          "name": "stdout",
          "text": [
            "UCFCRIME_Shoplifting034_stand_1.mp4: 4 kare yüklendi.\n"
          ]
        },
        {
          "output_type": "stream",
          "name": "stderr",
          "text": []
        },
        {
          "output_type": "stream",
          "name": "stdout",
          "text": [
            "UCFCRIME_Shoplifting036_stand_1.mp4: 3 kare yüklendi.\n"
          ]
        },
        {
          "output_type": "stream",
          "name": "stderr",
          "text": []
        },
        {
          "output_type": "stream",
          "name": "stdout",
          "text": [
            "UCFCRIME_Shoplifting038_stand_1.mp4: 2 kare yüklendi.\n"
          ]
        },
        {
          "output_type": "stream",
          "name": "stderr",
          "text": []
        },
        {
          "output_type": "stream",
          "name": "stdout",
          "text": [
            "UCFCRIME_Shoplifting039_stand_1.mp4: 3 kare yüklendi.\n"
          ]
        },
        {
          "output_type": "stream",
          "name": "stderr",
          "text": []
        },
        {
          "output_type": "stream",
          "name": "stdout",
          "text": [
            "UCFCRIME_Shoplifting040_stand_1.mp4: 5 kare yüklendi.\n"
          ]
        },
        {
          "output_type": "stream",
          "name": "stderr",
          "text": []
        },
        {
          "output_type": "stream",
          "name": "stdout",
          "text": [
            "UCFCRIME_Shoplifting041_stand_1.mp4: 2 kare yüklendi.\n"
          ]
        },
        {
          "output_type": "stream",
          "name": "stderr",
          "text": []
        },
        {
          "output_type": "stream",
          "name": "stdout",
          "text": [
            "UCFCRIME_Shoplifting042_stand_1.mp4: 3 kare yüklendi.\n"
          ]
        },
        {
          "output_type": "stream",
          "name": "stderr",
          "text": []
        },
        {
          "output_type": "stream",
          "name": "stdout",
          "text": [
            "UCFCRIME_Shoplifting043_stand_1.mp4: 3 kare yüklendi.\n"
          ]
        },
        {
          "output_type": "stream",
          "name": "stderr",
          "text": []
        },
        {
          "output_type": "stream",
          "name": "stdout",
          "text": [
            "UCFCRIME_Shoplifting044_stand_1.mp4: 3 kare yüklendi.\n"
          ]
        },
        {
          "output_type": "stream",
          "name": "stderr",
          "text": []
        },
        {
          "output_type": "stream",
          "name": "stdout",
          "text": [
            "UCFCRIME_Shoplifting044_stand_2.mp4: 3 kare yüklendi.\n"
          ]
        },
        {
          "output_type": "stream",
          "name": "stderr",
          "text": []
        },
        {
          "output_type": "stream",
          "name": "stdout",
          "text": [
            "UCFCRIME_Shoplifting050_stand_1.mp4: 3 kare yüklendi.\n"
          ]
        },
        {
          "output_type": "stream",
          "name": "stderr",
          "text": []
        },
        {
          "output_type": "stream",
          "name": "stdout",
          "text": [
            "UCFCRIME_Shoplifting051_stand_1.mp4: 4 kare yüklendi.\n"
          ]
        },
        {
          "output_type": "stream",
          "name": "stderr",
          "text": []
        },
        {
          "output_type": "stream",
          "name": "stdout",
          "text": [
            "UCFCRIME_Shoplifting052_stand_1.mp4: 3 kare yüklendi.\n"
          ]
        },
        {
          "output_type": "stream",
          "name": "stderr",
          "text": []
        },
        {
          "output_type": "stream",
          "name": "stdout",
          "text": [
            "UCFCRIME_Shoplifting052_stand_2.mp4: 3 kare yüklendi.\n"
          ]
        },
        {
          "output_type": "stream",
          "name": "stderr",
          "text": []
        },
        {
          "output_type": "stream",
          "name": "stdout",
          "text": [
            "UCFCRIME_Shoplifting053_stand_1.mp4: 3 kare yüklendi.\n"
          ]
        },
        {
          "output_type": "stream",
          "name": "stderr",
          "text": []
        },
        {
          "output_type": "stream",
          "name": "stdout",
          "text": [
            "UCFCRIME_Shoplifting055_stand_1.mp4: 2 kare yüklendi.\n"
          ]
        },
        {
          "output_type": "stream",
          "name": "stderr",
          "text": []
        },
        {
          "output_type": "stream",
          "name": "stdout",
          "text": [
            "UCFCRIME_Stealing004_stand_1.mp4: 4 kare yüklendi.\n"
          ]
        },
        {
          "output_type": "stream",
          "name": "stderr",
          "text": []
        },
        {
          "output_type": "stream",
          "name": "stdout",
          "text": [
            "UCFCRIME_Stealing011_stand_1.mp4: 4 kare yüklendi.\n"
          ]
        },
        {
          "output_type": "stream",
          "name": "stderr",
          "text": []
        },
        {
          "output_type": "stream",
          "name": "stdout",
          "text": [
            "UCFCRIME_Stealing014_stand_1.mp4: 3 kare yüklendi.\n"
          ]
        },
        {
          "output_type": "stream",
          "name": "stderr",
          "text": []
        },
        {
          "output_type": "stream",
          "name": "stdout",
          "text": [
            "UCFCRIME_Stealing017_stand_1.mp4: 4 kare yüklendi.\n"
          ]
        },
        {
          "output_type": "stream",
          "name": "stderr",
          "text": []
        },
        {
          "output_type": "stream",
          "name": "stdout",
          "text": [
            "UCFCRIME_Stealing019_stand_1.mp4: 3 kare yüklendi.\n"
          ]
        },
        {
          "output_type": "stream",
          "name": "stderr",
          "text": []
        },
        {
          "output_type": "stream",
          "name": "stdout",
          "text": [
            "UCFCRIME_Stealing025_stand_1.mp4: 4 kare yüklendi.\n"
          ]
        },
        {
          "output_type": "stream",
          "name": "stderr",
          "text": []
        },
        {
          "output_type": "stream",
          "name": "stdout",
          "text": [
            "UCFCRIME_Stealing026_stand_1.mp4: 3 kare yüklendi.\n"
          ]
        },
        {
          "output_type": "stream",
          "name": "stderr",
          "text": []
        },
        {
          "output_type": "stream",
          "name": "stdout",
          "text": [
            "UCFCRIME_Stealing036_stand_1.mp4: 3 kare yüklendi.\n"
          ]
        },
        {
          "output_type": "stream",
          "name": "stderr",
          "text": []
        },
        {
          "output_type": "stream",
          "name": "stdout",
          "text": [
            "UCFCRIME_Stealing055_stand_1.mp4: 3 kare yüklendi.\n"
          ]
        },
        {
          "output_type": "stream",
          "name": "stderr",
          "text": []
        },
        {
          "output_type": "stream",
          "name": "stdout",
          "text": [
            "UCFCRIME_Vandalism006_stand_1.mp4: 2 kare yüklendi.\n"
          ]
        },
        {
          "output_type": "stream",
          "name": "stderr",
          "text": []
        },
        {
          "output_type": "stream",
          "name": "stdout",
          "text": [
            "UCFCRIME_Vandalism006_stand_2.mp4: 4 kare yüklendi.\n"
          ]
        },
        {
          "output_type": "stream",
          "name": "stderr",
          "text": []
        },
        {
          "output_type": "stream",
          "name": "stdout",
          "text": [
            "UCFCRIME_Vandalism007_stand_1.mp4: 2 kare yüklendi.\n"
          ]
        },
        {
          "output_type": "stream",
          "name": "stderr",
          "text": []
        },
        {
          "output_type": "stream",
          "name": "stdout",
          "text": [
            "UCFCRIME_Vandalism008_stand_1.mp4: 4 kare yüklendi.\n"
          ]
        },
        {
          "output_type": "stream",
          "name": "stderr",
          "text": []
        },
        {
          "output_type": "stream",
          "name": "stdout",
          "text": [
            "UCFCRIME_Vandalism008_stand_2.mp4: 4 kare yüklendi.\n"
          ]
        },
        {
          "output_type": "stream",
          "name": "stderr",
          "text": []
        },
        {
          "output_type": "stream",
          "name": "stdout",
          "text": [
            "UCFCRIME_Vandalism010_stand_1.mp4: 3 kare yüklendi.\n"
          ]
        },
        {
          "output_type": "stream",
          "name": "stderr",
          "text": []
        },
        {
          "output_type": "stream",
          "name": "stdout",
          "text": [
            "UCFCRIME_Vandalism015_stand_1.mp4: 3 kare yüklendi.\n"
          ]
        },
        {
          "output_type": "stream",
          "name": "stderr",
          "text": []
        },
        {
          "output_type": "stream",
          "name": "stdout",
          "text": [
            "UCFCRIME_Vandalism015_stand_2.mp4: 3 kare yüklendi.\n"
          ]
        },
        {
          "output_type": "stream",
          "name": "stderr",
          "text": []
        },
        {
          "output_type": "stream",
          "name": "stdout",
          "text": [
            "UCFCRIME_Vandalism015_stand_3.mp4: 3 kare yüklendi.\n"
          ]
        },
        {
          "output_type": "stream",
          "name": "stderr",
          "text": []
        },
        {
          "output_type": "stream",
          "name": "stdout",
          "text": [
            "UCFCRIME_Vandalism019_stand_1.mp4: 3 kare yüklendi.\n"
          ]
        },
        {
          "output_type": "stream",
          "name": "stderr",
          "text": []
        },
        {
          "output_type": "stream",
          "name": "stdout",
          "text": [
            "UCFCRIME_Vandalism034_stand_1.mp4: 2 kare yüklendi.\n"
          ]
        },
        {
          "output_type": "stream",
          "name": "stderr",
          "text": []
        },
        {
          "output_type": "stream",
          "name": "stdout",
          "text": [
            "UCFCRIME_Vandalism035_stand_1.mp4: 2 kare yüklendi.\n"
          ]
        },
        {
          "output_type": "stream",
          "name": "stderr",
          "text": []
        },
        {
          "output_type": "stream",
          "name": "stdout",
          "text": [
            "UCFCRIME_Vandalism036_stand_1.mp4: 5 kare yüklendi.\n"
          ]
        },
        {
          "output_type": "stream",
          "name": "stderr",
          "text": []
        },
        {
          "output_type": "stream",
          "name": "stdout",
          "text": [
            "UCFCRIME_Vandalism038_stand_1.mp4: 4 kare yüklendi.\n"
          ]
        },
        {
          "output_type": "stream",
          "name": "stderr",
          "text": []
        },
        {
          "output_type": "stream",
          "name": "stdout",
          "text": [
            "UCFCRIME_Vandalism042_stand_1.mp4: 4 kare yüklendi.\n"
          ]
        },
        {
          "output_type": "stream",
          "name": "stderr",
          "text": []
        },
        {
          "output_type": "stream",
          "name": "stdout",
          "text": [
            "UCFCRIME_Vandalism049_stand_1.mp4: 4 kare yüklendi.\n"
          ]
        },
        {
          "output_type": "stream",
          "name": "stderr",
          "text": []
        },
        {
          "output_type": "stream",
          "name": "stdout",
          "text": [
            "UCFCRIME_Vandalism049_stand_2.mp4: 5 kare yüklendi.\n"
          ]
        },
        {
          "output_type": "stream",
          "name": "stderr",
          "text": []
        },
        {
          "output_type": "stream",
          "name": "stdout",
          "text": [
            "Normal_Videos_015_x264.mp4: 16 kare yüklendi.\n"
          ]
        },
        {
          "output_type": "stream",
          "name": "stderr",
          "text": []
        },
        {
          "output_type": "stream",
          "name": "stdout",
          "text": [
            "Normal_Videos_050_x264.mp4: 139 kare yüklendi.\n"
          ]
        },
        {
          "output_type": "stream",
          "name": "stderr",
          "text": []
        },
        {
          "output_type": "stream",
          "name": "stdout",
          "text": [
            "Normal_Videos_100_x264.mp4: 20 kare yüklendi.\n"
          ]
        },
        {
          "output_type": "stream",
          "name": "stderr",
          "text": []
        },
        {
          "output_type": "stream",
          "name": "stdout",
          "text": [
            "Normal_Videos_129_x264.mp4: 15 kare yüklendi.\n"
          ]
        },
        {
          "output_type": "stream",
          "name": "stderr",
          "text": []
        },
        {
          "output_type": "stream",
          "name": "stdout",
          "text": [
            "Normal_Videos_150_x264.mp4: 28 kare yüklendi.\n"
          ]
        },
        {
          "output_type": "stream",
          "name": "stderr",
          "text": []
        },
        {
          "output_type": "stream",
          "name": "stdout",
          "text": [
            "Normal_Videos_246_x264.mp4: 166 kare yüklendi.\n"
          ]
        },
        {
          "output_type": "stream",
          "name": "stderr",
          "text": []
        },
        {
          "output_type": "stream",
          "name": "stdout",
          "text": [
            "Normal_Videos_247_x264.mp4: 273 kare yüklendi.\n"
          ]
        },
        {
          "output_type": "stream",
          "name": "stderr",
          "text": []
        },
        {
          "output_type": "stream",
          "name": "stdout",
          "text": [
            "Normal_Videos_248_x264.mp4: 38 kare yüklendi.\n"
          ]
        },
        {
          "output_type": "stream",
          "name": "stderr",
          "text": []
        },
        {
          "output_type": "stream",
          "name": "stdout",
          "text": [
            "Normal_Videos_251_x264.mp4: 13 kare yüklendi.\n"
          ]
        },
        {
          "output_type": "stream",
          "name": "stderr",
          "text": []
        },
        {
          "output_type": "stream",
          "name": "stdout",
          "text": [
            "Normal_Videos_289_x264.mp4: 28 kare yüklendi.\n"
          ]
        },
        {
          "output_type": "stream",
          "name": "stderr",
          "text": []
        },
        {
          "output_type": "stream",
          "name": "stdout",
          "text": [
            "Normal_Videos_310_x264.mp4: 83 kare yüklendi.\n"
          ]
        },
        {
          "output_type": "stream",
          "name": "stderr",
          "text": []
        },
        {
          "output_type": "stream",
          "name": "stdout",
          "text": [
            "Normal_Videos_312_x264.mp4: 42 kare yüklendi.\n"
          ]
        },
        {
          "output_type": "stream",
          "name": "stderr",
          "text": []
        },
        {
          "output_type": "stream",
          "name": "stdout",
          "text": [
            "Normal_Videos_317_x264.mp4: 30 kare yüklendi.\n"
          ]
        },
        {
          "output_type": "stream",
          "name": "stderr",
          "text": []
        },
        {
          "output_type": "stream",
          "name": "stdout",
          "text": [
            "Normal_Videos_345_x264.mp4: 6 kare yüklendi.\n"
          ]
        },
        {
          "output_type": "stream",
          "name": "stderr",
          "text": []
        },
        {
          "output_type": "stream",
          "name": "stdout",
          "text": [
            "Normal_Videos_352_x264.mp4: 180 kare yüklendi.\n"
          ]
        },
        {
          "output_type": "stream",
          "name": "stderr",
          "text": []
        },
        {
          "output_type": "stream",
          "name": "stdout",
          "text": [
            "Normal_Videos_360_x264.mp4: 32 kare yüklendi.\n"
          ]
        },
        {
          "output_type": "stream",
          "name": "stderr",
          "text": []
        },
        {
          "output_type": "stream",
          "name": "stdout",
          "text": [
            "Normal_Videos_365_x264.mp4: 220 kare yüklendi.\n"
          ]
        },
        {
          "output_type": "stream",
          "name": "stderr",
          "text": []
        },
        {
          "output_type": "stream",
          "name": "stdout",
          "text": [
            "Normal_Videos_401_x264.mp4: 54 kare yüklendi.\n"
          ]
        },
        {
          "output_type": "stream",
          "name": "stderr",
          "text": []
        },
        {
          "output_type": "stream",
          "name": "stdout",
          "text": [
            "Normal_Videos_417_x264.mp4: 35 kare yüklendi.\n"
          ]
        },
        {
          "output_type": "stream",
          "name": "stderr",
          "text": []
        },
        {
          "output_type": "stream",
          "name": "stdout",
          "text": [
            "Normal_Videos_439_x264.mp4: 140 kare yüklendi.\n"
          ]
        },
        {
          "output_type": "stream",
          "name": "stderr",
          "text": []
        },
        {
          "output_type": "stream",
          "name": "stdout",
          "text": [
            "Normal_Videos_452_x264.mp4: 14 kare yüklendi.\n"
          ]
        },
        {
          "output_type": "stream",
          "name": "stderr",
          "text": []
        },
        {
          "output_type": "stream",
          "name": "stdout",
          "text": [
            "Normal_Videos_453_x264.mp4: 177 kare yüklendi.\n"
          ]
        },
        {
          "output_type": "stream",
          "name": "stderr",
          "text": []
        },
        {
          "output_type": "stream",
          "name": "stdout",
          "text": [
            "Normal_Videos_478_x264.mp4: 150 kare yüklendi.\n"
          ]
        },
        {
          "output_type": "stream",
          "name": "stderr",
          "text": []
        },
        {
          "output_type": "stream",
          "name": "stdout",
          "text": [
            "Normal_Videos_576_x264.mp4: 375 kare yüklendi.\n"
          ]
        },
        {
          "output_type": "stream",
          "name": "stderr",
          "text": []
        },
        {
          "output_type": "stream",
          "name": "stdout",
          "text": [
            "Normal_Videos_597_x264.mp4: 74 kare yüklendi.\n"
          ]
        },
        {
          "output_type": "stream",
          "name": "stderr",
          "text": []
        },
        {
          "output_type": "stream",
          "name": "stdout",
          "text": [
            "Normal_Videos_603_x264.mp4: 109 kare yüklendi.\n"
          ]
        },
        {
          "output_type": "stream",
          "name": "stderr",
          "text": []
        },
        {
          "output_type": "stream",
          "name": "stdout",
          "text": [
            "Normal_Videos_606_x264.mp4: 41 kare yüklendi.\n"
          ]
        },
        {
          "output_type": "stream",
          "name": "stderr",
          "text": []
        },
        {
          "output_type": "stream",
          "name": "stdout",
          "text": [
            "Normal_Videos_621_x264.mp4: 160 kare yüklendi.\n"
          ]
        },
        {
          "output_type": "stream",
          "name": "stderr",
          "text": []
        },
        {
          "output_type": "stream",
          "name": "stdout",
          "text": [
            "Normal_Videos_634_x264.mp4: 448 kare yüklendi.\n"
          ]
        },
        {
          "output_type": "stream",
          "name": "stderr",
          "text": []
        },
        {
          "output_type": "stream",
          "name": "stdout",
          "text": [
            "Normal_Videos_641_x264.mp4: 120 kare yüklendi.\n"
          ]
        },
        {
          "output_type": "stream",
          "name": "stderr",
          "text": []
        },
        {
          "output_type": "stream",
          "name": "stdout",
          "text": [
            "Normal_Videos_656_x264.mp4: 60 kare yüklendi.\n"
          ]
        },
        {
          "output_type": "stream",
          "name": "stderr",
          "text": []
        },
        {
          "output_type": "stream",
          "name": "stdout",
          "text": [
            "Normal_Videos_696_x264.mp4: 120 kare yüklendi.\n"
          ]
        },
        {
          "output_type": "stream",
          "name": "stderr",
          "text": []
        },
        {
          "output_type": "stream",
          "name": "stdout",
          "text": [
            "Normal_Videos_704_x264.mp4: 56 kare yüklendi.\n"
          ]
        },
        {
          "output_type": "stream",
          "name": "stderr",
          "text": []
        },
        {
          "output_type": "stream",
          "name": "stdout",
          "text": [
            "Normal_Videos_722_x264.mp4: 291 kare yüklendi.\n"
          ]
        },
        {
          "output_type": "stream",
          "name": "stderr",
          "text": []
        },
        {
          "output_type": "stream",
          "name": "stdout",
          "text": [
            "Normal_Videos_745_x264.mp4: 10 kare yüklendi.\n"
          ]
        },
        {
          "output_type": "stream",
          "name": "stderr",
          "text": []
        },
        {
          "output_type": "stream",
          "name": "stdout",
          "text": [
            "Normal_Videos_758_x264.mp4: 52 kare yüklendi.\n"
          ]
        },
        {
          "output_type": "stream",
          "name": "stderr",
          "text": []
        },
        {
          "output_type": "stream",
          "name": "stdout",
          "text": [
            "Normal_Videos_781_x264.mp4: 132 kare yüklendi.\n"
          ]
        },
        {
          "output_type": "stream",
          "name": "stderr",
          "text": []
        },
        {
          "output_type": "stream",
          "name": "stdout",
          "text": [
            "Normal_Videos_798_x264.mp4: 200 kare yüklendi.\n"
          ]
        },
        {
          "output_type": "stream",
          "name": "stderr",
          "text": []
        },
        {
          "output_type": "stream",
          "name": "stdout",
          "text": [
            "Normal_Videos_801_x264.mp4: 91 kare yüklendi.\n"
          ]
        },
        {
          "output_type": "stream",
          "name": "stderr",
          "text": []
        },
        {
          "output_type": "stream",
          "name": "stdout",
          "text": [
            "Normal_Videos_828_x264.mp4: 31 kare yüklendi.\n"
          ]
        },
        {
          "output_type": "stream",
          "name": "stderr",
          "text": []
        },
        {
          "output_type": "stream",
          "name": "stdout",
          "text": [
            "Normal_Videos_831_x264.mp4: 14 kare yüklendi.\n"
          ]
        },
        {
          "output_type": "stream",
          "name": "stderr",
          "text": []
        },
        {
          "output_type": "stream",
          "name": "stdout",
          "text": [
            "Normal_Videos_877_x264.mp4: 334 kare yüklendi.\n"
          ]
        },
        {
          "output_type": "stream",
          "name": "stderr",
          "text": []
        },
        {
          "output_type": "stream",
          "name": "stdout",
          "text": [
            "Normal_Videos_881_x264.mp4: 7 kare yüklendi.\n"
          ]
        },
        {
          "output_type": "stream",
          "name": "stderr",
          "text": []
        },
        {
          "output_type": "stream",
          "name": "stdout",
          "text": [
            "Normal_Videos_885_x264.mp4: 15 kare yüklendi.\n"
          ]
        },
        {
          "output_type": "stream",
          "name": "stderr",
          "text": []
        },
        {
          "output_type": "stream",
          "name": "stdout",
          "text": [
            "Normal_Videos_892_x264.mp4: 59 kare yüklendi.\n"
          ]
        },
        {
          "output_type": "stream",
          "name": "stderr",
          "text": []
        },
        {
          "output_type": "stream",
          "name": "stdout",
          "text": [
            "Normal_Videos_905_x264.mp4: 39 kare yüklendi.\n"
          ]
        },
        {
          "output_type": "stream",
          "name": "stderr",
          "text": []
        },
        {
          "output_type": "stream",
          "name": "stdout",
          "text": [
            "Normal_Videos_912_x264.mp4: 24 kare yüklendi.\n"
          ]
        },
        {
          "output_type": "stream",
          "name": "stderr",
          "text": []
        },
        {
          "output_type": "stream",
          "name": "stdout",
          "text": [
            "Normal_Videos_913_x264.mp4: 20 kare yüklendi.\n"
          ]
        },
        {
          "output_type": "stream",
          "name": "stderr",
          "text": []
        },
        {
          "output_type": "stream",
          "name": "stdout",
          "text": [
            "Normal_Videos_914_x264.mp4: 29 kare yüklendi.\n"
          ]
        },
        {
          "output_type": "stream",
          "name": "stderr",
          "text": []
        },
        {
          "output_type": "stream",
          "name": "stdout",
          "text": [
            "Normal_Videos_929_x264.mp4: 30 kare yüklendi.\n"
          ]
        },
        {
          "output_type": "display_data",
          "data": {
            "text/plain": [
              "\u001b[1mModel: \"functional\"\u001b[0m\n"
            ],
            "text/html": [
              "<pre style=\"white-space:pre;overflow-x:auto;line-height:normal;font-family:Menlo,'DejaVu Sans Mono',consolas,'Courier New',monospace\"><span style=\"font-weight: bold\">Model: \"functional\"</span>\n",
              "</pre>\n"
            ]
          },
          "metadata": {}
        },
        {
          "output_type": "display_data",
          "data": {
            "text/plain": [
              "┏━━━━━━━━━━━━━━━━━━━━━━━━━━━━━━━━━┳━━━━━━━━━━━━━━━━━━━━━━━━┳━━━━━━━━━━━━━━━┓\n",
              "┃\u001b[1m \u001b[0m\u001b[1mLayer (type)                   \u001b[0m\u001b[1m \u001b[0m┃\u001b[1m \u001b[0m\u001b[1mOutput Shape          \u001b[0m\u001b[1m \u001b[0m┃\u001b[1m \u001b[0m\u001b[1m      Param #\u001b[0m\u001b[1m \u001b[0m┃\n",
              "┡━━━━━━━━━━━━━━━━━━━━━━━━━━━━━━━━━╇━━━━━━━━━━━━━━━━━━━━━━━━╇━━━━━━━━━━━━━━━┩\n",
              "│ input_layer (\u001b[38;5;33mInputLayer\u001b[0m)        │ (\u001b[38;5;45mNone\u001b[0m, \u001b[38;5;34m128\u001b[0m, \u001b[38;5;34m128\u001b[0m, \u001b[38;5;34m3\u001b[0m)    │             \u001b[38;5;34m0\u001b[0m │\n",
              "├─────────────────────────────────┼────────────────────────┼───────────────┤\n",
              "│ conv2d (\u001b[38;5;33mConv2D\u001b[0m)                 │ (\u001b[38;5;45mNone\u001b[0m, \u001b[38;5;34m128\u001b[0m, \u001b[38;5;34m128\u001b[0m, \u001b[38;5;34m64\u001b[0m)   │         \u001b[38;5;34m1,792\u001b[0m │\n",
              "├─────────────────────────────────┼────────────────────────┼───────────────┤\n",
              "│ batch_normalization             │ (\u001b[38;5;45mNone\u001b[0m, \u001b[38;5;34m128\u001b[0m, \u001b[38;5;34m128\u001b[0m, \u001b[38;5;34m64\u001b[0m)   │           \u001b[38;5;34m256\u001b[0m │\n",
              "│ (\u001b[38;5;33mBatchNormalization\u001b[0m)            │                        │               │\n",
              "├─────────────────────────────────┼────────────────────────┼───────────────┤\n",
              "│ max_pooling2d (\u001b[38;5;33mMaxPooling2D\u001b[0m)    │ (\u001b[38;5;45mNone\u001b[0m, \u001b[38;5;34m64\u001b[0m, \u001b[38;5;34m64\u001b[0m, \u001b[38;5;34m64\u001b[0m)     │             \u001b[38;5;34m0\u001b[0m │\n",
              "├─────────────────────────────────┼────────────────────────┼───────────────┤\n",
              "│ conv2d_1 (\u001b[38;5;33mConv2D\u001b[0m)               │ (\u001b[38;5;45mNone\u001b[0m, \u001b[38;5;34m64\u001b[0m, \u001b[38;5;34m64\u001b[0m, \u001b[38;5;34m32\u001b[0m)     │        \u001b[38;5;34m18,464\u001b[0m │\n",
              "├─────────────────────────────────┼────────────────────────┼───────────────┤\n",
              "│ batch_normalization_1           │ (\u001b[38;5;45mNone\u001b[0m, \u001b[38;5;34m64\u001b[0m, \u001b[38;5;34m64\u001b[0m, \u001b[38;5;34m32\u001b[0m)     │           \u001b[38;5;34m128\u001b[0m │\n",
              "│ (\u001b[38;5;33mBatchNormalization\u001b[0m)            │                        │               │\n",
              "├─────────────────────────────────┼────────────────────────┼───────────────┤\n",
              "│ max_pooling2d_1 (\u001b[38;5;33mMaxPooling2D\u001b[0m)  │ (\u001b[38;5;45mNone\u001b[0m, \u001b[38;5;34m32\u001b[0m, \u001b[38;5;34m32\u001b[0m, \u001b[38;5;34m32\u001b[0m)     │             \u001b[38;5;34m0\u001b[0m │\n",
              "├─────────────────────────────────┼────────────────────────┼───────────────┤\n",
              "│ conv2d_2 (\u001b[38;5;33mConv2D\u001b[0m)               │ (\u001b[38;5;45mNone\u001b[0m, \u001b[38;5;34m32\u001b[0m, \u001b[38;5;34m32\u001b[0m, \u001b[38;5;34m16\u001b[0m)     │           \u001b[38;5;34m528\u001b[0m │\n",
              "├─────────────────────────────────┼────────────────────────┼───────────────┤\n",
              "│ conv2d_3 (\u001b[38;5;33mConv2D\u001b[0m)               │ (\u001b[38;5;45mNone\u001b[0m, \u001b[38;5;34m32\u001b[0m, \u001b[38;5;34m32\u001b[0m, \u001b[38;5;34m32\u001b[0m)     │         \u001b[38;5;34m4,640\u001b[0m │\n",
              "├─────────────────────────────────┼────────────────────────┼───────────────┤\n",
              "│ batch_normalization_2           │ (\u001b[38;5;45mNone\u001b[0m, \u001b[38;5;34m32\u001b[0m, \u001b[38;5;34m32\u001b[0m, \u001b[38;5;34m32\u001b[0m)     │           \u001b[38;5;34m128\u001b[0m │\n",
              "│ (\u001b[38;5;33mBatchNormalization\u001b[0m)            │                        │               │\n",
              "├─────────────────────────────────┼────────────────────────┼───────────────┤\n",
              "│ up_sampling2d (\u001b[38;5;33mUpSampling2D\u001b[0m)    │ (\u001b[38;5;45mNone\u001b[0m, \u001b[38;5;34m64\u001b[0m, \u001b[38;5;34m64\u001b[0m, \u001b[38;5;34m32\u001b[0m)     │             \u001b[38;5;34m0\u001b[0m │\n",
              "├─────────────────────────────────┼────────────────────────┼───────────────┤\n",
              "│ conv2d_4 (\u001b[38;5;33mConv2D\u001b[0m)               │ (\u001b[38;5;45mNone\u001b[0m, \u001b[38;5;34m64\u001b[0m, \u001b[38;5;34m64\u001b[0m, \u001b[38;5;34m64\u001b[0m)     │        \u001b[38;5;34m18,496\u001b[0m │\n",
              "├─────────────────────────────────┼────────────────────────┼───────────────┤\n",
              "│ batch_normalization_3           │ (\u001b[38;5;45mNone\u001b[0m, \u001b[38;5;34m64\u001b[0m, \u001b[38;5;34m64\u001b[0m, \u001b[38;5;34m64\u001b[0m)     │           \u001b[38;5;34m256\u001b[0m │\n",
              "│ (\u001b[38;5;33mBatchNormalization\u001b[0m)            │                        │               │\n",
              "├─────────────────────────────────┼────────────────────────┼───────────────┤\n",
              "│ up_sampling2d_1 (\u001b[38;5;33mUpSampling2D\u001b[0m)  │ (\u001b[38;5;45mNone\u001b[0m, \u001b[38;5;34m128\u001b[0m, \u001b[38;5;34m128\u001b[0m, \u001b[38;5;34m64\u001b[0m)   │             \u001b[38;5;34m0\u001b[0m │\n",
              "├─────────────────────────────────┼────────────────────────┼───────────────┤\n",
              "│ conv2d_5 (\u001b[38;5;33mConv2D\u001b[0m)               │ (\u001b[38;5;45mNone\u001b[0m, \u001b[38;5;34m128\u001b[0m, \u001b[38;5;34m128\u001b[0m, \u001b[38;5;34m3\u001b[0m)    │         \u001b[38;5;34m1,731\u001b[0m │\n",
              "└─────────────────────────────────┴────────────────────────┴───────────────┘\n"
            ],
            "text/html": [
              "<pre style=\"white-space:pre;overflow-x:auto;line-height:normal;font-family:Menlo,'DejaVu Sans Mono',consolas,'Courier New',monospace\">┏━━━━━━━━━━━━━━━━━━━━━━━━━━━━━━━━━┳━━━━━━━━━━━━━━━━━━━━━━━━┳━━━━━━━━━━━━━━━┓\n",
              "┃<span style=\"font-weight: bold\"> Layer (type)                    </span>┃<span style=\"font-weight: bold\"> Output Shape           </span>┃<span style=\"font-weight: bold\">       Param # </span>┃\n",
              "┡━━━━━━━━━━━━━━━━━━━━━━━━━━━━━━━━━╇━━━━━━━━━━━━━━━━━━━━━━━━╇━━━━━━━━━━━━━━━┩\n",
              "│ input_layer (<span style=\"color: #0087ff; text-decoration-color: #0087ff\">InputLayer</span>)        │ (<span style=\"color: #00d7ff; text-decoration-color: #00d7ff\">None</span>, <span style=\"color: #00af00; text-decoration-color: #00af00\">128</span>, <span style=\"color: #00af00; text-decoration-color: #00af00\">128</span>, <span style=\"color: #00af00; text-decoration-color: #00af00\">3</span>)    │             <span style=\"color: #00af00; text-decoration-color: #00af00\">0</span> │\n",
              "├─────────────────────────────────┼────────────────────────┼───────────────┤\n",
              "│ conv2d (<span style=\"color: #0087ff; text-decoration-color: #0087ff\">Conv2D</span>)                 │ (<span style=\"color: #00d7ff; text-decoration-color: #00d7ff\">None</span>, <span style=\"color: #00af00; text-decoration-color: #00af00\">128</span>, <span style=\"color: #00af00; text-decoration-color: #00af00\">128</span>, <span style=\"color: #00af00; text-decoration-color: #00af00\">64</span>)   │         <span style=\"color: #00af00; text-decoration-color: #00af00\">1,792</span> │\n",
              "├─────────────────────────────────┼────────────────────────┼───────────────┤\n",
              "│ batch_normalization             │ (<span style=\"color: #00d7ff; text-decoration-color: #00d7ff\">None</span>, <span style=\"color: #00af00; text-decoration-color: #00af00\">128</span>, <span style=\"color: #00af00; text-decoration-color: #00af00\">128</span>, <span style=\"color: #00af00; text-decoration-color: #00af00\">64</span>)   │           <span style=\"color: #00af00; text-decoration-color: #00af00\">256</span> │\n",
              "│ (<span style=\"color: #0087ff; text-decoration-color: #0087ff\">BatchNormalization</span>)            │                        │               │\n",
              "├─────────────────────────────────┼────────────────────────┼───────────────┤\n",
              "│ max_pooling2d (<span style=\"color: #0087ff; text-decoration-color: #0087ff\">MaxPooling2D</span>)    │ (<span style=\"color: #00d7ff; text-decoration-color: #00d7ff\">None</span>, <span style=\"color: #00af00; text-decoration-color: #00af00\">64</span>, <span style=\"color: #00af00; text-decoration-color: #00af00\">64</span>, <span style=\"color: #00af00; text-decoration-color: #00af00\">64</span>)     │             <span style=\"color: #00af00; text-decoration-color: #00af00\">0</span> │\n",
              "├─────────────────────────────────┼────────────────────────┼───────────────┤\n",
              "│ conv2d_1 (<span style=\"color: #0087ff; text-decoration-color: #0087ff\">Conv2D</span>)               │ (<span style=\"color: #00d7ff; text-decoration-color: #00d7ff\">None</span>, <span style=\"color: #00af00; text-decoration-color: #00af00\">64</span>, <span style=\"color: #00af00; text-decoration-color: #00af00\">64</span>, <span style=\"color: #00af00; text-decoration-color: #00af00\">32</span>)     │        <span style=\"color: #00af00; text-decoration-color: #00af00\">18,464</span> │\n",
              "├─────────────────────────────────┼────────────────────────┼───────────────┤\n",
              "│ batch_normalization_1           │ (<span style=\"color: #00d7ff; text-decoration-color: #00d7ff\">None</span>, <span style=\"color: #00af00; text-decoration-color: #00af00\">64</span>, <span style=\"color: #00af00; text-decoration-color: #00af00\">64</span>, <span style=\"color: #00af00; text-decoration-color: #00af00\">32</span>)     │           <span style=\"color: #00af00; text-decoration-color: #00af00\">128</span> │\n",
              "│ (<span style=\"color: #0087ff; text-decoration-color: #0087ff\">BatchNormalization</span>)            │                        │               │\n",
              "├─────────────────────────────────┼────────────────────────┼───────────────┤\n",
              "│ max_pooling2d_1 (<span style=\"color: #0087ff; text-decoration-color: #0087ff\">MaxPooling2D</span>)  │ (<span style=\"color: #00d7ff; text-decoration-color: #00d7ff\">None</span>, <span style=\"color: #00af00; text-decoration-color: #00af00\">32</span>, <span style=\"color: #00af00; text-decoration-color: #00af00\">32</span>, <span style=\"color: #00af00; text-decoration-color: #00af00\">32</span>)     │             <span style=\"color: #00af00; text-decoration-color: #00af00\">0</span> │\n",
              "├─────────────────────────────────┼────────────────────────┼───────────────┤\n",
              "│ conv2d_2 (<span style=\"color: #0087ff; text-decoration-color: #0087ff\">Conv2D</span>)               │ (<span style=\"color: #00d7ff; text-decoration-color: #00d7ff\">None</span>, <span style=\"color: #00af00; text-decoration-color: #00af00\">32</span>, <span style=\"color: #00af00; text-decoration-color: #00af00\">32</span>, <span style=\"color: #00af00; text-decoration-color: #00af00\">16</span>)     │           <span style=\"color: #00af00; text-decoration-color: #00af00\">528</span> │\n",
              "├─────────────────────────────────┼────────────────────────┼───────────────┤\n",
              "│ conv2d_3 (<span style=\"color: #0087ff; text-decoration-color: #0087ff\">Conv2D</span>)               │ (<span style=\"color: #00d7ff; text-decoration-color: #00d7ff\">None</span>, <span style=\"color: #00af00; text-decoration-color: #00af00\">32</span>, <span style=\"color: #00af00; text-decoration-color: #00af00\">32</span>, <span style=\"color: #00af00; text-decoration-color: #00af00\">32</span>)     │         <span style=\"color: #00af00; text-decoration-color: #00af00\">4,640</span> │\n",
              "├─────────────────────────────────┼────────────────────────┼───────────────┤\n",
              "│ batch_normalization_2           │ (<span style=\"color: #00d7ff; text-decoration-color: #00d7ff\">None</span>, <span style=\"color: #00af00; text-decoration-color: #00af00\">32</span>, <span style=\"color: #00af00; text-decoration-color: #00af00\">32</span>, <span style=\"color: #00af00; text-decoration-color: #00af00\">32</span>)     │           <span style=\"color: #00af00; text-decoration-color: #00af00\">128</span> │\n",
              "│ (<span style=\"color: #0087ff; text-decoration-color: #0087ff\">BatchNormalization</span>)            │                        │               │\n",
              "├─────────────────────────────────┼────────────────────────┼───────────────┤\n",
              "│ up_sampling2d (<span style=\"color: #0087ff; text-decoration-color: #0087ff\">UpSampling2D</span>)    │ (<span style=\"color: #00d7ff; text-decoration-color: #00d7ff\">None</span>, <span style=\"color: #00af00; text-decoration-color: #00af00\">64</span>, <span style=\"color: #00af00; text-decoration-color: #00af00\">64</span>, <span style=\"color: #00af00; text-decoration-color: #00af00\">32</span>)     │             <span style=\"color: #00af00; text-decoration-color: #00af00\">0</span> │\n",
              "├─────────────────────────────────┼────────────────────────┼───────────────┤\n",
              "│ conv2d_4 (<span style=\"color: #0087ff; text-decoration-color: #0087ff\">Conv2D</span>)               │ (<span style=\"color: #00d7ff; text-decoration-color: #00d7ff\">None</span>, <span style=\"color: #00af00; text-decoration-color: #00af00\">64</span>, <span style=\"color: #00af00; text-decoration-color: #00af00\">64</span>, <span style=\"color: #00af00; text-decoration-color: #00af00\">64</span>)     │        <span style=\"color: #00af00; text-decoration-color: #00af00\">18,496</span> │\n",
              "├─────────────────────────────────┼────────────────────────┼───────────────┤\n",
              "│ batch_normalization_3           │ (<span style=\"color: #00d7ff; text-decoration-color: #00d7ff\">None</span>, <span style=\"color: #00af00; text-decoration-color: #00af00\">64</span>, <span style=\"color: #00af00; text-decoration-color: #00af00\">64</span>, <span style=\"color: #00af00; text-decoration-color: #00af00\">64</span>)     │           <span style=\"color: #00af00; text-decoration-color: #00af00\">256</span> │\n",
              "│ (<span style=\"color: #0087ff; text-decoration-color: #0087ff\">BatchNormalization</span>)            │                        │               │\n",
              "├─────────────────────────────────┼────────────────────────┼───────────────┤\n",
              "│ up_sampling2d_1 (<span style=\"color: #0087ff; text-decoration-color: #0087ff\">UpSampling2D</span>)  │ (<span style=\"color: #00d7ff; text-decoration-color: #00d7ff\">None</span>, <span style=\"color: #00af00; text-decoration-color: #00af00\">128</span>, <span style=\"color: #00af00; text-decoration-color: #00af00\">128</span>, <span style=\"color: #00af00; text-decoration-color: #00af00\">64</span>)   │             <span style=\"color: #00af00; text-decoration-color: #00af00\">0</span> │\n",
              "├─────────────────────────────────┼────────────────────────┼───────────────┤\n",
              "│ conv2d_5 (<span style=\"color: #0087ff; text-decoration-color: #0087ff\">Conv2D</span>)               │ (<span style=\"color: #00d7ff; text-decoration-color: #00d7ff\">None</span>, <span style=\"color: #00af00; text-decoration-color: #00af00\">128</span>, <span style=\"color: #00af00; text-decoration-color: #00af00\">128</span>, <span style=\"color: #00af00; text-decoration-color: #00af00\">3</span>)    │         <span style=\"color: #00af00; text-decoration-color: #00af00\">1,731</span> │\n",
              "└─────────────────────────────────┴────────────────────────┴───────────────┘\n",
              "</pre>\n"
            ]
          },
          "metadata": {}
        },
        {
          "output_type": "display_data",
          "data": {
            "text/plain": [
              "\u001b[1m Total params: \u001b[0m\u001b[38;5;34m46,419\u001b[0m (181.32 KB)\n"
            ],
            "text/html": [
              "<pre style=\"white-space:pre;overflow-x:auto;line-height:normal;font-family:Menlo,'DejaVu Sans Mono',consolas,'Courier New',monospace\"><span style=\"font-weight: bold\"> Total params: </span><span style=\"color: #00af00; text-decoration-color: #00af00\">46,419</span> (181.32 KB)\n",
              "</pre>\n"
            ]
          },
          "metadata": {}
        },
        {
          "output_type": "display_data",
          "data": {
            "text/plain": [
              "\u001b[1m Trainable params: \u001b[0m\u001b[38;5;34m46,035\u001b[0m (179.82 KB)\n"
            ],
            "text/html": [
              "<pre style=\"white-space:pre;overflow-x:auto;line-height:normal;font-family:Menlo,'DejaVu Sans Mono',consolas,'Courier New',monospace\"><span style=\"font-weight: bold\"> Trainable params: </span><span style=\"color: #00af00; text-decoration-color: #00af00\">46,035</span> (179.82 KB)\n",
              "</pre>\n"
            ]
          },
          "metadata": {}
        },
        {
          "output_type": "display_data",
          "data": {
            "text/plain": [
              "\u001b[1m Non-trainable params: \u001b[0m\u001b[38;5;34m384\u001b[0m (1.50 KB)\n"
            ],
            "text/html": [
              "<pre style=\"white-space:pre;overflow-x:auto;line-height:normal;font-family:Menlo,'DejaVu Sans Mono',consolas,'Courier New',monospace\"><span style=\"font-weight: bold\"> Non-trainable params: </span><span style=\"color: #00af00; text-decoration-color: #00af00\">384</span> (1.50 KB)\n",
              "</pre>\n"
            ]
          },
          "metadata": {}
        },
        {
          "output_type": "stream",
          "name": "stdout",
          "text": [
            "Autoencoder eğitimi başlıyor...\n",
            "Epoch 1/100\n",
            "\u001b[1m229/229\u001b[0m \u001b[32m━━━━━━━━━━━━━━━━━━━━\u001b[0m\u001b[37m\u001b[0m \u001b[1m0s\u001b[0m 50ms/step - loss: 0.0287"
          ]
        },
        {
          "output_type": "stream",
          "name": "stderr",
          "text": [
            "WARNING:absl:You are saving your model as an HDF5 file via `model.save()` or `keras.saving.save_model(model)`. This file format is considered legacy. We recommend using instead the native Keras format, e.g. `model.save('my_model.keras')` or `keras.saving.save_model(model, 'my_model.keras')`. \n"
          ]
        },
        {
          "output_type": "stream",
          "name": "stdout",
          "text": [
            "\b\b\b\b\b\b\b\b\b\b\b\b\b\b\b\b\b\b\b\b\b\b\b\b\b\b\b\b\b\b\b\b\b\b\b\b\b\b\b\b\b\b\b\b\b\b\b\b\b\b\b\b\b\b\b\b\r\u001b[1m229/229\u001b[0m \u001b[32m━━━━━━━━━━━━━━━━━━━━\u001b[0m\u001b[37m\u001b[0m \u001b[1m25s\u001b[0m 61ms/step - loss: 0.0287 - val_loss: 0.0253 - learning_rate: 0.0010\n",
            "Epoch 2/100\n",
            "\u001b[1m227/229\u001b[0m \u001b[32m━━━━━━━━━━━━━━━━━━━\u001b[0m\u001b[37m━\u001b[0m \u001b[1m0s\u001b[0m 36ms/step - loss: 0.0108"
          ]
        },
        {
          "output_type": "stream",
          "name": "stderr",
          "text": [
            "WARNING:absl:You are saving your model as an HDF5 file via `model.save()` or `keras.saving.save_model(model)`. This file format is considered legacy. We recommend using instead the native Keras format, e.g. `model.save('my_model.keras')` or `keras.saving.save_model(model, 'my_model.keras')`. \n"
          ]
        },
        {
          "output_type": "stream",
          "name": "stdout",
          "text": [
            "\b\b\b\b\b\b\b\b\b\b\b\b\b\b\b\b\b\b\b\b\b\b\b\b\b\b\b\b\b\b\b\b\b\b\b\b\b\b\b\b\b\b\b\b\b\b\b\b\b\b\b\b\b\b\b\b\r\u001b[1m229/229\u001b[0m \u001b[32m━━━━━━━━━━━━━━━━━━━━\u001b[0m\u001b[37m\u001b[0m \u001b[1m9s\u001b[0m 38ms/step - loss: 0.0108 - val_loss: 0.0107 - learning_rate: 0.0010\n",
            "Epoch 3/100\n",
            "\u001b[1m227/229\u001b[0m \u001b[32m━━━━━━━━━━━━━━━━━━━\u001b[0m\u001b[37m━\u001b[0m \u001b[1m0s\u001b[0m 36ms/step - loss: 0.0098"
          ]
        },
        {
          "output_type": "stream",
          "name": "stderr",
          "text": [
            "WARNING:absl:You are saving your model as an HDF5 file via `model.save()` or `keras.saving.save_model(model)`. This file format is considered legacy. We recommend using instead the native Keras format, e.g. `model.save('my_model.keras')` or `keras.saving.save_model(model, 'my_model.keras')`. \n"
          ]
        },
        {
          "output_type": "stream",
          "name": "stdout",
          "text": [
            "\b\b\b\b\b\b\b\b\b\b\b\b\b\b\b\b\b\b\b\b\b\b\b\b\b\b\b\b\b\b\b\b\b\b\b\b\b\b\b\b\b\b\b\b\b\b\b\b\b\b\b\b\b\b\b\b\r\u001b[1m229/229\u001b[0m \u001b[32m━━━━━━━━━━━━━━━━━━━━\u001b[0m\u001b[37m\u001b[0m \u001b[1m9s\u001b[0m 38ms/step - loss: 0.0097 - val_loss: 0.0090 - learning_rate: 0.0010\n",
            "Epoch 4/100\n",
            "\u001b[1m227/229\u001b[0m \u001b[32m━━━━━━━━━━━━━━━━━━━\u001b[0m\u001b[37m━\u001b[0m \u001b[1m0s\u001b[0m 36ms/step - loss: 0.0088"
          ]
        },
        {
          "output_type": "stream",
          "name": "stderr",
          "text": [
            "WARNING:absl:You are saving your model as an HDF5 file via `model.save()` or `keras.saving.save_model(model)`. This file format is considered legacy. We recommend using instead the native Keras format, e.g. `model.save('my_model.keras')` or `keras.saving.save_model(model, 'my_model.keras')`. \n"
          ]
        },
        {
          "output_type": "stream",
          "name": "stdout",
          "text": [
            "\b\b\b\b\b\b\b\b\b\b\b\b\b\b\b\b\b\b\b\b\b\b\b\b\b\b\b\b\b\b\b\b\b\b\b\b\b\b\b\b\b\b\b\b\b\b\b\b\b\b\b\b\b\b\b\b\r\u001b[1m229/229\u001b[0m \u001b[32m━━━━━━━━━━━━━━━━━━━━\u001b[0m\u001b[37m\u001b[0m \u001b[1m9s\u001b[0m 37ms/step - loss: 0.0088 - val_loss: 0.0075 - learning_rate: 0.0010\n",
            "Epoch 5/100\n",
            "\u001b[1m227/229\u001b[0m \u001b[32m━━━━━━━━━━━━━━━━━━━\u001b[0m\u001b[37m━\u001b[0m \u001b[1m0s\u001b[0m 36ms/step - loss: 0.0080"
          ]
        },
        {
          "output_type": "stream",
          "name": "stderr",
          "text": [
            "WARNING:absl:You are saving your model as an HDF5 file via `model.save()` or `keras.saving.save_model(model)`. This file format is considered legacy. We recommend using instead the native Keras format, e.g. `model.save('my_model.keras')` or `keras.saving.save_model(model, 'my_model.keras')`. \n"
          ]
        },
        {
          "output_type": "stream",
          "name": "stdout",
          "text": [
            "\b\b\b\b\b\b\b\b\b\b\b\b\b\b\b\b\b\b\b\b\b\b\b\b\b\b\b\b\b\b\b\b\b\b\b\b\b\b\b\b\b\b\b\b\b\b\b\b\b\b\b\b\b\b\b\b\r\u001b[1m229/229\u001b[0m \u001b[32m━━━━━━━━━━━━━━━━━━━━\u001b[0m\u001b[37m\u001b[0m \u001b[1m9s\u001b[0m 38ms/step - loss: 0.0080 - val_loss: 0.0071 - learning_rate: 0.0010\n",
            "Epoch 6/100\n",
            "\u001b[1m227/229\u001b[0m \u001b[32m━━━━━━━━━━━━━━━━━━━\u001b[0m\u001b[37m━\u001b[0m \u001b[1m0s\u001b[0m 37ms/step - loss: 0.0078"
          ]
        },
        {
          "output_type": "stream",
          "name": "stderr",
          "text": [
            "WARNING:absl:You are saving your model as an HDF5 file via `model.save()` or `keras.saving.save_model(model)`. This file format is considered legacy. We recommend using instead the native Keras format, e.g. `model.save('my_model.keras')` or `keras.saving.save_model(model, 'my_model.keras')`. \n"
          ]
        },
        {
          "output_type": "stream",
          "name": "stdout",
          "text": [
            "\b\b\b\b\b\b\b\b\b\b\b\b\b\b\b\b\b\b\b\b\b\b\b\b\b\b\b\b\b\b\b\b\b\b\b\b\b\b\b\b\b\b\b\b\b\b\b\b\b\b\b\b\b\b\b\b\r\u001b[1m229/229\u001b[0m \u001b[32m━━━━━━━━━━━━━━━━━━━━\u001b[0m\u001b[37m\u001b[0m \u001b[1m9s\u001b[0m 38ms/step - loss: 0.0077 - val_loss: 0.0068 - learning_rate: 0.0010\n",
            "Epoch 7/100\n",
            "\u001b[1m229/229\u001b[0m \u001b[32m━━━━━━━━━━━━━━━━━━━━\u001b[0m\u001b[37m\u001b[0m \u001b[1m9s\u001b[0m 38ms/step - loss: 0.0075 - val_loss: 0.0070 - learning_rate: 0.0010\n",
            "Epoch 8/100\n",
            "\u001b[1m227/229\u001b[0m \u001b[32m━━━━━━━━━━━━━━━━━━━\u001b[0m\u001b[37m━\u001b[0m \u001b[1m0s\u001b[0m 37ms/step - loss: 0.0071"
          ]
        },
        {
          "output_type": "stream",
          "name": "stderr",
          "text": [
            "WARNING:absl:You are saving your model as an HDF5 file via `model.save()` or `keras.saving.save_model(model)`. This file format is considered legacy. We recommend using instead the native Keras format, e.g. `model.save('my_model.keras')` or `keras.saving.save_model(model, 'my_model.keras')`. \n"
          ]
        },
        {
          "output_type": "stream",
          "name": "stdout",
          "text": [
            "\b\b\b\b\b\b\b\b\b\b\b\b\b\b\b\b\b\b\b\b\b\b\b\b\b\b\b\b\b\b\b\b\b\b\b\b\b\b\b\b\b\b\b\b\b\b\b\b\b\b\b\b\b\b\b\b\r\u001b[1m229/229\u001b[0m \u001b[32m━━━━━━━━━━━━━━━━━━━━\u001b[0m\u001b[37m\u001b[0m \u001b[1m9s\u001b[0m 38ms/step - loss: 0.0070 - val_loss: 0.0063 - learning_rate: 0.0010\n",
            "Epoch 9/100\n",
            "\u001b[1m227/229\u001b[0m \u001b[32m━━━━━━━━━━━━━━━━━━━\u001b[0m\u001b[37m━\u001b[0m \u001b[1m0s\u001b[0m 37ms/step - loss: 0.0071"
          ]
        },
        {
          "output_type": "stream",
          "name": "stderr",
          "text": [
            "WARNING:absl:You are saving your model as an HDF5 file via `model.save()` or `keras.saving.save_model(model)`. This file format is considered legacy. We recommend using instead the native Keras format, e.g. `model.save('my_model.keras')` or `keras.saving.save_model(model, 'my_model.keras')`. \n"
          ]
        },
        {
          "output_type": "stream",
          "name": "stdout",
          "text": [
            "\b\b\b\b\b\b\b\b\b\b\b\b\b\b\b\b\b\b\b\b\b\b\b\b\b\b\b\b\b\b\b\b\b\b\b\b\b\b\b\b\b\b\b\b\b\b\b\b\b\b\b\b\b\b\b\b\r\u001b[1m229/229\u001b[0m \u001b[32m━━━━━━━━━━━━━━━━━━━━\u001b[0m\u001b[37m\u001b[0m \u001b[1m9s\u001b[0m 39ms/step - loss: 0.0071 - val_loss: 0.0063 - learning_rate: 0.0010\n",
            "Epoch 10/100\n",
            "\u001b[1m227/229\u001b[0m \u001b[32m━━━━━━━━━━━━━━━━━━━\u001b[0m\u001b[37m━\u001b[0m \u001b[1m0s\u001b[0m 38ms/step - loss: 0.0064"
          ]
        },
        {
          "output_type": "stream",
          "name": "stderr",
          "text": [
            "WARNING:absl:You are saving your model as an HDF5 file via `model.save()` or `keras.saving.save_model(model)`. This file format is considered legacy. We recommend using instead the native Keras format, e.g. `model.save('my_model.keras')` or `keras.saving.save_model(model, 'my_model.keras')`. \n"
          ]
        },
        {
          "output_type": "stream",
          "name": "stdout",
          "text": [
            "\b\b\b\b\b\b\b\b\b\b\b\b\b\b\b\b\b\b\b\b\b\b\b\b\b\b\b\b\b\b\b\b\b\b\b\b\b\b\b\b\b\b\b\b\b\b\b\b\b\b\b\b\b\b\b\b\r\u001b[1m229/229\u001b[0m \u001b[32m━━━━━━━━━━━━━━━━━━━━\u001b[0m\u001b[37m\u001b[0m \u001b[1m9s\u001b[0m 39ms/step - loss: 0.0063 - val_loss: 0.0060 - learning_rate: 0.0010\n",
            "Epoch 11/100\n",
            "\u001b[1m227/229\u001b[0m \u001b[32m━━━━━━━━━━━━━━━━━━━\u001b[0m\u001b[37m━\u001b[0m \u001b[1m0s\u001b[0m 37ms/step - loss: 0.0061"
          ]
        },
        {
          "output_type": "stream",
          "name": "stderr",
          "text": [
            "WARNING:absl:You are saving your model as an HDF5 file via `model.save()` or `keras.saving.save_model(model)`. This file format is considered legacy. We recommend using instead the native Keras format, e.g. `model.save('my_model.keras')` or `keras.saving.save_model(model, 'my_model.keras')`. \n"
          ]
        },
        {
          "output_type": "stream",
          "name": "stdout",
          "text": [
            "\b\b\b\b\b\b\b\b\b\b\b\b\b\b\b\b\b\b\b\b\b\b\b\b\b\b\b\b\b\b\b\b\b\b\b\b\b\b\b\b\b\b\b\b\b\b\b\b\b\b\b\b\b\b\b\b\r\u001b[1m229/229\u001b[0m \u001b[32m━━━━━━━━━━━━━━━━━━━━\u001b[0m\u001b[37m\u001b[0m \u001b[1m9s\u001b[0m 39ms/step - loss: 0.0061 - val_loss: 0.0058 - learning_rate: 0.0010\n",
            "Epoch 12/100\n",
            "\u001b[1m229/229\u001b[0m \u001b[32m━━━━━━━━━━━━━━━━━━━━\u001b[0m\u001b[37m\u001b[0m \u001b[1m9s\u001b[0m 39ms/step - loss: 0.0058 - val_loss: 0.0061 - learning_rate: 0.0010\n",
            "Epoch 13/100\n",
            "\u001b[1m227/229\u001b[0m \u001b[32m━━━━━━━━━━━━━━━━━━━\u001b[0m\u001b[37m━\u001b[0m \u001b[1m0s\u001b[0m 38ms/step - loss: 0.0057"
          ]
        },
        {
          "output_type": "stream",
          "name": "stderr",
          "text": [
            "WARNING:absl:You are saving your model as an HDF5 file via `model.save()` or `keras.saving.save_model(model)`. This file format is considered legacy. We recommend using instead the native Keras format, e.g. `model.save('my_model.keras')` or `keras.saving.save_model(model, 'my_model.keras')`. \n"
          ]
        },
        {
          "output_type": "stream",
          "name": "stdout",
          "text": [
            "\b\b\b\b\b\b\b\b\b\b\b\b\b\b\b\b\b\b\b\b\b\b\b\b\b\b\b\b\b\b\b\b\b\b\b\b\b\b\b\b\b\b\b\b\b\b\b\b\b\b\b\b\b\b\b\b\r\u001b[1m229/229\u001b[0m \u001b[32m━━━━━━━━━━━━━━━━━━━━\u001b[0m\u001b[37m\u001b[0m \u001b[1m9s\u001b[0m 39ms/step - loss: 0.0057 - val_loss: 0.0056 - learning_rate: 0.0010\n",
            "Epoch 14/100\n",
            "\u001b[1m229/229\u001b[0m \u001b[32m━━━━━━━━━━━━━━━━━━━━\u001b[0m\u001b[37m\u001b[0m \u001b[1m9s\u001b[0m 39ms/step - loss: 0.0056 - val_loss: 0.0066 - learning_rate: 0.0010\n",
            "Epoch 15/100\n",
            "\u001b[1m229/229\u001b[0m \u001b[32m━━━━━━━━━━━━━━━━━━━━\u001b[0m\u001b[37m\u001b[0m \u001b[1m9s\u001b[0m 39ms/step - loss: 0.0056 - val_loss: 0.0057 - learning_rate: 0.0010\n",
            "Epoch 16/100\n",
            "\u001b[1m227/229\u001b[0m \u001b[32m━━━━━━━━━━━━━━━━━━━\u001b[0m\u001b[37m━\u001b[0m \u001b[1m0s\u001b[0m 38ms/step - loss: 0.0053"
          ]
        },
        {
          "output_type": "stream",
          "name": "stderr",
          "text": [
            "WARNING:absl:You are saving your model as an HDF5 file via `model.save()` or `keras.saving.save_model(model)`. This file format is considered legacy. We recommend using instead the native Keras format, e.g. `model.save('my_model.keras')` or `keras.saving.save_model(model, 'my_model.keras')`. \n"
          ]
        },
        {
          "output_type": "stream",
          "name": "stdout",
          "text": [
            "\b\b\b\b\b\b\b\b\b\b\b\b\b\b\b\b\b\b\b\b\b\b\b\b\b\b\b\b\b\b\b\b\b\b\b\b\b\b\b\b\b\b\b\b\b\b\b\b\b\b\b\b\b\b\b\b\r\u001b[1m229/229\u001b[0m \u001b[32m━━━━━━━━━━━━━━━━━━━━\u001b[0m\u001b[37m\u001b[0m \u001b[1m9s\u001b[0m 39ms/step - loss: 0.0052 - val_loss: 0.0049 - learning_rate: 0.0010\n",
            "Epoch 17/100\n",
            "\u001b[1m227/229\u001b[0m \u001b[32m━━━━━━━━━━━━━━━━━━━\u001b[0m\u001b[37m━\u001b[0m \u001b[1m0s\u001b[0m 38ms/step - loss: 0.0051"
          ]
        },
        {
          "output_type": "stream",
          "name": "stderr",
          "text": [
            "WARNING:absl:You are saving your model as an HDF5 file via `model.save()` or `keras.saving.save_model(model)`. This file format is considered legacy. We recommend using instead the native Keras format, e.g. `model.save('my_model.keras')` or `keras.saving.save_model(model, 'my_model.keras')`. \n"
          ]
        },
        {
          "output_type": "stream",
          "name": "stdout",
          "text": [
            "\b\b\b\b\b\b\b\b\b\b\b\b\b\b\b\b\b\b\b\b\b\b\b\b\b\b\b\b\b\b\b\b\b\b\b\b\b\b\b\b\b\b\b\b\b\b\b\b\b\b\b\b\b\b\b\b\r\u001b[1m229/229\u001b[0m \u001b[32m━━━━━━━━━━━━━━━━━━━━\u001b[0m\u001b[37m\u001b[0m \u001b[1m9s\u001b[0m 39ms/step - loss: 0.0051 - val_loss: 0.0048 - learning_rate: 0.0010\n",
            "Epoch 18/100\n",
            "\u001b[1m229/229\u001b[0m \u001b[32m━━━━━━━━━━━━━━━━━━━━\u001b[0m\u001b[37m\u001b[0m \u001b[1m9s\u001b[0m 39ms/step - loss: 0.0052 - val_loss: 0.0050 - learning_rate: 0.0010\n",
            "Epoch 19/100\n",
            "\u001b[1m229/229\u001b[0m \u001b[32m━━━━━━━━━━━━━━━━━━━━\u001b[0m\u001b[37m\u001b[0m \u001b[1m9s\u001b[0m 39ms/step - loss: 0.0048 - val_loss: 0.0049 - learning_rate: 0.0010\n",
            "Epoch 20/100\n",
            "\u001b[1m227/229\u001b[0m \u001b[32m━━━━━━━━━━━━━━━━━━━\u001b[0m\u001b[37m━\u001b[0m \u001b[1m0s\u001b[0m 37ms/step - loss: 0.0047"
          ]
        },
        {
          "output_type": "stream",
          "name": "stderr",
          "text": [
            "WARNING:absl:You are saving your model as an HDF5 file via `model.save()` or `keras.saving.save_model(model)`. This file format is considered legacy. We recommend using instead the native Keras format, e.g. `model.save('my_model.keras')` or `keras.saving.save_model(model, 'my_model.keras')`. \n"
          ]
        },
        {
          "output_type": "stream",
          "name": "stdout",
          "text": [
            "\b\b\b\b\b\b\b\b\b\b\b\b\b\b\b\b\b\b\b\b\b\b\b\b\b\b\b\b\b\b\b\b\b\b\b\b\b\b\b\b\b\b\b\b\b\b\b\b\b\b\b\b\b\b\b\b\r\u001b[1m229/229\u001b[0m \u001b[32m━━━━━━━━━━━━━━━━━━━━\u001b[0m\u001b[37m\u001b[0m \u001b[1m9s\u001b[0m 39ms/step - loss: 0.0046 - val_loss: 0.0045 - learning_rate: 2.0000e-04\n",
            "Epoch 21/100\n",
            "\u001b[1m227/229\u001b[0m \u001b[32m━━━━━━━━━━━━━━━━━━━\u001b[0m\u001b[37m━\u001b[0m \u001b[1m0s\u001b[0m 38ms/step - loss: 0.0047"
          ]
        },
        {
          "output_type": "stream",
          "name": "stderr",
          "text": [
            "WARNING:absl:You are saving your model as an HDF5 file via `model.save()` or `keras.saving.save_model(model)`. This file format is considered legacy. We recommend using instead the native Keras format, e.g. `model.save('my_model.keras')` or `keras.saving.save_model(model, 'my_model.keras')`. \n"
          ]
        },
        {
          "output_type": "stream",
          "name": "stdout",
          "text": [
            "\b\b\b\b\b\b\b\b\b\b\b\b\b\b\b\b\b\b\b\b\b\b\b\b\b\b\b\b\b\b\b\b\b\b\b\b\b\b\b\b\b\b\b\b\b\b\b\b\b\b\b\b\b\b\b\b\r\u001b[1m229/229\u001b[0m \u001b[32m━━━━━━━━━━━━━━━━━━━━\u001b[0m\u001b[37m\u001b[0m \u001b[1m9s\u001b[0m 39ms/step - loss: 0.0047 - val_loss: 0.0045 - learning_rate: 2.0000e-04\n",
            "Epoch 22/100\n",
            "\u001b[1m229/229\u001b[0m \u001b[32m━━━━━━━━━━━━━━━━━━━━\u001b[0m\u001b[37m\u001b[0m \u001b[1m9s\u001b[0m 39ms/step - loss: 0.0044 - val_loss: 0.0045 - learning_rate: 2.0000e-04\n",
            "Epoch 23/100\n",
            "\u001b[1m227/229\u001b[0m \u001b[32m━━━━━━━━━━━━━━━━━━━\u001b[0m\u001b[37m━\u001b[0m \u001b[1m0s\u001b[0m 38ms/step - loss: 0.0045"
          ]
        },
        {
          "output_type": "stream",
          "name": "stderr",
          "text": [
            "WARNING:absl:You are saving your model as an HDF5 file via `model.save()` or `keras.saving.save_model(model)`. This file format is considered legacy. We recommend using instead the native Keras format, e.g. `model.save('my_model.keras')` or `keras.saving.save_model(model, 'my_model.keras')`. \n"
          ]
        },
        {
          "output_type": "stream",
          "name": "stdout",
          "text": [
            "\b\b\b\b\b\b\b\b\b\b\b\b\b\b\b\b\b\b\b\b\b\b\b\b\b\b\b\b\b\b\b\b\b\b\b\b\b\b\b\b\b\b\b\b\b\b\b\b\b\b\b\b\b\b\b\b\r\u001b[1m229/229\u001b[0m \u001b[32m━━━━━━━━━━━━━━━━━━━━\u001b[0m\u001b[37m\u001b[0m \u001b[1m9s\u001b[0m 39ms/step - loss: 0.0045 - val_loss: 0.0044 - learning_rate: 2.0000e-04\n",
            "Epoch 24/100\n",
            "\u001b[1m229/229\u001b[0m \u001b[32m━━━━━━━━━━━━━━━━━━━━\u001b[0m\u001b[37m\u001b[0m \u001b[1m9s\u001b[0m 39ms/step - loss: 0.0044 - val_loss: 0.0046 - learning_rate: 4.0000e-05\n",
            "Epoch 25/100\n",
            "\u001b[1m229/229\u001b[0m \u001b[32m━━━━━━━━━━━━━━━━━━━━\u001b[0m\u001b[37m\u001b[0m \u001b[1m9s\u001b[0m 39ms/step - loss: 0.0044 - val_loss: 0.0046 - learning_rate: 4.0000e-05\n",
            "Epoch 26/100\n",
            "\u001b[1m229/229\u001b[0m \u001b[32m━━━━━━━━━━━━━━━━━━━━\u001b[0m\u001b[37m\u001b[0m \u001b[1m9s\u001b[0m 39ms/step - loss: 0.0044 - val_loss: 0.0045 - learning_rate: 4.0000e-05\n",
            "Epoch 27/100\n",
            "\u001b[1m227/229\u001b[0m \u001b[32m━━━━━━━━━━━━━━━━━━━\u001b[0m\u001b[37m━\u001b[0m \u001b[1m0s\u001b[0m 38ms/step - loss: 0.0044"
          ]
        },
        {
          "output_type": "stream",
          "name": "stderr",
          "text": [
            "WARNING:absl:You are saving your model as an HDF5 file via `model.save()` or `keras.saving.save_model(model)`. This file format is considered legacy. We recommend using instead the native Keras format, e.g. `model.save('my_model.keras')` or `keras.saving.save_model(model, 'my_model.keras')`. \n"
          ]
        },
        {
          "output_type": "stream",
          "name": "stdout",
          "text": [
            "\b\b\b\b\b\b\b\b\b\b\b\b\b\b\b\b\b\b\b\b\b\b\b\b\b\b\b\b\b\b\b\b\b\b\b\b\b\b\b\b\b\b\b\b\b\b\b\b\b\b\b\b\b\b\b\b\r\u001b[1m229/229\u001b[0m \u001b[32m━━━━━━━━━━━━━━━━━━━━\u001b[0m\u001b[37m\u001b[0m \u001b[1m9s\u001b[0m 39ms/step - loss: 0.0044 - val_loss: 0.0043 - learning_rate: 8.0000e-06\n",
            "Epoch 28/100\n",
            "\u001b[1m229/229\u001b[0m \u001b[32m━━━━━━━━━━━━━━━━━━━━\u001b[0m\u001b[37m\u001b[0m \u001b[1m9s\u001b[0m 39ms/step - loss: 0.0045 - val_loss: 0.0043 - learning_rate: 8.0000e-06\n",
            "Epoch 29/100\n",
            "\u001b[1m229/229\u001b[0m \u001b[32m━━━━━━━━━━━━━━━━━━━━\u001b[0m\u001b[37m\u001b[0m \u001b[1m9s\u001b[0m 39ms/step - loss: 0.0044 - val_loss: 0.0043 - learning_rate: 8.0000e-06\n",
            "Epoch 30/100\n",
            "\u001b[1m229/229\u001b[0m \u001b[32m━━━━━━━━━━━━━━━━━━━━\u001b[0m\u001b[37m\u001b[0m \u001b[1m9s\u001b[0m 39ms/step - loss: 0.0044 - val_loss: 0.0043 - learning_rate: 8.0000e-06\n",
            "Epoch 31/100\n",
            "\u001b[1m227/229\u001b[0m \u001b[32m━━━━━━━━━━━━━━━━━━━\u001b[0m\u001b[37m━\u001b[0m \u001b[1m0s\u001b[0m 38ms/step - loss: 0.0043"
          ]
        },
        {
          "output_type": "stream",
          "name": "stderr",
          "text": [
            "WARNING:absl:You are saving your model as an HDF5 file via `model.save()` or `keras.saving.save_model(model)`. This file format is considered legacy. We recommend using instead the native Keras format, e.g. `model.save('my_model.keras')` or `keras.saving.save_model(model, 'my_model.keras')`. \n"
          ]
        },
        {
          "output_type": "stream",
          "name": "stdout",
          "text": [
            "\b\b\b\b\b\b\b\b\b\b\b\b\b\b\b\b\b\b\b\b\b\b\b\b\b\b\b\b\b\b\b\b\b\b\b\b\b\b\b\b\b\b\b\b\b\b\b\b\b\b\b\b\b\b\b\b\r\u001b[1m229/229\u001b[0m \u001b[32m━━━━━━━━━━━━━━━━━━━━\u001b[0m\u001b[37m\u001b[0m \u001b[1m9s\u001b[0m 39ms/step - loss: 0.0043 - val_loss: 0.0043 - learning_rate: 1.6000e-06\n",
            "Epoch 32/100\n",
            "\u001b[1m229/229\u001b[0m \u001b[32m━━━━━━━━━━━━━━━━━━━━\u001b[0m\u001b[37m\u001b[0m \u001b[1m9s\u001b[0m 39ms/step - loss: 0.0043 - val_loss: 0.0043 - learning_rate: 1.6000e-06\n",
            "Epoch 33/100\n",
            "\u001b[1m229/229\u001b[0m \u001b[32m━━━━━━━━━━━━━━━━━━━━\u001b[0m\u001b[37m\u001b[0m \u001b[1m9s\u001b[0m 39ms/step - loss: 0.0042 - val_loss: 0.0043 - learning_rate: 1.6000e-06\n",
            "Epoch 34/100\n",
            "\u001b[1m229/229\u001b[0m \u001b[32m━━━━━━━━━━━━━━━━━━━━\u001b[0m\u001b[37m\u001b[0m \u001b[1m9s\u001b[0m 39ms/step - loss: 0.0044 - val_loss: 0.0043 - learning_rate: 1.0000e-06\n",
            "Epoch 35/100\n",
            "\u001b[1m229/229\u001b[0m \u001b[32m━━━━━━━━━━━━━━━━━━━━\u001b[0m\u001b[37m\u001b[0m \u001b[1m9s\u001b[0m 39ms/step - loss: 0.0042 - val_loss: 0.0043 - learning_rate: 1.0000e-06\n",
            "Epoch 36/100\n",
            "\u001b[1m229/229\u001b[0m \u001b[32m━━━━━━━━━━━━━━━━━━━━\u001b[0m\u001b[37m\u001b[0m \u001b[1m9s\u001b[0m 39ms/step - loss: 0.0042 - val_loss: 0.0043 - learning_rate: 1.0000e-06\n"
          ]
        },
        {
          "output_type": "display_data",
          "data": {
            "text/plain": [
              "<Figure size 1200x400 with 1 Axes>"
            ],
            "image/png": "[encoded data removed]"
          },
          "metadata": {}
        },
        {
          "output_type": "stream",
          "name": "stderr",
          "text": [
            "WARNING:absl:You are saving your model as an HDF5 file via `model.save()` or `keras.saving.save_model(model)`. This file format is considered legacy. We recommend using instead the native Keras format, e.g. `model.save('my_model.keras')` or `keras.saving.save_model(model, 'my_model.keras')`. \n"
          ]
        },
        {
          "output_type": "stream",
          "name": "stdout",
          "text": [
            "Model kaydedildi: autoencoder_final_20250430-171243.h5\n"
          ]
        }
      ]
    },
    {
      "cell_type": "code",
      "source": [
        "import os\n",
        "import gc\n",
        "import numpy as np\n",
        "import pandas as pd\n",
        "import cv2\n",
        "import tensorflow as tf\n",
        "from tensorflow.keras.models import load_model\n",
        "from tensorflow.keras.losses import MeanSquaredError\n",
        "from tqdm import tqdm\n",
        "\n",
        "# ─── Ayarlar ────────────────────────────────────────────────────────────────\n",
        "model_path        = '/content/drive/MyDrive/modelepochsaves/ae_epoch_27_val0.0043.h5'\n",
        "video_dir         = '/content/sample_data/dataset/Videos/Videos'\n",
        "output_csv_path   = 'autoencoder_features_batched.csv'\n",
        "target_size       = (128, 128)\n",
        "frame_interval    = 30\n",
        "batch_size        = 32\n",
        "\n",
        "# ─── Eski CSV’yi sil (temiz başlangıç) ───────────────────────────────────────\n",
        "if os.path.exists(output_csv_path):\n",
        "    os.remove(output_csv_path)\n",
        "\n",
        "# ─── Modeli yükle ───────────────────────────────────────────────────────────\n",
        "autoencoder = load_model(\n",
        "    model_path,\n",
        "    custom_objects={'mse': MeanSquaredError()}\n",
        ")\n",
        "encoder_layer_index = 7\n",
        "encoder = tf.keras.Model(\n",
        "    inputs=autoencoder.input,\n",
        "    outputs=autoencoder.layers[encoder_layer_index].output\n",
        ")\n",
        "\n",
        "# ─── Frame akış generator’ü ─────────────────────────────────────────────────\n",
        "def frame_stream(video_path, target_size, frame_interval):\n",
        "    cap = cv2.VideoCapture(video_path)\n",
        "    idx = 0\n",
        "    while True:\n",
        "        ret, frame = cap.read()\n",
        "        if not ret:\n",
        "            break\n",
        "        if idx % frame_interval == 0:\n",
        "            f = cv2.resize(frame, target_size)\n",
        "            f = cv2.cvtColor(f, cv2.COLOR_BGR2RGB)\n",
        "            yield f.astype('float32') / 255.0\n",
        "        idx += 1\n",
        "    cap.release()\n",
        "\n",
        "# ─── Batch‐batch generator ──────────────────────────────────────────────────\n",
        "def batch_generator(video_path, target_size, frame_interval, batch_size):\n",
        "    batch = []\n",
        "    for frame in frame_stream(video_path, target_size, frame_interval):\n",
        "        batch.append(frame)\n",
        "        if len(batch) == batch_size:\n",
        "            yield np.stack(batch, axis=0)\n",
        "            batch.clear()\n",
        "    if batch:\n",
        "        yield np.stack(batch, axis=0)\n",
        "\n",
        "# ─── Video dosyalarını topla ────────────────────────────────────────────────\n",
        "video_files = [\n",
        "    os.path.join(root, f)\n",
        "    for root, _, files in os.walk(video_dir)\n",
        "    for f in files\n",
        "    if f.lower().endswith(('.mp4', '.avi', '.mov'))\n",
        "]\n",
        "\n",
        "print(f\"{len(video_files)} video bulundu. İşlem başlıyor...\")\n",
        "\n",
        "# ─── Batch batch işleme ve CSV’ye yazma ─────────────────────────────────────\n",
        "first_write = True\n",
        "for vid_id, vid_path in enumerate(tqdm(video_files, desc=\"Videolar işleniyor\")):\n",
        "    for batch in batch_generator(vid_path, target_size, frame_interval, batch_size):\n",
        "        encoded = encoder.predict(batch, verbose=0)\n",
        "        recon   = autoencoder.predict(batch, verbose=0)\n",
        "        errors  = np.mean((batch - recon)**2, axis=(1,2,3))\n",
        "\n",
        "        if encoded.ndim == 4:\n",
        "            encoded = encoded.reshape(encoded.shape[0], -1)\n",
        "\n",
        "        df = pd.DataFrame(\n",
        "            encoded,\n",
        "            columns=[f'feat_{i}' for i in range(encoded.shape[1])]\n",
        "        )\n",
        "        df['recon_error'] = errors\n",
        "        df['video_id']    = vid_id\n",
        "        df['video_path']  = vid_path\n",
        "\n",
        "        # write/append moduna karar ver\n",
        "        mode   = 'w' if first_write else 'a'\n",
        "        header = first_write\n",
        "\n",
        "        df.to_csv(\n",
        "            output_csv_path,\n",
        "            mode=mode,\n",
        "            header=header,\n",
        "            index=False\n",
        "        )\n",
        "        first_write = False\n",
        "\n",
        "    # Belleği temizle\n",
        "    gc.collect()\n",
        "\n",
        "print(f\"Özellik çıkarımı tamamlandı. Sonuçlar kaydedildi: {output_csv_path}\")\n"
      ],
      "metadata": {
        "colab": {
          "base_uri": "https://localhost:8080/"
        },
        "id": "FgtKPSOAEmu1",
        "outputId": "67dda170-7623-4223-98c5-0a4c1c4c04cb"
      },
      "id": "FgtKPSOAEmu1",
      "execution_count": null,
      "outputs": [
        {
          "output_type": "stream",
          "name": "stderr",
          "text": [
            "WARNING:absl:Compiled the loaded model, but the compiled metrics have yet to be built. `model.compile_metrics` will be empty until you train or evaluate the model.\n"
          ]
        },
        {
          "output_type": "stream",
          "name": "stdout",
          "text": [
            "3304 video bulundu. İşlem başlıyor...\n"
          ]
        },
        {
          "output_type": "stream",
          "name": "stderr",
          "text": [
            "Videolar işleniyor: 100%|██████████| 3304/3304 [46:54<00:00,  1.17it/s]"
          ]
        },
        {
          "output_type": "stream",
          "name": "stdout",
          "text": [
            "Özellik çıkarımı tamamlandı. Sonuçlar kaydedildi: autoencoder_features_batched.csv\n"
          ]
        },
        {
          "output_type": "stream",
          "name": "stderr",
          "text": [
            "\n"
          ]
        }
      ]
    },
    {
      "cell_type": "code",
      "source": [
        "autoencoder.summary()"
      ],
      "metadata": {
        "colab": {
          "base_uri": "https://localhost:8080/",
          "height": 146
        },
        "id": "nKoIoMYD_L14",
        "outputId": "9c03ba64-51a2-49b9-cf91-54d4c00ebc61"
      },
      "id": "nKoIoMYD_L14",
      "execution_count": 8,
      "outputs": [
        {
          "output_type": "error",
          "ename": "NameError",
          "evalue": "name 'autoencoder' is not defined",
          "traceback": [
            "\u001b[0;31m---------------------------------------------------------------------------\u001b[0m",
            "\u001b[0;31mNameError\u001b[0m                                 Traceback (most recent call last)",
            "\u001b[0;32m<ipython-input-8-f863917c1634>\u001b[0m in \u001b[0;36m<cell line: 0>\u001b[0;34m()\u001b[0m\n\u001b[0;32m----> 1\u001b[0;31m \u001b[0mautoencoder\u001b[0m\u001b[0;34m.\u001b[0m\u001b[0msummary\u001b[0m\u001b[0;34m(\u001b[0m\u001b[0;34m)\u001b[0m\u001b[0;34m\u001b[0m\u001b[0;34m\u001b[0m\u001b[0m\n\u001b[0m",
            "\u001b[0;31mNameError\u001b[0m: name 'autoencoder' is not defined"
          ]
        }
      ]
    },
    {
      "cell_type": "code",
      "source": [
        "import pandas as pd\n",
        "\n",
        "# Sadece header + ilk 20 satırı oku\n",
        "df = pd.read_csv(\"/content/drive/MyDrive/modelepochsaves/autoencoder_features_batched.csv\", nrows=20)\n",
        "\n",
        "print(\"Column names:\", df.columns.tolist())\n",
        "print(\"\\nFirst 20 rows:\")\n",
        "print(df)\n"
      ],
      "metadata": {
        "colab": {
          "base_uri": "https://localhost:8080/"
        },
        "id": "vJXn7v6X3OYT",
        "outputId": "08f1082b-be81-4e23-d21b-d44e08bfe069"
      },
      "id": "vJXn7v6X3OYT",
      "execution_count": 10,
      "outputs": [
        {
          "output_type": "stream",
          "name": "stdout",
          "text": [
            "Column names: ['feat_0', 'feat_1', 'feat_2', 'feat_3', 'feat_4', 'feat_5', 'feat_6', 'feat_7', 'feat_8', 'feat_9', 'feat_10', 'feat_11', 'feat_12', 'feat_13', 'feat_14', 'feat_15', 'feat_16', 'feat_17', 'feat_18', 'feat_19', 'feat_20', 'feat_21', 'feat_22', 'feat_23', 'feat_24', 'feat_25', 'feat_26', 'feat_27', 'feat_28', 'feat_29', 'feat_30', 'feat_31', 'feat_32', 'feat_33', 'feat_34', 'feat_35', 'feat_36', 'feat_37', 'feat_38', 'feat_39', 'feat_40', 'feat_41', 'feat_42', 'feat_43', 'feat_44', 'feat_45', 'feat_46', 'feat_47', 'feat_48', 'feat_49', 'feat_50', 'feat_51', 'feat_52', 'feat_53', 'feat_54', 'feat_55', 'feat_56', 'feat_57', 'feat_58', 'feat_59', 'feat_60', 'feat_61', 'feat_62', 'feat_63', 'feat_64', 'feat_65', 'feat_66', 'feat_67', 'feat_68', 'feat_69', 'feat_70', 'feat_71', 'feat_72', 'feat_73', 'feat_74', 'feat_75', 'feat_76', 'feat_77', 'feat_78', 'feat_79', 'feat_80', 'feat_81', 'feat_82', 'feat_83', 'feat_84', 'feat_85', 'feat_86', 'feat_87', 'feat_88', 'feat_89', 'feat_90', 'feat_91', 'feat_92', 'feat_93', 'feat_94', 'feat_95', 'feat_96', 'feat_97', 'feat_98', 'feat_99', 'feat_100', 'feat_101', 'feat_102', 'feat_103', 'feat_104', 'feat_105', 'feat_106', 'feat_107', 'feat_108', 'feat_109', 'feat_110', 'feat_111', 'feat_112', 'feat_113', 'feat_114', 'feat_115', 'feat_116', 'feat_117', 'feat_118', 'feat_119', 'feat_120', 'feat_121', 'feat_122', 'feat_123', 'feat_124', 'feat_125', 'feat_126', 'feat_127', 'feat_128', 'feat_129', 'feat_130', 'feat_131', 'feat_132', 'feat_133', 'feat_134', 'feat_135', 'feat_136', 'feat_137', 'feat_138', 'feat_139', 'feat_140', 'feat_141', 'feat_142', 'feat_143', 'feat_144', 'feat_145', 'feat_146', 'feat_147', 'feat_148', 'feat_149', 'feat_150', 'feat_151', 'feat_152', 'feat_153', 'feat_154', 'feat_155', 'feat_156', 'feat_157', 'feat_158', 'feat_159', 'feat_160', 'feat_161', 'feat_162', 'feat_163', 'feat_164', 'feat_165', 'feat_166', 'feat_167', 'feat_168', 'feat_169', 'feat_170', 'feat_171', 'feat_172', 'feat_173', 'feat_174', 'feat_175', 'feat_176', 'feat_177', 'feat_178', 'feat_179', 'feat_180', 'feat_181', 'feat_182', 'feat_183', 'feat_184', 'feat_185', 'feat_186', 'feat_187', 'feat_188', 'feat_189', 'feat_190', 'feat_191', 'feat_192', 'feat_193', 'feat_194', 'feat_195', 'feat_196', 'feat_197', 'feat_198', 'feat_199', 'feat_200', 'feat_201', 'feat_202', 'feat_203', 'feat_204', 'feat_205', 'feat_206', 'feat_207', 'feat_208', 'feat_209', 'feat_210', 'feat_211', 'feat_212', 'feat_213', 'feat_214', 'feat_215', 'feat_216', 'feat_217', 'feat_218', 'feat_219', 'feat_220', 'feat_221', 'feat_222', 'feat_223', 'feat_224', 'feat_225', 'feat_226', 'feat_227', 'feat_228', 'feat_229', 'feat_230', 'feat_231', 'feat_232', 'feat_233', 'feat_234', 'feat_235', 'feat_236', 'feat_237', 'feat_238', 'feat_239', 'feat_240', 'feat_241', 'feat_242', 'feat_243', 'feat_244', 'feat_245', 'feat_246', 'feat_247', 'feat_248', 'feat_249', 'feat_250', 'feat_251', 'feat_252', 'feat_253', 'feat_254', 'feat_255', 'feat_256', 'feat_257', 'feat_258', 'feat_259', 'feat_260', 'feat_261', 'feat_262', 'feat_263', 'feat_264', 'feat_265', 'feat_266', 'feat_267', 'feat_268', 'feat_269', 'feat_270', 'feat_271', 'feat_272', 'feat_273', 'feat_274', 'feat_275', 'feat_276', 'feat_277', 'feat_278', 'feat_279', 'feat_280', 'feat_281', 'feat_282', 'feat_283', 'feat_284', 'feat_285', 'feat_286', 'feat_287', 'feat_288', 'feat_289', 'feat_290', 'feat_291', 'feat_292', 'feat_293', 'feat_294', 'feat_295', 'feat_296', 'feat_297', 'feat_298', 'feat_299', 'feat_300', 'feat_301', 'feat_302', 'feat_303', 'feat_304', 'feat_305', 'feat_306', 'feat_307', 'feat_308', 'feat_309', 'feat_310', 'feat_311', 'feat_312', 'feat_313', 'feat_314', 'feat_315', 'feat_316', 'feat_317', 'feat_318', 'feat_319', 'feat_320', 'feat_321', 'feat_322', 'feat_323', 'feat_324', 'feat_325', 'feat_326', 'feat_327', 'feat_328', 'feat_329', 'feat_330', 'feat_331', 'feat_332', 'feat_333', 'feat_334', 'feat_335', 'feat_336', 'feat_337', 'feat_338', 'feat_339', 'feat_340', 'feat_341', 'feat_342', 'feat_343', 'feat_344', 'feat_345', 'feat_346', 'feat_347', 'feat_348', 'feat_349', 'feat_350', 'feat_351', 'feat_352', 'feat_353', 'feat_354', 'feat_355', 'feat_356', 'feat_357', 'feat_358', 'feat_359', 'feat_360', 'feat_361', 'feat_362', 'feat_363', 'feat_364', 'feat_365', 'feat_366', 'feat_367', 'feat_368', 'feat_369', 'feat_370', 'feat_371', 'feat_372', 'feat_373', 'feat_374', 'feat_375', 'feat_376', 'feat_377', 'feat_378', 'feat_379', 'feat_380', 'feat_381', 'feat_382', 'feat_383', 'feat_384', 'feat_385', 'feat_386', 'feat_387', 'feat_388', 'feat_389', 'feat_390', 'feat_391', 'feat_392', 'feat_393', 'feat_394', 'feat_395', 'feat_396', 'feat_397', 'feat_398', 'feat_399', 'feat_400', 'feat_401', 'feat_402', 'feat_403', 'feat_404', 'feat_405', 'feat_406', 'feat_407', 'feat_408', 'feat_409', 'feat_410', 'feat_411', 'feat_412', 'feat_413', 'feat_414', 'feat_415', 'feat_416', 'feat_417', 'feat_418', 'feat_419', 'feat_420', 'feat_421', 'feat_422', 'feat_423', 'feat_424', 'feat_425', 'feat_426', 'feat_427', 'feat_428', 'feat_429', 'feat_430', 'feat_431', 'feat_432', 'feat_433', 'feat_434', 'feat_435', 'feat_436', 'feat_437', 'feat_438', 'feat_439', 'feat_440', 'feat_441', 'feat_442', 'feat_443', 'feat_444', 'feat_445', 'feat_446', 'feat_447', 'feat_448', 'feat_449', 'feat_450', 'feat_451', 'feat_452', 'feat_453', 'feat_454', 'feat_455', 'feat_456', 'feat_457', 'feat_458', 'feat_459', 'feat_460', 'feat_461', 'feat_462', 'feat_463', 'feat_464', 'feat_465', 'feat_466', 'feat_467', 'feat_468', 'feat_469', 'feat_470', 'feat_471', 'feat_472', 'feat_473', 'feat_474', 'feat_475', 'feat_476', 'feat_477', 'feat_478', 'feat_479', 'feat_480', 'feat_481', 'feat_482', 'feat_483', 'feat_484', 'feat_485', 'feat_486', 'feat_487', 'feat_488', 'feat_489', 'feat_490', 'feat_491', 'feat_492', 'feat_493', 'feat_494', 'feat_495', 'feat_496', 'feat_497', 'feat_498', 'feat_499', 'feat_500', 'feat_501', 'feat_502', 'feat_503', 'feat_504', 'feat_505', 'feat_506', 'feat_507', 'feat_508', 'feat_509', 'feat_510', 'feat_511', 'feat_512', 'feat_513', 'feat_514', 'feat_515', 'feat_516', 'feat_517', 'feat_518', 'feat_519', 'feat_520', 'feat_521', 'feat_522', 'feat_523', 'feat_524', 'feat_525', 'feat_526', 'feat_527', 'feat_528', 'feat_529', 'feat_530', 'feat_531', 'feat_532', 'feat_533', 'feat_534', 'feat_535', 'feat_536', 'feat_537', 'feat_538', 'feat_539', 'feat_540', 'feat_541', 'feat_542', 'feat_543', 'feat_544', 'feat_545', 'feat_546', 'feat_547', 'feat_548', 'feat_549', 'feat_550', 'feat_551', 'feat_552', 'feat_553', 'feat_554', 'feat_555', 'feat_556', 'feat_557', 'feat_558', 'feat_559', 'feat_560', 'feat_561', 'feat_562', 'feat_563', 'feat_564', 'feat_565', 'feat_566', 'feat_567', 'feat_568', 'feat_569', 'feat_570', 'feat_571', 'feat_572', 'feat_573', 'feat_574', 'feat_575', 'feat_576', 'feat_577', 'feat_578', 'feat_579', 'feat_580', 'feat_581', 'feat_582', 'feat_583', 'feat_584', 'feat_585', 'feat_586', 'feat_587', 'feat_588', 'feat_589', 'feat_590', 'feat_591', 'feat_592', 'feat_593', 'feat_594', 'feat_595', 'feat_596', 'feat_597', 'feat_598', 'feat_599', 'feat_600', 'feat_601', 'feat_602', 'feat_603', 'feat_604', 'feat_605', 'feat_606', 'feat_607', 'feat_608', 'feat_609', 'feat_610', 'feat_611', 'feat_612', 'feat_613', 'feat_614', 'feat_615', 'feat_616', 'feat_617', 'feat_618', 'feat_619', 'feat_620', 'feat_621', 'feat_622', 'feat_623', 'feat_624', 'feat_625', 'feat_626', 'feat_627', 'feat_628', 'feat_629', 'feat_630', 'feat_631', 'feat_632', 'feat_633', 'feat_634', 'feat_635', 'feat_636', 'feat_637', 'feat_638', 'feat_639', 'feat_640', 'feat_641', 'feat_642', 'feat_643', 'feat_644', 'feat_645', 'feat_646', 'feat_647', 'feat_648', 'feat_649', 'feat_650', 'feat_651', 'feat_652', 'feat_653', 'feat_654', 'feat_655', 'feat_656', 'feat_657', 'feat_658', 'feat_659', 'feat_660', 'feat_661', 'feat_662', 'feat_663', 'feat_664', 'feat_665', 'feat_666', 'feat_667', 'feat_668', 'feat_669', 'feat_670', 'feat_671', 'feat_672', 'feat_673', 'feat_674', 'feat_675', 'feat_676', 'feat_677', 'feat_678', 'feat_679', 'feat_680', 'feat_681', 'feat_682', 'feat_683', 'feat_684', 'feat_685', 'feat_686', 'feat_687', 'feat_688', 'feat_689', 'feat_690', 'feat_691', 'feat_692', 'feat_693', 'feat_694', 'feat_695', 'feat_696', 'feat_697', 'feat_698', 'feat_699', 'feat_700', 'feat_701', 'feat_702', 'feat_703', 'feat_704', 'feat_705', 'feat_706', 'feat_707', 'feat_708', 'feat_709', 'feat_710', 'feat_711', 'feat_712', 'feat_713', 'feat_714', 'feat_715', 'feat_716', 'feat_717', 'feat_718', 'feat_719', 'feat_720', 'feat_721', 'feat_722', 'feat_723', 'feat_724', 'feat_725', 'feat_726', 'feat_727', 'feat_728', 'feat_729', 'feat_730', 'feat_731', 'feat_732', 'feat_733', 'feat_734', 'feat_735', 'feat_736', 'feat_737', 'feat_738', 'feat_739', 'feat_740', 'feat_741', 'feat_742', 'feat_743', 'feat_744', 'feat_745', 'feat_746', 'feat_747', 'feat_748', 'feat_749', 'feat_750', 'feat_751', 'feat_752', 'feat_753', 'feat_754', 'feat_755', 'feat_756', 'feat_757', 'feat_758', 'feat_759', 'feat_760', 'feat_761', 'feat_762', 'feat_763', 'feat_764', 'feat_765', 'feat_766', 'feat_767', 'feat_768', 'feat_769', 'feat_770', 'feat_771', 'feat_772', 'feat_773', 'feat_774', 'feat_775', 'feat_776', 'feat_777', 'feat_778', 'feat_779', 'feat_780', 'feat_781', 'feat_782', 'feat_783', 'feat_784', 'feat_785', 'feat_786', 'feat_787', 'feat_788', 'feat_789', 'feat_790', 'feat_791', 'feat_792', 'feat_793', 'feat_794', 'feat_795', 'feat_796', 'feat_797', 'feat_798', 'feat_799', 'feat_800', 'feat_801', 'feat_802', 'feat_803', 'feat_804', 'feat_805', 'feat_806', 'feat_807', 'feat_808', 'feat_809', 'feat_810', 'feat_811', 'feat_812', 'feat_813', 'feat_814', 'feat_815', 'feat_816', 'feat_817', 'feat_818', 'feat_819', 'feat_820', 'feat_821', 'feat_822', 'feat_823', 'feat_824', 'feat_825', 'feat_826', 'feat_827', 'feat_828', 'feat_829', 'feat_830', 'feat_831', 'feat_832', 'feat_833', 'feat_834', 'feat_835', 'feat_836', 'feat_837', 'feat_838', 'feat_839', 'feat_840', 'feat_841', 'feat_842', 'feat_843', 'feat_844', 'feat_845', 'feat_846', 'feat_847', 'feat_848', 'feat_849', 'feat_850', 'feat_851', 'feat_852', 'feat_853', 'feat_854', 'feat_855', 'feat_856', 'feat_857', 'feat_858', 'feat_859', 'feat_860', 'feat_861', 'feat_862', 'feat_863', 'feat_864', 'feat_865', 'feat_866', 'feat_867', 'feat_868', 'feat_869', 'feat_870', 'feat_871', 'feat_872', 'feat_873', 'feat_874', 'feat_875', 'feat_876', 'feat_877', 'feat_878', 'feat_879', 'feat_880', 'feat_881', 'feat_882', 'feat_883', 'feat_884', 'feat_885', 'feat_886', 'feat_887', 'feat_888', 'feat_889', 'feat_890', 'feat_891', 'feat_892', 'feat_893', 'feat_894', 'feat_895', 'feat_896', 'feat_897', 'feat_898', 'feat_899', 'feat_900', 'feat_901', 'feat_902', 'feat_903', 'feat_904', 'feat_905', 'feat_906', 'feat_907', 'feat_908', 'feat_909', 'feat_910', 'feat_911', 'feat_912', 'feat_913', 'feat_914', 'feat_915', 'feat_916', 'feat_917', 'feat_918', 'feat_919', 'feat_920', 'feat_921', 'feat_922', 'feat_923', 'feat_924', 'feat_925', 'feat_926', 'feat_927', 'feat_928', 'feat_929', 'feat_930', 'feat_931', 'feat_932', 'feat_933', 'feat_934', 'feat_935', 'feat_936', 'feat_937', 'feat_938', 'feat_939', 'feat_940', 'feat_941', 'feat_942', 'feat_943', 'feat_944', 'feat_945', 'feat_946', 'feat_947', 'feat_948', 'feat_949', 'feat_950', 'feat_951', 'feat_952', 'feat_953', 'feat_954', 'feat_955', 'feat_956', 'feat_957', 'feat_958', 'feat_959', 'feat_960', 'feat_961', 'feat_962', 'feat_963', 'feat_964', 'feat_965', 'feat_966', 'feat_967', 'feat_968', 'feat_969', 'feat_970', 'feat_971', 'feat_972', 'feat_973', 'feat_974', 'feat_975', 'feat_976', 'feat_977', 'feat_978', 'feat_979', 'feat_980', 'feat_981', 'feat_982', 'feat_983', 'feat_984', 'feat_985', 'feat_986', 'feat_987', 'feat_988', 'feat_989', 'feat_990', 'feat_991', 'feat_992', 'feat_993', 'feat_994', 'feat_995', 'feat_996', 'feat_997', 'feat_998', 'feat_999', 'feat_1000', 'feat_1001', 'feat_1002', 'feat_1003', 'feat_1004', 'feat_1005', 'feat_1006', 'feat_1007', 'feat_1008', 'feat_1009', 'feat_1010', 'feat_1011', 'feat_1012', 'feat_1013', 'feat_1014', 'feat_1015', 'feat_1016', 'feat_1017', 'feat_1018', 'feat_1019', 'feat_1020', 'feat_1021', 'feat_1022', 'feat_1023', 'feat_1024', 'feat_1025', 'feat_1026', 'feat_1027', 'feat_1028', 'feat_1029', 'feat_1030', 'feat_1031', 'feat_1032', 'feat_1033', 'feat_1034', 'feat_1035', 'feat_1036', 'feat_1037', 'feat_1038', 'feat_1039', 'feat_1040', 'feat_1041', 'feat_1042', 'feat_1043', 'feat_1044', 'feat_1045', 'feat_1046', 'feat_1047', 'feat_1048', 'feat_1049', 'feat_1050', 'feat_1051', 'feat_1052', 'feat_1053', 'feat_1054', 'feat_1055', 'feat_1056', 'feat_1057', 'feat_1058', 'feat_1059', 'feat_1060', 'feat_1061', 'feat_1062', 'feat_1063', 'feat_1064', 'feat_1065', 'feat_1066', 'feat_1067', 'feat_1068', 'feat_1069', 'feat_1070', 'feat_1071', 'feat_1072', 'feat_1073', 'feat_1074', 'feat_1075', 'feat_1076', 'feat_1077', 'feat_1078', 'feat_1079', 'feat_1080', 'feat_1081', 'feat_1082', 'feat_1083', 'feat_1084', 'feat_1085', 'feat_1086', 'feat_1087', 'feat_1088', 'feat_1089', 'feat_1090', 'feat_1091', 'feat_1092', 'feat_1093', 'feat_1094', 'feat_1095', 'feat_1096', 'feat_1097', 'feat_1098', 'feat_1099', 'feat_1100', 'feat_1101', 'feat_1102', 'feat_1103', 'feat_1104', 'feat_1105', 'feat_1106', 'feat_1107', 'feat_1108', 'feat_1109', 'feat_1110', 'feat_1111', 'feat_1112', 'feat_1113', 'feat_1114', 'feat_1115', 'feat_1116', 'feat_1117', 'feat_1118', 'feat_1119', 'feat_1120', 'feat_1121', 'feat_1122', 'feat_1123', 'feat_1124', 'feat_1125', 'feat_1126', 'feat_1127', 'feat_1128', 'feat_1129', 'feat_1130', 'feat_1131', 'feat_1132', 'feat_1133', 'feat_1134', 'feat_1135', 'feat_1136', 'feat_1137', 'feat_1138', 'feat_1139', 'feat_1140', 'feat_1141', 'feat_1142', 'feat_1143', 'feat_1144', 'feat_1145', 'feat_1146', 'feat_1147', 'feat_1148', 'feat_1149', 'feat_1150', 'feat_1151', 'feat_1152', 'feat_1153', 'feat_1154', 'feat_1155', 'feat_1156', 'feat_1157', 'feat_1158', 'feat_1159', 'feat_1160', 'feat_1161', 'feat_1162', 'feat_1163', 'feat_1164', 'feat_1165', 'feat_1166', 'feat_1167', 'feat_1168', 'feat_1169', 'feat_1170', 'feat_1171', 'feat_1172', 'feat_1173', 'feat_1174', 'feat_1175', 'feat_1176', 'feat_1177', 'feat_1178', 'feat_1179', 'feat_1180', 'feat_1181', 'feat_1182', 'feat_1183', 'feat_1184', 'feat_1185', 'feat_1186', 'feat_1187', 'feat_1188', 'feat_1189', 'feat_1190', 'feat_1191', 'feat_1192', 'feat_1193', 'feat_1194', 'feat_1195', 'feat_1196', 'feat_1197', 'feat_1198', 'feat_1199', 'feat_1200', 'feat_1201', 'feat_1202', 'feat_1203', 'feat_1204', 'feat_1205', 'feat_1206', 'feat_1207', 'feat_1208', 'feat_1209', 'feat_1210', 'feat_1211', 'feat_1212', 'feat_1213', 'feat_1214', 'feat_1215', 'feat_1216', 'feat_1217', 'feat_1218', 'feat_1219', 'feat_1220', 'feat_1221', 'feat_1222', 'feat_1223', 'feat_1224', 'feat_1225', 'feat_1226', 'feat_1227', 'feat_1228', 'feat_1229', 'feat_1230', 'feat_1231', 'feat_1232', 'feat_1233', 'feat_1234', 'feat_1235', 'feat_1236', 'feat_1237', 'feat_1238', 'feat_1239', 'feat_1240', 'feat_1241', 'feat_1242', 'feat_1243', 'feat_1244', 'feat_1245', 'feat_1246', 'feat_1247', 'feat_1248', 'feat_1249', 'feat_1250', 'feat_1251', 'feat_1252', 'feat_1253', 'feat_1254', 'feat_1255', 'feat_1256', 'feat_1257', 'feat_1258', 'feat_1259', 'feat_1260', 'feat_1261', 'feat_1262', 'feat_1263', 'feat_1264', 'feat_1265', 'feat_1266', 'feat_1267', 'feat_1268', 'feat_1269', 'feat_1270', 'feat_1271', 'feat_1272', 'feat_1273', 'feat_1274', 'feat_1275', 'feat_1276', 'feat_1277', 'feat_1278', 'feat_1279', 'feat_1280', 'feat_1281', 'feat_1282', 'feat_1283', 'feat_1284', 'feat_1285', 'feat_1286', 'feat_1287', 'feat_1288', 'feat_1289', 'feat_1290', 'feat_1291', 'feat_1292', 'feat_1293', 'feat_1294', 'feat_1295', 'feat_1296', 'feat_1297', 'feat_1298', 'feat_1299', 'feat_1300', 'feat_1301', 'feat_1302', 'feat_1303', 'feat_1304', 'feat_1305', 'feat_1306', 'feat_1307', 'feat_1308', 'feat_1309', 'feat_1310', 'feat_1311', 'feat_1312', 'feat_1313', 'feat_1314', 'feat_1315', 'feat_1316', 'feat_1317', 'feat_1318', 'feat_1319', 'feat_1320', 'feat_1321', 'feat_1322', 'feat_1323', 'feat_1324', 'feat_1325', 'feat_1326', 'feat_1327', 'feat_1328', 'feat_1329', 'feat_1330', 'feat_1331', 'feat_1332', 'feat_1333', 'feat_1334', 'feat_1335', 'feat_1336', 'feat_1337', 'feat_1338', 'feat_1339', 'feat_1340', 'feat_1341', 'feat_1342', 'feat_1343', 'feat_1344', 'feat_1345', 'feat_1346', 'feat_1347', 'feat_1348', 'feat_1349', 'feat_1350', 'feat_1351', 'feat_1352', 'feat_1353', 'feat_1354', 'feat_1355', 'feat_1356', 'feat_1357', 'feat_1358', 'feat_1359', 'feat_1360', 'feat_1361', 'feat_1362', 'feat_1363', 'feat_1364', 'feat_1365', 'feat_1366', 'feat_1367', 'feat_1368', 'feat_1369', 'feat_1370', 'feat_1371', 'feat_1372', 'feat_1373', 'feat_1374', 'feat_1375', 'feat_1376', 'feat_1377', 'feat_1378', 'feat_1379', 'feat_1380', 'feat_1381', 'feat_1382', 'feat_1383', 'feat_1384', 'feat_1385', 'feat_1386', 'feat_1387', 'feat_1388', 'feat_1389', 'feat_1390', 'feat_1391', 'feat_1392', 'feat_1393', 'feat_1394', 'feat_1395', 'feat_1396', 'feat_1397', 'feat_1398', 'feat_1399', 'feat_1400', 'feat_1401', 'feat_1402', 'feat_1403', 'feat_1404', 'feat_1405', 'feat_1406', 'feat_1407', 'feat_1408', 'feat_1409', 'feat_1410', 'feat_1411', 'feat_1412', 'feat_1413', 'feat_1414', 'feat_1415', 'feat_1416', 'feat_1417', 'feat_1418', 'feat_1419', 'feat_1420', 'feat_1421', 'feat_1422', 'feat_1423', 'feat_1424', 'feat_1425', 'feat_1426', 'feat_1427', 'feat_1428', 'feat_1429', 'feat_1430', 'feat_1431', 'feat_1432', 'feat_1433', 'feat_1434', 'feat_1435', 'feat_1436', 'feat_1437', 'feat_1438', 'feat_1439', 'feat_1440', 'feat_1441', 'feat_1442', 'feat_1443', 'feat_1444', 'feat_1445', 'feat_1446', 'feat_1447', 'feat_1448', 'feat_1449', 'feat_1450', 'feat_1451', 'feat_1452', 'feat_1453', 'feat_1454', 'feat_1455', 'feat_1456', 'feat_1457', 'feat_1458', 'feat_1459', 'feat_1460', 'feat_1461', 'feat_1462', 'feat_1463', 'feat_1464', 'feat_1465', 'feat_1466', 'feat_1467', 'feat_1468', 'feat_1469', 'feat_1470', 'feat_1471', 'feat_1472', 'feat_1473', 'feat_1474', 'feat_1475', 'feat_1476', 'feat_1477', 'feat_1478', 'feat_1479', 'feat_1480', 'feat_1481', 'feat_1482', 'feat_1483', 'feat_1484', 'feat_1485', 'feat_1486', 'feat_1487', 'feat_1488', 'feat_1489', 'feat_1490', 'feat_1491', 'feat_1492', 'feat_1493', 'feat_1494', 'feat_1495', 'feat_1496', 'feat_1497', 'feat_1498', 'feat_1499', 'feat_1500', 'feat_1501', 'feat_1502', 'feat_1503', 'feat_1504', 'feat_1505', 'feat_1506', 'feat_1507', 'feat_1508', 'feat_1509', 'feat_1510', 'feat_1511', 'feat_1512', 'feat_1513', 'feat_1514', 'feat_1515', 'feat_1516', 'feat_1517', 'feat_1518', 'feat_1519', 'feat_1520', 'feat_1521', 'feat_1522', 'feat_1523', 'feat_1524', 'feat_1525', 'feat_1526', 'feat_1527', 'feat_1528', 'feat_1529', 'feat_1530', 'feat_1531', 'feat_1532', 'feat_1533', 'feat_1534', 'feat_1535', 'feat_1536', 'feat_1537', 'feat_1538', 'feat_1539', 'feat_1540', 'feat_1541', 'feat_1542', 'feat_1543', 'feat_1544', 'feat_1545', 'feat_1546', 'feat_1547', 'feat_1548', 'feat_1549', 'feat_1550', 'feat_1551', 'feat_1552', 'feat_1553', 'feat_1554', 'feat_1555', 'feat_1556', 'feat_1557', 'feat_1558', 'feat_1559', 'feat_1560', 'feat_1561', 'feat_1562', 'feat_1563', 'feat_1564', 'feat_1565', 'feat_1566', 'feat_1567', 'feat_1568', 'feat_1569', 'feat_1570', 'feat_1571', 'feat_1572', 'feat_1573', 'feat_1574', 'feat_1575', 'feat_1576', 'feat_1577', 'feat_1578', 'feat_1579', 'feat_1580', 'feat_1581', 'feat_1582', 'feat_1583', 'feat_1584', 'feat_1585', 'feat_1586', 'feat_1587', 'feat_1588', 'feat_1589', 'feat_1590', 'feat_1591', 'feat_1592', 'feat_1593', 'feat_1594', 'feat_1595', 'feat_1596', 'feat_1597', 'feat_1598', 'feat_1599', 'feat_1600', 'feat_1601', 'feat_1602', 'feat_1603', 'feat_1604', 'feat_1605', 'feat_1606', 'feat_1607', 'feat_1608', 'feat_1609', 'feat_1610', 'feat_1611', 'feat_1612', 'feat_1613', 'feat_1614', 'feat_1615', 'feat_1616', 'feat_1617', 'feat_1618', 'feat_1619', 'feat_1620', 'feat_1621', 'feat_1622', 'feat_1623', 'feat_1624', 'feat_1625', 'feat_1626', 'feat_1627', 'feat_1628', 'feat_1629', 'feat_1630', 'feat_1631', 'feat_1632', 'feat_1633', 'feat_1634', 'feat_1635', 'feat_1636', 'feat_1637', 'feat_1638', 'feat_1639', 'feat_1640', 'feat_1641', 'feat_1642', 'feat_1643', 'feat_1644', 'feat_1645', 'feat_1646', 'feat_1647', 'feat_1648', 'feat_1649', 'feat_1650', 'feat_1651', 'feat_1652', 'feat_1653', 'feat_1654', 'feat_1655', 'feat_1656', 'feat_1657', 'feat_1658', 'feat_1659', 'feat_1660', 'feat_1661', 'feat_1662', 'feat_1663', 'feat_1664', 'feat_1665', 'feat_1666', 'feat_1667', 'feat_1668', 'feat_1669', 'feat_1670', 'feat_1671', 'feat_1672', 'feat_1673', 'feat_1674', 'feat_1675', 'feat_1676', 'feat_1677', 'feat_1678', 'feat_1679', 'feat_1680', 'feat_1681', 'feat_1682', 'feat_1683', 'feat_1684', 'feat_1685', 'feat_1686', 'feat_1687', 'feat_1688', 'feat_1689', 'feat_1690', 'feat_1691', 'feat_1692', 'feat_1693', 'feat_1694', 'feat_1695', 'feat_1696', 'feat_1697', 'feat_1698', 'feat_1699', 'feat_1700', 'feat_1701', 'feat_1702', 'feat_1703', 'feat_1704', 'feat_1705', 'feat_1706', 'feat_1707', 'feat_1708', 'feat_1709', 'feat_1710', 'feat_1711', 'feat_1712', 'feat_1713', 'feat_1714', 'feat_1715', 'feat_1716', 'feat_1717', 'feat_1718', 'feat_1719', 'feat_1720', 'feat_1721', 'feat_1722', 'feat_1723', 'feat_1724', 'feat_1725', 'feat_1726', 'feat_1727', 'feat_1728', 'feat_1729', 'feat_1730', 'feat_1731', 'feat_1732', 'feat_1733', 'feat_1734', 'feat_1735', 'feat_1736', 'feat_1737', 'feat_1738', 'feat_1739', 'feat_1740', 'feat_1741', 'feat_1742', 'feat_1743', 'feat_1744', 'feat_1745', 'feat_1746', 'feat_1747', 'feat_1748', 'feat_1749', 'feat_1750', 'feat_1751', 'feat_1752', 'feat_1753', 'feat_1754', 'feat_1755', 'feat_1756', 'feat_1757', 'feat_1758', 'feat_1759', 'feat_1760', 'feat_1761', 'feat_1762', 'feat_1763', 'feat_1764', 'feat_1765', 'feat_1766', 'feat_1767', 'feat_1768', 'feat_1769', 'feat_1770', 'feat_1771', 'feat_1772', 'feat_1773', 'feat_1774', 'feat_1775', 'feat_1776', 'feat_1777', 'feat_1778', 'feat_1779', 'feat_1780', 'feat_1781', 'feat_1782', 'feat_1783', 'feat_1784', 'feat_1785', 'feat_1786', 'feat_1787', 'feat_1788', 'feat_1789', 'feat_1790', 'feat_1791', 'feat_1792', 'feat_1793', 'feat_1794', 'feat_1795', 'feat_1796', 'feat_1797', 'feat_1798', 'feat_1799', 'feat_1800', 'feat_1801', 'feat_1802', 'feat_1803', 'feat_1804', 'feat_1805', 'feat_1806', 'feat_1807', 'feat_1808', 'feat_1809', 'feat_1810', 'feat_1811', 'feat_1812', 'feat_1813', 'feat_1814', 'feat_1815', 'feat_1816', 'feat_1817', 'feat_1818', 'feat_1819', 'feat_1820', 'feat_1821', 'feat_1822', 'feat_1823', 'feat_1824', 'feat_1825', 'feat_1826', 'feat_1827', 'feat_1828', 'feat_1829', 'feat_1830', 'feat_1831', 'feat_1832', 'feat_1833', 'feat_1834', 'feat_1835', 'feat_1836', 'feat_1837', 'feat_1838', 'feat_1839', 'feat_1840', 'feat_1841', 'feat_1842', 'feat_1843', 'feat_1844', 'feat_1845', 'feat_1846', 'feat_1847', 'feat_1848', 'feat_1849', 'feat_1850', 'feat_1851', 'feat_1852', 'feat_1853', 'feat_1854', 'feat_1855', 'feat_1856', 'feat_1857', 'feat_1858', 'feat_1859', 'feat_1860', 'feat_1861', 'feat_1862', 'feat_1863', 'feat_1864', 'feat_1865', 'feat_1866', 'feat_1867', 'feat_1868', 'feat_1869', 'feat_1870', 'feat_1871', 'feat_1872', 'feat_1873', 'feat_1874', 'feat_1875', 'feat_1876', 'feat_1877', 'feat_1878', 'feat_1879', 'feat_1880', 'feat_1881', 'feat_1882', 'feat_1883', 'feat_1884', 'feat_1885', 'feat_1886', 'feat_1887', 'feat_1888', 'feat_1889', 'feat_1890', 'feat_1891', 'feat_1892', 'feat_1893', 'feat_1894', 'feat_1895', 'feat_1896', 'feat_1897', 'feat_1898', 'feat_1899', 'feat_1900', 'feat_1901', 'feat_1902', 'feat_1903', 'feat_1904', 'feat_1905', 'feat_1906', 'feat_1907', 'feat_1908', 'feat_1909', 'feat_1910', 'feat_1911', 'feat_1912', 'feat_1913', 'feat_1914', 'feat_1915', 'feat_1916', 'feat_1917', 'feat_1918', 'feat_1919', 'feat_1920', 'feat_1921', 'feat_1922', 'feat_1923', 'feat_1924', 'feat_1925', 'feat_1926', 'feat_1927', 'feat_1928', 'feat_1929', 'feat_1930', 'feat_1931', 'feat_1932', 'feat_1933', 'feat_1934', 'feat_1935', 'feat_1936', 'feat_1937', 'feat_1938', 'feat_1939', 'feat_1940', 'feat_1941', 'feat_1942', 'feat_1943', 'feat_1944', 'feat_1945', 'feat_1946', 'feat_1947', 'feat_1948', 'feat_1949', 'feat_1950', 'feat_1951', 'feat_1952', 'feat_1953', 'feat_1954', 'feat_1955', 'feat_1956', 'feat_1957', 'feat_1958', 'feat_1959', 'feat_1960', 'feat_1961', 'feat_1962', 'feat_1963', 'feat_1964', 'feat_1965', 'feat_1966', 'feat_1967', 'feat_1968', 'feat_1969', 'feat_1970', 'feat_1971', 'feat_1972', 'feat_1973', 'feat_1974', 'feat_1975', 'feat_1976', 'feat_1977', 'feat_1978', 'feat_1979', 'feat_1980', 'feat_1981', 'feat_1982', 'feat_1983', 'feat_1984', 'feat_1985', 'feat_1986', 'feat_1987', 'feat_1988', 'feat_1989', 'feat_1990', 'feat_1991', 'feat_1992', 'feat_1993', 'feat_1994', 'feat_1995', 'feat_1996', 'feat_1997', 'feat_1998', 'feat_1999', 'feat_2000', 'feat_2001', 'feat_2002', 'feat_2003', 'feat_2004', 'feat_2005', 'feat_2006', 'feat_2007', 'feat_2008', 'feat_2009', 'feat_2010', 'feat_2011', 'feat_2012', 'feat_2013', 'feat_2014', 'feat_2015', 'feat_2016', 'feat_2017', 'feat_2018', 'feat_2019', 'feat_2020', 'feat_2021', 'feat_2022', 'feat_2023', 'feat_2024', 'feat_2025', 'feat_2026', 'feat_2027', 'feat_2028', 'feat_2029', 'feat_2030', 'feat_2031', 'feat_2032', 'feat_2033', 'feat_2034', 'feat_2035', 'feat_2036', 'feat_2037', 'feat_2038', 'feat_2039', 'feat_2040', 'feat_2041', 'feat_2042', 'feat_2043', 'feat_2044', 'feat_2045', 'feat_2046', 'feat_2047', 'feat_2048', 'feat_2049', 'feat_2050', 'feat_2051', 'feat_2052', 'feat_2053', 'feat_2054', 'feat_2055', 'feat_2056', 'feat_2057', 'feat_2058', 'feat_2059', 'feat_2060', 'feat_2061', 'feat_2062', 'feat_2063', 'feat_2064', 'feat_2065', 'feat_2066', 'feat_2067', 'feat_2068', 'feat_2069', 'feat_2070', 'feat_2071', 'feat_2072', 'feat_2073', 'feat_2074', 'feat_2075', 'feat_2076', 'feat_2077', 'feat_2078', 'feat_2079', 'feat_2080', 'feat_2081', 'feat_2082', 'feat_2083', 'feat_2084', 'feat_2085', 'feat_2086', 'feat_2087', 'feat_2088', 'feat_2089', 'feat_2090', 'feat_2091', 'feat_2092', 'feat_2093', 'feat_2094', 'feat_2095', 'feat_2096', 'feat_2097', 'feat_2098', 'feat_2099', 'feat_2100', 'feat_2101', 'feat_2102', 'feat_2103', 'feat_2104', 'feat_2105', 'feat_2106', 'feat_2107', 'feat_2108', 'feat_2109', 'feat_2110', 'feat_2111', 'feat_2112', 'feat_2113', 'feat_2114', 'feat_2115', 'feat_2116', 'feat_2117', 'feat_2118', 'feat_2119', 'feat_2120', 'feat_2121', 'feat_2122', 'feat_2123', 'feat_2124', 'feat_2125', 'feat_2126', 'feat_2127', 'feat_2128', 'feat_2129', 'feat_2130', 'feat_2131', 'feat_2132', 'feat_2133', 'feat_2134', 'feat_2135', 'feat_2136', 'feat_2137', 'feat_2138', 'feat_2139', 'feat_2140', 'feat_2141', 'feat_2142', 'feat_2143', 'feat_2144', 'feat_2145', 'feat_2146', 'feat_2147', 'feat_2148', 'feat_2149', 'feat_2150', 'feat_2151', 'feat_2152', 'feat_2153', 'feat_2154', 'feat_2155', 'feat_2156', 'feat_2157', 'feat_2158', 'feat_2159', 'feat_2160', 'feat_2161', 'feat_2162', 'feat_2163', 'feat_2164', 'feat_2165', 'feat_2166', 'feat_2167', 'feat_2168', 'feat_2169', 'feat_2170', 'feat_2171', 'feat_2172', 'feat_2173', 'feat_2174', 'feat_2175', 'feat_2176', 'feat_2177', 'feat_2178', 'feat_2179', 'feat_2180', 'feat_2181', 'feat_2182', 'feat_2183', 'feat_2184', 'feat_2185', 'feat_2186', 'feat_2187', 'feat_2188', 'feat_2189', 'feat_2190', 'feat_2191', 'feat_2192', 'feat_2193', 'feat_2194', 'feat_2195', 'feat_2196', 'feat_2197', 'feat_2198', 'feat_2199', 'feat_2200', 'feat_2201', 'feat_2202', 'feat_2203', 'feat_2204', 'feat_2205', 'feat_2206', 'feat_2207', 'feat_2208', 'feat_2209', 'feat_2210', 'feat_2211', 'feat_2212', 'feat_2213', 'feat_2214', 'feat_2215', 'feat_2216', 'feat_2217', 'feat_2218', 'feat_2219', 'feat_2220', 'feat_2221', 'feat_2222', 'feat_2223', 'feat_2224', 'feat_2225', 'feat_2226', 'feat_2227', 'feat_2228', 'feat_2229', 'feat_2230', 'feat_2231', 'feat_2232', 'feat_2233', 'feat_2234', 'feat_2235', 'feat_2236', 'feat_2237', 'feat_2238', 'feat_2239', 'feat_2240', 'feat_2241', 'feat_2242', 'feat_2243', 'feat_2244', 'feat_2245', 'feat_2246', 'feat_2247', 'feat_2248', 'feat_2249', 'feat_2250', 'feat_2251', 'feat_2252', 'feat_2253', 'feat_2254', 'feat_2255', 'feat_2256', 'feat_2257', 'feat_2258', 'feat_2259', 'feat_2260', 'feat_2261', 'feat_2262', 'feat_2263', 'feat_2264', 'feat_2265', 'feat_2266', 'feat_2267', 'feat_2268', 'feat_2269', 'feat_2270', 'feat_2271', 'feat_2272', 'feat_2273', 'feat_2274', 'feat_2275', 'feat_2276', 'feat_2277', 'feat_2278', 'feat_2279', 'feat_2280', 'feat_2281', 'feat_2282', 'feat_2283', 'feat_2284', 'feat_2285', 'feat_2286', 'feat_2287', 'feat_2288', 'feat_2289', 'feat_2290', 'feat_2291', 'feat_2292', 'feat_2293', 'feat_2294', 'feat_2295', 'feat_2296', 'feat_2297', 'feat_2298', 'feat_2299', 'feat_2300', 'feat_2301', 'feat_2302', 'feat_2303', 'feat_2304', 'feat_2305', 'feat_2306', 'feat_2307', 'feat_2308', 'feat_2309', 'feat_2310', 'feat_2311', 'feat_2312', 'feat_2313', 'feat_2314', 'feat_2315', 'feat_2316', 'feat_2317', 'feat_2318', 'feat_2319', 'feat_2320', 'feat_2321', 'feat_2322', 'feat_2323', 'feat_2324', 'feat_2325', 'feat_2326', 'feat_2327', 'feat_2328', 'feat_2329', 'feat_2330', 'feat_2331', 'feat_2332', 'feat_2333', 'feat_2334', 'feat_2335', 'feat_2336', 'feat_2337', 'feat_2338', 'feat_2339', 'feat_2340', 'feat_2341', 'feat_2342', 'feat_2343', 'feat_2344', 'feat_2345', 'feat_2346', 'feat_2347', 'feat_2348', 'feat_2349', 'feat_2350', 'feat_2351', 'feat_2352', 'feat_2353', 'feat_2354', 'feat_2355', 'feat_2356', 'feat_2357', 'feat_2358', 'feat_2359', 'feat_2360', 'feat_2361', 'feat_2362', 'feat_2363', 'feat_2364', 'feat_2365', 'feat_2366', 'feat_2367', 'feat_2368', 'feat_2369', 'feat_2370', 'feat_2371', 'feat_2372', 'feat_2373', 'feat_2374', 'feat_2375', 'feat_2376', 'feat_2377', 'feat_2378', 'feat_2379', 'feat_2380', 'feat_2381', 'feat_2382', 'feat_2383', 'feat_2384', 'feat_2385', 'feat_2386', 'feat_2387', 'feat_2388', 'feat_2389', 'feat_2390', 'feat_2391', 'feat_2392', 'feat_2393', 'feat_2394', 'feat_2395', 'feat_2396', 'feat_2397', 'feat_2398', 'feat_2399', 'feat_2400', 'feat_2401', 'feat_2402', 'feat_2403', 'feat_2404', 'feat_2405', 'feat_2406', 'feat_2407', 'feat_2408', 'feat_2409', 'feat_2410', 'feat_2411', 'feat_2412', 'feat_2413', 'feat_2414', 'feat_2415', 'feat_2416', 'feat_2417', 'feat_2418', 'feat_2419', 'feat_2420', 'feat_2421', 'feat_2422', 'feat_2423', 'feat_2424', 'feat_2425', 'feat_2426', 'feat_2427', 'feat_2428', 'feat_2429', 'feat_2430', 'feat_2431', 'feat_2432', 'feat_2433', 'feat_2434', 'feat_2435', 'feat_2436', 'feat_2437', 'feat_2438', 'feat_2439', 'feat_2440', 'feat_2441', 'feat_2442', 'feat_2443', 'feat_2444', 'feat_2445', 'feat_2446', 'feat_2447', 'feat_2448', 'feat_2449', 'feat_2450', 'feat_2451', 'feat_2452', 'feat_2453', 'feat_2454', 'feat_2455', 'feat_2456', 'feat_2457', 'feat_2458', 'feat_2459', 'feat_2460', 'feat_2461', 'feat_2462', 'feat_2463', 'feat_2464', 'feat_2465', 'feat_2466', 'feat_2467', 'feat_2468', 'feat_2469', 'feat_2470', 'feat_2471', 'feat_2472', 'feat_2473', 'feat_2474', 'feat_2475', 'feat_2476', 'feat_2477', 'feat_2478', 'feat_2479', 'feat_2480', 'feat_2481', 'feat_2482', 'feat_2483', 'feat_2484', 'feat_2485', 'feat_2486', 'feat_2487', 'feat_2488', 'feat_2489', 'feat_2490', 'feat_2491', 'feat_2492', 'feat_2493', 'feat_2494', 'feat_2495', 'feat_2496', 'feat_2497', 'feat_2498', 'feat_2499', 'feat_2500', 'feat_2501', 'feat_2502', 'feat_2503', 'feat_2504', 'feat_2505', 'feat_2506', 'feat_2507', 'feat_2508', 'feat_2509', 'feat_2510', 'feat_2511', 'feat_2512', 'feat_2513', 'feat_2514', 'feat_2515', 'feat_2516', 'feat_2517', 'feat_2518', 'feat_2519', 'feat_2520', 'feat_2521', 'feat_2522', 'feat_2523', 'feat_2524', 'feat_2525', 'feat_2526', 'feat_2527', 'feat_2528', 'feat_2529', 'feat_2530', 'feat_2531', 'feat_2532', 'feat_2533', 'feat_2534', 'feat_2535', 'feat_2536', 'feat_2537', 'feat_2538', 'feat_2539', 'feat_2540', 'feat_2541', 'feat_2542', 'feat_2543', 'feat_2544', 'feat_2545', 'feat_2546', 'feat_2547', 'feat_2548', 'feat_2549', 'feat_2550', 'feat_2551', 'feat_2552', 'feat_2553', 'feat_2554', 'feat_2555', 'feat_2556', 'feat_2557', 'feat_2558', 'feat_2559', 'feat_2560', 'feat_2561', 'feat_2562', 'feat_2563', 'feat_2564', 'feat_2565', 'feat_2566', 'feat_2567', 'feat_2568', 'feat_2569', 'feat_2570', 'feat_2571', 'feat_2572', 'feat_2573', 'feat_2574', 'feat_2575', 'feat_2576', 'feat_2577', 'feat_2578', 'feat_2579', 'feat_2580', 'feat_2581', 'feat_2582', 'feat_2583', 'feat_2584', 'feat_2585', 'feat_2586', 'feat_2587', 'feat_2588', 'feat_2589', 'feat_2590', 'feat_2591', 'feat_2592', 'feat_2593', 'feat_2594', 'feat_2595', 'feat_2596', 'feat_2597', 'feat_2598', 'feat_2599', 'feat_2600', 'feat_2601', 'feat_2602', 'feat_2603', 'feat_2604', 'feat_2605', 'feat_2606', 'feat_2607', 'feat_2608', 'feat_2609', 'feat_2610', 'feat_2611', 'feat_2612', 'feat_2613', 'feat_2614', 'feat_2615', 'feat_2616', 'feat_2617', 'feat_2618', 'feat_2619', 'feat_2620', 'feat_2621', 'feat_2622', 'feat_2623', 'feat_2624', 'feat_2625', 'feat_2626', 'feat_2627', 'feat_2628', 'feat_2629', 'feat_2630', 'feat_2631', 'feat_2632', 'feat_2633', 'feat_2634', 'feat_2635', 'feat_2636', 'feat_2637', 'feat_2638', 'feat_2639', 'feat_2640', 'feat_2641', 'feat_2642', 'feat_2643', 'feat_2644', 'feat_2645', 'feat_2646', 'feat_2647', 'feat_2648', 'feat_2649', 'feat_2650', 'feat_2651', 'feat_2652', 'feat_2653', 'feat_2654', 'feat_2655', 'feat_2656', 'feat_2657', 'feat_2658', 'feat_2659', 'feat_2660', 'feat_2661', 'feat_2662', 'feat_2663', 'feat_2664', 'feat_2665', 'feat_2666', 'feat_2667', 'feat_2668', 'feat_2669', 'feat_2670', 'feat_2671', 'feat_2672', 'feat_2673', 'feat_2674', 'feat_2675', 'feat_2676', 'feat_2677', 'feat_2678', 'feat_2679', 'feat_2680', 'feat_2681', 'feat_2682', 'feat_2683', 'feat_2684', 'feat_2685', 'feat_2686', 'feat_2687', 'feat_2688', 'feat_2689', 'feat_2690', 'feat_2691', 'feat_2692', 'feat_2693', 'feat_2694', 'feat_2695', 'feat_2696', 'feat_2697', 'feat_2698', 'feat_2699', 'feat_2700', 'feat_2701', 'feat_2702', 'feat_2703', 'feat_2704', 'feat_2705', 'feat_2706', 'feat_2707', 'feat_2708', 'feat_2709', 'feat_2710', 'feat_2711', 'feat_2712', 'feat_2713', 'feat_2714', 'feat_2715', 'feat_2716', 'feat_2717', 'feat_2718', 'feat_2719', 'feat_2720', 'feat_2721', 'feat_2722', 'feat_2723', 'feat_2724', 'feat_2725', 'feat_2726', 'feat_2727', 'feat_2728', 'feat_2729', 'feat_2730', 'feat_2731', 'feat_2732', 'feat_2733', 'feat_2734', 'feat_2735', 'feat_2736', 'feat_2737', 'feat_2738', 'feat_2739', 'feat_2740', 'feat_2741', 'feat_2742', 'feat_2743', 'feat_2744', 'feat_2745', 'feat_2746', 'feat_2747', 'feat_2748', 'feat_2749', 'feat_2750', 'feat_2751', 'feat_2752', 'feat_2753', 'feat_2754', 'feat_2755', 'feat_2756', 'feat_2757', 'feat_2758', 'feat_2759', 'feat_2760', 'feat_2761', 'feat_2762', 'feat_2763', 'feat_2764', 'feat_2765', 'feat_2766', 'feat_2767', 'feat_2768', 'feat_2769', 'feat_2770', 'feat_2771', 'feat_2772', 'feat_2773', 'feat_2774', 'feat_2775', 'feat_2776', 'feat_2777', 'feat_2778', 'feat_2779', 'feat_2780', 'feat_2781', 'feat_2782', 'feat_2783', 'feat_2784', 'feat_2785', 'feat_2786', 'feat_2787', 'feat_2788', 'feat_2789', 'feat_2790', 'feat_2791', 'feat_2792', 'feat_2793', 'feat_2794', 'feat_2795', 'feat_2796', 'feat_2797', 'feat_2798', 'feat_2799', 'feat_2800', 'feat_2801', 'feat_2802', 'feat_2803', 'feat_2804', 'feat_2805', 'feat_2806', 'feat_2807', 'feat_2808', 'feat_2809', 'feat_2810', 'feat_2811', 'feat_2812', 'feat_2813', 'feat_2814', 'feat_2815', 'feat_2816', 'feat_2817', 'feat_2818', 'feat_2819', 'feat_2820', 'feat_2821', 'feat_2822', 'feat_2823', 'feat_2824', 'feat_2825', 'feat_2826', 'feat_2827', 'feat_2828', 'feat_2829', 'feat_2830', 'feat_2831', 'feat_2832', 'feat_2833', 'feat_2834', 'feat_2835', 'feat_2836', 'feat_2837', 'feat_2838', 'feat_2839', 'feat_2840', 'feat_2841', 'feat_2842', 'feat_2843', 'feat_2844', 'feat_2845', 'feat_2846', 'feat_2847', 'feat_2848', 'feat_2849', 'feat_2850', 'feat_2851', 'feat_2852', 'feat_2853', 'feat_2854', 'feat_2855', 'feat_2856', 'feat_2857', 'feat_2858', 'feat_2859', 'feat_2860', 'feat_2861', 'feat_2862', 'feat_2863', 'feat_2864', 'feat_2865', 'feat_2866', 'feat_2867', 'feat_2868', 'feat_2869', 'feat_2870', 'feat_2871', 'feat_2872', 'feat_2873', 'feat_2874', 'feat_2875', 'feat_2876', 'feat_2877', 'feat_2878', 'feat_2879', 'feat_2880', 'feat_2881', 'feat_2882', 'feat_2883', 'feat_2884', 'feat_2885', 'feat_2886', 'feat_2887', 'feat_2888', 'feat_2889', 'feat_2890', 'feat_2891', 'feat_2892', 'feat_2893', 'feat_2894', 'feat_2895', 'feat_2896', 'feat_2897', 'feat_2898', 'feat_2899', 'feat_2900', 'feat_2901', 'feat_2902', 'feat_2903', 'feat_2904', 'feat_2905', 'feat_2906', 'feat_2907', 'feat_2908', 'feat_2909', 'feat_2910', 'feat_2911', 'feat_2912', 'feat_2913', 'feat_2914', 'feat_2915', 'feat_2916', 'feat_2917', 'feat_2918', 'feat_2919', 'feat_2920', 'feat_2921', 'feat_2922', 'feat_2923', 'feat_2924', 'feat_2925', 'feat_2926', 'feat_2927', 'feat_2928', 'feat_2929', 'feat_2930', 'feat_2931', 'feat_2932', 'feat_2933', 'feat_2934', 'feat_2935', 'feat_2936', 'feat_2937', 'feat_2938', 'feat_2939', 'feat_2940', 'feat_2941', 'feat_2942', 'feat_2943', 'feat_2944', 'feat_2945', 'feat_2946', 'feat_2947', 'feat_2948', 'feat_2949', 'feat_2950', 'feat_2951', 'feat_2952', 'feat_2953', 'feat_2954', 'feat_2955', 'feat_2956', 'feat_2957', 'feat_2958', 'feat_2959', 'feat_2960', 'feat_2961', 'feat_2962', 'feat_2963', 'feat_2964', 'feat_2965', 'feat_2966', 'feat_2967', 'feat_2968', 'feat_2969', 'feat_2970', 'feat_2971', 'feat_2972', 'feat_2973', 'feat_2974', 'feat_2975', 'feat_2976', 'feat_2977', 'feat_2978', 'feat_2979', 'feat_2980', 'feat_2981', 'feat_2982', 'feat_2983', 'feat_2984', 'feat_2985', 'feat_2986', 'feat_2987', 'feat_2988', 'feat_2989', 'feat_2990', 'feat_2991', 'feat_2992', 'feat_2993', 'feat_2994', 'feat_2995', 'feat_2996', 'feat_2997', 'feat_2998', 'feat_2999', 'feat_3000', 'feat_3001', 'feat_3002', 'feat_3003', 'feat_3004', 'feat_3005', 'feat_3006', 'feat_3007', 'feat_3008', 'feat_3009', 'feat_3010', 'feat_3011', 'feat_3012', 'feat_3013', 'feat_3014', 'feat_3015', 'feat_3016', 'feat_3017', 'feat_3018', 'feat_3019', 'feat_3020', 'feat_3021', 'feat_3022', 'feat_3023', 'feat_3024', 'feat_3025', 'feat_3026', 'feat_3027', 'feat_3028', 'feat_3029', 'feat_3030', 'feat_3031', 'feat_3032', 'feat_3033', 'feat_3034', 'feat_3035', 'feat_3036', 'feat_3037', 'feat_3038', 'feat_3039', 'feat_3040', 'feat_3041', 'feat_3042', 'feat_3043', 'feat_3044', 'feat_3045', 'feat_3046', 'feat_3047', 'feat_3048', 'feat_3049', 'feat_3050', 'feat_3051', 'feat_3052', 'feat_3053', 'feat_3054', 'feat_3055', 'feat_3056', 'feat_3057', 'feat_3058', 'feat_3059', 'feat_3060', 'feat_3061', 'feat_3062', 'feat_3063', 'feat_3064', 'feat_3065', 'feat_3066', 'feat_3067', 'feat_3068', 'feat_3069', 'feat_3070', 'feat_3071', 'feat_3072', 'feat_3073', 'feat_3074', 'feat_3075', 'feat_3076', 'feat_3077', 'feat_3078', 'feat_3079', 'feat_3080', 'feat_3081', 'feat_3082', 'feat_3083', 'feat_3084', 'feat_3085', 'feat_3086', 'feat_3087', 'feat_3088', 'feat_3089', 'feat_3090', 'feat_3091', 'feat_3092', 'feat_3093', 'feat_3094', 'feat_3095', 'feat_3096', 'feat_3097', 'feat_3098', 'feat_3099', 'feat_3100', 'feat_3101', 'feat_3102', 'feat_3103', 'feat_3104', 'feat_3105', 'feat_3106', 'feat_3107', 'feat_3108', 'feat_3109', 'feat_3110', 'feat_3111', 'feat_3112', 'feat_3113', 'feat_3114', 'feat_3115', 'feat_3116', 'feat_3117', 'feat_3118', 'feat_3119', 'feat_3120', 'feat_3121', 'feat_3122', 'feat_3123', 'feat_3124', 'feat_3125', 'feat_3126', 'feat_3127', 'feat_3128', 'feat_3129', 'feat_3130', 'feat_3131', 'feat_3132', 'feat_3133', 'feat_3134', 'feat_3135', 'feat_3136', 'feat_3137', 'feat_3138', 'feat_3139', 'feat_3140', 'feat_3141', 'feat_3142', 'feat_3143', 'feat_3144', 'feat_3145', 'feat_3146', 'feat_3147', 'feat_3148', 'feat_3149', 'feat_3150', 'feat_3151', 'feat_3152', 'feat_3153', 'feat_3154', 'feat_3155', 'feat_3156', 'feat_3157', 'feat_3158', 'feat_3159', 'feat_3160', 'feat_3161', 'feat_3162', 'feat_3163', 'feat_3164', 'feat_3165', 'feat_3166', 'feat_3167', 'feat_3168', 'feat_3169', 'feat_3170', 'feat_3171', 'feat_3172', 'feat_3173', 'feat_3174', 'feat_3175', 'feat_3176', 'feat_3177', 'feat_3178', 'feat_3179', 'feat_3180', 'feat_3181', 'feat_3182', 'feat_3183', 'feat_3184', 'feat_3185', 'feat_3186', 'feat_3187', 'feat_3188', 'feat_3189', 'feat_3190', 'feat_3191', 'feat_3192', 'feat_3193', 'feat_3194', 'feat_3195', 'feat_3196', 'feat_3197', 'feat_3198', 'feat_3199', 'feat_3200', 'feat_3201', 'feat_3202', 'feat_3203', 'feat_3204', 'feat_3205', 'feat_3206', 'feat_3207', 'feat_3208', 'feat_3209', 'feat_3210', 'feat_3211', 'feat_3212', 'feat_3213', 'feat_3214', 'feat_3215', 'feat_3216', 'feat_3217', 'feat_3218', 'feat_3219', 'feat_3220', 'feat_3221', 'feat_3222', 'feat_3223', 'feat_3224', 'feat_3225', 'feat_3226', 'feat_3227', 'feat_3228', 'feat_3229', 'feat_3230', 'feat_3231', 'feat_3232', 'feat_3233', 'feat_3234', 'feat_3235', 'feat_3236', 'feat_3237', 'feat_3238', 'feat_3239', 'feat_3240', 'feat_3241', 'feat_3242', 'feat_3243', 'feat_3244', 'feat_3245', 'feat_3246', 'feat_3247', 'feat_3248', 'feat_3249', 'feat_3250', 'feat_3251', 'feat_3252', 'feat_3253', 'feat_3254', 'feat_3255', 'feat_3256', 'feat_3257', 'feat_3258', 'feat_3259', 'feat_3260', 'feat_3261', 'feat_3262', 'feat_3263', 'feat_3264', 'feat_3265', 'feat_3266', 'feat_3267', 'feat_3268', 'feat_3269', 'feat_3270', 'feat_3271', 'feat_3272', 'feat_3273', 'feat_3274', 'feat_3275', 'feat_3276', 'feat_3277', 'feat_3278', 'feat_3279', 'feat_3280', 'feat_3281', 'feat_3282', 'feat_3283', 'feat_3284', 'feat_3285', 'feat_3286', 'feat_3287', 'feat_3288', 'feat_3289', 'feat_3290', 'feat_3291', 'feat_3292', 'feat_3293', 'feat_3294', 'feat_3295', 'feat_3296', 'feat_3297', 'feat_3298', 'feat_3299', 'feat_3300', 'feat_3301', 'feat_3302', 'feat_3303', 'feat_3304', 'feat_3305', 'feat_3306', 'feat_3307', 'feat_3308', 'feat_3309', 'feat_3310', 'feat_3311', 'feat_3312', 'feat_3313', 'feat_3314', 'feat_3315', 'feat_3316', 'feat_3317', 'feat_3318', 'feat_3319', 'feat_3320', 'feat_3321', 'feat_3322', 'feat_3323', 'feat_3324', 'feat_3325', 'feat_3326', 'feat_3327', 'feat_3328', 'feat_3329', 'feat_3330', 'feat_3331', 'feat_3332', 'feat_3333', 'feat_3334', 'feat_3335', 'feat_3336', 'feat_3337', 'feat_3338', 'feat_3339', 'feat_3340', 'feat_3341', 'feat_3342', 'feat_3343', 'feat_3344', 'feat_3345', 'feat_3346', 'feat_3347', 'feat_3348', 'feat_3349', 'feat_3350', 'feat_3351', 'feat_3352', 'feat_3353', 'feat_3354', 'feat_3355', 'feat_3356', 'feat_3357', 'feat_3358', 'feat_3359', 'feat_3360', 'feat_3361', 'feat_3362', 'feat_3363', 'feat_3364', 'feat_3365', 'feat_3366', 'feat_3367', 'feat_3368', 'feat_3369', 'feat_3370', 'feat_3371', 'feat_3372', 'feat_3373', 'feat_3374', 'feat_3375', 'feat_3376', 'feat_3377', 'feat_3378', 'feat_3379', 'feat_3380', 'feat_3381', 'feat_3382', 'feat_3383', 'feat_3384', 'feat_3385', 'feat_3386', 'feat_3387', 'feat_3388', 'feat_3389', 'feat_3390', 'feat_3391', 'feat_3392', 'feat_3393', 'feat_3394', 'feat_3395', 'feat_3396', 'feat_3397', 'feat_3398', 'feat_3399', 'feat_3400', 'feat_3401', 'feat_3402', 'feat_3403', 'feat_3404', 'feat_3405', 'feat_3406', 'feat_3407', 'feat_3408', 'feat_3409', 'feat_3410', 'feat_3411', 'feat_3412', 'feat_3413', 'feat_3414', 'feat_3415', 'feat_3416', 'feat_3417', 'feat_3418', 'feat_3419', 'feat_3420', 'feat_3421', 'feat_3422', 'feat_3423', 'feat_3424', 'feat_3425', 'feat_3426', 'feat_3427', 'feat_3428', 'feat_3429', 'feat_3430', 'feat_3431', 'feat_3432', 'feat_3433', 'feat_3434', 'feat_3435', 'feat_3436', 'feat_3437', 'feat_3438', 'feat_3439', 'feat_3440', 'feat_3441', 'feat_3442', 'feat_3443', 'feat_3444', 'feat_3445', 'feat_3446', 'feat_3447', 'feat_3448', 'feat_3449', 'feat_3450', 'feat_3451', 'feat_3452', 'feat_3453', 'feat_3454', 'feat_3455', 'feat_3456', 'feat_3457', 'feat_3458', 'feat_3459', 'feat_3460', 'feat_3461', 'feat_3462', 'feat_3463', 'feat_3464', 'feat_3465', 'feat_3466', 'feat_3467', 'feat_3468', 'feat_3469', 'feat_3470', 'feat_3471', 'feat_3472', 'feat_3473', 'feat_3474', 'feat_3475', 'feat_3476', 'feat_3477', 'feat_3478', 'feat_3479', 'feat_3480', 'feat_3481', 'feat_3482', 'feat_3483', 'feat_3484', 'feat_3485', 'feat_3486', 'feat_3487', 'feat_3488', 'feat_3489', 'feat_3490', 'feat_3491', 'feat_3492', 'feat_3493', 'feat_3494', 'feat_3495', 'feat_3496', 'feat_3497', 'feat_3498', 'feat_3499', 'feat_3500', 'feat_3501', 'feat_3502', 'feat_3503', 'feat_3504', 'feat_3505', 'feat_3506', 'feat_3507', 'feat_3508', 'feat_3509', 'feat_3510', 'feat_3511', 'feat_3512', 'feat_3513', 'feat_3514', 'feat_3515', 'feat_3516', 'feat_3517', 'feat_3518', 'feat_3519', 'feat_3520', 'feat_3521', 'feat_3522', 'feat_3523', 'feat_3524', 'feat_3525', 'feat_3526', 'feat_3527', 'feat_3528', 'feat_3529', 'feat_3530', 'feat_3531', 'feat_3532', 'feat_3533', 'feat_3534', 'feat_3535', 'feat_3536', 'feat_3537', 'feat_3538', 'feat_3539', 'feat_3540', 'feat_3541', 'feat_3542', 'feat_3543', 'feat_3544', 'feat_3545', 'feat_3546', 'feat_3547', 'feat_3548', 'feat_3549', 'feat_3550', 'feat_3551', 'feat_3552', 'feat_3553', 'feat_3554', 'feat_3555', 'feat_3556', 'feat_3557', 'feat_3558', 'feat_3559', 'feat_3560', 'feat_3561', 'feat_3562', 'feat_3563', 'feat_3564', 'feat_3565', 'feat_3566', 'feat_3567', 'feat_3568', 'feat_3569', 'feat_3570', 'feat_3571', 'feat_3572', 'feat_3573', 'feat_3574', 'feat_3575', 'feat_3576', 'feat_3577', 'feat_3578', 'feat_3579', 'feat_3580', 'feat_3581', 'feat_3582', 'feat_3583', 'feat_3584', 'feat_3585', 'feat_3586', 'feat_3587', 'feat_3588', 'feat_3589', 'feat_3590', 'feat_3591', 'feat_3592', 'feat_3593', 'feat_3594', 'feat_3595', 'feat_3596', 'feat_3597', 'feat_3598', 'feat_3599', 'feat_3600', 'feat_3601', 'feat_3602', 'feat_3603', 'feat_3604', 'feat_3605', 'feat_3606', 'feat_3607', 'feat_3608', 'feat_3609', 'feat_3610', 'feat_3611', 'feat_3612', 'feat_3613', 'feat_3614', 'feat_3615', 'feat_3616', 'feat_3617', 'feat_3618', 'feat_3619', 'feat_3620', 'feat_3621', 'feat_3622', 'feat_3623', 'feat_3624', 'feat_3625', 'feat_3626', 'feat_3627', 'feat_3628', 'feat_3629', 'feat_3630', 'feat_3631', 'feat_3632', 'feat_3633', 'feat_3634', 'feat_3635', 'feat_3636', 'feat_3637', 'feat_3638', 'feat_3639', 'feat_3640', 'feat_3641', 'feat_3642', 'feat_3643', 'feat_3644', 'feat_3645', 'feat_3646', 'feat_3647', 'feat_3648', 'feat_3649', 'feat_3650', 'feat_3651', 'feat_3652', 'feat_3653', 'feat_3654', 'feat_3655', 'feat_3656', 'feat_3657', 'feat_3658', 'feat_3659', 'feat_3660', 'feat_3661', 'feat_3662', 'feat_3663', 'feat_3664', 'feat_3665', 'feat_3666', 'feat_3667', 'feat_3668', 'feat_3669', 'feat_3670', 'feat_3671', 'feat_3672', 'feat_3673', 'feat_3674', 'feat_3675', 'feat_3676', 'feat_3677', 'feat_3678', 'feat_3679', 'feat_3680', 'feat_3681', 'feat_3682', 'feat_3683', 'feat_3684', 'feat_3685', 'feat_3686', 'feat_3687', 'feat_3688', 'feat_3689', 'feat_3690', 'feat_3691', 'feat_3692', 'feat_3693', 'feat_3694', 'feat_3695', 'feat_3696', 'feat_3697', 'feat_3698', 'feat_3699', 'feat_3700', 'feat_3701', 'feat_3702', 'feat_3703', 'feat_3704', 'feat_3705', 'feat_3706', 'feat_3707', 'feat_3708', 'feat_3709', 'feat_3710', 'feat_3711', 'feat_3712', 'feat_3713', 'feat_3714', 'feat_3715', 'feat_3716', 'feat_3717', 'feat_3718', 'feat_3719', 'feat_3720', 'feat_3721', 'feat_3722', 'feat_3723', 'feat_3724', 'feat_3725', 'feat_3726', 'feat_3727', 'feat_3728', 'feat_3729', 'feat_3730', 'feat_3731', 'feat_3732', 'feat_3733', 'feat_3734', 'feat_3735', 'feat_3736', 'feat_3737', 'feat_3738', 'feat_3739', 'feat_3740', 'feat_3741', 'feat_3742', 'feat_3743', 'feat_3744', 'feat_3745', 'feat_3746', 'feat_3747', 'feat_3748', 'feat_3749', 'feat_3750', 'feat_3751', 'feat_3752', 'feat_3753', 'feat_3754', 'feat_3755', 'feat_3756', 'feat_3757', 'feat_3758', 'feat_3759', 'feat_3760', 'feat_3761', 'feat_3762', 'feat_3763', 'feat_3764', 'feat_3765', 'feat_3766', 'feat_3767', 'feat_3768', 'feat_3769', 'feat_3770', 'feat_3771', 'feat_3772', 'feat_3773', 'feat_3774', 'feat_3775', 'feat_3776', 'feat_3777', 'feat_3778', 'feat_3779', 'feat_3780', 'feat_3781', 'feat_3782', 'feat_3783', 'feat_3784', 'feat_3785', 'feat_3786', 'feat_3787', 'feat_3788', 'feat_3789', 'feat_3790', 'feat_3791', 'feat_3792', 'feat_3793', 'feat_3794', 'feat_3795', 'feat_3796', 'feat_3797', 'feat_3798', 'feat_3799', 'feat_3800', 'feat_3801', 'feat_3802', 'feat_3803', 'feat_3804', 'feat_3805', 'feat_3806', 'feat_3807', 'feat_3808', 'feat_3809', 'feat_3810', 'feat_3811', 'feat_3812', 'feat_3813', 'feat_3814', 'feat_3815', 'feat_3816', 'feat_3817', 'feat_3818', 'feat_3819', 'feat_3820', 'feat_3821', 'feat_3822', 'feat_3823', 'feat_3824', 'feat_3825', 'feat_3826', 'feat_3827', 'feat_3828', 'feat_3829', 'feat_3830', 'feat_3831', 'feat_3832', 'feat_3833', 'feat_3834', 'feat_3835', 'feat_3836', 'feat_3837', 'feat_3838', 'feat_3839', 'feat_3840', 'feat_3841', 'feat_3842', 'feat_3843', 'feat_3844', 'feat_3845', 'feat_3846', 'feat_3847', 'feat_3848', 'feat_3849', 'feat_3850', 'feat_3851', 'feat_3852', 'feat_3853', 'feat_3854', 'feat_3855', 'feat_3856', 'feat_3857', 'feat_3858', 'feat_3859', 'feat_3860', 'feat_3861', 'feat_3862', 'feat_3863', 'feat_3864', 'feat_3865', 'feat_3866', 'feat_3867', 'feat_3868', 'feat_3869', 'feat_3870', 'feat_3871', 'feat_3872', 'feat_3873', 'feat_3874', 'feat_3875', 'feat_3876', 'feat_3877', 'feat_3878', 'feat_3879', 'feat_3880', 'feat_3881', 'feat_3882', 'feat_3883', 'feat_3884', 'feat_3885', 'feat_3886', 'feat_3887', 'feat_3888', 'feat_3889', 'feat_3890', 'feat_3891', 'feat_3892', 'feat_3893', 'feat_3894', 'feat_3895', 'feat_3896', 'feat_3897', 'feat_3898', 'feat_3899', 'feat_3900', 'feat_3901', 'feat_3902', 'feat_3903', 'feat_3904', 'feat_3905', 'feat_3906', 'feat_3907', 'feat_3908', 'feat_3909', 'feat_3910', 'feat_3911', 'feat_3912', 'feat_3913', 'feat_3914', 'feat_3915', 'feat_3916', 'feat_3917', 'feat_3918', 'feat_3919', 'feat_3920', 'feat_3921', 'feat_3922', 'feat_3923', 'feat_3924', 'feat_3925', 'feat_3926', 'feat_3927', 'feat_3928', 'feat_3929', 'feat_3930', 'feat_3931', 'feat_3932', 'feat_3933', 'feat_3934', 'feat_3935', 'feat_3936', 'feat_3937', 'feat_3938', 'feat_3939', 'feat_3940', 'feat_3941', 'feat_3942', 'feat_3943', 'feat_3944', 'feat_3945', 'feat_3946', 'feat_3947', 'feat_3948', 'feat_3949', 'feat_3950', 'feat_3951', 'feat_3952', 'feat_3953', 'feat_3954', 'feat_3955', 'feat_3956', 'feat_3957', 'feat_3958', 'feat_3959', 'feat_3960', 'feat_3961', 'feat_3962', 'feat_3963', 'feat_3964', 'feat_3965', 'feat_3966', 'feat_3967', 'feat_3968', 'feat_3969', 'feat_3970', 'feat_3971', 'feat_3972', 'feat_3973', 'feat_3974', 'feat_3975', 'feat_3976', 'feat_3977', 'feat_3978', 'feat_3979', 'feat_3980', 'feat_3981', 'feat_3982', 'feat_3983', 'feat_3984', 'feat_3985', 'feat_3986', 'feat_3987', 'feat_3988', 'feat_3989', 'feat_3990', 'feat_3991', 'feat_3992', 'feat_3993', 'feat_3994', 'feat_3995', 'feat_3996', 'feat_3997', 'feat_3998', 'feat_3999', 'feat_4000', 'feat_4001', 'feat_4002', 'feat_4003', 'feat_4004', 'feat_4005', 'feat_4006', 'feat_4007', 'feat_4008', 'feat_4009', 'feat_4010', 'feat_4011', 'feat_4012', 'feat_4013', 'feat_4014', 'feat_4015', 'feat_4016', 'feat_4017', 'feat_4018', 'feat_4019', 'feat_4020', 'feat_4021', 'feat_4022', 'feat_4023', 'feat_4024', 'feat_4025', 'feat_4026', 'feat_4027', 'feat_4028', 'feat_4029', 'feat_4030', 'feat_4031', 'feat_4032', 'feat_4033', 'feat_4034', 'feat_4035', 'feat_4036', 'feat_4037', 'feat_4038', 'feat_4039', 'feat_4040', 'feat_4041', 'feat_4042', 'feat_4043', 'feat_4044', 'feat_4045', 'feat_4046', 'feat_4047', 'feat_4048', 'feat_4049', 'feat_4050', 'feat_4051', 'feat_4052', 'feat_4053', 'feat_4054', 'feat_4055', 'feat_4056', 'feat_4057', 'feat_4058', 'feat_4059', 'feat_4060', 'feat_4061', 'feat_4062', 'feat_4063', 'feat_4064', 'feat_4065', 'feat_4066', 'feat_4067', 'feat_4068', 'feat_4069', 'feat_4070', 'feat_4071', 'feat_4072', 'feat_4073', 'feat_4074', 'feat_4075', 'feat_4076', 'feat_4077', 'feat_4078', 'feat_4079', 'feat_4080', 'feat_4081', 'feat_4082', 'feat_4083', 'feat_4084', 'feat_4085', 'feat_4086', 'feat_4087', 'feat_4088', 'feat_4089', 'feat_4090', 'feat_4091', 'feat_4092', 'feat_4093', 'feat_4094', 'feat_4095', 'feat_4096', 'feat_4097', 'feat_4098', 'feat_4099', 'feat_4100', 'feat_4101', 'feat_4102', 'feat_4103', 'feat_4104', 'feat_4105', 'feat_4106', 'feat_4107', 'feat_4108', 'feat_4109', 'feat_4110', 'feat_4111', 'feat_4112', 'feat_4113', 'feat_4114', 'feat_4115', 'feat_4116', 'feat_4117', 'feat_4118', 'feat_4119', 'feat_4120', 'feat_4121', 'feat_4122', 'feat_4123', 'feat_4124', 'feat_4125', 'feat_4126', 'feat_4127', 'feat_4128', 'feat_4129', 'feat_4130', 'feat_4131', 'feat_4132', 'feat_4133', 'feat_4134', 'feat_4135', 'feat_4136', 'feat_4137', 'feat_4138', 'feat_4139', 'feat_4140', 'feat_4141', 'feat_4142', 'feat_4143', 'feat_4144', 'feat_4145', 'feat_4146', 'feat_4147', 'feat_4148', 'feat_4149', 'feat_4150', 'feat_4151', 'feat_4152', 'feat_4153', 'feat_4154', 'feat_4155', 'feat_4156', 'feat_4157', 'feat_4158', 'feat_4159', 'feat_4160', 'feat_4161', 'feat_4162', 'feat_4163', 'feat_4164', 'feat_4165', 'feat_4166', 'feat_4167', 'feat_4168', 'feat_4169', 'feat_4170', 'feat_4171', 'feat_4172', 'feat_4173', 'feat_4174', 'feat_4175', 'feat_4176', 'feat_4177', 'feat_4178', 'feat_4179', 'feat_4180', 'feat_4181', 'feat_4182', 'feat_4183', 'feat_4184', 'feat_4185', 'feat_4186', 'feat_4187', 'feat_4188', 'feat_4189', 'feat_4190', 'feat_4191', 'feat_4192', 'feat_4193', 'feat_4194', 'feat_4195', 'feat_4196', 'feat_4197', 'feat_4198', 'feat_4199', 'feat_4200', 'feat_4201', 'feat_4202', 'feat_4203', 'feat_4204', 'feat_4205', 'feat_4206', 'feat_4207', 'feat_4208', 'feat_4209', 'feat_4210', 'feat_4211', 'feat_4212', 'feat_4213', 'feat_4214', 'feat_4215', 'feat_4216', 'feat_4217', 'feat_4218', 'feat_4219', 'feat_4220', 'feat_4221', 'feat_4222', 'feat_4223', 'feat_4224', 'feat_4225', 'feat_4226', 'feat_4227', 'feat_4228', 'feat_4229', 'feat_4230', 'feat_4231', 'feat_4232', 'feat_4233', 'feat_4234', 'feat_4235', 'feat_4236', 'feat_4237', 'feat_4238', 'feat_4239', 'feat_4240', 'feat_4241', 'feat_4242', 'feat_4243', 'feat_4244', 'feat_4245', 'feat_4246', 'feat_4247', 'feat_4248', 'feat_4249', 'feat_4250', 'feat_4251', 'feat_4252', 'feat_4253', 'feat_4254', 'feat_4255', 'feat_4256', 'feat_4257', 'feat_4258', 'feat_4259', 'feat_4260', 'feat_4261', 'feat_4262', 'feat_4263', 'feat_4264', 'feat_4265', 'feat_4266', 'feat_4267', 'feat_4268', 'feat_4269', 'feat_4270', 'feat_4271', 'feat_4272', 'feat_4273', 'feat_4274', 'feat_4275', 'feat_4276', 'feat_4277', 'feat_4278', 'feat_4279', 'feat_4280', 'feat_4281', 'feat_4282', 'feat_4283', 'feat_4284', 'feat_4285', 'feat_4286', 'feat_4287', 'feat_4288', 'feat_4289', 'feat_4290', 'feat_4291', 'feat_4292', 'feat_4293', 'feat_4294', 'feat_4295', 'feat_4296', 'feat_4297', 'feat_4298', 'feat_4299', 'feat_4300', 'feat_4301', 'feat_4302', 'feat_4303', 'feat_4304', 'feat_4305', 'feat_4306', 'feat_4307', 'feat_4308', 'feat_4309', 'feat_4310', 'feat_4311', 'feat_4312', 'feat_4313', 'feat_4314', 'feat_4315', 'feat_4316', 'feat_4317', 'feat_4318', 'feat_4319', 'feat_4320', 'feat_4321', 'feat_4322', 'feat_4323', 'feat_4324', 'feat_4325', 'feat_4326', 'feat_4327', 'feat_4328', 'feat_4329', 'feat_4330', 'feat_4331', 'feat_4332', 'feat_4333', 'feat_4334', 'feat_4335', 'feat_4336', 'feat_4337', 'feat_4338', 'feat_4339', 'feat_4340', 'feat_4341', 'feat_4342', 'feat_4343', 'feat_4344', 'feat_4345', 'feat_4346', 'feat_4347', 'feat_4348', 'feat_4349', 'feat_4350', 'feat_4351', 'feat_4352', 'feat_4353', 'feat_4354', 'feat_4355', 'feat_4356', 'feat_4357', 'feat_4358', 'feat_4359', 'feat_4360', 'feat_4361', 'feat_4362', 'feat_4363', 'feat_4364', 'feat_4365', 'feat_4366', 'feat_4367', 'feat_4368', 'feat_4369', 'feat_4370', 'feat_4371', 'feat_4372', 'feat_4373', 'feat_4374', 'feat_4375', 'feat_4376', 'feat_4377', 'feat_4378', 'feat_4379', 'feat_4380', 'feat_4381', 'feat_4382', 'feat_4383', 'feat_4384', 'feat_4385', 'feat_4386', 'feat_4387', 'feat_4388', 'feat_4389', 'feat_4390', 'feat_4391', 'feat_4392', 'feat_4393', 'feat_4394', 'feat_4395', 'feat_4396', 'feat_4397', 'feat_4398', 'feat_4399', 'feat_4400', 'feat_4401', 'feat_4402', 'feat_4403', 'feat_4404', 'feat_4405', 'feat_4406', 'feat_4407', 'feat_4408', 'feat_4409', 'feat_4410', 'feat_4411', 'feat_4412', 'feat_4413', 'feat_4414', 'feat_4415', 'feat_4416', 'feat_4417', 'feat_4418', 'feat_4419', 'feat_4420', 'feat_4421', 'feat_4422', 'feat_4423', 'feat_4424', 'feat_4425', 'feat_4426', 'feat_4427', 'feat_4428', 'feat_4429', 'feat_4430', 'feat_4431', 'feat_4432', 'feat_4433', 'feat_4434', 'feat_4435', 'feat_4436', 'feat_4437', 'feat_4438', 'feat_4439', 'feat_4440', 'feat_4441', 'feat_4442', 'feat_4443', 'feat_4444', 'feat_4445', 'feat_4446', 'feat_4447', 'feat_4448', 'feat_4449', 'feat_4450', 'feat_4451', 'feat_4452', 'feat_4453', 'feat_4454', 'feat_4455', 'feat_4456', 'feat_4457', 'feat_4458', 'feat_4459', 'feat_4460', 'feat_4461', 'feat_4462', 'feat_4463', 'feat_4464', 'feat_4465', 'feat_4466', 'feat_4467', 'feat_4468', 'feat_4469', 'feat_4470', 'feat_4471', 'feat_4472', 'feat_4473', 'feat_4474', 'feat_4475', 'feat_4476', 'feat_4477', 'feat_4478', 'feat_4479', 'feat_4480', 'feat_4481', 'feat_4482', 'feat_4483', 'feat_4484', 'feat_4485', 'feat_4486', 'feat_4487', 'feat_4488', 'feat_4489', 'feat_4490', 'feat_4491', 'feat_4492', 'feat_4493', 'feat_4494', 'feat_4495', 'feat_4496', 'feat_4497', 'feat_4498', 'feat_4499', 'feat_4500', 'feat_4501', 'feat_4502', 'feat_4503', 'feat_4504', 'feat_4505', 'feat_4506', 'feat_4507', 'feat_4508', 'feat_4509', 'feat_4510', 'feat_4511', 'feat_4512', 'feat_4513', 'feat_4514', 'feat_4515', 'feat_4516', 'feat_4517', 'feat_4518', 'feat_4519', 'feat_4520', 'feat_4521', 'feat_4522', 'feat_4523', 'feat_4524', 'feat_4525', 'feat_4526', 'feat_4527', 'feat_4528', 'feat_4529', 'feat_4530', 'feat_4531', 'feat_4532', 'feat_4533', 'feat_4534', 'feat_4535', 'feat_4536', 'feat_4537', 'feat_4538', 'feat_4539', 'feat_4540', 'feat_4541', 'feat_4542', 'feat_4543', 'feat_4544', 'feat_4545', 'feat_4546', 'feat_4547', 'feat_4548', 'feat_4549', 'feat_4550', 'feat_4551', 'feat_4552', 'feat_4553', 'feat_4554', 'feat_4555', 'feat_4556', 'feat_4557', 'feat_4558', 'feat_4559', 'feat_4560', 'feat_4561', 'feat_4562', 'feat_4563', 'feat_4564', 'feat_4565', 'feat_4566', 'feat_4567', 'feat_4568', 'feat_4569', 'feat_4570', 'feat_4571', 'feat_4572', 'feat_4573', 'feat_4574', 'feat_4575', 'feat_4576', 'feat_4577', 'feat_4578', 'feat_4579', 'feat_4580', 'feat_4581', 'feat_4582', 'feat_4583', 'feat_4584', 'feat_4585', 'feat_4586', 'feat_4587', 'feat_4588', 'feat_4589', 'feat_4590', 'feat_4591', 'feat_4592', 'feat_4593', 'feat_4594', 'feat_4595', 'feat_4596', 'feat_4597', 'feat_4598', 'feat_4599', 'feat_4600', 'feat_4601', 'feat_4602', 'feat_4603', 'feat_4604', 'feat_4605', 'feat_4606', 'feat_4607', 'feat_4608', 'feat_4609', 'feat_4610', 'feat_4611', 'feat_4612', 'feat_4613', 'feat_4614', 'feat_4615', 'feat_4616', 'feat_4617', 'feat_4618', 'feat_4619', 'feat_4620', 'feat_4621', 'feat_4622', 'feat_4623', 'feat_4624', 'feat_4625', 'feat_4626', 'feat_4627', 'feat_4628', 'feat_4629', 'feat_4630', 'feat_4631', 'feat_4632', 'feat_4633', 'feat_4634', 'feat_4635', 'feat_4636', 'feat_4637', 'feat_4638', 'feat_4639', 'feat_4640', 'feat_4641', 'feat_4642', 'feat_4643', 'feat_4644', 'feat_4645', 'feat_4646', 'feat_4647', 'feat_4648', 'feat_4649', 'feat_4650', 'feat_4651', 'feat_4652', 'feat_4653', 'feat_4654', 'feat_4655', 'feat_4656', 'feat_4657', 'feat_4658', 'feat_4659', 'feat_4660', 'feat_4661', 'feat_4662', 'feat_4663', 'feat_4664', 'feat_4665', 'feat_4666', 'feat_4667', 'feat_4668', 'feat_4669', 'feat_4670', 'feat_4671', 'feat_4672', 'feat_4673', 'feat_4674', 'feat_4675', 'feat_4676', 'feat_4677', 'feat_4678', 'feat_4679', 'feat_4680', 'feat_4681', 'feat_4682', 'feat_4683', 'feat_4684', 'feat_4685', 'feat_4686', 'feat_4687', 'feat_4688', 'feat_4689', 'feat_4690', 'feat_4691', 'feat_4692', 'feat_4693', 'feat_4694', 'feat_4695', 'feat_4696', 'feat_4697', 'feat_4698', 'feat_4699', 'feat_4700', 'feat_4701', 'feat_4702', 'feat_4703', 'feat_4704', 'feat_4705', 'feat_4706', 'feat_4707', 'feat_4708', 'feat_4709', 'feat_4710', 'feat_4711', 'feat_4712', 'feat_4713', 'feat_4714', 'feat_4715', 'feat_4716', 'feat_4717', 'feat_4718', 'feat_4719', 'feat_4720', 'feat_4721', 'feat_4722', 'feat_4723', 'feat_4724', 'feat_4725', 'feat_4726', 'feat_4727', 'feat_4728', 'feat_4729', 'feat_4730', 'feat_4731', 'feat_4732', 'feat_4733', 'feat_4734', 'feat_4735', 'feat_4736', 'feat_4737', 'feat_4738', 'feat_4739', 'feat_4740', 'feat_4741', 'feat_4742', 'feat_4743', 'feat_4744', 'feat_4745', 'feat_4746', 'feat_4747', 'feat_4748', 'feat_4749', 'feat_4750', 'feat_4751', 'feat_4752', 'feat_4753', 'feat_4754', 'feat_4755', 'feat_4756', 'feat_4757', 'feat_4758', 'feat_4759', 'feat_4760', 'feat_4761', 'feat_4762', 'feat_4763', 'feat_4764', 'feat_4765', 'feat_4766', 'feat_4767', 'feat_4768', 'feat_4769', 'feat_4770', 'feat_4771', 'feat_4772', 'feat_4773', 'feat_4774', 'feat_4775', 'feat_4776', 'feat_4777', 'feat_4778', 'feat_4779', 'feat_4780', 'feat_4781', 'feat_4782', 'feat_4783', 'feat_4784', 'feat_4785', 'feat_4786', 'feat_4787', 'feat_4788', 'feat_4789', 'feat_4790', 'feat_4791', 'feat_4792', 'feat_4793', 'feat_4794', 'feat_4795', 'feat_4796', 'feat_4797', 'feat_4798', 'feat_4799', 'feat_4800', 'feat_4801', 'feat_4802', 'feat_4803', 'feat_4804', 'feat_4805', 'feat_4806', 'feat_4807', 'feat_4808', 'feat_4809', 'feat_4810', 'feat_4811', 'feat_4812', 'feat_4813', 'feat_4814', 'feat_4815', 'feat_4816', 'feat_4817', 'feat_4818', 'feat_4819', 'feat_4820', 'feat_4821', 'feat_4822', 'feat_4823', 'feat_4824', 'feat_4825', 'feat_4826', 'feat_4827', 'feat_4828', 'feat_4829', 'feat_4830', 'feat_4831', 'feat_4832', 'feat_4833', 'feat_4834', 'feat_4835', 'feat_4836', 'feat_4837', 'feat_4838', 'feat_4839', 'feat_4840', 'feat_4841', 'feat_4842', 'feat_4843', 'feat_4844', 'feat_4845', 'feat_4846', 'feat_4847', 'feat_4848', 'feat_4849', 'feat_4850', 'feat_4851', 'feat_4852', 'feat_4853', 'feat_4854', 'feat_4855', 'feat_4856', 'feat_4857', 'feat_4858', 'feat_4859', 'feat_4860', 'feat_4861', 'feat_4862', 'feat_4863', 'feat_4864', 'feat_4865', 'feat_4866', 'feat_4867', 'feat_4868', 'feat_4869', 'feat_4870', 'feat_4871', 'feat_4872', 'feat_4873', 'feat_4874', 'feat_4875', 'feat_4876', 'feat_4877', 'feat_4878', 'feat_4879', 'feat_4880', 'feat_4881', 'feat_4882', 'feat_4883', 'feat_4884', 'feat_4885', 'feat_4886', 'feat_4887', 'feat_4888', 'feat_4889', 'feat_4890', 'feat_4891', 'feat_4892', 'feat_4893', 'feat_4894', 'feat_4895', 'feat_4896', 'feat_4897', 'feat_4898', 'feat_4899', 'feat_4900', 'feat_4901', 'feat_4902', 'feat_4903', 'feat_4904', 'feat_4905', 'feat_4906', 'feat_4907', 'feat_4908', 'feat_4909', 'feat_4910', 'feat_4911', 'feat_4912', 'feat_4913', 'feat_4914', 'feat_4915', 'feat_4916', 'feat_4917', 'feat_4918', 'feat_4919', 'feat_4920', 'feat_4921', 'feat_4922', 'feat_4923', 'feat_4924', 'feat_4925', 'feat_4926', 'feat_4927', 'feat_4928', 'feat_4929', 'feat_4930', 'feat_4931', 'feat_4932', 'feat_4933', 'feat_4934', 'feat_4935', 'feat_4936', 'feat_4937', 'feat_4938', 'feat_4939', 'feat_4940', 'feat_4941', 'feat_4942', 'feat_4943', 'feat_4944', 'feat_4945', 'feat_4946', 'feat_4947', 'feat_4948', 'feat_4949', 'feat_4950', 'feat_4951', 'feat_4952', 'feat_4953', 'feat_4954', 'feat_4955', 'feat_4956', 'feat_4957', 'feat_4958', 'feat_4959', 'feat_4960', 'feat_4961', 'feat_4962', 'feat_4963', 'feat_4964', 'feat_4965', 'feat_4966', 'feat_4967', 'feat_4968', 'feat_4969', 'feat_4970', 'feat_4971', 'feat_4972', 'feat_4973', 'feat_4974', 'feat_4975', 'feat_4976', 'feat_4977', 'feat_4978', 'feat_4979', 'feat_4980', 'feat_4981', 'feat_4982', 'feat_4983', 'feat_4984', 'feat_4985', 'feat_4986', 'feat_4987', 'feat_4988', 'feat_4989', 'feat_4990', 'feat_4991', 'feat_4992', 'feat_4993', 'feat_4994', 'feat_4995', 'feat_4996', 'feat_4997', 'feat_4998', 'feat_4999', 'feat_5000', 'feat_5001', 'feat_5002', 'feat_5003', 'feat_5004', 'feat_5005', 'feat_5006', 'feat_5007', 'feat_5008', 'feat_5009', 'feat_5010', 'feat_5011', 'feat_5012', 'feat_5013', 'feat_5014', 'feat_5015', 'feat_5016', 'feat_5017', 'feat_5018', 'feat_5019', 'feat_5020', 'feat_5021', 'feat_5022', 'feat_5023', 'feat_5024', 'feat_5025', 'feat_5026', 'feat_5027', 'feat_5028', 'feat_5029', 'feat_5030', 'feat_5031', 'feat_5032', 'feat_5033', 'feat_5034', 'feat_5035', 'feat_5036', 'feat_5037', 'feat_5038', 'feat_5039', 'feat_5040', 'feat_5041', 'feat_5042', 'feat_5043', 'feat_5044', 'feat_5045', 'feat_5046', 'feat_5047', 'feat_5048', 'feat_5049', 'feat_5050', 'feat_5051', 'feat_5052', 'feat_5053', 'feat_5054', 'feat_5055', 'feat_5056', 'feat_5057', 'feat_5058', 'feat_5059', 'feat_5060', 'feat_5061', 'feat_5062', 'feat_5063', 'feat_5064', 'feat_5065', 'feat_5066', 'feat_5067', 'feat_5068', 'feat_5069', 'feat_5070', 'feat_5071', 'feat_5072', 'feat_5073', 'feat_5074', 'feat_5075', 'feat_5076', 'feat_5077', 'feat_5078', 'feat_5079', 'feat_5080', 'feat_5081', 'feat_5082', 'feat_5083', 'feat_5084', 'feat_5085', 'feat_5086', 'feat_5087', 'feat_5088', 'feat_5089', 'feat_5090', 'feat_5091', 'feat_5092', 'feat_5093', 'feat_5094', 'feat_5095', 'feat_5096', 'feat_5097', 'feat_5098', 'feat_5099', 'feat_5100', 'feat_5101', 'feat_5102', 'feat_5103', 'feat_5104', 'feat_5105', 'feat_5106', 'feat_5107', 'feat_5108', 'feat_5109', 'feat_5110', 'feat_5111', 'feat_5112', 'feat_5113', 'feat_5114', 'feat_5115', 'feat_5116', 'feat_5117', 'feat_5118', 'feat_5119', 'feat_5120', 'feat_5121', 'feat_5122', 'feat_5123', 'feat_5124', 'feat_5125', 'feat_5126', 'feat_5127', 'feat_5128', 'feat_5129', 'feat_5130', 'feat_5131', 'feat_5132', 'feat_5133', 'feat_5134', 'feat_5135', 'feat_5136', 'feat_5137', 'feat_5138', 'feat_5139', 'feat_5140', 'feat_5141', 'feat_5142', 'feat_5143', 'feat_5144', 'feat_5145', 'feat_5146', 'feat_5147', 'feat_5148', 'feat_5149', 'feat_5150', 'feat_5151', 'feat_5152', 'feat_5153', 'feat_5154', 'feat_5155', 'feat_5156', 'feat_5157', 'feat_5158', 'feat_5159', 'feat_5160', 'feat_5161', 'feat_5162', 'feat_5163', 'feat_5164', 'feat_5165', 'feat_5166', 'feat_5167', 'feat_5168', 'feat_5169', 'feat_5170', 'feat_5171', 'feat_5172', 'feat_5173', 'feat_5174', 'feat_5175', 'feat_5176', 'feat_5177', 'feat_5178', 'feat_5179', 'feat_5180', 'feat_5181', 'feat_5182', 'feat_5183', 'feat_5184', 'feat_5185', 'feat_5186', 'feat_5187', 'feat_5188', 'feat_5189', 'feat_5190', 'feat_5191', 'feat_5192', 'feat_5193', 'feat_5194', 'feat_5195', 'feat_5196', 'feat_5197', 'feat_5198', 'feat_5199', 'feat_5200', 'feat_5201', 'feat_5202', 'feat_5203', 'feat_5204', 'feat_5205', 'feat_5206', 'feat_5207', 'feat_5208', 'feat_5209', 'feat_5210', 'feat_5211', 'feat_5212', 'feat_5213', 'feat_5214', 'feat_5215', 'feat_5216', 'feat_5217', 'feat_5218', 'feat_5219', 'feat_5220', 'feat_5221', 'feat_5222', 'feat_5223', 'feat_5224', 'feat_5225', 'feat_5226', 'feat_5227', 'feat_5228', 'feat_5229', 'feat_5230', 'feat_5231', 'feat_5232', 'feat_5233', 'feat_5234', 'feat_5235', 'feat_5236', 'feat_5237', 'feat_5238', 'feat_5239', 'feat_5240', 'feat_5241', 'feat_5242', 'feat_5243', 'feat_5244', 'feat_5245', 'feat_5246', 'feat_5247', 'feat_5248', 'feat_5249', 'feat_5250', 'feat_5251', 'feat_5252', 'feat_5253', 'feat_5254', 'feat_5255', 'feat_5256', 'feat_5257', 'feat_5258', 'feat_5259', 'feat_5260', 'feat_5261', 'feat_5262', 'feat_5263', 'feat_5264', 'feat_5265', 'feat_5266', 'feat_5267', 'feat_5268', 'feat_5269', 'feat_5270', 'feat_5271', 'feat_5272', 'feat_5273', 'feat_5274', 'feat_5275', 'feat_5276', 'feat_5277', 'feat_5278', 'feat_5279', 'feat_5280', 'feat_5281', 'feat_5282', 'feat_5283', 'feat_5284', 'feat_5285', 'feat_5286', 'feat_5287', 'feat_5288', 'feat_5289', 'feat_5290', 'feat_5291', 'feat_5292', 'feat_5293', 'feat_5294', 'feat_5295', 'feat_5296', 'feat_5297', 'feat_5298', 'feat_5299', 'feat_5300', 'feat_5301', 'feat_5302', 'feat_5303', 'feat_5304', 'feat_5305', 'feat_5306', 'feat_5307', 'feat_5308', 'feat_5309', 'feat_5310', 'feat_5311', 'feat_5312', 'feat_5313', 'feat_5314', 'feat_5315', 'feat_5316', 'feat_5317', 'feat_5318', 'feat_5319', 'feat_5320', 'feat_5321', 'feat_5322', 'feat_5323', 'feat_5324', 'feat_5325', 'feat_5326', 'feat_5327', 'feat_5328', 'feat_5329', 'feat_5330', 'feat_5331', 'feat_5332', 'feat_5333', 'feat_5334', 'feat_5335', 'feat_5336', 'feat_5337', 'feat_5338', 'feat_5339', 'feat_5340', 'feat_5341', 'feat_5342', 'feat_5343', 'feat_5344', 'feat_5345', 'feat_5346', 'feat_5347', 'feat_5348', 'feat_5349', 'feat_5350', 'feat_5351', 'feat_5352', 'feat_5353', 'feat_5354', 'feat_5355', 'feat_5356', 'feat_5357', 'feat_5358', 'feat_5359', 'feat_5360', 'feat_5361', 'feat_5362', 'feat_5363', 'feat_5364', 'feat_5365', 'feat_5366', 'feat_5367', 'feat_5368', 'feat_5369', 'feat_5370', 'feat_5371', 'feat_5372', 'feat_5373', 'feat_5374', 'feat_5375', 'feat_5376', 'feat_5377', 'feat_5378', 'feat_5379', 'feat_5380', 'feat_5381', 'feat_5382', 'feat_5383', 'feat_5384', 'feat_5385', 'feat_5386', 'feat_5387', 'feat_5388', 'feat_5389', 'feat_5390', 'feat_5391', 'feat_5392', 'feat_5393', 'feat_5394', 'feat_5395', 'feat_5396', 'feat_5397', 'feat_5398', 'feat_5399', 'feat_5400', 'feat_5401', 'feat_5402', 'feat_5403', 'feat_5404', 'feat_5405', 'feat_5406', 'feat_5407', 'feat_5408', 'feat_5409', 'feat_5410', 'feat_5411', 'feat_5412', 'feat_5413', 'feat_5414', 'feat_5415', 'feat_5416', 'feat_5417', 'feat_5418', 'feat_5419', 'feat_5420', 'feat_5421', 'feat_5422', 'feat_5423', 'feat_5424', 'feat_5425', 'feat_5426', 'feat_5427', 'feat_5428', 'feat_5429', 'feat_5430', 'feat_5431', 'feat_5432', 'feat_5433', 'feat_5434', 'feat_5435', 'feat_5436', 'feat_5437', 'feat_5438', 'feat_5439', 'feat_5440', 'feat_5441', 'feat_5442', 'feat_5443', 'feat_5444', 'feat_5445', 'feat_5446', 'feat_5447', 'feat_5448', 'feat_5449', 'feat_5450', 'feat_5451', 'feat_5452', 'feat_5453', 'feat_5454', 'feat_5455', 'feat_5456', 'feat_5457', 'feat_5458', 'feat_5459', 'feat_5460', 'feat_5461', 'feat_5462', 'feat_5463', 'feat_5464', 'feat_5465', 'feat_5466', 'feat_5467', 'feat_5468', 'feat_5469', 'feat_5470', 'feat_5471', 'feat_5472', 'feat_5473', 'feat_5474', 'feat_5475', 'feat_5476', 'feat_5477', 'feat_5478', 'feat_5479', 'feat_5480', 'feat_5481', 'feat_5482', 'feat_5483', 'feat_5484', 'feat_5485', 'feat_5486', 'feat_5487', 'feat_5488', 'feat_5489', 'feat_5490', 'feat_5491', 'feat_5492', 'feat_5493', 'feat_5494', 'feat_5495', 'feat_5496', 'feat_5497', 'feat_5498', 'feat_5499', 'feat_5500', 'feat_5501', 'feat_5502', 'feat_5503', 'feat_5504', 'feat_5505', 'feat_5506', 'feat_5507', 'feat_5508', 'feat_5509', 'feat_5510', 'feat_5511', 'feat_5512', 'feat_5513', 'feat_5514', 'feat_5515', 'feat_5516', 'feat_5517', 'feat_5518', 'feat_5519', 'feat_5520', 'feat_5521', 'feat_5522', 'feat_5523', 'feat_5524', 'feat_5525', 'feat_5526', 'feat_5527', 'feat_5528', 'feat_5529', 'feat_5530', 'feat_5531', 'feat_5532', 'feat_5533', 'feat_5534', 'feat_5535', 'feat_5536', 'feat_5537', 'feat_5538', 'feat_5539', 'feat_5540', 'feat_5541', 'feat_5542', 'feat_5543', 'feat_5544', 'feat_5545', 'feat_5546', 'feat_5547', 'feat_5548', 'feat_5549', 'feat_5550', 'feat_5551', 'feat_5552', 'feat_5553', 'feat_5554', 'feat_5555', 'feat_5556', 'feat_5557', 'feat_5558', 'feat_5559', 'feat_5560', 'feat_5561', 'feat_5562', 'feat_5563', 'feat_5564', 'feat_5565', 'feat_5566', 'feat_5567', 'feat_5568', 'feat_5569', 'feat_5570', 'feat_5571', 'feat_5572', 'feat_5573', 'feat_5574', 'feat_5575', 'feat_5576', 'feat_5577', 'feat_5578', 'feat_5579', 'feat_5580', 'feat_5581', 'feat_5582', 'feat_5583', 'feat_5584', 'feat_5585', 'feat_5586', 'feat_5587', 'feat_5588', 'feat_5589', 'feat_5590', 'feat_5591', 'feat_5592', 'feat_5593', 'feat_5594', 'feat_5595', 'feat_5596', 'feat_5597', 'feat_5598', 'feat_5599', 'feat_5600', 'feat_5601', 'feat_5602', 'feat_5603', 'feat_5604', 'feat_5605', 'feat_5606', 'feat_5607', 'feat_5608', 'feat_5609', 'feat_5610', 'feat_5611', 'feat_5612', 'feat_5613', 'feat_5614', 'feat_5615', 'feat_5616', 'feat_5617', 'feat_5618', 'feat_5619', 'feat_5620', 'feat_5621', 'feat_5622', 'feat_5623', 'feat_5624', 'feat_5625', 'feat_5626', 'feat_5627', 'feat_5628', 'feat_5629', 'feat_5630', 'feat_5631', 'feat_5632', 'feat_5633', 'feat_5634', 'feat_5635', 'feat_5636', 'feat_5637', 'feat_5638', 'feat_5639', 'feat_5640', 'feat_5641', 'feat_5642', 'feat_5643', 'feat_5644', 'feat_5645', 'feat_5646', 'feat_5647', 'feat_5648', 'feat_5649', 'feat_5650', 'feat_5651', 'feat_5652', 'feat_5653', 'feat_5654', 'feat_5655', 'feat_5656', 'feat_5657', 'feat_5658', 'feat_5659', 'feat_5660', 'feat_5661', 'feat_5662', 'feat_5663', 'feat_5664', 'feat_5665', 'feat_5666', 'feat_5667', 'feat_5668', 'feat_5669', 'feat_5670', 'feat_5671', 'feat_5672', 'feat_5673', 'feat_5674', 'feat_5675', 'feat_5676', 'feat_5677', 'feat_5678', 'feat_5679', 'feat_5680', 'feat_5681', 'feat_5682', 'feat_5683', 'feat_5684', 'feat_5685', 'feat_5686', 'feat_5687', 'feat_5688', 'feat_5689', 'feat_5690', 'feat_5691', 'feat_5692', 'feat_5693', 'feat_5694', 'feat_5695', 'feat_5696', 'feat_5697', 'feat_5698', 'feat_5699', 'feat_5700', 'feat_5701', 'feat_5702', 'feat_5703', 'feat_5704', 'feat_5705', 'feat_5706', 'feat_5707', 'feat_5708', 'feat_5709', 'feat_5710', 'feat_5711', 'feat_5712', 'feat_5713', 'feat_5714', 'feat_5715', 'feat_5716', 'feat_5717', 'feat_5718', 'feat_5719', 'feat_5720', 'feat_5721', 'feat_5722', 'feat_5723', 'feat_5724', 'feat_5725', 'feat_5726', 'feat_5727', 'feat_5728', 'feat_5729', 'feat_5730', 'feat_5731', 'feat_5732', 'feat_5733', 'feat_5734', 'feat_5735', 'feat_5736', 'feat_5737', 'feat_5738', 'feat_5739', 'feat_5740', 'feat_5741', 'feat_5742', 'feat_5743', 'feat_5744', 'feat_5745', 'feat_5746', 'feat_5747', 'feat_5748', 'feat_5749', 'feat_5750', 'feat_5751', 'feat_5752', 'feat_5753', 'feat_5754', 'feat_5755', 'feat_5756', 'feat_5757', 'feat_5758', 'feat_5759', 'feat_5760', 'feat_5761', 'feat_5762', 'feat_5763', 'feat_5764', 'feat_5765', 'feat_5766', 'feat_5767', 'feat_5768', 'feat_5769', 'feat_5770', 'feat_5771', 'feat_5772', 'feat_5773', 'feat_5774', 'feat_5775', 'feat_5776', 'feat_5777', 'feat_5778', 'feat_5779', 'feat_5780', 'feat_5781', 'feat_5782', 'feat_5783', 'feat_5784', 'feat_5785', 'feat_5786', 'feat_5787', 'feat_5788', 'feat_5789', 'feat_5790', 'feat_5791', 'feat_5792', 'feat_5793', 'feat_5794', 'feat_5795', 'feat_5796', 'feat_5797', 'feat_5798', 'feat_5799', 'feat_5800', 'feat_5801', 'feat_5802', 'feat_5803', 'feat_5804', 'feat_5805', 'feat_5806', 'feat_5807', 'feat_5808', 'feat_5809', 'feat_5810', 'feat_5811', 'feat_5812', 'feat_5813', 'feat_5814', 'feat_5815', 'feat_5816', 'feat_5817', 'feat_5818', 'feat_5819', 'feat_5820', 'feat_5821', 'feat_5822', 'feat_5823', 'feat_5824', 'feat_5825', 'feat_5826', 'feat_5827', 'feat_5828', 'feat_5829', 'feat_5830', 'feat_5831', 'feat_5832', 'feat_5833', 'feat_5834', 'feat_5835', 'feat_5836', 'feat_5837', 'feat_5838', 'feat_5839', 'feat_5840', 'feat_5841', 'feat_5842', 'feat_5843', 'feat_5844', 'feat_5845', 'feat_5846', 'feat_5847', 'feat_5848', 'feat_5849', 'feat_5850', 'feat_5851', 'feat_5852', 'feat_5853', 'feat_5854', 'feat_5855', 'feat_5856', 'feat_5857', 'feat_5858', 'feat_5859', 'feat_5860', 'feat_5861', 'feat_5862', 'feat_5863', 'feat_5864', 'feat_5865', 'feat_5866', 'feat_5867', 'feat_5868', 'feat_5869', 'feat_5870', 'feat_5871', 'feat_5872', 'feat_5873', 'feat_5874', 'feat_5875', 'feat_5876', 'feat_5877', 'feat_5878', 'feat_5879', 'feat_5880', 'feat_5881', 'feat_5882', 'feat_5883', 'feat_5884', 'feat_5885', 'feat_5886', 'feat_5887', 'feat_5888', 'feat_5889', 'feat_5890', 'feat_5891', 'feat_5892', 'feat_5893', 'feat_5894', 'feat_5895', 'feat_5896', 'feat_5897', 'feat_5898', 'feat_5899', 'feat_5900', 'feat_5901', 'feat_5902', 'feat_5903', 'feat_5904', 'feat_5905', 'feat_5906', 'feat_5907', 'feat_5908', 'feat_5909', 'feat_5910', 'feat_5911', 'feat_5912', 'feat_5913', 'feat_5914', 'feat_5915', 'feat_5916', 'feat_5917', 'feat_5918', 'feat_5919', 'feat_5920', 'feat_5921', 'feat_5922', 'feat_5923', 'feat_5924', 'feat_5925', 'feat_5926', 'feat_5927', 'feat_5928', 'feat_5929', 'feat_5930', 'feat_5931', 'feat_5932', 'feat_5933', 'feat_5934', 'feat_5935', 'feat_5936', 'feat_5937', 'feat_5938', 'feat_5939', 'feat_5940', 'feat_5941', 'feat_5942', 'feat_5943', 'feat_5944', 'feat_5945', 'feat_5946', 'feat_5947', 'feat_5948', 'feat_5949', 'feat_5950', 'feat_5951', 'feat_5952', 'feat_5953', 'feat_5954', 'feat_5955', 'feat_5956', 'feat_5957', 'feat_5958', 'feat_5959', 'feat_5960', 'feat_5961', 'feat_5962', 'feat_5963', 'feat_5964', 'feat_5965', 'feat_5966', 'feat_5967', 'feat_5968', 'feat_5969', 'feat_5970', 'feat_5971', 'feat_5972', 'feat_5973', 'feat_5974', 'feat_5975', 'feat_5976', 'feat_5977', 'feat_5978', 'feat_5979', 'feat_5980', 'feat_5981', 'feat_5982', 'feat_5983', 'feat_5984', 'feat_5985', 'feat_5986', 'feat_5987', 'feat_5988', 'feat_5989', 'feat_5990', 'feat_5991', 'feat_5992', 'feat_5993', 'feat_5994', 'feat_5995', 'feat_5996', 'feat_5997', 'feat_5998', 'feat_5999', 'feat_6000', 'feat_6001', 'feat_6002', 'feat_6003', 'feat_6004', 'feat_6005', 'feat_6006', 'feat_6007', 'feat_6008', 'feat_6009', 'feat_6010', 'feat_6011', 'feat_6012', 'feat_6013', 'feat_6014', 'feat_6015', 'feat_6016', 'feat_6017', 'feat_6018', 'feat_6019', 'feat_6020', 'feat_6021', 'feat_6022', 'feat_6023', 'feat_6024', 'feat_6025', 'feat_6026', 'feat_6027', 'feat_6028', 'feat_6029', 'feat_6030', 'feat_6031', 'feat_6032', 'feat_6033', 'feat_6034', 'feat_6035', 'feat_6036', 'feat_6037', 'feat_6038', 'feat_6039', 'feat_6040', 'feat_6041', 'feat_6042', 'feat_6043', 'feat_6044', 'feat_6045', 'feat_6046', 'feat_6047', 'feat_6048', 'feat_6049', 'feat_6050', 'feat_6051', 'feat_6052', 'feat_6053', 'feat_6054', 'feat_6055', 'feat_6056', 'feat_6057', 'feat_6058', 'feat_6059', 'feat_6060', 'feat_6061', 'feat_6062', 'feat_6063', 'feat_6064', 'feat_6065', 'feat_6066', 'feat_6067', 'feat_6068', 'feat_6069', 'feat_6070', 'feat_6071', 'feat_6072', 'feat_6073', 'feat_6074', 'feat_6075', 'feat_6076', 'feat_6077', 'feat_6078', 'feat_6079', 'feat_6080', 'feat_6081', 'feat_6082', 'feat_6083', 'feat_6084', 'feat_6085', 'feat_6086', 'feat_6087', 'feat_6088', 'feat_6089', 'feat_6090', 'feat_6091', 'feat_6092', 'feat_6093', 'feat_6094', 'feat_6095', 'feat_6096', 'feat_6097', 'feat_6098', 'feat_6099', 'feat_6100', 'feat_6101', 'feat_6102', 'feat_6103', 'feat_6104', 'feat_6105', 'feat_6106', 'feat_6107', 'feat_6108', 'feat_6109', 'feat_6110', 'feat_6111', 'feat_6112', 'feat_6113', 'feat_6114', 'feat_6115', 'feat_6116', 'feat_6117', 'feat_6118', 'feat_6119', 'feat_6120', 'feat_6121', 'feat_6122', 'feat_6123', 'feat_6124', 'feat_6125', 'feat_6126', 'feat_6127', 'feat_6128', 'feat_6129', 'feat_6130', 'feat_6131', 'feat_6132', 'feat_6133', 'feat_6134', 'feat_6135', 'feat_6136', 'feat_6137', 'feat_6138', 'feat_6139', 'feat_6140', 'feat_6141', 'feat_6142', 'feat_6143', 'feat_6144', 'feat_6145', 'feat_6146', 'feat_6147', 'feat_6148', 'feat_6149', 'feat_6150', 'feat_6151', 'feat_6152', 'feat_6153', 'feat_6154', 'feat_6155', 'feat_6156', 'feat_6157', 'feat_6158', 'feat_6159', 'feat_6160', 'feat_6161', 'feat_6162', 'feat_6163', 'feat_6164', 'feat_6165', 'feat_6166', 'feat_6167', 'feat_6168', 'feat_6169', 'feat_6170', 'feat_6171', 'feat_6172', 'feat_6173', 'feat_6174', 'feat_6175', 'feat_6176', 'feat_6177', 'feat_6178', 'feat_6179', 'feat_6180', 'feat_6181', 'feat_6182', 'feat_6183', 'feat_6184', 'feat_6185', 'feat_6186', 'feat_6187', 'feat_6188', 'feat_6189', 'feat_6190', 'feat_6191', 'feat_6192', 'feat_6193', 'feat_6194', 'feat_6195', 'feat_6196', 'feat_6197', 'feat_6198', 'feat_6199', 'feat_6200', 'feat_6201', 'feat_6202', 'feat_6203', 'feat_6204', 'feat_6205', 'feat_6206', 'feat_6207', 'feat_6208', 'feat_6209', 'feat_6210', 'feat_6211', 'feat_6212', 'feat_6213', 'feat_6214', 'feat_6215', 'feat_6216', 'feat_6217', 'feat_6218', 'feat_6219', 'feat_6220', 'feat_6221', 'feat_6222', 'feat_6223', 'feat_6224', 'feat_6225', 'feat_6226', 'feat_6227', 'feat_6228', 'feat_6229', 'feat_6230', 'feat_6231', 'feat_6232', 'feat_6233', 'feat_6234', 'feat_6235', 'feat_6236', 'feat_6237', 'feat_6238', 'feat_6239', 'feat_6240', 'feat_6241', 'feat_6242', 'feat_6243', 'feat_6244', 'feat_6245', 'feat_6246', 'feat_6247', 'feat_6248', 'feat_6249', 'feat_6250', 'feat_6251', 'feat_6252', 'feat_6253', 'feat_6254', 'feat_6255', 'feat_6256', 'feat_6257', 'feat_6258', 'feat_6259', 'feat_6260', 'feat_6261', 'feat_6262', 'feat_6263', 'feat_6264', 'feat_6265', 'feat_6266', 'feat_6267', 'feat_6268', 'feat_6269', 'feat_6270', 'feat_6271', 'feat_6272', 'feat_6273', 'feat_6274', 'feat_6275', 'feat_6276', 'feat_6277', 'feat_6278', 'feat_6279', 'feat_6280', 'feat_6281', 'feat_6282', 'feat_6283', 'feat_6284', 'feat_6285', 'feat_6286', 'feat_6287', 'feat_6288', 'feat_6289', 'feat_6290', 'feat_6291', 'feat_6292', 'feat_6293', 'feat_6294', 'feat_6295', 'feat_6296', 'feat_6297', 'feat_6298', 'feat_6299', 'feat_6300', 'feat_6301', 'feat_6302', 'feat_6303', 'feat_6304', 'feat_6305', 'feat_6306', 'feat_6307', 'feat_6308', 'feat_6309', 'feat_6310', 'feat_6311', 'feat_6312', 'feat_6313', 'feat_6314', 'feat_6315', 'feat_6316', 'feat_6317', 'feat_6318', 'feat_6319', 'feat_6320', 'feat_6321', 'feat_6322', 'feat_6323', 'feat_6324', 'feat_6325', 'feat_6326', 'feat_6327', 'feat_6328', 'feat_6329', 'feat_6330', 'feat_6331', 'feat_6332', 'feat_6333', 'feat_6334', 'feat_6335', 'feat_6336', 'feat_6337', 'feat_6338', 'feat_6339', 'feat_6340', 'feat_6341', 'feat_6342', 'feat_6343', 'feat_6344', 'feat_6345', 'feat_6346', 'feat_6347', 'feat_6348', 'feat_6349', 'feat_6350', 'feat_6351', 'feat_6352', 'feat_6353', 'feat_6354', 'feat_6355', 'feat_6356', 'feat_6357', 'feat_6358', 'feat_6359', 'feat_6360', 'feat_6361', 'feat_6362', 'feat_6363', 'feat_6364', 'feat_6365', 'feat_6366', 'feat_6367', 'feat_6368', 'feat_6369', 'feat_6370', 'feat_6371', 'feat_6372', 'feat_6373', 'feat_6374', 'feat_6375', 'feat_6376', 'feat_6377', 'feat_6378', 'feat_6379', 'feat_6380', 'feat_6381', 'feat_6382', 'feat_6383', 'feat_6384', 'feat_6385', 'feat_6386', 'feat_6387', 'feat_6388', 'feat_6389', 'feat_6390', 'feat_6391', 'feat_6392', 'feat_6393', 'feat_6394', 'feat_6395', 'feat_6396', 'feat_6397', 'feat_6398', 'feat_6399', 'feat_6400', 'feat_6401', 'feat_6402', 'feat_6403', 'feat_6404', 'feat_6405', 'feat_6406', 'feat_6407', 'feat_6408', 'feat_6409', 'feat_6410', 'feat_6411', 'feat_6412', 'feat_6413', 'feat_6414', 'feat_6415', 'feat_6416', 'feat_6417', 'feat_6418', 'feat_6419', 'feat_6420', 'feat_6421', 'feat_6422', 'feat_6423', 'feat_6424', 'feat_6425', 'feat_6426', 'feat_6427', 'feat_6428', 'feat_6429', 'feat_6430', 'feat_6431', 'feat_6432', 'feat_6433', 'feat_6434', 'feat_6435', 'feat_6436', 'feat_6437', 'feat_6438', 'feat_6439', 'feat_6440', 'feat_6441', 'feat_6442', 'feat_6443', 'feat_6444', 'feat_6445', 'feat_6446', 'feat_6447', 'feat_6448', 'feat_6449', 'feat_6450', 'feat_6451', 'feat_6452', 'feat_6453', 'feat_6454', 'feat_6455', 'feat_6456', 'feat_6457', 'feat_6458', 'feat_6459', 'feat_6460', 'feat_6461', 'feat_6462', 'feat_6463', 'feat_6464', 'feat_6465', 'feat_6466', 'feat_6467', 'feat_6468', 'feat_6469', 'feat_6470', 'feat_6471', 'feat_6472', 'feat_6473', 'feat_6474', 'feat_6475', 'feat_6476', 'feat_6477', 'feat_6478', 'feat_6479', 'feat_6480', 'feat_6481', 'feat_6482', 'feat_6483', 'feat_6484', 'feat_6485', 'feat_6486', 'feat_6487', 'feat_6488', 'feat_6489', 'feat_6490', 'feat_6491', 'feat_6492', 'feat_6493', 'feat_6494', 'feat_6495', 'feat_6496', 'feat_6497', 'feat_6498', 'feat_6499', 'feat_6500', 'feat_6501', 'feat_6502', 'feat_6503', 'feat_6504', 'feat_6505', 'feat_6506', 'feat_6507', 'feat_6508', 'feat_6509', 'feat_6510', 'feat_6511', 'feat_6512', 'feat_6513', 'feat_6514', 'feat_6515', 'feat_6516', 'feat_6517', 'feat_6518', 'feat_6519', 'feat_6520', 'feat_6521', 'feat_6522', 'feat_6523', 'feat_6524', 'feat_6525', 'feat_6526', 'feat_6527', 'feat_6528', 'feat_6529', 'feat_6530', 'feat_6531', 'feat_6532', 'feat_6533', 'feat_6534', 'feat_6535', 'feat_6536', 'feat_6537', 'feat_6538', 'feat_6539', 'feat_6540', 'feat_6541', 'feat_6542', 'feat_6543', 'feat_6544', 'feat_6545', 'feat_6546', 'feat_6547', 'feat_6548', 'feat_6549', 'feat_6550', 'feat_6551', 'feat_6552', 'feat_6553', 'feat_6554', 'feat_6555', 'feat_6556', 'feat_6557', 'feat_6558', 'feat_6559', 'feat_6560', 'feat_6561', 'feat_6562', 'feat_6563', 'feat_6564', 'feat_6565', 'feat_6566', 'feat_6567', 'feat_6568', 'feat_6569', 'feat_6570', 'feat_6571', 'feat_6572', 'feat_6573', 'feat_6574', 'feat_6575', 'feat_6576', 'feat_6577', 'feat_6578', 'feat_6579', 'feat_6580', 'feat_6581', 'feat_6582', 'feat_6583', 'feat_6584', 'feat_6585', 'feat_6586', 'feat_6587', 'feat_6588', 'feat_6589', 'feat_6590', 'feat_6591', 'feat_6592', 'feat_6593', 'feat_6594', 'feat_6595', 'feat_6596', 'feat_6597', 'feat_6598', 'feat_6599', 'feat_6600', 'feat_6601', 'feat_6602', 'feat_6603', 'feat_6604', 'feat_6605', 'feat_6606', 'feat_6607', 'feat_6608', 'feat_6609', 'feat_6610', 'feat_6611', 'feat_6612', 'feat_6613', 'feat_6614', 'feat_6615', 'feat_6616', 'feat_6617', 'feat_6618', 'feat_6619', 'feat_6620', 'feat_6621', 'feat_6622', 'feat_6623', 'feat_6624', 'feat_6625', 'feat_6626', 'feat_6627', 'feat_6628', 'feat_6629', 'feat_6630', 'feat_6631', 'feat_6632', 'feat_6633', 'feat_6634', 'feat_6635', 'feat_6636', 'feat_6637', 'feat_6638', 'feat_6639', 'feat_6640', 'feat_6641', 'feat_6642', 'feat_6643', 'feat_6644', 'feat_6645', 'feat_6646', 'feat_6647', 'feat_6648', 'feat_6649', 'feat_6650', 'feat_6651', 'feat_6652', 'feat_6653', 'feat_6654', 'feat_6655', 'feat_6656', 'feat_6657', 'feat_6658', 'feat_6659', 'feat_6660', 'feat_6661', 'feat_6662', 'feat_6663', 'feat_6664', 'feat_6665', 'feat_6666', 'feat_6667', 'feat_6668', 'feat_6669', 'feat_6670', 'feat_6671', 'feat_6672', 'feat_6673', 'feat_6674', 'feat_6675', 'feat_6676', 'feat_6677', 'feat_6678', 'feat_6679', 'feat_6680', 'feat_6681', 'feat_6682', 'feat_6683', 'feat_6684', 'feat_6685', 'feat_6686', 'feat_6687', 'feat_6688', 'feat_6689', 'feat_6690', 'feat_6691', 'feat_6692', 'feat_6693', 'feat_6694', 'feat_6695', 'feat_6696', 'feat_6697', 'feat_6698', 'feat_6699', 'feat_6700', 'feat_6701', 'feat_6702', 'feat_6703', 'feat_6704', 'feat_6705', 'feat_6706', 'feat_6707', 'feat_6708', 'feat_6709', 'feat_6710', 'feat_6711', 'feat_6712', 'feat_6713', 'feat_6714', 'feat_6715', 'feat_6716', 'feat_6717', 'feat_6718', 'feat_6719', 'feat_6720', 'feat_6721', 'feat_6722', 'feat_6723', 'feat_6724', 'feat_6725', 'feat_6726', 'feat_6727', 'feat_6728', 'feat_6729', 'feat_6730', 'feat_6731', 'feat_6732', 'feat_6733', 'feat_6734', 'feat_6735', 'feat_6736', 'feat_6737', 'feat_6738', 'feat_6739', 'feat_6740', 'feat_6741', 'feat_6742', 'feat_6743', 'feat_6744', 'feat_6745', 'feat_6746', 'feat_6747', 'feat_6748', 'feat_6749', 'feat_6750', 'feat_6751', 'feat_6752', 'feat_6753', 'feat_6754', 'feat_6755', 'feat_6756', 'feat_6757', 'feat_6758', 'feat_6759', 'feat_6760', 'feat_6761', 'feat_6762', 'feat_6763', 'feat_6764', 'feat_6765', 'feat_6766', 'feat_6767', 'feat_6768', 'feat_6769', 'feat_6770', 'feat_6771', 'feat_6772', 'feat_6773', 'feat_6774', 'feat_6775', 'feat_6776', 'feat_6777', 'feat_6778', 'feat_6779', 'feat_6780', 'feat_6781', 'feat_6782', 'feat_6783', 'feat_6784', 'feat_6785', 'feat_6786', 'feat_6787', 'feat_6788', 'feat_6789', 'feat_6790', 'feat_6791', 'feat_6792', 'feat_6793', 'feat_6794', 'feat_6795', 'feat_6796', 'feat_6797', 'feat_6798', 'feat_6799', 'feat_6800', 'feat_6801', 'feat_6802', 'feat_6803', 'feat_6804', 'feat_6805', 'feat_6806', 'feat_6807', 'feat_6808', 'feat_6809', 'feat_6810', 'feat_6811', 'feat_6812', 'feat_6813', 'feat_6814', 'feat_6815', 'feat_6816', 'feat_6817', 'feat_6818', 'feat_6819', 'feat_6820', 'feat_6821', 'feat_6822', 'feat_6823', 'feat_6824', 'feat_6825', 'feat_6826', 'feat_6827', 'feat_6828', 'feat_6829', 'feat_6830', 'feat_6831', 'feat_6832', 'feat_6833', 'feat_6834', 'feat_6835', 'feat_6836', 'feat_6837', 'feat_6838', 'feat_6839', 'feat_6840', 'feat_6841', 'feat_6842', 'feat_6843', 'feat_6844', 'feat_6845', 'feat_6846', 'feat_6847', 'feat_6848', 'feat_6849', 'feat_6850', 'feat_6851', 'feat_6852', 'feat_6853', 'feat_6854', 'feat_6855', 'feat_6856', 'feat_6857', 'feat_6858', 'feat_6859', 'feat_6860', 'feat_6861', 'feat_6862', 'feat_6863', 'feat_6864', 'feat_6865', 'feat_6866', 'feat_6867', 'feat_6868', 'feat_6869', 'feat_6870', 'feat_6871', 'feat_6872', 'feat_6873', 'feat_6874', 'feat_6875', 'feat_6876', 'feat_6877', 'feat_6878', 'feat_6879', 'feat_6880', 'feat_6881', 'feat_6882', 'feat_6883', 'feat_6884', 'feat_6885', 'feat_6886', 'feat_6887', 'feat_6888', 'feat_6889', 'feat_6890', 'feat_6891', 'feat_6892', 'feat_6893', 'feat_6894', 'feat_6895', 'feat_6896', 'feat_6897', 'feat_6898', 'feat_6899', 'feat_6900', 'feat_6901', 'feat_6902', 'feat_6903', 'feat_6904', 'feat_6905', 'feat_6906', 'feat_6907', 'feat_6908', 'feat_6909', 'feat_6910', 'feat_6911', 'feat_6912', 'feat_6913', 'feat_6914', 'feat_6915', 'feat_6916', 'feat_6917', 'feat_6918', 'feat_6919', 'feat_6920', 'feat_6921', 'feat_6922', 'feat_6923', 'feat_6924', 'feat_6925', 'feat_6926', 'feat_6927', 'feat_6928', 'feat_6929', 'feat_6930', 'feat_6931', 'feat_6932', 'feat_6933', 'feat_6934', 'feat_6935', 'feat_6936', 'feat_6937', 'feat_6938', 'feat_6939', 'feat_6940', 'feat_6941', 'feat_6942', 'feat_6943', 'feat_6944', 'feat_6945', 'feat_6946', 'feat_6947', 'feat_6948', 'feat_6949', 'feat_6950', 'feat_6951', 'feat_6952', 'feat_6953', 'feat_6954', 'feat_6955', 'feat_6956', 'feat_6957', 'feat_6958', 'feat_6959', 'feat_6960', 'feat_6961', 'feat_6962', 'feat_6963', 'feat_6964', 'feat_6965', 'feat_6966', 'feat_6967', 'feat_6968', 'feat_6969', 'feat_6970', 'feat_6971', 'feat_6972', 'feat_6973', 'feat_6974', 'feat_6975', 'feat_6976', 'feat_6977', 'feat_6978', 'feat_6979', 'feat_6980', 'feat_6981', 'feat_6982', 'feat_6983', 'feat_6984', 'feat_6985', 'feat_6986', 'feat_6987', 'feat_6988', 'feat_6989', 'feat_6990', 'feat_6991', 'feat_6992', 'feat_6993', 'feat_6994', 'feat_6995', 'feat_6996', 'feat_6997', 'feat_6998', 'feat_6999', 'feat_7000', 'feat_7001', 'feat_7002', 'feat_7003', 'feat_7004', 'feat_7005', 'feat_7006', 'feat_7007', 'feat_7008', 'feat_7009', 'feat_7010', 'feat_7011', 'feat_7012', 'feat_7013', 'feat_7014', 'feat_7015', 'feat_7016', 'feat_7017', 'feat_7018', 'feat_7019', 'feat_7020', 'feat_7021', 'feat_7022', 'feat_7023', 'feat_7024', 'feat_7025', 'feat_7026', 'feat_7027', 'feat_7028', 'feat_7029', 'feat_7030', 'feat_7031', 'feat_7032', 'feat_7033', 'feat_7034', 'feat_7035', 'feat_7036', 'feat_7037', 'feat_7038', 'feat_7039', 'feat_7040', 'feat_7041', 'feat_7042', 'feat_7043', 'feat_7044', 'feat_7045', 'feat_7046', 'feat_7047', 'feat_7048', 'feat_7049', 'feat_7050', 'feat_7051', 'feat_7052', 'feat_7053', 'feat_7054', 'feat_7055', 'feat_7056', 'feat_7057', 'feat_7058', 'feat_7059', 'feat_7060', 'feat_7061', 'feat_7062', 'feat_7063', 'feat_7064', 'feat_7065', 'feat_7066', 'feat_7067', 'feat_7068', 'feat_7069', 'feat_7070', 'feat_7071', 'feat_7072', 'feat_7073', 'feat_7074', 'feat_7075', 'feat_7076', 'feat_7077', 'feat_7078', 'feat_7079', 'feat_7080', 'feat_7081', 'feat_7082', 'feat_7083', 'feat_7084', 'feat_7085', 'feat_7086', 'feat_7087', 'feat_7088', 'feat_7089', 'feat_7090', 'feat_7091', 'feat_7092', 'feat_7093', 'feat_7094', 'feat_7095', 'feat_7096', 'feat_7097', 'feat_7098', 'feat_7099', 'feat_7100', 'feat_7101', 'feat_7102', 'feat_7103', 'feat_7104', 'feat_7105', 'feat_7106', 'feat_7107', 'feat_7108', 'feat_7109', 'feat_7110', 'feat_7111', 'feat_7112', 'feat_7113', 'feat_7114', 'feat_7115', 'feat_7116', 'feat_7117', 'feat_7118', 'feat_7119', 'feat_7120', 'feat_7121', 'feat_7122', 'feat_7123', 'feat_7124', 'feat_7125', 'feat_7126', 'feat_7127', 'feat_7128', 'feat_7129', 'feat_7130', 'feat_7131', 'feat_7132', 'feat_7133', 'feat_7134', 'feat_7135', 'feat_7136', 'feat_7137', 'feat_7138', 'feat_7139', 'feat_7140', 'feat_7141', 'feat_7142', 'feat_7143', 'feat_7144', 'feat_7145', 'feat_7146', 'feat_7147', 'feat_7148', 'feat_7149', 'feat_7150', 'feat_7151', 'feat_7152', 'feat_7153', 'feat_7154', 'feat_7155', 'feat_7156', 'feat_7157', 'feat_7158', 'feat_7159', 'feat_7160', 'feat_7161', 'feat_7162', 'feat_7163', 'feat_7164', 'feat_7165', 'feat_7166', 'feat_7167', 'feat_7168', 'feat_7169', 'feat_7170', 'feat_7171', 'feat_7172', 'feat_7173', 'feat_7174', 'feat_7175', 'feat_7176', 'feat_7177', 'feat_7178', 'feat_7179', 'feat_7180', 'feat_7181', 'feat_7182', 'feat_7183', 'feat_7184', 'feat_7185', 'feat_7186', 'feat_7187', 'feat_7188', 'feat_7189', 'feat_7190', 'feat_7191', 'feat_7192', 'feat_7193', 'feat_7194', 'feat_7195', 'feat_7196', 'feat_7197', 'feat_7198', 'feat_7199', 'feat_7200', 'feat_7201', 'feat_7202', 'feat_7203', 'feat_7204', 'feat_7205', 'feat_7206', 'feat_7207', 'feat_7208', 'feat_7209', 'feat_7210', 'feat_7211', 'feat_7212', 'feat_7213', 'feat_7214', 'feat_7215', 'feat_7216', 'feat_7217', 'feat_7218', 'feat_7219', 'feat_7220', 'feat_7221', 'feat_7222', 'feat_7223', 'feat_7224', 'feat_7225', 'feat_7226', 'feat_7227', 'feat_7228', 'feat_7229', 'feat_7230', 'feat_7231', 'feat_7232', 'feat_7233', 'feat_7234', 'feat_7235', 'feat_7236', 'feat_7237', 'feat_7238', 'feat_7239', 'feat_7240', 'feat_7241', 'feat_7242', 'feat_7243', 'feat_7244', 'feat_7245', 'feat_7246', 'feat_7247', 'feat_7248', 'feat_7249', 'feat_7250', 'feat_7251', 'feat_7252', 'feat_7253', 'feat_7254', 'feat_7255', 'feat_7256', 'feat_7257', 'feat_7258', 'feat_7259', 'feat_7260', 'feat_7261', 'feat_7262', 'feat_7263', 'feat_7264', 'feat_7265', 'feat_7266', 'feat_7267', 'feat_7268', 'feat_7269', 'feat_7270', 'feat_7271', 'feat_7272', 'feat_7273', 'feat_7274', 'feat_7275', 'feat_7276', 'feat_7277', 'feat_7278', 'feat_7279', 'feat_7280', 'feat_7281', 'feat_7282', 'feat_7283', 'feat_7284', 'feat_7285', 'feat_7286', 'feat_7287', 'feat_7288', 'feat_7289', 'feat_7290', 'feat_7291', 'feat_7292', 'feat_7293', 'feat_7294', 'feat_7295', 'feat_7296', 'feat_7297', 'feat_7298', 'feat_7299', 'feat_7300', 'feat_7301', 'feat_7302', 'feat_7303', 'feat_7304', 'feat_7305', 'feat_7306', 'feat_7307', 'feat_7308', 'feat_7309', 'feat_7310', 'feat_7311', 'feat_7312', 'feat_7313', 'feat_7314', 'feat_7315', 'feat_7316', 'feat_7317', 'feat_7318', 'feat_7319', 'feat_7320', 'feat_7321', 'feat_7322', 'feat_7323', 'feat_7324', 'feat_7325', 'feat_7326', 'feat_7327', 'feat_7328', 'feat_7329', 'feat_7330', 'feat_7331', 'feat_7332', 'feat_7333', 'feat_7334', 'feat_7335', 'feat_7336', 'feat_7337', 'feat_7338', 'feat_7339', 'feat_7340', 'feat_7341', 'feat_7342', 'feat_7343', 'feat_7344', 'feat_7345', 'feat_7346', 'feat_7347', 'feat_7348', 'feat_7349', 'feat_7350', 'feat_7351', 'feat_7352', 'feat_7353', 'feat_7354', 'feat_7355', 'feat_7356', 'feat_7357', 'feat_7358', 'feat_7359', 'feat_7360', 'feat_7361', 'feat_7362', 'feat_7363', 'feat_7364', 'feat_7365', 'feat_7366', 'feat_7367', 'feat_7368', 'feat_7369', 'feat_7370', 'feat_7371', 'feat_7372', 'feat_7373', 'feat_7374', 'feat_7375', 'feat_7376', 'feat_7377', 'feat_7378', 'feat_7379', 'feat_7380', 'feat_7381', 'feat_7382', 'feat_7383', 'feat_7384', 'feat_7385', 'feat_7386', 'feat_7387', 'feat_7388', 'feat_7389', 'feat_7390', 'feat_7391', 'feat_7392', 'feat_7393', 'feat_7394', 'feat_7395', 'feat_7396', 'feat_7397', 'feat_7398', 'feat_7399', 'feat_7400', 'feat_7401', 'feat_7402', 'feat_7403', 'feat_7404', 'feat_7405', 'feat_7406', 'feat_7407', 'feat_7408', 'feat_7409', 'feat_7410', 'feat_7411', 'feat_7412', 'feat_7413', 'feat_7414', 'feat_7415', 'feat_7416', 'feat_7417', 'feat_7418', 'feat_7419', 'feat_7420', 'feat_7421', 'feat_7422', 'feat_7423', 'feat_7424', 'feat_7425', 'feat_7426', 'feat_7427', 'feat_7428', 'feat_7429', 'feat_7430', 'feat_7431', 'feat_7432', 'feat_7433', 'feat_7434', 'feat_7435', 'feat_7436', 'feat_7437', 'feat_7438', 'feat_7439', 'feat_7440', 'feat_7441', 'feat_7442', 'feat_7443', 'feat_7444', 'feat_7445', 'feat_7446', 'feat_7447', 'feat_7448', 'feat_7449', 'feat_7450', 'feat_7451', 'feat_7452', 'feat_7453', 'feat_7454', 'feat_7455', 'feat_7456', 'feat_7457', 'feat_7458', 'feat_7459', 'feat_7460', 'feat_7461', 'feat_7462', 'feat_7463', 'feat_7464', 'feat_7465', 'feat_7466', 'feat_7467', 'feat_7468', 'feat_7469', 'feat_7470', 'feat_7471', 'feat_7472', 'feat_7473', 'feat_7474', 'feat_7475', 'feat_7476', 'feat_7477', 'feat_7478', 'feat_7479', 'feat_7480', 'feat_7481', 'feat_7482', 'feat_7483', 'feat_7484', 'feat_7485', 'feat_7486', 'feat_7487', 'feat_7488', 'feat_7489', 'feat_7490', 'feat_7491', 'feat_7492', 'feat_7493', 'feat_7494', 'feat_7495', 'feat_7496', 'feat_7497', 'feat_7498', 'feat_7499', 'feat_7500', 'feat_7501', 'feat_7502', 'feat_7503', 'feat_7504', 'feat_7505', 'feat_7506', 'feat_7507', 'feat_7508', 'feat_7509', 'feat_7510', 'feat_7511', 'feat_7512', 'feat_7513', 'feat_7514', 'feat_7515', 'feat_7516', 'feat_7517', 'feat_7518', 'feat_7519', 'feat_7520', 'feat_7521', 'feat_7522', 'feat_7523', 'feat_7524', 'feat_7525', 'feat_7526', 'feat_7527', 'feat_7528', 'feat_7529', 'feat_7530', 'feat_7531', 'feat_7532', 'feat_7533', 'feat_7534', 'feat_7535', 'feat_7536', 'feat_7537', 'feat_7538', 'feat_7539', 'feat_7540', 'feat_7541', 'feat_7542', 'feat_7543', 'feat_7544', 'feat_7545', 'feat_7546', 'feat_7547', 'feat_7548', 'feat_7549', 'feat_7550', 'feat_7551', 'feat_7552', 'feat_7553', 'feat_7554', 'feat_7555', 'feat_7556', 'feat_7557', 'feat_7558', 'feat_7559', 'feat_7560', 'feat_7561', 'feat_7562', 'feat_7563', 'feat_7564', 'feat_7565', 'feat_7566', 'feat_7567', 'feat_7568', 'feat_7569', 'feat_7570', 'feat_7571', 'feat_7572', 'feat_7573', 'feat_7574', 'feat_7575', 'feat_7576', 'feat_7577', 'feat_7578', 'feat_7579', 'feat_7580', 'feat_7581', 'feat_7582', 'feat_7583', 'feat_7584', 'feat_7585', 'feat_7586', 'feat_7587', 'feat_7588', 'feat_7589', 'feat_7590', 'feat_7591', 'feat_7592', 'feat_7593', 'feat_7594', 'feat_7595', 'feat_7596', 'feat_7597', 'feat_7598', 'feat_7599', 'feat_7600', 'feat_7601', 'feat_7602', 'feat_7603', 'feat_7604', 'feat_7605', 'feat_7606', 'feat_7607', 'feat_7608', 'feat_7609', 'feat_7610', 'feat_7611', 'feat_7612', 'feat_7613', 'feat_7614', 'feat_7615', 'feat_7616', 'feat_7617', 'feat_7618', 'feat_7619', 'feat_7620', 'feat_7621', 'feat_7622', 'feat_7623', 'feat_7624', 'feat_7625', 'feat_7626', 'feat_7627', 'feat_7628', 'feat_7629', 'feat_7630', 'feat_7631', 'feat_7632', 'feat_7633', 'feat_7634', 'feat_7635', 'feat_7636', 'feat_7637', 'feat_7638', 'feat_7639', 'feat_7640', 'feat_7641', 'feat_7642', 'feat_7643', 'feat_7644', 'feat_7645', 'feat_7646', 'feat_7647', 'feat_7648', 'feat_7649', 'feat_7650', 'feat_7651', 'feat_7652', 'feat_7653', 'feat_7654', 'feat_7655', 'feat_7656', 'feat_7657', 'feat_7658', 'feat_7659', 'feat_7660', 'feat_7661', 'feat_7662', 'feat_7663', 'feat_7664', 'feat_7665', 'feat_7666', 'feat_7667', 'feat_7668', 'feat_7669', 'feat_7670', 'feat_7671', 'feat_7672', 'feat_7673', 'feat_7674', 'feat_7675', 'feat_7676', 'feat_7677', 'feat_7678', 'feat_7679', 'feat_7680', 'feat_7681', 'feat_7682', 'feat_7683', 'feat_7684', 'feat_7685', 'feat_7686', 'feat_7687', 'feat_7688', 'feat_7689', 'feat_7690', 'feat_7691', 'feat_7692', 'feat_7693', 'feat_7694', 'feat_7695', 'feat_7696', 'feat_7697', 'feat_7698', 'feat_7699', 'feat_7700', 'feat_7701', 'feat_7702', 'feat_7703', 'feat_7704', 'feat_7705', 'feat_7706', 'feat_7707', 'feat_7708', 'feat_7709', 'feat_7710', 'feat_7711', 'feat_7712', 'feat_7713', 'feat_7714', 'feat_7715', 'feat_7716', 'feat_7717', 'feat_7718', 'feat_7719', 'feat_7720', 'feat_7721', 'feat_7722', 'feat_7723', 'feat_7724', 'feat_7725', 'feat_7726', 'feat_7727', 'feat_7728', 'feat_7729', 'feat_7730', 'feat_7731', 'feat_7732', 'feat_7733', 'feat_7734', 'feat_7735', 'feat_7736', 'feat_7737', 'feat_7738', 'feat_7739', 'feat_7740', 'feat_7741', 'feat_7742', 'feat_7743', 'feat_7744', 'feat_7745', 'feat_7746', 'feat_7747', 'feat_7748', 'feat_7749', 'feat_7750', 'feat_7751', 'feat_7752', 'feat_7753', 'feat_7754', 'feat_7755', 'feat_7756', 'feat_7757', 'feat_7758', 'feat_7759', 'feat_7760', 'feat_7761', 'feat_7762', 'feat_7763', 'feat_7764', 'feat_7765', 'feat_7766', 'feat_7767', 'feat_7768', 'feat_7769', 'feat_7770', 'feat_7771', 'feat_7772', 'feat_7773', 'feat_7774', 'feat_7775', 'feat_7776', 'feat_7777', 'feat_7778', 'feat_7779', 'feat_7780', 'feat_7781', 'feat_7782', 'feat_7783', 'feat_7784', 'feat_7785', 'feat_7786', 'feat_7787', 'feat_7788', 'feat_7789', 'feat_7790', 'feat_7791', 'feat_7792', 'feat_7793', 'feat_7794', 'feat_7795', 'feat_7796', 'feat_7797', 'feat_7798', 'feat_7799', 'feat_7800', 'feat_7801', 'feat_7802', 'feat_7803', 'feat_7804', 'feat_7805', 'feat_7806', 'feat_7807', 'feat_7808', 'feat_7809', 'feat_7810', 'feat_7811', 'feat_7812', 'feat_7813', 'feat_7814', 'feat_7815', 'feat_7816', 'feat_7817', 'feat_7818', 'feat_7819', 'feat_7820', 'feat_7821', 'feat_7822', 'feat_7823', 'feat_7824', 'feat_7825', 'feat_7826', 'feat_7827', 'feat_7828', 'feat_7829', 'feat_7830', 'feat_7831', 'feat_7832', 'feat_7833', 'feat_7834', 'feat_7835', 'feat_7836', 'feat_7837', 'feat_7838', 'feat_7839', 'feat_7840', 'feat_7841', 'feat_7842', 'feat_7843', 'feat_7844', 'feat_7845', 'feat_7846', 'feat_7847', 'feat_7848', 'feat_7849', 'feat_7850', 'feat_7851', 'feat_7852', 'feat_7853', 'feat_7854', 'feat_7855', 'feat_7856', 'feat_7857', 'feat_7858', 'feat_7859', 'feat_7860', 'feat_7861', 'feat_7862', 'feat_7863', 'feat_7864', 'feat_7865', 'feat_7866', 'feat_7867', 'feat_7868', 'feat_7869', 'feat_7870', 'feat_7871', 'feat_7872', 'feat_7873', 'feat_7874', 'feat_7875', 'feat_7876', 'feat_7877', 'feat_7878', 'feat_7879', 'feat_7880', 'feat_7881', 'feat_7882', 'feat_7883', 'feat_7884', 'feat_7885', 'feat_7886', 'feat_7887', 'feat_7888', 'feat_7889', 'feat_7890', 'feat_7891', 'feat_7892', 'feat_7893', 'feat_7894', 'feat_7895', 'feat_7896', 'feat_7897', 'feat_7898', 'feat_7899', 'feat_7900', 'feat_7901', 'feat_7902', 'feat_7903', 'feat_7904', 'feat_7905', 'feat_7906', 'feat_7907', 'feat_7908', 'feat_7909', 'feat_7910', 'feat_7911', 'feat_7912', 'feat_7913', 'feat_7914', 'feat_7915', 'feat_7916', 'feat_7917', 'feat_7918', 'feat_7919', 'feat_7920', 'feat_7921', 'feat_7922', 'feat_7923', 'feat_7924', 'feat_7925', 'feat_7926', 'feat_7927', 'feat_7928', 'feat_7929', 'feat_7930', 'feat_7931', 'feat_7932', 'feat_7933', 'feat_7934', 'feat_7935', 'feat_7936', 'feat_7937', 'feat_7938', 'feat_7939', 'feat_7940', 'feat_7941', 'feat_7942', 'feat_7943', 'feat_7944', 'feat_7945', 'feat_7946', 'feat_7947', 'feat_7948', 'feat_7949', 'feat_7950', 'feat_7951', 'feat_7952', 'feat_7953', 'feat_7954', 'feat_7955', 'feat_7956', 'feat_7957', 'feat_7958', 'feat_7959', 'feat_7960', 'feat_7961', 'feat_7962', 'feat_7963', 'feat_7964', 'feat_7965', 'feat_7966', 'feat_7967', 'feat_7968', 'feat_7969', 'feat_7970', 'feat_7971', 'feat_7972', 'feat_7973', 'feat_7974', 'feat_7975', 'feat_7976', 'feat_7977', 'feat_7978', 'feat_7979', 'feat_7980', 'feat_7981', 'feat_7982', 'feat_7983', 'feat_7984', 'feat_7985', 'feat_7986', 'feat_7987', 'feat_7988', 'feat_7989', 'feat_7990', 'feat_7991', 'feat_7992', 'feat_7993', 'feat_7994', 'feat_7995', 'feat_7996', 'feat_7997', 'feat_7998', 'feat_7999', 'feat_8000', 'feat_8001', 'feat_8002', 'feat_8003', 'feat_8004', 'feat_8005', 'feat_8006', 'feat_8007', 'feat_8008', 'feat_8009', 'feat_8010', 'feat_8011', 'feat_8012', 'feat_8013', 'feat_8014', 'feat_8015', 'feat_8016', 'feat_8017', 'feat_8018', 'feat_8019', 'feat_8020', 'feat_8021', 'feat_8022', 'feat_8023', 'feat_8024', 'feat_8025', 'feat_8026', 'feat_8027', 'feat_8028', 'feat_8029', 'feat_8030', 'feat_8031', 'feat_8032', 'feat_8033', 'feat_8034', 'feat_8035', 'feat_8036', 'feat_8037', 'feat_8038', 'feat_8039', 'feat_8040', 'feat_8041', 'feat_8042', 'feat_8043', 'feat_8044', 'feat_8045', 'feat_8046', 'feat_8047', 'feat_8048', 'feat_8049', 'feat_8050', 'feat_8051', 'feat_8052', 'feat_8053', 'feat_8054', 'feat_8055', 'feat_8056', 'feat_8057', 'feat_8058', 'feat_8059', 'feat_8060', 'feat_8061', 'feat_8062', 'feat_8063', 'feat_8064', 'feat_8065', 'feat_8066', 'feat_8067', 'feat_8068', 'feat_8069', 'feat_8070', 'feat_8071', 'feat_8072', 'feat_8073', 'feat_8074', 'feat_8075', 'feat_8076', 'feat_8077', 'feat_8078', 'feat_8079', 'feat_8080', 'feat_8081', 'feat_8082', 'feat_8083', 'feat_8084', 'feat_8085', 'feat_8086', 'feat_8087', 'feat_8088', 'feat_8089', 'feat_8090', 'feat_8091', 'feat_8092', 'feat_8093', 'feat_8094', 'feat_8095', 'feat_8096', 'feat_8097', 'feat_8098', 'feat_8099', 'feat_8100', 'feat_8101', 'feat_8102', 'feat_8103', 'feat_8104', 'feat_8105', 'feat_8106', 'feat_8107', 'feat_8108', 'feat_8109', 'feat_8110', 'feat_8111', 'feat_8112', 'feat_8113', 'feat_8114', 'feat_8115', 'feat_8116', 'feat_8117', 'feat_8118', 'feat_8119', 'feat_8120', 'feat_8121', 'feat_8122', 'feat_8123', 'feat_8124', 'feat_8125', 'feat_8126', 'feat_8127', 'feat_8128', 'feat_8129', 'feat_8130', 'feat_8131', 'feat_8132', 'feat_8133', 'feat_8134', 'feat_8135', 'feat_8136', 'feat_8137', 'feat_8138', 'feat_8139', 'feat_8140', 'feat_8141', 'feat_8142', 'feat_8143', 'feat_8144', 'feat_8145', 'feat_8146', 'feat_8147', 'feat_8148', 'feat_8149', 'feat_8150', 'feat_8151', 'feat_8152', 'feat_8153', 'feat_8154', 'feat_8155', 'feat_8156', 'feat_8157', 'feat_8158', 'feat_8159', 'feat_8160', 'feat_8161', 'feat_8162', 'feat_8163', 'feat_8164', 'feat_8165', 'feat_8166', 'feat_8167', 'feat_8168', 'feat_8169', 'feat_8170', 'feat_8171', 'feat_8172', 'feat_8173', 'feat_8174', 'feat_8175', 'feat_8176', 'feat_8177', 'feat_8178', 'feat_8179', 'feat_8180', 'feat_8181', 'feat_8182', 'feat_8183', 'feat_8184', 'feat_8185', 'feat_8186', 'feat_8187', 'feat_8188', 'feat_8189', 'feat_8190', 'feat_8191', 'feat_8192', 'feat_8193', 'feat_8194', 'feat_8195', 'feat_8196', 'feat_8197', 'feat_8198', 'feat_8199', 'feat_8200', 'feat_8201', 'feat_8202', 'feat_8203', 'feat_8204', 'feat_8205', 'feat_8206', 'feat_8207', 'feat_8208', 'feat_8209', 'feat_8210', 'feat_8211', 'feat_8212', 'feat_8213', 'feat_8214', 'feat_8215', 'feat_8216', 'feat_8217', 'feat_8218', 'feat_8219', 'feat_8220', 'feat_8221', 'feat_8222', 'feat_8223', 'feat_8224', 'feat_8225', 'feat_8226', 'feat_8227', 'feat_8228', 'feat_8229', 'feat_8230', 'feat_8231', 'feat_8232', 'feat_8233', 'feat_8234', 'feat_8235', 'feat_8236', 'feat_8237', 'feat_8238', 'feat_8239', 'feat_8240', 'feat_8241', 'feat_8242', 'feat_8243', 'feat_8244', 'feat_8245', 'feat_8246', 'feat_8247', 'feat_8248', 'feat_8249', 'feat_8250', 'feat_8251', 'feat_8252', 'feat_8253', 'feat_8254', 'feat_8255', 'feat_8256', 'feat_8257', 'feat_8258', 'feat_8259', 'feat_8260', 'feat_8261', 'feat_8262', 'feat_8263', 'feat_8264', 'feat_8265', 'feat_8266', 'feat_8267', 'feat_8268', 'feat_8269', 'feat_8270', 'feat_8271', 'feat_8272', 'feat_8273', 'feat_8274', 'feat_8275', 'feat_8276', 'feat_8277', 'feat_8278', 'feat_8279', 'feat_8280', 'feat_8281', 'feat_8282', 'feat_8283', 'feat_8284', 'feat_8285', 'feat_8286', 'feat_8287', 'feat_8288', 'feat_8289', 'feat_8290', 'feat_8291', 'feat_8292', 'feat_8293', 'feat_8294', 'feat_8295', 'feat_8296', 'feat_8297', 'feat_8298', 'feat_8299', 'feat_8300', 'feat_8301', 'feat_8302', 'feat_8303', 'feat_8304', 'feat_8305', 'feat_8306', 'feat_8307', 'feat_8308', 'feat_8309', 'feat_8310', 'feat_8311', 'feat_8312', 'feat_8313', 'feat_8314', 'feat_8315', 'feat_8316', 'feat_8317', 'feat_8318', 'feat_8319', 'feat_8320', 'feat_8321', 'feat_8322', 'feat_8323', 'feat_8324', 'feat_8325', 'feat_8326', 'feat_8327', 'feat_8328', 'feat_8329', 'feat_8330', 'feat_8331', 'feat_8332', 'feat_8333', 'feat_8334', 'feat_8335', 'feat_8336', 'feat_8337', 'feat_8338', 'feat_8339', 'feat_8340', 'feat_8341', 'feat_8342', 'feat_8343', 'feat_8344', 'feat_8345', 'feat_8346', 'feat_8347', 'feat_8348', 'feat_8349', 'feat_8350', 'feat_8351', 'feat_8352', 'feat_8353', 'feat_8354', 'feat_8355', 'feat_8356', 'feat_8357', 'feat_8358', 'feat_8359', 'feat_8360', 'feat_8361', 'feat_8362', 'feat_8363', 'feat_8364', 'feat_8365', 'feat_8366', 'feat_8367', 'feat_8368', 'feat_8369', 'feat_8370', 'feat_8371', 'feat_8372', 'feat_8373', 'feat_8374', 'feat_8375', 'feat_8376', 'feat_8377', 'feat_8378', 'feat_8379', 'feat_8380', 'feat_8381', 'feat_8382', 'feat_8383', 'feat_8384', 'feat_8385', 'feat_8386', 'feat_8387', 'feat_8388', 'feat_8389', 'feat_8390', 'feat_8391', 'feat_8392', 'feat_8393', 'feat_8394', 'feat_8395', 'feat_8396', 'feat_8397', 'feat_8398', 'feat_8399', 'feat_8400', 'feat_8401', 'feat_8402', 'feat_8403', 'feat_8404', 'feat_8405', 'feat_8406', 'feat_8407', 'feat_8408', 'feat_8409', 'feat_8410', 'feat_8411', 'feat_8412', 'feat_8413', 'feat_8414', 'feat_8415', 'feat_8416', 'feat_8417', 'feat_8418', 'feat_8419', 'feat_8420', 'feat_8421', 'feat_8422', 'feat_8423', 'feat_8424', 'feat_8425', 'feat_8426', 'feat_8427', 'feat_8428', 'feat_8429', 'feat_8430', 'feat_8431', 'feat_8432', 'feat_8433', 'feat_8434', 'feat_8435', 'feat_8436', 'feat_8437', 'feat_8438', 'feat_8439', 'feat_8440', 'feat_8441', 'feat_8442', 'feat_8443', 'feat_8444', 'feat_8445', 'feat_8446', 'feat_8447', 'feat_8448', 'feat_8449', 'feat_8450', 'feat_8451', 'feat_8452', 'feat_8453', 'feat_8454', 'feat_8455', 'feat_8456', 'feat_8457', 'feat_8458', 'feat_8459', 'feat_8460', 'feat_8461', 'feat_8462', 'feat_8463', 'feat_8464', 'feat_8465', 'feat_8466', 'feat_8467', 'feat_8468', 'feat_8469', 'feat_8470', 'feat_8471', 'feat_8472', 'feat_8473', 'feat_8474', 'feat_8475', 'feat_8476', 'feat_8477', 'feat_8478', 'feat_8479', 'feat_8480', 'feat_8481', 'feat_8482', 'feat_8483', 'feat_8484', 'feat_8485', 'feat_8486', 'feat_8487', 'feat_8488', 'feat_8489', 'feat_8490', 'feat_8491', 'feat_8492', 'feat_8493', 'feat_8494', 'feat_8495', 'feat_8496', 'feat_8497', 'feat_8498', 'feat_8499', 'feat_8500', 'feat_8501', 'feat_8502', 'feat_8503', 'feat_8504', 'feat_8505', 'feat_8506', 'feat_8507', 'feat_8508', 'feat_8509', 'feat_8510', 'feat_8511', 'feat_8512', 'feat_8513', 'feat_8514', 'feat_8515', 'feat_8516', 'feat_8517', 'feat_8518', 'feat_8519', 'feat_8520', 'feat_8521', 'feat_8522', 'feat_8523', 'feat_8524', 'feat_8525', 'feat_8526', 'feat_8527', 'feat_8528', 'feat_8529', 'feat_8530', 'feat_8531', 'feat_8532', 'feat_8533', 'feat_8534', 'feat_8535', 'feat_8536', 'feat_8537', 'feat_8538', 'feat_8539', 'feat_8540', 'feat_8541', 'feat_8542', 'feat_8543', 'feat_8544', 'feat_8545', 'feat_8546', 'feat_8547', 'feat_8548', 'feat_8549', 'feat_8550', 'feat_8551', 'feat_8552', 'feat_8553', 'feat_8554', 'feat_8555', 'feat_8556', 'feat_8557', 'feat_8558', 'feat_8559', 'feat_8560', 'feat_8561', 'feat_8562', 'feat_8563', 'feat_8564', 'feat_8565', 'feat_8566', 'feat_8567', 'feat_8568', 'feat_8569', 'feat_8570', 'feat_8571', 'feat_8572', 'feat_8573', 'feat_8574', 'feat_8575', 'feat_8576', 'feat_8577', 'feat_8578', 'feat_8579', 'feat_8580', 'feat_8581', 'feat_8582', 'feat_8583', 'feat_8584', 'feat_8585', 'feat_8586', 'feat_8587', 'feat_8588', 'feat_8589', 'feat_8590', 'feat_8591', 'feat_8592', 'feat_8593', 'feat_8594', 'feat_8595', 'feat_8596', 'feat_8597', 'feat_8598', 'feat_8599', 'feat_8600', 'feat_8601', 'feat_8602', 'feat_8603', 'feat_8604', 'feat_8605', 'feat_8606', 'feat_8607', 'feat_8608', 'feat_8609', 'feat_8610', 'feat_8611', 'feat_8612', 'feat_8613', 'feat_8614', 'feat_8615', 'feat_8616', 'feat_8617', 'feat_8618', 'feat_8619', 'feat_8620', 'feat_8621', 'feat_8622', 'feat_8623', 'feat_8624', 'feat_8625', 'feat_8626', 'feat_8627', 'feat_8628', 'feat_8629', 'feat_8630', 'feat_8631', 'feat_8632', 'feat_8633', 'feat_8634', 'feat_8635', 'feat_8636', 'feat_8637', 'feat_8638', 'feat_8639', 'feat_8640', 'feat_8641', 'feat_8642', 'feat_8643', 'feat_8644', 'feat_8645', 'feat_8646', 'feat_8647', 'feat_8648', 'feat_8649', 'feat_8650', 'feat_8651', 'feat_8652', 'feat_8653', 'feat_8654', 'feat_8655', 'feat_8656', 'feat_8657', 'feat_8658', 'feat_8659', 'feat_8660', 'feat_8661', 'feat_8662', 'feat_8663', 'feat_8664', 'feat_8665', 'feat_8666', 'feat_8667', 'feat_8668', 'feat_8669', 'feat_8670', 'feat_8671', 'feat_8672', 'feat_8673', 'feat_8674', 'feat_8675', 'feat_8676', 'feat_8677', 'feat_8678', 'feat_8679', 'feat_8680', 'feat_8681', 'feat_8682', 'feat_8683', 'feat_8684', 'feat_8685', 'feat_8686', 'feat_8687', 'feat_8688', 'feat_8689', 'feat_8690', 'feat_8691', 'feat_8692', 'feat_8693', 'feat_8694', 'feat_8695', 'feat_8696', 'feat_8697', 'feat_8698', 'feat_8699', 'feat_8700', 'feat_8701', 'feat_8702', 'feat_8703', 'feat_8704', 'feat_8705', 'feat_8706', 'feat_8707', 'feat_8708', 'feat_8709', 'feat_8710', 'feat_8711', 'feat_8712', 'feat_8713', 'feat_8714', 'feat_8715', 'feat_8716', 'feat_8717', 'feat_8718', 'feat_8719', 'feat_8720', 'feat_8721', 'feat_8722', 'feat_8723', 'feat_8724', 'feat_8725', 'feat_8726', 'feat_8727', 'feat_8728', 'feat_8729', 'feat_8730', 'feat_8731', 'feat_8732', 'feat_8733', 'feat_8734', 'feat_8735', 'feat_8736', 'feat_8737', 'feat_8738', 'feat_8739', 'feat_8740', 'feat_8741', 'feat_8742', 'feat_8743', 'feat_8744', 'feat_8745', 'feat_8746', 'feat_8747', 'feat_8748', 'feat_8749', 'feat_8750', 'feat_8751', 'feat_8752', 'feat_8753', 'feat_8754', 'feat_8755', 'feat_8756', 'feat_8757', 'feat_8758', 'feat_8759', 'feat_8760', 'feat_8761', 'feat_8762', 'feat_8763', 'feat_8764', 'feat_8765', 'feat_8766', 'feat_8767', 'feat_8768', 'feat_8769', 'feat_8770', 'feat_8771', 'feat_8772', 'feat_8773', 'feat_8774', 'feat_8775', 'feat_8776', 'feat_8777', 'feat_8778', 'feat_8779', 'feat_8780', 'feat_8781', 'feat_8782', 'feat_8783', 'feat_8784', 'feat_8785', 'feat_8786', 'feat_8787', 'feat_8788', 'feat_8789', 'feat_8790', 'feat_8791', 'feat_8792', 'feat_8793', 'feat_8794', 'feat_8795', 'feat_8796', 'feat_8797', 'feat_8798', 'feat_8799', 'feat_8800', 'feat_8801', 'feat_8802', 'feat_8803', 'feat_8804', 'feat_8805', 'feat_8806', 'feat_8807', 'feat_8808', 'feat_8809', 'feat_8810', 'feat_8811', 'feat_8812', 'feat_8813', 'feat_8814', 'feat_8815', 'feat_8816', 'feat_8817', 'feat_8818', 'feat_8819', 'feat_8820', 'feat_8821', 'feat_8822', 'feat_8823', 'feat_8824', 'feat_8825', 'feat_8826', 'feat_8827', 'feat_8828', 'feat_8829', 'feat_8830', 'feat_8831', 'feat_8832', 'feat_8833', 'feat_8834', 'feat_8835', 'feat_8836', 'feat_8837', 'feat_8838', 'feat_8839', 'feat_8840', 'feat_8841', 'feat_8842', 'feat_8843', 'feat_8844', 'feat_8845', 'feat_8846', 'feat_8847', 'feat_8848', 'feat_8849', 'feat_8850', 'feat_8851', 'feat_8852', 'feat_8853', 'feat_8854', 'feat_8855', 'feat_8856', 'feat_8857', 'feat_8858', 'feat_8859', 'feat_8860', 'feat_8861', 'feat_8862', 'feat_8863', 'feat_8864', 'feat_8865', 'feat_8866', 'feat_8867', 'feat_8868', 'feat_8869', 'feat_8870', 'feat_8871', 'feat_8872', 'feat_8873', 'feat_8874', 'feat_8875', 'feat_8876', 'feat_8877', 'feat_8878', 'feat_8879', 'feat_8880', 'feat_8881', 'feat_8882', 'feat_8883', 'feat_8884', 'feat_8885', 'feat_8886', 'feat_8887', 'feat_8888', 'feat_8889', 'feat_8890', 'feat_8891', 'feat_8892', 'feat_8893', 'feat_8894', 'feat_8895', 'feat_8896', 'feat_8897', 'feat_8898', 'feat_8899', 'feat_8900', 'feat_8901', 'feat_8902', 'feat_8903', 'feat_8904', 'feat_8905', 'feat_8906', 'feat_8907', 'feat_8908', 'feat_8909', 'feat_8910', 'feat_8911', 'feat_8912', 'feat_8913', 'feat_8914', 'feat_8915', 'feat_8916', 'feat_8917', 'feat_8918', 'feat_8919', 'feat_8920', 'feat_8921', 'feat_8922', 'feat_8923', 'feat_8924', 'feat_8925', 'feat_8926', 'feat_8927', 'feat_8928', 'feat_8929', 'feat_8930', 'feat_8931', 'feat_8932', 'feat_8933', 'feat_8934', 'feat_8935', 'feat_8936', 'feat_8937', 'feat_8938', 'feat_8939', 'feat_8940', 'feat_8941', 'feat_8942', 'feat_8943', 'feat_8944', 'feat_8945', 'feat_8946', 'feat_8947', 'feat_8948', 'feat_8949', 'feat_8950', 'feat_8951', 'feat_8952', 'feat_8953', 'feat_8954', 'feat_8955', 'feat_8956', 'feat_8957', 'feat_8958', 'feat_8959', 'feat_8960', 'feat_8961', 'feat_8962', 'feat_8963', 'feat_8964', 'feat_8965', 'feat_8966', 'feat_8967', 'feat_8968', 'feat_8969', 'feat_8970', 'feat_8971', 'feat_8972', 'feat_8973', 'feat_8974', 'feat_8975', 'feat_8976', 'feat_8977', 'feat_8978', 'feat_8979', 'feat_8980', 'feat_8981', 'feat_8982', 'feat_8983', 'feat_8984', 'feat_8985', 'feat_8986', 'feat_8987', 'feat_8988', 'feat_8989', 'feat_8990', 'feat_8991', 'feat_8992', 'feat_8993', 'feat_8994', 'feat_8995', 'feat_8996', 'feat_8997', 'feat_8998', 'feat_8999', 'feat_9000', 'feat_9001', 'feat_9002', 'feat_9003', 'feat_9004', 'feat_9005', 'feat_9006', 'feat_9007', 'feat_9008', 'feat_9009', 'feat_9010', 'feat_9011', 'feat_9012', 'feat_9013', 'feat_9014', 'feat_9015', 'feat_9016', 'feat_9017', 'feat_9018', 'feat_9019', 'feat_9020', 'feat_9021', 'feat_9022', 'feat_9023', 'feat_9024', 'feat_9025', 'feat_9026', 'feat_9027', 'feat_9028', 'feat_9029', 'feat_9030', 'feat_9031', 'feat_9032', 'feat_9033', 'feat_9034', 'feat_9035', 'feat_9036', 'feat_9037', 'feat_9038', 'feat_9039', 'feat_9040', 'feat_9041', 'feat_9042', 'feat_9043', 'feat_9044', 'feat_9045', 'feat_9046', 'feat_9047', 'feat_9048', 'feat_9049', 'feat_9050', 'feat_9051', 'feat_9052', 'feat_9053', 'feat_9054', 'feat_9055', 'feat_9056', 'feat_9057', 'feat_9058', 'feat_9059', 'feat_9060', 'feat_9061', 'feat_9062', 'feat_9063', 'feat_9064', 'feat_9065', 'feat_9066', 'feat_9067', 'feat_9068', 'feat_9069', 'feat_9070', 'feat_9071', 'feat_9072', 'feat_9073', 'feat_9074', 'feat_9075', 'feat_9076', 'feat_9077', 'feat_9078', 'feat_9079', 'feat_9080', 'feat_9081', 'feat_9082', 'feat_9083', 'feat_9084', 'feat_9085', 'feat_9086', 'feat_9087', 'feat_9088', 'feat_9089', 'feat_9090', 'feat_9091', 'feat_9092', 'feat_9093', 'feat_9094', 'feat_9095', 'feat_9096', 'feat_9097', 'feat_9098', 'feat_9099', 'feat_9100', 'feat_9101', 'feat_9102', 'feat_9103', 'feat_9104', 'feat_9105', 'feat_9106', 'feat_9107', 'feat_9108', 'feat_9109', 'feat_9110', 'feat_9111', 'feat_9112', 'feat_9113', 'feat_9114', 'feat_9115', 'feat_9116', 'feat_9117', 'feat_9118', 'feat_9119', 'feat_9120', 'feat_9121', 'feat_9122', 'feat_9123', 'feat_9124', 'feat_9125', 'feat_9126', 'feat_9127', 'feat_9128', 'feat_9129', 'feat_9130', 'feat_9131', 'feat_9132', 'feat_9133', 'feat_9134', 'feat_9135', 'feat_9136', 'feat_9137', 'feat_9138', 'feat_9139', 'feat_9140', 'feat_9141', 'feat_9142', 'feat_9143', 'feat_9144', 'feat_9145', 'feat_9146', 'feat_9147', 'feat_9148', 'feat_9149', 'feat_9150', 'feat_9151', 'feat_9152', 'feat_9153', 'feat_9154', 'feat_9155', 'feat_9156', 'feat_9157', 'feat_9158', 'feat_9159', 'feat_9160', 'feat_9161', 'feat_9162', 'feat_9163', 'feat_9164', 'feat_9165', 'feat_9166', 'feat_9167', 'feat_9168', 'feat_9169', 'feat_9170', 'feat_9171', 'feat_9172', 'feat_9173', 'feat_9174', 'feat_9175', 'feat_9176', 'feat_9177', 'feat_9178', 'feat_9179', 'feat_9180', 'feat_9181', 'feat_9182', 'feat_9183', 'feat_9184', 'feat_9185', 'feat_9186', 'feat_9187', 'feat_9188', 'feat_9189', 'feat_9190', 'feat_9191', 'feat_9192', 'feat_9193', 'feat_9194', 'feat_9195', 'feat_9196', 'feat_9197', 'feat_9198', 'feat_9199', 'feat_9200', 'feat_9201', 'feat_9202', 'feat_9203', 'feat_9204', 'feat_9205', 'feat_9206', 'feat_9207', 'feat_9208', 'feat_9209', 'feat_9210', 'feat_9211', 'feat_9212', 'feat_9213', 'feat_9214', 'feat_9215', 'feat_9216', 'feat_9217', 'feat_9218', 'feat_9219', 'feat_9220', 'feat_9221', 'feat_9222', 'feat_9223', 'feat_9224', 'feat_9225', 'feat_9226', 'feat_9227', 'feat_9228', 'feat_9229', 'feat_9230', 'feat_9231', 'feat_9232', 'feat_9233', 'feat_9234', 'feat_9235', 'feat_9236', 'feat_9237', 'feat_9238', 'feat_9239', 'feat_9240', 'feat_9241', 'feat_9242', 'feat_9243', 'feat_9244', 'feat_9245', 'feat_9246', 'feat_9247', 'feat_9248', 'feat_9249', 'feat_9250', 'feat_9251', 'feat_9252', 'feat_9253', 'feat_9254', 'feat_9255', 'feat_9256', 'feat_9257', 'feat_9258', 'feat_9259', 'feat_9260', 'feat_9261', 'feat_9262', 'feat_9263', 'feat_9264', 'feat_9265', 'feat_9266', 'feat_9267', 'feat_9268', 'feat_9269', 'feat_9270', 'feat_9271', 'feat_9272', 'feat_9273', 'feat_9274', 'feat_9275', 'feat_9276', 'feat_9277', 'feat_9278', 'feat_9279', 'feat_9280', 'feat_9281', 'feat_9282', 'feat_9283', 'feat_9284', 'feat_9285', 'feat_9286', 'feat_9287', 'feat_9288', 'feat_9289', 'feat_9290', 'feat_9291', 'feat_9292', 'feat_9293', 'feat_9294', 'feat_9295', 'feat_9296', 'feat_9297', 'feat_9298', 'feat_9299', 'feat_9300', 'feat_9301', 'feat_9302', 'feat_9303', 'feat_9304', 'feat_9305', 'feat_9306', 'feat_9307', 'feat_9308', 'feat_9309', 'feat_9310', 'feat_9311', 'feat_9312', 'feat_9313', 'feat_9314', 'feat_9315', 'feat_9316', 'feat_9317', 'feat_9318', 'feat_9319', 'feat_9320', 'feat_9321', 'feat_9322', 'feat_9323', 'feat_9324', 'feat_9325', 'feat_9326', 'feat_9327', 'feat_9328', 'feat_9329', 'feat_9330', 'feat_9331', 'feat_9332', 'feat_9333', 'feat_9334', 'feat_9335', 'feat_9336', 'feat_9337', 'feat_9338', 'feat_9339', 'feat_9340', 'feat_9341', 'feat_9342', 'feat_9343', 'feat_9344', 'feat_9345', 'feat_9346', 'feat_9347', 'feat_9348', 'feat_9349', 'feat_9350', 'feat_9351', 'feat_9352', 'feat_9353', 'feat_9354', 'feat_9355', 'feat_9356', 'feat_9357', 'feat_9358', 'feat_9359', 'feat_9360', 'feat_9361', 'feat_9362', 'feat_9363', 'feat_9364', 'feat_9365', 'feat_9366', 'feat_9367', 'feat_9368', 'feat_9369', 'feat_9370', 'feat_9371', 'feat_9372', 'feat_9373', 'feat_9374', 'feat_9375', 'feat_9376', 'feat_9377', 'feat_9378', 'feat_9379', 'feat_9380', 'feat_9381', 'feat_9382', 'feat_9383', 'feat_9384', 'feat_9385', 'feat_9386', 'feat_9387', 'feat_9388', 'feat_9389', 'feat_9390', 'feat_9391', 'feat_9392', 'feat_9393', 'feat_9394', 'feat_9395', 'feat_9396', 'feat_9397', 'feat_9398', 'feat_9399', 'feat_9400', 'feat_9401', 'feat_9402', 'feat_9403', 'feat_9404', 'feat_9405', 'feat_9406', 'feat_9407', 'feat_9408', 'feat_9409', 'feat_9410', 'feat_9411', 'feat_9412', 'feat_9413', 'feat_9414', 'feat_9415', 'feat_9416', 'feat_9417', 'feat_9418', 'feat_9419', 'feat_9420', 'feat_9421', 'feat_9422', 'feat_9423', 'feat_9424', 'feat_9425', 'feat_9426', 'feat_9427', 'feat_9428', 'feat_9429', 'feat_9430', 'feat_9431', 'feat_9432', 'feat_9433', 'feat_9434', 'feat_9435', 'feat_9436', 'feat_9437', 'feat_9438', 'feat_9439', 'feat_9440', 'feat_9441', 'feat_9442', 'feat_9443', 'feat_9444', 'feat_9445', 'feat_9446', 'feat_9447', 'feat_9448', 'feat_9449', 'feat_9450', 'feat_9451', 'feat_9452', 'feat_9453', 'feat_9454', 'feat_9455', 'feat_9456', 'feat_9457', 'feat_9458', 'feat_9459', 'feat_9460', 'feat_9461', 'feat_9462', 'feat_9463', 'feat_9464', 'feat_9465', 'feat_9466', 'feat_9467', 'feat_9468', 'feat_9469', 'feat_9470', 'feat_9471', 'feat_9472', 'feat_9473', 'feat_9474', 'feat_9475', 'feat_9476', 'feat_9477', 'feat_9478', 'feat_9479', 'feat_9480', 'feat_9481', 'feat_9482', 'feat_9483', 'feat_9484', 'feat_9485', 'feat_9486', 'feat_9487', 'feat_9488', 'feat_9489', 'feat_9490', 'feat_9491', 'feat_9492', 'feat_9493', 'feat_9494', 'feat_9495', 'feat_9496', 'feat_9497', 'feat_9498', 'feat_9499', 'feat_9500', 'feat_9501', 'feat_9502', 'feat_9503', 'feat_9504', 'feat_9505', 'feat_9506', 'feat_9507', 'feat_9508', 'feat_9509', 'feat_9510', 'feat_9511', 'feat_9512', 'feat_9513', 'feat_9514', 'feat_9515', 'feat_9516', 'feat_9517', 'feat_9518', 'feat_9519', 'feat_9520', 'feat_9521', 'feat_9522', 'feat_9523', 'feat_9524', 'feat_9525', 'feat_9526', 'feat_9527', 'feat_9528', 'feat_9529', 'feat_9530', 'feat_9531', 'feat_9532', 'feat_9533', 'feat_9534', 'feat_9535', 'feat_9536', 'feat_9537', 'feat_9538', 'feat_9539', 'feat_9540', 'feat_9541', 'feat_9542', 'feat_9543', 'feat_9544', 'feat_9545', 'feat_9546', 'feat_9547', 'feat_9548', 'feat_9549', 'feat_9550', 'feat_9551', 'feat_9552', 'feat_9553', 'feat_9554', 'feat_9555', 'feat_9556', 'feat_9557', 'feat_9558', 'feat_9559', 'feat_9560', 'feat_9561', 'feat_9562', 'feat_9563', 'feat_9564', 'feat_9565', 'feat_9566', 'feat_9567', 'feat_9568', 'feat_9569', 'feat_9570', 'feat_9571', 'feat_9572', 'feat_9573', 'feat_9574', 'feat_9575', 'feat_9576', 'feat_9577', 'feat_9578', 'feat_9579', 'feat_9580', 'feat_9581', 'feat_9582', 'feat_9583', 'feat_9584', 'feat_9585', 'feat_9586', 'feat_9587', 'feat_9588', 'feat_9589', 'feat_9590', 'feat_9591', 'feat_9592', 'feat_9593', 'feat_9594', 'feat_9595', 'feat_9596', 'feat_9597', 'feat_9598', 'feat_9599', 'feat_9600', 'feat_9601', 'feat_9602', 'feat_9603', 'feat_9604', 'feat_9605', 'feat_9606', 'feat_9607', 'feat_9608', 'feat_9609', 'feat_9610', 'feat_9611', 'feat_9612', 'feat_9613', 'feat_9614', 'feat_9615', 'feat_9616', 'feat_9617', 'feat_9618', 'feat_9619', 'feat_9620', 'feat_9621', 'feat_9622', 'feat_9623', 'feat_9624', 'feat_9625', 'feat_9626', 'feat_9627', 'feat_9628', 'feat_9629', 'feat_9630', 'feat_9631', 'feat_9632', 'feat_9633', 'feat_9634', 'feat_9635', 'feat_9636', 'feat_9637', 'feat_9638', 'feat_9639', 'feat_9640', 'feat_9641', 'feat_9642', 'feat_9643', 'feat_9644', 'feat_9645', 'feat_9646', 'feat_9647', 'feat_9648', 'feat_9649', 'feat_9650', 'feat_9651', 'feat_9652', 'feat_9653', 'feat_9654', 'feat_9655', 'feat_9656', 'feat_9657', 'feat_9658', 'feat_9659', 'feat_9660', 'feat_9661', 'feat_9662', 'feat_9663', 'feat_9664', 'feat_9665', 'feat_9666', 'feat_9667', 'feat_9668', 'feat_9669', 'feat_9670', 'feat_9671', 'feat_9672', 'feat_9673', 'feat_9674', 'feat_9675', 'feat_9676', 'feat_9677', 'feat_9678', 'feat_9679', 'feat_9680', 'feat_9681', 'feat_9682', 'feat_9683', 'feat_9684', 'feat_9685', 'feat_9686', 'feat_9687', 'feat_9688', 'feat_9689', 'feat_9690', 'feat_9691', 'feat_9692', 'feat_9693', 'feat_9694', 'feat_9695', 'feat_9696', 'feat_9697', 'feat_9698', 'feat_9699', 'feat_9700', 'feat_9701', 'feat_9702', 'feat_9703', 'feat_9704', 'feat_9705', 'feat_9706', 'feat_9707', 'feat_9708', 'feat_9709', 'feat_9710', 'feat_9711', 'feat_9712', 'feat_9713', 'feat_9714', 'feat_9715', 'feat_9716', 'feat_9717', 'feat_9718', 'feat_9719', 'feat_9720', 'feat_9721', 'feat_9722', 'feat_9723', 'feat_9724', 'feat_9725', 'feat_9726', 'feat_9727', 'feat_9728', 'feat_9729', 'feat_9730', 'feat_9731', 'feat_9732', 'feat_9733', 'feat_9734', 'feat_9735', 'feat_9736', 'feat_9737', 'feat_9738', 'feat_9739', 'feat_9740', 'feat_9741', 'feat_9742', 'feat_9743', 'feat_9744', 'feat_9745', 'feat_9746', 'feat_9747', 'feat_9748', 'feat_9749', 'feat_9750', 'feat_9751', 'feat_9752', 'feat_9753', 'feat_9754', 'feat_9755', 'feat_9756', 'feat_9757', 'feat_9758', 'feat_9759', 'feat_9760', 'feat_9761', 'feat_9762', 'feat_9763', 'feat_9764', 'feat_9765', 'feat_9766', 'feat_9767', 'feat_9768', 'feat_9769', 'feat_9770', 'feat_9771', 'feat_9772', 'feat_9773', 'feat_9774', 'feat_9775', 'feat_9776', 'feat_9777', 'feat_9778', 'feat_9779', 'feat_9780', 'feat_9781', 'feat_9782', 'feat_9783', 'feat_9784', 'feat_9785', 'feat_9786', 'feat_9787', 'feat_9788', 'feat_9789', 'feat_9790', 'feat_9791', 'feat_9792', 'feat_9793', 'feat_9794', 'feat_9795', 'feat_9796', 'feat_9797', 'feat_9798', 'feat_9799', 'feat_9800', 'feat_9801', 'feat_9802', 'feat_9803', 'feat_9804', 'feat_9805', 'feat_9806', 'feat_9807', 'feat_9808', 'feat_9809', 'feat_9810', 'feat_9811', 'feat_9812', 'feat_9813', 'feat_9814', 'feat_9815', 'feat_9816', 'feat_9817', 'feat_9818', 'feat_9819', 'feat_9820', 'feat_9821', 'feat_9822', 'feat_9823', 'feat_9824', 'feat_9825', 'feat_9826', 'feat_9827', 'feat_9828', 'feat_9829', 'feat_9830', 'feat_9831', 'feat_9832', 'feat_9833', 'feat_9834', 'feat_9835', 'feat_9836', 'feat_9837', 'feat_9838', 'feat_9839', 'feat_9840', 'feat_9841', 'feat_9842', 'feat_9843', 'feat_9844', 'feat_9845', 'feat_9846', 'feat_9847', 'feat_9848', 'feat_9849', 'feat_9850', 'feat_9851', 'feat_9852', 'feat_9853', 'feat_9854', 'feat_9855', 'feat_9856', 'feat_9857', 'feat_9858', 'feat_9859', 'feat_9860', 'feat_9861', 'feat_9862', 'feat_9863', 'feat_9864', 'feat_9865', 'feat_9866', 'feat_9867', 'feat_9868', 'feat_9869', 'feat_9870', 'feat_9871', 'feat_9872', 'feat_9873', 'feat_9874', 'feat_9875', 'feat_9876', 'feat_9877', 'feat_9878', 'feat_9879', 'feat_9880', 'feat_9881', 'feat_9882', 'feat_9883', 'feat_9884', 'feat_9885', 'feat_9886', 'feat_9887', 'feat_9888', 'feat_9889', 'feat_9890', 'feat_9891', 'feat_9892', 'feat_9893', 'feat_9894', 'feat_9895', 'feat_9896', 'feat_9897', 'feat_9898', 'feat_9899', 'feat_9900', 'feat_9901', 'feat_9902', 'feat_9903', 'feat_9904', 'feat_9905', 'feat_9906', 'feat_9907', 'feat_9908', 'feat_9909', 'feat_9910', 'feat_9911', 'feat_9912', 'feat_9913', 'feat_9914', 'feat_9915', 'feat_9916', 'feat_9917', 'feat_9918', 'feat_9919', 'feat_9920', 'feat_9921', 'feat_9922', 'feat_9923', 'feat_9924', 'feat_9925', 'feat_9926', 'feat_9927', 'feat_9928', 'feat_9929', 'feat_9930', 'feat_9931', 'feat_9932', 'feat_9933', 'feat_9934', 'feat_9935', 'feat_9936', 'feat_9937', 'feat_9938', 'feat_9939', 'feat_9940', 'feat_9941', 'feat_9942', 'feat_9943', 'feat_9944', 'feat_9945', 'feat_9946', 'feat_9947', 'feat_9948', 'feat_9949', 'feat_9950', 'feat_9951', 'feat_9952', 'feat_9953', 'feat_9954', 'feat_9955', 'feat_9956', 'feat_9957', 'feat_9958', 'feat_9959', 'feat_9960', 'feat_9961', 'feat_9962', 'feat_9963', 'feat_9964', 'feat_9965', 'feat_9966', 'feat_9967', 'feat_9968', 'feat_9969', 'feat_9970', 'feat_9971', 'feat_9972', 'feat_9973', 'feat_9974', 'feat_9975', 'feat_9976', 'feat_9977', 'feat_9978', 'feat_9979', 'feat_9980', 'feat_9981', 'feat_9982', 'feat_9983', 'feat_9984', 'feat_9985', 'feat_9986', 'feat_9987', 'feat_9988', 'feat_9989', 'feat_9990', 'feat_9991', 'feat_9992', 'feat_9993', 'feat_9994', 'feat_9995', 'feat_9996', 'feat_9997', 'feat_9998', 'feat_9999', 'feat_10000', 'feat_10001', 'feat_10002', 'feat_10003', 'feat_10004', 'feat_10005', 'feat_10006', 'feat_10007', 'feat_10008', 'feat_10009', 'feat_10010', 'feat_10011', 'feat_10012', 'feat_10013', 'feat_10014', 'feat_10015', 'feat_10016', 'feat_10017', 'feat_10018', 'feat_10019', 'feat_10020', 'feat_10021', 'feat_10022', 'feat_10023', 'feat_10024', 'feat_10025', 'feat_10026', 'feat_10027', 'feat_10028', 'feat_10029', 'feat_10030', 'feat_10031', 'feat_10032', 'feat_10033', 'feat_10034', 'feat_10035', 'feat_10036', 'feat_10037', 'feat_10038', 'feat_10039', 'feat_10040', 'feat_10041', 'feat_10042', 'feat_10043', 'feat_10044', 'feat_10045', 'feat_10046', 'feat_10047', 'feat_10048', 'feat_10049', 'feat_10050', 'feat_10051', 'feat_10052', 'feat_10053', 'feat_10054', 'feat_10055', 'feat_10056', 'feat_10057', 'feat_10058', 'feat_10059', 'feat_10060', 'feat_10061', 'feat_10062', 'feat_10063', 'feat_10064', 'feat_10065', 'feat_10066', 'feat_10067', 'feat_10068', 'feat_10069', 'feat_10070', 'feat_10071', 'feat_10072', 'feat_10073', 'feat_10074', 'feat_10075', 'feat_10076', 'feat_10077', 'feat_10078', 'feat_10079', 'feat_10080', 'feat_10081', 'feat_10082', 'feat_10083', 'feat_10084', 'feat_10085', 'feat_10086', 'feat_10087', 'feat_10088', 'feat_10089', 'feat_10090', 'feat_10091', 'feat_10092', 'feat_10093', 'feat_10094', 'feat_10095', 'feat_10096', 'feat_10097', 'feat_10098', 'feat_10099', 'feat_10100', 'feat_10101', 'feat_10102', 'feat_10103', 'feat_10104', 'feat_10105', 'feat_10106', 'feat_10107', 'feat_10108', 'feat_10109', 'feat_10110', 'feat_10111', 'feat_10112', 'feat_10113', 'feat_10114', 'feat_10115', 'feat_10116', 'feat_10117', 'feat_10118', 'feat_10119', 'feat_10120', 'feat_10121', 'feat_10122', 'feat_10123', 'feat_10124', 'feat_10125', 'feat_10126', 'feat_10127', 'feat_10128', 'feat_10129', 'feat_10130', 'feat_10131', 'feat_10132', 'feat_10133', 'feat_10134', 'feat_10135', 'feat_10136', 'feat_10137', 'feat_10138', 'feat_10139', 'feat_10140', 'feat_10141', 'feat_10142', 'feat_10143', 'feat_10144', 'feat_10145', 'feat_10146', 'feat_10147', 'feat_10148', 'feat_10149', 'feat_10150', 'feat_10151', 'feat_10152', 'feat_10153', 'feat_10154', 'feat_10155', 'feat_10156', 'feat_10157', 'feat_10158', 'feat_10159', 'feat_10160', 'feat_10161', 'feat_10162', 'feat_10163', 'feat_10164', 'feat_10165', 'feat_10166', 'feat_10167', 'feat_10168', 'feat_10169', 'feat_10170', 'feat_10171', 'feat_10172', 'feat_10173', 'feat_10174', 'feat_10175', 'feat_10176', 'feat_10177', 'feat_10178', 'feat_10179', 'feat_10180', 'feat_10181', 'feat_10182', 'feat_10183', 'feat_10184', 'feat_10185', 'feat_10186', 'feat_10187', 'feat_10188', 'feat_10189', 'feat_10190', 'feat_10191', 'feat_10192', 'feat_10193', 'feat_10194', 'feat_10195', 'feat_10196', 'feat_10197', 'feat_10198', 'feat_10199', 'feat_10200', 'feat_10201', 'feat_10202', 'feat_10203', 'feat_10204', 'feat_10205', 'feat_10206', 'feat_10207', 'feat_10208', 'feat_10209', 'feat_10210', 'feat_10211', 'feat_10212', 'feat_10213', 'feat_10214', 'feat_10215', 'feat_10216', 'feat_10217', 'feat_10218', 'feat_10219', 'feat_10220', 'feat_10221', 'feat_10222', 'feat_10223', 'feat_10224', 'feat_10225', 'feat_10226', 'feat_10227', 'feat_10228', 'feat_10229', 'feat_10230', 'feat_10231', 'feat_10232', 'feat_10233', 'feat_10234', 'feat_10235', 'feat_10236', 'feat_10237', 'feat_10238', 'feat_10239', 'feat_10240', 'feat_10241', 'feat_10242', 'feat_10243', 'feat_10244', 'feat_10245', 'feat_10246', 'feat_10247', 'feat_10248', 'feat_10249', 'feat_10250', 'feat_10251', 'feat_10252', 'feat_10253', 'feat_10254', 'feat_10255', 'feat_10256', 'feat_10257', 'feat_10258', 'feat_10259', 'feat_10260', 'feat_10261', 'feat_10262', 'feat_10263', 'feat_10264', 'feat_10265', 'feat_10266', 'feat_10267', 'feat_10268', 'feat_10269', 'feat_10270', 'feat_10271', 'feat_10272', 'feat_10273', 'feat_10274', 'feat_10275', 'feat_10276', 'feat_10277', 'feat_10278', 'feat_10279', 'feat_10280', 'feat_10281', 'feat_10282', 'feat_10283', 'feat_10284', 'feat_10285', 'feat_10286', 'feat_10287', 'feat_10288', 'feat_10289', 'feat_10290', 'feat_10291', 'feat_10292', 'feat_10293', 'feat_10294', 'feat_10295', 'feat_10296', 'feat_10297', 'feat_10298', 'feat_10299', 'feat_10300', 'feat_10301', 'feat_10302', 'feat_10303', 'feat_10304', 'feat_10305', 'feat_10306', 'feat_10307', 'feat_10308', 'feat_10309', 'feat_10310', 'feat_10311', 'feat_10312', 'feat_10313', 'feat_10314', 'feat_10315', 'feat_10316', 'feat_10317', 'feat_10318', 'feat_10319', 'feat_10320', 'feat_10321', 'feat_10322', 'feat_10323', 'feat_10324', 'feat_10325', 'feat_10326', 'feat_10327', 'feat_10328', 'feat_10329', 'feat_10330', 'feat_10331', 'feat_10332', 'feat_10333', 'feat_10334', 'feat_10335', 'feat_10336', 'feat_10337', 'feat_10338', 'feat_10339', 'feat_10340', 'feat_10341', 'feat_10342', 'feat_10343', 'feat_10344', 'feat_10345', 'feat_10346', 'feat_10347', 'feat_10348', 'feat_10349', 'feat_10350', 'feat_10351', 'feat_10352', 'feat_10353', 'feat_10354', 'feat_10355', 'feat_10356', 'feat_10357', 'feat_10358', 'feat_10359', 'feat_10360', 'feat_10361', 'feat_10362', 'feat_10363', 'feat_10364', 'feat_10365', 'feat_10366', 'feat_10367', 'feat_10368', 'feat_10369', 'feat_10370', 'feat_10371', 'feat_10372', 'feat_10373', 'feat_10374', 'feat_10375', 'feat_10376', 'feat_10377', 'feat_10378', 'feat_10379', 'feat_10380', 'feat_10381', 'feat_10382', 'feat_10383', 'feat_10384', 'feat_10385', 'feat_10386', 'feat_10387', 'feat_10388', 'feat_10389', 'feat_10390', 'feat_10391', 'feat_10392', 'feat_10393', 'feat_10394', 'feat_10395', 'feat_10396', 'feat_10397', 'feat_10398', 'feat_10399', 'feat_10400', 'feat_10401', 'feat_10402', 'feat_10403', 'feat_10404', 'feat_10405', 'feat_10406', 'feat_10407', 'feat_10408', 'feat_10409', 'feat_10410', 'feat_10411', 'feat_10412', 'feat_10413', 'feat_10414', 'feat_10415', 'feat_10416', 'feat_10417', 'feat_10418', 'feat_10419', 'feat_10420', 'feat_10421', 'feat_10422', 'feat_10423', 'feat_10424', 'feat_10425', 'feat_10426', 'feat_10427', 'feat_10428', 'feat_10429', 'feat_10430', 'feat_10431', 'feat_10432', 'feat_10433', 'feat_10434', 'feat_10435', 'feat_10436', 'feat_10437', 'feat_10438', 'feat_10439', 'feat_10440', 'feat_10441', 'feat_10442', 'feat_10443', 'feat_10444', 'feat_10445', 'feat_10446', 'feat_10447', 'feat_10448', 'feat_10449', 'feat_10450', 'feat_10451', 'feat_10452', 'feat_10453', 'feat_10454', 'feat_10455', 'feat_10456', 'feat_10457', 'feat_10458', 'feat_10459', 'feat_10460', 'feat_10461', 'feat_10462', 'feat_10463', 'feat_10464', 'feat_10465', 'feat_10466', 'feat_10467', 'feat_10468', 'feat_10469', 'feat_10470', 'feat_10471', 'feat_10472', 'feat_10473', 'feat_10474', 'feat_10475', 'feat_10476', 'feat_10477', 'feat_10478', 'feat_10479', 'feat_10480', 'feat_10481', 'feat_10482', 'feat_10483', 'feat_10484', 'feat_10485', 'feat_10486', 'feat_10487', 'feat_10488', 'feat_10489', 'feat_10490', 'feat_10491', 'feat_10492', 'feat_10493', 'feat_10494', 'feat_10495', 'feat_10496', 'feat_10497', 'feat_10498', 'feat_10499', 'feat_10500', 'feat_10501', 'feat_10502', 'feat_10503', 'feat_10504', 'feat_10505', 'feat_10506', 'feat_10507', 'feat_10508', 'feat_10509', 'feat_10510', 'feat_10511', 'feat_10512', 'feat_10513', 'feat_10514', 'feat_10515', 'feat_10516', 'feat_10517', 'feat_10518', 'feat_10519', 'feat_10520', 'feat_10521', 'feat_10522', 'feat_10523', 'feat_10524', 'feat_10525', 'feat_10526', 'feat_10527', 'feat_10528', 'feat_10529', 'feat_10530', 'feat_10531', 'feat_10532', 'feat_10533', 'feat_10534', 'feat_10535', 'feat_10536', 'feat_10537', 'feat_10538', 'feat_10539', 'feat_10540', 'feat_10541', 'feat_10542', 'feat_10543', 'feat_10544', 'feat_10545', 'feat_10546', 'feat_10547', 'feat_10548', 'feat_10549', 'feat_10550', 'feat_10551', 'feat_10552', 'feat_10553', 'feat_10554', 'feat_10555', 'feat_10556', 'feat_10557', 'feat_10558', 'feat_10559', 'feat_10560', 'feat_10561', 'feat_10562', 'feat_10563', 'feat_10564', 'feat_10565', 'feat_10566', 'feat_10567', 'feat_10568', 'feat_10569', 'feat_10570', 'feat_10571', 'feat_10572', 'feat_10573', 'feat_10574', 'feat_10575', 'feat_10576', 'feat_10577', 'feat_10578', 'feat_10579', 'feat_10580', 'feat_10581', 'feat_10582', 'feat_10583', 'feat_10584', 'feat_10585', 'feat_10586', 'feat_10587', 'feat_10588', 'feat_10589', 'feat_10590', 'feat_10591', 'feat_10592', 'feat_10593', 'feat_10594', 'feat_10595', 'feat_10596', 'feat_10597', 'feat_10598', 'feat_10599', 'feat_10600', 'feat_10601', 'feat_10602', 'feat_10603', 'feat_10604', 'feat_10605', 'feat_10606', 'feat_10607', 'feat_10608', 'feat_10609', 'feat_10610', 'feat_10611', 'feat_10612', 'feat_10613', 'feat_10614', 'feat_10615', 'feat_10616', 'feat_10617', 'feat_10618', 'feat_10619', 'feat_10620', 'feat_10621', 'feat_10622', 'feat_10623', 'feat_10624', 'feat_10625', 'feat_10626', 'feat_10627', 'feat_10628', 'feat_10629', 'feat_10630', 'feat_10631', 'feat_10632', 'feat_10633', 'feat_10634', 'feat_10635', 'feat_10636', 'feat_10637', 'feat_10638', 'feat_10639', 'feat_10640', 'feat_10641', 'feat_10642', 'feat_10643', 'feat_10644', 'feat_10645', 'feat_10646', 'feat_10647', 'feat_10648', 'feat_10649', 'feat_10650', 'feat_10651', 'feat_10652', 'feat_10653', 'feat_10654', 'feat_10655', 'feat_10656', 'feat_10657', 'feat_10658', 'feat_10659', 'feat_10660', 'feat_10661', 'feat_10662', 'feat_10663', 'feat_10664', 'feat_10665', 'feat_10666', 'feat_10667', 'feat_10668', 'feat_10669', 'feat_10670', 'feat_10671', 'feat_10672', 'feat_10673', 'feat_10674', 'feat_10675', 'feat_10676', 'feat_10677', 'feat_10678', 'feat_10679', 'feat_10680', 'feat_10681', 'feat_10682', 'feat_10683', 'feat_10684', 'feat_10685', 'feat_10686', 'feat_10687', 'feat_10688', 'feat_10689', 'feat_10690', 'feat_10691', 'feat_10692', 'feat_10693', 'feat_10694', 'feat_10695', 'feat_10696', 'feat_10697', 'feat_10698', 'feat_10699', 'feat_10700', 'feat_10701', 'feat_10702', 'feat_10703', 'feat_10704', 'feat_10705', 'feat_10706', 'feat_10707', 'feat_10708', 'feat_10709', 'feat_10710', 'feat_10711', 'feat_10712', 'feat_10713', 'feat_10714', 'feat_10715', 'feat_10716', 'feat_10717', 'feat_10718', 'feat_10719', 'feat_10720', 'feat_10721', 'feat_10722', 'feat_10723', 'feat_10724', 'feat_10725', 'feat_10726', 'feat_10727', 'feat_10728', 'feat_10729', 'feat_10730', 'feat_10731', 'feat_10732', 'feat_10733', 'feat_10734', 'feat_10735', 'feat_10736', 'feat_10737', 'feat_10738', 'feat_10739', 'feat_10740', 'feat_10741', 'feat_10742', 'feat_10743', 'feat_10744', 'feat_10745', 'feat_10746', 'feat_10747', 'feat_10748', 'feat_10749', 'feat_10750', 'feat_10751', 'feat_10752', 'feat_10753', 'feat_10754', 'feat_10755', 'feat_10756', 'feat_10757', 'feat_10758', 'feat_10759', 'feat_10760', 'feat_10761', 'feat_10762', 'feat_10763', 'feat_10764', 'feat_10765', 'feat_10766', 'feat_10767', 'feat_10768', 'feat_10769', 'feat_10770', 'feat_10771', 'feat_10772', 'feat_10773', 'feat_10774', 'feat_10775', 'feat_10776', 'feat_10777', 'feat_10778', 'feat_10779', 'feat_10780', 'feat_10781', 'feat_10782', 'feat_10783', 'feat_10784', 'feat_10785', 'feat_10786', 'feat_10787', 'feat_10788', 'feat_10789', 'feat_10790', 'feat_10791', 'feat_10792', 'feat_10793', 'feat_10794', 'feat_10795', 'feat_10796', 'feat_10797', 'feat_10798', 'feat_10799', 'feat_10800', 'feat_10801', 'feat_10802', 'feat_10803', 'feat_10804', 'feat_10805', 'feat_10806', 'feat_10807', 'feat_10808', 'feat_10809', 'feat_10810', 'feat_10811', 'feat_10812', 'feat_10813', 'feat_10814', 'feat_10815', 'feat_10816', 'feat_10817', 'feat_10818', 'feat_10819', 'feat_10820', 'feat_10821', 'feat_10822', 'feat_10823', 'feat_10824', 'feat_10825', 'feat_10826', 'feat_10827', 'feat_10828', 'feat_10829', 'feat_10830', 'feat_10831', 'feat_10832', 'feat_10833', 'feat_10834', 'feat_10835', 'feat_10836', 'feat_10837', 'feat_10838', 'feat_10839', 'feat_10840', 'feat_10841', 'feat_10842', 'feat_10843', 'feat_10844', 'feat_10845', 'feat_10846', 'feat_10847', 'feat_10848', 'feat_10849', 'feat_10850', 'feat_10851', 'feat_10852', 'feat_10853', 'feat_10854', 'feat_10855', 'feat_10856', 'feat_10857', 'feat_10858', 'feat_10859', 'feat_10860', 'feat_10861', 'feat_10862', 'feat_10863', 'feat_10864', 'feat_10865', 'feat_10866', 'feat_10867', 'feat_10868', 'feat_10869', 'feat_10870', 'feat_10871', 'feat_10872', 'feat_10873', 'feat_10874', 'feat_10875', 'feat_10876', 'feat_10877', 'feat_10878', 'feat_10879', 'feat_10880', 'feat_10881', 'feat_10882', 'feat_10883', 'feat_10884', 'feat_10885', 'feat_10886', 'feat_10887', 'feat_10888', 'feat_10889', 'feat_10890', 'feat_10891', 'feat_10892', 'feat_10893', 'feat_10894', 'feat_10895', 'feat_10896', 'feat_10897', 'feat_10898', 'feat_10899', 'feat_10900', 'feat_10901', 'feat_10902', 'feat_10903', 'feat_10904', 'feat_10905', 'feat_10906', 'feat_10907', 'feat_10908', 'feat_10909', 'feat_10910', 'feat_10911', 'feat_10912', 'feat_10913', 'feat_10914', 'feat_10915', 'feat_10916', 'feat_10917', 'feat_10918', 'feat_10919', 'feat_10920', 'feat_10921', 'feat_10922', 'feat_10923', 'feat_10924', 'feat_10925', 'feat_10926', 'feat_10927', 'feat_10928', 'feat_10929', 'feat_10930', 'feat_10931', 'feat_10932', 'feat_10933', 'feat_10934', 'feat_10935', 'feat_10936', 'feat_10937', 'feat_10938', 'feat_10939', 'feat_10940', 'feat_10941', 'feat_10942', 'feat_10943', 'feat_10944', 'feat_10945', 'feat_10946', 'feat_10947', 'feat_10948', 'feat_10949', 'feat_10950', 'feat_10951', 'feat_10952', 'feat_10953', 'feat_10954', 'feat_10955', 'feat_10956', 'feat_10957', 'feat_10958', 'feat_10959', 'feat_10960', 'feat_10961', 'feat_10962', 'feat_10963', 'feat_10964', 'feat_10965', 'feat_10966', 'feat_10967', 'feat_10968', 'feat_10969', 'feat_10970', 'feat_10971', 'feat_10972', 'feat_10973', 'feat_10974', 'feat_10975', 'feat_10976', 'feat_10977', 'feat_10978', 'feat_10979', 'feat_10980', 'feat_10981', 'feat_10982', 'feat_10983', 'feat_10984', 'feat_10985', 'feat_10986', 'feat_10987', 'feat_10988', 'feat_10989', 'feat_10990', 'feat_10991', 'feat_10992', 'feat_10993', 'feat_10994', 'feat_10995', 'feat_10996', 'feat_10997', 'feat_10998', 'feat_10999', 'feat_11000', 'feat_11001', 'feat_11002', 'feat_11003', 'feat_11004', 'feat_11005', 'feat_11006', 'feat_11007', 'feat_11008', 'feat_11009', 'feat_11010', 'feat_11011', 'feat_11012', 'feat_11013', 'feat_11014', 'feat_11015', 'feat_11016', 'feat_11017', 'feat_11018', 'feat_11019', 'feat_11020', 'feat_11021', 'feat_11022', 'feat_11023', 'feat_11024', 'feat_11025', 'feat_11026', 'feat_11027', 'feat_11028', 'feat_11029', 'feat_11030', 'feat_11031', 'feat_11032', 'feat_11033', 'feat_11034', 'feat_11035', 'feat_11036', 'feat_11037', 'feat_11038', 'feat_11039', 'feat_11040', 'feat_11041', 'feat_11042', 'feat_11043', 'feat_11044', 'feat_11045', 'feat_11046', 'feat_11047', 'feat_11048', 'feat_11049', 'feat_11050', 'feat_11051', 'feat_11052', 'feat_11053', 'feat_11054', 'feat_11055', 'feat_11056', 'feat_11057', 'feat_11058', 'feat_11059', 'feat_11060', 'feat_11061', 'feat_11062', 'feat_11063', 'feat_11064', 'feat_11065', 'feat_11066', 'feat_11067', 'feat_11068', 'feat_11069', 'feat_11070', 'feat_11071', 'feat_11072', 'feat_11073', 'feat_11074', 'feat_11075', 'feat_11076', 'feat_11077', 'feat_11078', 'feat_11079', 'feat_11080', 'feat_11081', 'feat_11082', 'feat_11083', 'feat_11084', 'feat_11085', 'feat_11086', 'feat_11087', 'feat_11088', 'feat_11089', 'feat_11090', 'feat_11091', 'feat_11092', 'feat_11093', 'feat_11094', 'feat_11095', 'feat_11096', 'feat_11097', 'feat_11098', 'feat_11099', 'feat_11100', 'feat_11101', 'feat_11102', 'feat_11103', 'feat_11104', 'feat_11105', 'feat_11106', 'feat_11107', 'feat_11108', 'feat_11109', 'feat_11110', 'feat_11111', 'feat_11112', 'feat_11113', 'feat_11114', 'feat_11115', 'feat_11116', 'feat_11117', 'feat_11118', 'feat_11119', 'feat_11120', 'feat_11121', 'feat_11122', 'feat_11123', 'feat_11124', 'feat_11125', 'feat_11126', 'feat_11127', 'feat_11128', 'feat_11129', 'feat_11130', 'feat_11131', 'feat_11132', 'feat_11133', 'feat_11134', 'feat_11135', 'feat_11136', 'feat_11137', 'feat_11138', 'feat_11139', 'feat_11140', 'feat_11141', 'feat_11142', 'feat_11143', 'feat_11144', 'feat_11145', 'feat_11146', 'feat_11147', 'feat_11148', 'feat_11149', 'feat_11150', 'feat_11151', 'feat_11152', 'feat_11153', 'feat_11154', 'feat_11155', 'feat_11156', 'feat_11157', 'feat_11158', 'feat_11159', 'feat_11160', 'feat_11161', 'feat_11162', 'feat_11163', 'feat_11164', 'feat_11165', 'feat_11166', 'feat_11167', 'feat_11168', 'feat_11169', 'feat_11170', 'feat_11171', 'feat_11172', 'feat_11173', 'feat_11174', 'feat_11175', 'feat_11176', 'feat_11177', 'feat_11178', 'feat_11179', 'feat_11180', 'feat_11181', 'feat_11182', 'feat_11183', 'feat_11184', 'feat_11185', 'feat_11186', 'feat_11187', 'feat_11188', 'feat_11189', 'feat_11190', 'feat_11191', 'feat_11192', 'feat_11193', 'feat_11194', 'feat_11195', 'feat_11196', 'feat_11197', 'feat_11198', 'feat_11199', 'feat_11200', 'feat_11201', 'feat_11202', 'feat_11203', 'feat_11204', 'feat_11205', 'feat_11206', 'feat_11207', 'feat_11208', 'feat_11209', 'feat_11210', 'feat_11211', 'feat_11212', 'feat_11213', 'feat_11214', 'feat_11215', 'feat_11216', 'feat_11217', 'feat_11218', 'feat_11219', 'feat_11220', 'feat_11221', 'feat_11222', 'feat_11223', 'feat_11224', 'feat_11225', 'feat_11226', 'feat_11227', 'feat_11228', 'feat_11229', 'feat_11230', 'feat_11231', 'feat_11232', 'feat_11233', 'feat_11234', 'feat_11235', 'feat_11236', 'feat_11237', 'feat_11238', 'feat_11239', 'feat_11240', 'feat_11241', 'feat_11242', 'feat_11243', 'feat_11244', 'feat_11245', 'feat_11246', 'feat_11247', 'feat_11248', 'feat_11249', 'feat_11250', 'feat_11251', 'feat_11252', 'feat_11253', 'feat_11254', 'feat_11255', 'feat_11256', 'feat_11257', 'feat_11258', 'feat_11259', 'feat_11260', 'feat_11261', 'feat_11262', 'feat_11263', 'feat_11264', 'feat_11265', 'feat_11266', 'feat_11267', 'feat_11268', 'feat_11269', 'feat_11270', 'feat_11271', 'feat_11272', 'feat_11273', 'feat_11274', 'feat_11275', 'feat_11276', 'feat_11277', 'feat_11278', 'feat_11279', 'feat_11280', 'feat_11281', 'feat_11282', 'feat_11283', 'feat_11284', 'feat_11285', 'feat_11286', 'feat_11287', 'feat_11288', 'feat_11289', 'feat_11290', 'feat_11291', 'feat_11292', 'feat_11293', 'feat_11294', 'feat_11295', 'feat_11296', 'feat_11297', 'feat_11298', 'feat_11299', 'feat_11300', 'feat_11301', 'feat_11302', 'feat_11303', 'feat_11304', 'feat_11305', 'feat_11306', 'feat_11307', 'feat_11308', 'feat_11309', 'feat_11310', 'feat_11311', 'feat_11312', 'feat_11313', 'feat_11314', 'feat_11315', 'feat_11316', 'feat_11317', 'feat_11318', 'feat_11319', 'feat_11320', 'feat_11321', 'feat_11322', 'feat_11323', 'feat_11324', 'feat_11325', 'feat_11326', 'feat_11327', 'feat_11328', 'feat_11329', 'feat_11330', 'feat_11331', 'feat_11332', 'feat_11333', 'feat_11334', 'feat_11335', 'feat_11336', 'feat_11337', 'feat_11338', 'feat_11339', 'feat_11340', 'feat_11341', 'feat_11342', 'feat_11343', 'feat_11344', 'feat_11345', 'feat_11346', 'feat_11347', 'feat_11348', 'feat_11349', 'feat_11350', 'feat_11351', 'feat_11352', 'feat_11353', 'feat_11354', 'feat_11355', 'feat_11356', 'feat_11357', 'feat_11358', 'feat_11359', 'feat_11360', 'feat_11361', 'feat_11362', 'feat_11363', 'feat_11364', 'feat_11365', 'feat_11366', 'feat_11367', 'feat_11368', 'feat_11369', 'feat_11370', 'feat_11371', 'feat_11372', 'feat_11373', 'feat_11374', 'feat_11375', 'feat_11376', 'feat_11377', 'feat_11378', 'feat_11379', 'feat_11380', 'feat_11381', 'feat_11382', 'feat_11383', 'feat_11384', 'feat_11385', 'feat_11386', 'feat_11387', 'feat_11388', 'feat_11389', 'feat_11390', 'feat_11391', 'feat_11392', 'feat_11393', 'feat_11394', 'feat_11395', 'feat_11396', 'feat_11397', 'feat_11398', 'feat_11399', 'feat_11400', 'feat_11401', 'feat_11402', 'feat_11403', 'feat_11404', 'feat_11405', 'feat_11406', 'feat_11407', 'feat_11408', 'feat_11409', 'feat_11410', 'feat_11411', 'feat_11412', 'feat_11413', 'feat_11414', 'feat_11415', 'feat_11416', 'feat_11417', 'feat_11418', 'feat_11419', 'feat_11420', 'feat_11421', 'feat_11422', 'feat_11423', 'feat_11424', 'feat_11425', 'feat_11426', 'feat_11427', 'feat_11428', 'feat_11429', 'feat_11430', 'feat_11431', 'feat_11432', 'feat_11433', 'feat_11434', 'feat_11435', 'feat_11436', 'feat_11437', 'feat_11438', 'feat_11439', 'feat_11440', 'feat_11441', 'feat_11442', 'feat_11443', 'feat_11444', 'feat_11445', 'feat_11446', 'feat_11447', 'feat_11448', 'feat_11449', 'feat_11450', 'feat_11451', 'feat_11452', 'feat_11453', 'feat_11454', 'feat_11455', 'feat_11456', 'feat_11457', 'feat_11458', 'feat_11459', 'feat_11460', 'feat_11461', 'feat_11462', 'feat_11463', 'feat_11464', 'feat_11465', 'feat_11466', 'feat_11467', 'feat_11468', 'feat_11469', 'feat_11470', 'feat_11471', 'feat_11472', 'feat_11473', 'feat_11474', 'feat_11475', 'feat_11476', 'feat_11477', 'feat_11478', 'feat_11479', 'feat_11480', 'feat_11481', 'feat_11482', 'feat_11483', 'feat_11484', 'feat_11485', 'feat_11486', 'feat_11487', 'feat_11488', 'feat_11489', 'feat_11490', 'feat_11491', 'feat_11492', 'feat_11493', 'feat_11494', 'feat_11495', 'feat_11496', 'feat_11497', 'feat_11498', 'feat_11499', 'feat_11500', 'feat_11501', 'feat_11502', 'feat_11503', 'feat_11504', 'feat_11505', 'feat_11506', 'feat_11507', 'feat_11508', 'feat_11509', 'feat_11510', 'feat_11511', 'feat_11512', 'feat_11513', 'feat_11514', 'feat_11515', 'feat_11516', 'feat_11517', 'feat_11518', 'feat_11519', 'feat_11520', 'feat_11521', 'feat_11522', 'feat_11523', 'feat_11524', 'feat_11525', 'feat_11526', 'feat_11527', 'feat_11528', 'feat_11529', 'feat_11530', 'feat_11531', 'feat_11532', 'feat_11533', 'feat_11534', 'feat_11535', 'feat_11536', 'feat_11537', 'feat_11538', 'feat_11539', 'feat_11540', 'feat_11541', 'feat_11542', 'feat_11543', 'feat_11544', 'feat_11545', 'feat_11546', 'feat_11547', 'feat_11548', 'feat_11549', 'feat_11550', 'feat_11551', 'feat_11552', 'feat_11553', 'feat_11554', 'feat_11555', 'feat_11556', 'feat_11557', 'feat_11558', 'feat_11559', 'feat_11560', 'feat_11561', 'feat_11562', 'feat_11563', 'feat_11564', 'feat_11565', 'feat_11566', 'feat_11567', 'feat_11568', 'feat_11569', 'feat_11570', 'feat_11571', 'feat_11572', 'feat_11573', 'feat_11574', 'feat_11575', 'feat_11576', 'feat_11577', 'feat_11578', 'feat_11579', 'feat_11580', 'feat_11581', 'feat_11582', 'feat_11583', 'feat_11584', 'feat_11585', 'feat_11586', 'feat_11587', 'feat_11588', 'feat_11589', 'feat_11590', 'feat_11591', 'feat_11592', 'feat_11593', 'feat_11594', 'feat_11595', 'feat_11596', 'feat_11597', 'feat_11598', 'feat_11599', 'feat_11600', 'feat_11601', 'feat_11602', 'feat_11603', 'feat_11604', 'feat_11605', 'feat_11606', 'feat_11607', 'feat_11608', 'feat_11609', 'feat_11610', 'feat_11611', 'feat_11612', 'feat_11613', 'feat_11614', 'feat_11615', 'feat_11616', 'feat_11617', 'feat_11618', 'feat_11619', 'feat_11620', 'feat_11621', 'feat_11622', 'feat_11623', 'feat_11624', 'feat_11625', 'feat_11626', 'feat_11627', 'feat_11628', 'feat_11629', 'feat_11630', 'feat_11631', 'feat_11632', 'feat_11633', 'feat_11634', 'feat_11635', 'feat_11636', 'feat_11637', 'feat_11638', 'feat_11639', 'feat_11640', 'feat_11641', 'feat_11642', 'feat_11643', 'feat_11644', 'feat_11645', 'feat_11646', 'feat_11647', 'feat_11648', 'feat_11649', 'feat_11650', 'feat_11651', 'feat_11652', 'feat_11653', 'feat_11654', 'feat_11655', 'feat_11656', 'feat_11657', 'feat_11658', 'feat_11659', 'feat_11660', 'feat_11661', 'feat_11662', 'feat_11663', 'feat_11664', 'feat_11665', 'feat_11666', 'feat_11667', 'feat_11668', 'feat_11669', 'feat_11670', 'feat_11671', 'feat_11672', 'feat_11673', 'feat_11674', 'feat_11675', 'feat_11676', 'feat_11677', 'feat_11678', 'feat_11679', 'feat_11680', 'feat_11681', 'feat_11682', 'feat_11683', 'feat_11684', 'feat_11685', 'feat_11686', 'feat_11687', 'feat_11688', 'feat_11689', 'feat_11690', 'feat_11691', 'feat_11692', 'feat_11693', 'feat_11694', 'feat_11695', 'feat_11696', 'feat_11697', 'feat_11698', 'feat_11699', 'feat_11700', 'feat_11701', 'feat_11702', 'feat_11703', 'feat_11704', 'feat_11705', 'feat_11706', 'feat_11707', 'feat_11708', 'feat_11709', 'feat_11710', 'feat_11711', 'feat_11712', 'feat_11713', 'feat_11714', 'feat_11715', 'feat_11716', 'feat_11717', 'feat_11718', 'feat_11719', 'feat_11720', 'feat_11721', 'feat_11722', 'feat_11723', 'feat_11724', 'feat_11725', 'feat_11726', 'feat_11727', 'feat_11728', 'feat_11729', 'feat_11730', 'feat_11731', 'feat_11732', 'feat_11733', 'feat_11734', 'feat_11735', 'feat_11736', 'feat_11737', 'feat_11738', 'feat_11739', 'feat_11740', 'feat_11741', 'feat_11742', 'feat_11743', 'feat_11744', 'feat_11745', 'feat_11746', 'feat_11747', 'feat_11748', 'feat_11749', 'feat_11750', 'feat_11751', 'feat_11752', 'feat_11753', 'feat_11754', 'feat_11755', 'feat_11756', 'feat_11757', 'feat_11758', 'feat_11759', 'feat_11760', 'feat_11761', 'feat_11762', 'feat_11763', 'feat_11764', 'feat_11765', 'feat_11766', 'feat_11767', 'feat_11768', 'feat_11769', 'feat_11770', 'feat_11771', 'feat_11772', 'feat_11773', 'feat_11774', 'feat_11775', 'feat_11776', 'feat_11777', 'feat_11778', 'feat_11779', 'feat_11780', 'feat_11781', 'feat_11782', 'feat_11783', 'feat_11784', 'feat_11785', 'feat_11786', 'feat_11787', 'feat_11788', 'feat_11789', 'feat_11790', 'feat_11791', 'feat_11792', 'feat_11793', 'feat_11794', 'feat_11795', 'feat_11796', 'feat_11797', 'feat_11798', 'feat_11799', 'feat_11800', 'feat_11801', 'feat_11802', 'feat_11803', 'feat_11804', 'feat_11805', 'feat_11806', 'feat_11807', 'feat_11808', 'feat_11809', 'feat_11810', 'feat_11811', 'feat_11812', 'feat_11813', 'feat_11814', 'feat_11815', 'feat_11816', 'feat_11817', 'feat_11818', 'feat_11819', 'feat_11820', 'feat_11821', 'feat_11822', 'feat_11823', 'feat_11824', 'feat_11825', 'feat_11826', 'feat_11827', 'feat_11828', 'feat_11829', 'feat_11830', 'feat_11831', 'feat_11832', 'feat_11833', 'feat_11834', 'feat_11835', 'feat_11836', 'feat_11837', 'feat_11838', 'feat_11839', 'feat_11840', 'feat_11841', 'feat_11842', 'feat_11843', 'feat_11844', 'feat_11845', 'feat_11846', 'feat_11847', 'feat_11848', 'feat_11849', 'feat_11850', 'feat_11851', 'feat_11852', 'feat_11853', 'feat_11854', 'feat_11855', 'feat_11856', 'feat_11857', 'feat_11858', 'feat_11859', 'feat_11860', 'feat_11861', 'feat_11862', 'feat_11863', 'feat_11864', 'feat_11865', 'feat_11866', 'feat_11867', 'feat_11868', 'feat_11869', 'feat_11870', 'feat_11871', 'feat_11872', 'feat_11873', 'feat_11874', 'feat_11875', 'feat_11876', 'feat_11877', 'feat_11878', 'feat_11879', 'feat_11880', 'feat_11881', 'feat_11882', 'feat_11883', 'feat_11884', 'feat_11885', 'feat_11886', 'feat_11887', 'feat_11888', 'feat_11889', 'feat_11890', 'feat_11891', 'feat_11892', 'feat_11893', 'feat_11894', 'feat_11895', 'feat_11896', 'feat_11897', 'feat_11898', 'feat_11899', 'feat_11900', 'feat_11901', 'feat_11902', 'feat_11903', 'feat_11904', 'feat_11905', 'feat_11906', 'feat_11907', 'feat_11908', 'feat_11909', 'feat_11910', 'feat_11911', 'feat_11912', 'feat_11913', 'feat_11914', 'feat_11915', 'feat_11916', 'feat_11917', 'feat_11918', 'feat_11919', 'feat_11920', 'feat_11921', 'feat_11922', 'feat_11923', 'feat_11924', 'feat_11925', 'feat_11926', 'feat_11927', 'feat_11928', 'feat_11929', 'feat_11930', 'feat_11931', 'feat_11932', 'feat_11933', 'feat_11934', 'feat_11935', 'feat_11936', 'feat_11937', 'feat_11938', 'feat_11939', 'feat_11940', 'feat_11941', 'feat_11942', 'feat_11943', 'feat_11944', 'feat_11945', 'feat_11946', 'feat_11947', 'feat_11948', 'feat_11949', 'feat_11950', 'feat_11951', 'feat_11952', 'feat_11953', 'feat_11954', 'feat_11955', 'feat_11956', 'feat_11957', 'feat_11958', 'feat_11959', 'feat_11960', 'feat_11961', 'feat_11962', 'feat_11963', 'feat_11964', 'feat_11965', 'feat_11966', 'feat_11967', 'feat_11968', 'feat_11969', 'feat_11970', 'feat_11971', 'feat_11972', 'feat_11973', 'feat_11974', 'feat_11975', 'feat_11976', 'feat_11977', 'feat_11978', 'feat_11979', 'feat_11980', 'feat_11981', 'feat_11982', 'feat_11983', 'feat_11984', 'feat_11985', 'feat_11986', 'feat_11987', 'feat_11988', 'feat_11989', 'feat_11990', 'feat_11991', 'feat_11992', 'feat_11993', 'feat_11994', 'feat_11995', 'feat_11996', 'feat_11997', 'feat_11998', 'feat_11999', 'feat_12000', 'feat_12001', 'feat_12002', 'feat_12003', 'feat_12004', 'feat_12005', 'feat_12006', 'feat_12007', 'feat_12008', 'feat_12009', 'feat_12010', 'feat_12011', 'feat_12012', 'feat_12013', 'feat_12014', 'feat_12015', 'feat_12016', 'feat_12017', 'feat_12018', 'feat_12019', 'feat_12020', 'feat_12021', 'feat_12022', 'feat_12023', 'feat_12024', 'feat_12025', 'feat_12026', 'feat_12027', 'feat_12028', 'feat_12029', 'feat_12030', 'feat_12031', 'feat_12032', 'feat_12033', 'feat_12034', 'feat_12035', 'feat_12036', 'feat_12037', 'feat_12038', 'feat_12039', 'feat_12040', 'feat_12041', 'feat_12042', 'feat_12043', 'feat_12044', 'feat_12045', 'feat_12046', 'feat_12047', 'feat_12048', 'feat_12049', 'feat_12050', 'feat_12051', 'feat_12052', 'feat_12053', 'feat_12054', 'feat_12055', 'feat_12056', 'feat_12057', 'feat_12058', 'feat_12059', 'feat_12060', 'feat_12061', 'feat_12062', 'feat_12063', 'feat_12064', 'feat_12065', 'feat_12066', 'feat_12067', 'feat_12068', 'feat_12069', 'feat_12070', 'feat_12071', 'feat_12072', 'feat_12073', 'feat_12074', 'feat_12075', 'feat_12076', 'feat_12077', 'feat_12078', 'feat_12079', 'feat_12080', 'feat_12081', 'feat_12082', 'feat_12083', 'feat_12084', 'feat_12085', 'feat_12086', 'feat_12087', 'feat_12088', 'feat_12089', 'feat_12090', 'feat_12091', 'feat_12092', 'feat_12093', 'feat_12094', 'feat_12095', 'feat_12096', 'feat_12097', 'feat_12098', 'feat_12099', 'feat_12100', 'feat_12101', 'feat_12102', 'feat_12103', 'feat_12104', 'feat_12105', 'feat_12106', 'feat_12107', 'feat_12108', 'feat_12109', 'feat_12110', 'feat_12111', 'feat_12112', 'feat_12113', 'feat_12114', 'feat_12115', 'feat_12116', 'feat_12117', 'feat_12118', 'feat_12119', 'feat_12120', 'feat_12121', 'feat_12122', 'feat_12123', 'feat_12124', 'feat_12125', 'feat_12126', 'feat_12127', 'feat_12128', 'feat_12129', 'feat_12130', 'feat_12131', 'feat_12132', 'feat_12133', 'feat_12134', 'feat_12135', 'feat_12136', 'feat_12137', 'feat_12138', 'feat_12139', 'feat_12140', 'feat_12141', 'feat_12142', 'feat_12143', 'feat_12144', 'feat_12145', 'feat_12146', 'feat_12147', 'feat_12148', 'feat_12149', 'feat_12150', 'feat_12151', 'feat_12152', 'feat_12153', 'feat_12154', 'feat_12155', 'feat_12156', 'feat_12157', 'feat_12158', 'feat_12159', 'feat_12160', 'feat_12161', 'feat_12162', 'feat_12163', 'feat_12164', 'feat_12165', 'feat_12166', 'feat_12167', 'feat_12168', 'feat_12169', 'feat_12170', 'feat_12171', 'feat_12172', 'feat_12173', 'feat_12174', 'feat_12175', 'feat_12176', 'feat_12177', 'feat_12178', 'feat_12179', 'feat_12180', 'feat_12181', 'feat_12182', 'feat_12183', 'feat_12184', 'feat_12185', 'feat_12186', 'feat_12187', 'feat_12188', 'feat_12189', 'feat_12190', 'feat_12191', 'feat_12192', 'feat_12193', 'feat_12194', 'feat_12195', 'feat_12196', 'feat_12197', 'feat_12198', 'feat_12199', 'feat_12200', 'feat_12201', 'feat_12202', 'feat_12203', 'feat_12204', 'feat_12205', 'feat_12206', 'feat_12207', 'feat_12208', 'feat_12209', 'feat_12210', 'feat_12211', 'feat_12212', 'feat_12213', 'feat_12214', 'feat_12215', 'feat_12216', 'feat_12217', 'feat_12218', 'feat_12219', 'feat_12220', 'feat_12221', 'feat_12222', 'feat_12223', 'feat_12224', 'feat_12225', 'feat_12226', 'feat_12227', 'feat_12228', 'feat_12229', 'feat_12230', 'feat_12231', 'feat_12232', 'feat_12233', 'feat_12234', 'feat_12235', 'feat_12236', 'feat_12237', 'feat_12238', 'feat_12239', 'feat_12240', 'feat_12241', 'feat_12242', 'feat_12243', 'feat_12244', 'feat_12245', 'feat_12246', 'feat_12247', 'feat_12248', 'feat_12249', 'feat_12250', 'feat_12251', 'feat_12252', 'feat_12253', 'feat_12254', 'feat_12255', 'feat_12256', 'feat_12257', 'feat_12258', 'feat_12259', 'feat_12260', 'feat_12261', 'feat_12262', 'feat_12263', 'feat_12264', 'feat_12265', 'feat_12266', 'feat_12267', 'feat_12268', 'feat_12269', 'feat_12270', 'feat_12271', 'feat_12272', 'feat_12273', 'feat_12274', 'feat_12275', 'feat_12276', 'feat_12277', 'feat_12278', 'feat_12279', 'feat_12280', 'feat_12281', 'feat_12282', 'feat_12283', 'feat_12284', 'feat_12285', 'feat_12286', 'feat_12287', 'feat_12288', 'feat_12289', 'feat_12290', 'feat_12291', 'feat_12292', 'feat_12293', 'feat_12294', 'feat_12295', 'feat_12296', 'feat_12297', 'feat_12298', 'feat_12299', 'feat_12300', 'feat_12301', 'feat_12302', 'feat_12303', 'feat_12304', 'feat_12305', 'feat_12306', 'feat_12307', 'feat_12308', 'feat_12309', 'feat_12310', 'feat_12311', 'feat_12312', 'feat_12313', 'feat_12314', 'feat_12315', 'feat_12316', 'feat_12317', 'feat_12318', 'feat_12319', 'feat_12320', 'feat_12321', 'feat_12322', 'feat_12323', 'feat_12324', 'feat_12325', 'feat_12326', 'feat_12327', 'feat_12328', 'feat_12329', 'feat_12330', 'feat_12331', 'feat_12332', 'feat_12333', 'feat_12334', 'feat_12335', 'feat_12336', 'feat_12337', 'feat_12338', 'feat_12339', 'feat_12340', 'feat_12341', 'feat_12342', 'feat_12343', 'feat_12344', 'feat_12345', 'feat_12346', 'feat_12347', 'feat_12348', 'feat_12349', 'feat_12350', 'feat_12351', 'feat_12352', 'feat_12353', 'feat_12354', 'feat_12355', 'feat_12356', 'feat_12357', 'feat_12358', 'feat_12359', 'feat_12360', 'feat_12361', 'feat_12362', 'feat_12363', 'feat_12364', 'feat_12365', 'feat_12366', 'feat_12367', 'feat_12368', 'feat_12369', 'feat_12370', 'feat_12371', 'feat_12372', 'feat_12373', 'feat_12374', 'feat_12375', 'feat_12376', 'feat_12377', 'feat_12378', 'feat_12379', 'feat_12380', 'feat_12381', 'feat_12382', 'feat_12383', 'feat_12384', 'feat_12385', 'feat_12386', 'feat_12387', 'feat_12388', 'feat_12389', 'feat_12390', 'feat_12391', 'feat_12392', 'feat_12393', 'feat_12394', 'feat_12395', 'feat_12396', 'feat_12397', 'feat_12398', 'feat_12399', 'feat_12400', 'feat_12401', 'feat_12402', 'feat_12403', 'feat_12404', 'feat_12405', 'feat_12406', 'feat_12407', 'feat_12408', 'feat_12409', 'feat_12410', 'feat_12411', 'feat_12412', 'feat_12413', 'feat_12414', 'feat_12415', 'feat_12416', 'feat_12417', 'feat_12418', 'feat_12419', 'feat_12420', 'feat_12421', 'feat_12422', 'feat_12423', 'feat_12424', 'feat_12425', 'feat_12426', 'feat_12427', 'feat_12428', 'feat_12429', 'feat_12430', 'feat_12431', 'feat_12432', 'feat_12433', 'feat_12434', 'feat_12435', 'feat_12436', 'feat_12437', 'feat_12438', 'feat_12439', 'feat_12440', 'feat_12441', 'feat_12442', 'feat_12443', 'feat_12444', 'feat_12445', 'feat_12446', 'feat_12447', 'feat_12448', 'feat_12449', 'feat_12450', 'feat_12451', 'feat_12452', 'feat_12453', 'feat_12454', 'feat_12455', 'feat_12456', 'feat_12457', 'feat_12458', 'feat_12459', 'feat_12460', 'feat_12461', 'feat_12462', 'feat_12463', 'feat_12464', 'feat_12465', 'feat_12466', 'feat_12467', 'feat_12468', 'feat_12469', 'feat_12470', 'feat_12471', 'feat_12472', 'feat_12473', 'feat_12474', 'feat_12475', 'feat_12476', 'feat_12477', 'feat_12478', 'feat_12479', 'feat_12480', 'feat_12481', 'feat_12482', 'feat_12483', 'feat_12484', 'feat_12485', 'feat_12486', 'feat_12487', 'feat_12488', 'feat_12489', 'feat_12490', 'feat_12491', 'feat_12492', 'feat_12493', 'feat_12494', 'feat_12495', 'feat_12496', 'feat_12497', 'feat_12498', 'feat_12499', 'feat_12500', 'feat_12501', 'feat_12502', 'feat_12503', 'feat_12504', 'feat_12505', 'feat_12506', 'feat_12507', 'feat_12508', 'feat_12509', 'feat_12510', 'feat_12511', 'feat_12512', 'feat_12513', 'feat_12514', 'feat_12515', 'feat_12516', 'feat_12517', 'feat_12518', 'feat_12519', 'feat_12520', 'feat_12521', 'feat_12522', 'feat_12523', 'feat_12524', 'feat_12525', 'feat_12526', 'feat_12527', 'feat_12528', 'feat_12529', 'feat_12530', 'feat_12531', 'feat_12532', 'feat_12533', 'feat_12534', 'feat_12535', 'feat_12536', 'feat_12537', 'feat_12538', 'feat_12539', 'feat_12540', 'feat_12541', 'feat_12542', 'feat_12543', 'feat_12544', 'feat_12545', 'feat_12546', 'feat_12547', 'feat_12548', 'feat_12549', 'feat_12550', 'feat_12551', 'feat_12552', 'feat_12553', 'feat_12554', 'feat_12555', 'feat_12556', 'feat_12557', 'feat_12558', 'feat_12559', 'feat_12560', 'feat_12561', 'feat_12562', 'feat_12563', 'feat_12564', 'feat_12565', 'feat_12566', 'feat_12567', 'feat_12568', 'feat_12569', 'feat_12570', 'feat_12571', 'feat_12572', 'feat_12573', 'feat_12574', 'feat_12575', 'feat_12576', 'feat_12577', 'feat_12578', 'feat_12579', 'feat_12580', 'feat_12581', 'feat_12582', 'feat_12583', 'feat_12584', 'feat_12585', 'feat_12586', 'feat_12587', 'feat_12588', 'feat_12589', 'feat_12590', 'feat_12591', 'feat_12592', 'feat_12593', 'feat_12594', 'feat_12595', 'feat_12596', 'feat_12597', 'feat_12598', 'feat_12599', 'feat_12600', 'feat_12601', 'feat_12602', 'feat_12603', 'feat_12604', 'feat_12605', 'feat_12606', 'feat_12607', 'feat_12608', 'feat_12609', 'feat_12610', 'feat_12611', 'feat_12612', 'feat_12613', 'feat_12614', 'feat_12615', 'feat_12616', 'feat_12617', 'feat_12618', 'feat_12619', 'feat_12620', 'feat_12621', 'feat_12622', 'feat_12623', 'feat_12624', 'feat_12625', 'feat_12626', 'feat_12627', 'feat_12628', 'feat_12629', 'feat_12630', 'feat_12631', 'feat_12632', 'feat_12633', 'feat_12634', 'feat_12635', 'feat_12636', 'feat_12637', 'feat_12638', 'feat_12639', 'feat_12640', 'feat_12641', 'feat_12642', 'feat_12643', 'feat_12644', 'feat_12645', 'feat_12646', 'feat_12647', 'feat_12648', 'feat_12649', 'feat_12650', 'feat_12651', 'feat_12652', 'feat_12653', 'feat_12654', 'feat_12655', 'feat_12656', 'feat_12657', 'feat_12658', 'feat_12659', 'feat_12660', 'feat_12661', 'feat_12662', 'feat_12663', 'feat_12664', 'feat_12665', 'feat_12666', 'feat_12667', 'feat_12668', 'feat_12669', 'feat_12670', 'feat_12671', 'feat_12672', 'feat_12673', 'feat_12674', 'feat_12675', 'feat_12676', 'feat_12677', 'feat_12678', 'feat_12679', 'feat_12680', 'feat_12681', 'feat_12682', 'feat_12683', 'feat_12684', 'feat_12685', 'feat_12686', 'feat_12687', 'feat_12688', 'feat_12689', 'feat_12690', 'feat_12691', 'feat_12692', 'feat_12693', 'feat_12694', 'feat_12695', 'feat_12696', 'feat_12697', 'feat_12698', 'feat_12699', 'feat_12700', 'feat_12701', 'feat_12702', 'feat_12703', 'feat_12704', 'feat_12705', 'feat_12706', 'feat_12707', 'feat_12708', 'feat_12709', 'feat_12710', 'feat_12711', 'feat_12712', 'feat_12713', 'feat_12714', 'feat_12715', 'feat_12716', 'feat_12717', 'feat_12718', 'feat_12719', 'feat_12720', 'feat_12721', 'feat_12722', 'feat_12723', 'feat_12724', 'feat_12725', 'feat_12726', 'feat_12727', 'feat_12728', 'feat_12729', 'feat_12730', 'feat_12731', 'feat_12732', 'feat_12733', 'feat_12734', 'feat_12735', 'feat_12736', 'feat_12737', 'feat_12738', 'feat_12739', 'feat_12740', 'feat_12741', 'feat_12742', 'feat_12743', 'feat_12744', 'feat_12745', 'feat_12746', 'feat_12747', 'feat_12748', 'feat_12749', 'feat_12750', 'feat_12751', 'feat_12752', 'feat_12753', 'feat_12754', 'feat_12755', 'feat_12756', 'feat_12757', 'feat_12758', 'feat_12759', 'feat_12760', 'feat_12761', 'feat_12762', 'feat_12763', 'feat_12764', 'feat_12765', 'feat_12766', 'feat_12767', 'feat_12768', 'feat_12769', 'feat_12770', 'feat_12771', 'feat_12772', 'feat_12773', 'feat_12774', 'feat_12775', 'feat_12776', 'feat_12777', 'feat_12778', 'feat_12779', 'feat_12780', 'feat_12781', 'feat_12782', 'feat_12783', 'feat_12784', 'feat_12785', 'feat_12786', 'feat_12787', 'feat_12788', 'feat_12789', 'feat_12790', 'feat_12791', 'feat_12792', 'feat_12793', 'feat_12794', 'feat_12795', 'feat_12796', 'feat_12797', 'feat_12798', 'feat_12799', 'feat_12800', 'feat_12801', 'feat_12802', 'feat_12803', 'feat_12804', 'feat_12805', 'feat_12806', 'feat_12807', 'feat_12808', 'feat_12809', 'feat_12810', 'feat_12811', 'feat_12812', 'feat_12813', 'feat_12814', 'feat_12815', 'feat_12816', 'feat_12817', 'feat_12818', 'feat_12819', 'feat_12820', 'feat_12821', 'feat_12822', 'feat_12823', 'feat_12824', 'feat_12825', 'feat_12826', 'feat_12827', 'feat_12828', 'feat_12829', 'feat_12830', 'feat_12831', 'feat_12832', 'feat_12833', 'feat_12834', 'feat_12835', 'feat_12836', 'feat_12837', 'feat_12838', 'feat_12839', 'feat_12840', 'feat_12841', 'feat_12842', 'feat_12843', 'feat_12844', 'feat_12845', 'feat_12846', 'feat_12847', 'feat_12848', 'feat_12849', 'feat_12850', 'feat_12851', 'feat_12852', 'feat_12853', 'feat_12854', 'feat_12855', 'feat_12856', 'feat_12857', 'feat_12858', 'feat_12859', 'feat_12860', 'feat_12861', 'feat_12862', 'feat_12863', 'feat_12864', 'feat_12865', 'feat_12866', 'feat_12867', 'feat_12868', 'feat_12869', 'feat_12870', 'feat_12871', 'feat_12872', 'feat_12873', 'feat_12874', 'feat_12875', 'feat_12876', 'feat_12877', 'feat_12878', 'feat_12879', 'feat_12880', 'feat_12881', 'feat_12882', 'feat_12883', 'feat_12884', 'feat_12885', 'feat_12886', 'feat_12887', 'feat_12888', 'feat_12889', 'feat_12890', 'feat_12891', 'feat_12892', 'feat_12893', 'feat_12894', 'feat_12895', 'feat_12896', 'feat_12897', 'feat_12898', 'feat_12899', 'feat_12900', 'feat_12901', 'feat_12902', 'feat_12903', 'feat_12904', 'feat_12905', 'feat_12906', 'feat_12907', 'feat_12908', 'feat_12909', 'feat_12910', 'feat_12911', 'feat_12912', 'feat_12913', 'feat_12914', 'feat_12915', 'feat_12916', 'feat_12917', 'feat_12918', 'feat_12919', 'feat_12920', 'feat_12921', 'feat_12922', 'feat_12923', 'feat_12924', 'feat_12925', 'feat_12926', 'feat_12927', 'feat_12928', 'feat_12929', 'feat_12930', 'feat_12931', 'feat_12932', 'feat_12933', 'feat_12934', 'feat_12935', 'feat_12936', 'feat_12937', 'feat_12938', 'feat_12939', 'feat_12940', 'feat_12941', 'feat_12942', 'feat_12943', 'feat_12944', 'feat_12945', 'feat_12946', 'feat_12947', 'feat_12948', 'feat_12949', 'feat_12950', 'feat_12951', 'feat_12952', 'feat_12953', 'feat_12954', 'feat_12955', 'feat_12956', 'feat_12957', 'feat_12958', 'feat_12959', 'feat_12960', 'feat_12961', 'feat_12962', 'feat_12963', 'feat_12964', 'feat_12965', 'feat_12966', 'feat_12967', 'feat_12968', 'feat_12969', 'feat_12970', 'feat_12971', 'feat_12972', 'feat_12973', 'feat_12974', 'feat_12975', 'feat_12976', 'feat_12977', 'feat_12978', 'feat_12979', 'feat_12980', 'feat_12981', 'feat_12982', 'feat_12983', 'feat_12984', 'feat_12985', 'feat_12986', 'feat_12987', 'feat_12988', 'feat_12989', 'feat_12990', 'feat_12991', 'feat_12992', 'feat_12993', 'feat_12994', 'feat_12995', 'feat_12996', 'feat_12997', 'feat_12998', 'feat_12999', 'feat_13000', 'feat_13001', 'feat_13002', 'feat_13003', 'feat_13004', 'feat_13005', 'feat_13006', 'feat_13007', 'feat_13008', 'feat_13009', 'feat_13010', 'feat_13011', 'feat_13012', 'feat_13013', 'feat_13014', 'feat_13015', 'feat_13016', 'feat_13017', 'feat_13018', 'feat_13019', 'feat_13020', 'feat_13021', 'feat_13022', 'feat_13023', 'feat_13024', 'feat_13025', 'feat_13026', 'feat_13027', 'feat_13028', 'feat_13029', 'feat_13030', 'feat_13031', 'feat_13032', 'feat_13033', 'feat_13034', 'feat_13035', 'feat_13036', 'feat_13037', 'feat_13038', 'feat_13039', 'feat_13040', 'feat_13041', 'feat_13042', 'feat_13043', 'feat_13044', 'feat_13045', 'feat_13046', 'feat_13047', 'feat_13048', 'feat_13049', 'feat_13050', 'feat_13051', 'feat_13052', 'feat_13053', 'feat_13054', 'feat_13055', 'feat_13056', 'feat_13057', 'feat_13058', 'feat_13059', 'feat_13060', 'feat_13061', 'feat_13062', 'feat_13063', 'feat_13064', 'feat_13065', 'feat_13066', 'feat_13067', 'feat_13068', 'feat_13069', 'feat_13070', 'feat_13071', 'feat_13072', 'feat_13073', 'feat_13074', 'feat_13075', 'feat_13076', 'feat_13077', 'feat_13078', 'feat_13079', 'feat_13080', 'feat_13081', 'feat_13082', 'feat_13083', 'feat_13084', 'feat_13085', 'feat_13086', 'feat_13087', 'feat_13088', 'feat_13089', 'feat_13090', 'feat_13091', 'feat_13092', 'feat_13093', 'feat_13094', 'feat_13095', 'feat_13096', 'feat_13097', 'feat_13098', 'feat_13099', 'feat_13100', 'feat_13101', 'feat_13102', 'feat_13103', 'feat_13104', 'feat_13105', 'feat_13106', 'feat_13107', 'feat_13108', 'feat_13109', 'feat_13110', 'feat_13111', 'feat_13112', 'feat_13113', 'feat_13114', 'feat_13115', 'feat_13116', 'feat_13117', 'feat_13118', 'feat_13119', 'feat_13120', 'feat_13121', 'feat_13122', 'feat_13123', 'feat_13124', 'feat_13125', 'feat_13126', 'feat_13127', 'feat_13128', 'feat_13129', 'feat_13130', 'feat_13131', 'feat_13132', 'feat_13133', 'feat_13134', 'feat_13135', 'feat_13136', 'feat_13137', 'feat_13138', 'feat_13139', 'feat_13140', 'feat_13141', 'feat_13142', 'feat_13143', 'feat_13144', 'feat_13145', 'feat_13146', 'feat_13147', 'feat_13148', 'feat_13149', 'feat_13150', 'feat_13151', 'feat_13152', 'feat_13153', 'feat_13154', 'feat_13155', 'feat_13156', 'feat_13157', 'feat_13158', 'feat_13159', 'feat_13160', 'feat_13161', 'feat_13162', 'feat_13163', 'feat_13164', 'feat_13165', 'feat_13166', 'feat_13167', 'feat_13168', 'feat_13169', 'feat_13170', 'feat_13171', 'feat_13172', 'feat_13173', 'feat_13174', 'feat_13175', 'feat_13176', 'feat_13177', 'feat_13178', 'feat_13179', 'feat_13180', 'feat_13181', 'feat_13182', 'feat_13183', 'feat_13184', 'feat_13185', 'feat_13186', 'feat_13187', 'feat_13188', 'feat_13189', 'feat_13190', 'feat_13191', 'feat_13192', 'feat_13193', 'feat_13194', 'feat_13195', 'feat_13196', 'feat_13197', 'feat_13198', 'feat_13199', 'feat_13200', 'feat_13201', 'feat_13202', 'feat_13203', 'feat_13204', 'feat_13205', 'feat_13206', 'feat_13207', 'feat_13208', 'feat_13209', 'feat_13210', 'feat_13211', 'feat_13212', 'feat_13213', 'feat_13214', 'feat_13215', 'feat_13216', 'feat_13217', 'feat_13218', 'feat_13219', 'feat_13220', 'feat_13221', 'feat_13222', 'feat_13223', 'feat_13224', 'feat_13225', 'feat_13226', 'feat_13227', 'feat_13228', 'feat_13229', 'feat_13230', 'feat_13231', 'feat_13232', 'feat_13233', 'feat_13234', 'feat_13235', 'feat_13236', 'feat_13237', 'feat_13238', 'feat_13239', 'feat_13240', 'feat_13241', 'feat_13242', 'feat_13243', 'feat_13244', 'feat_13245', 'feat_13246', 'feat_13247', 'feat_13248', 'feat_13249', 'feat_13250', 'feat_13251', 'feat_13252', 'feat_13253', 'feat_13254', 'feat_13255', 'feat_13256', 'feat_13257', 'feat_13258', 'feat_13259', 'feat_13260', 'feat_13261', 'feat_13262', 'feat_13263', 'feat_13264', 'feat_13265', 'feat_13266', 'feat_13267', 'feat_13268', 'feat_13269', 'feat_13270', 'feat_13271', 'feat_13272', 'feat_13273', 'feat_13274', 'feat_13275', 'feat_13276', 'feat_13277', 'feat_13278', 'feat_13279', 'feat_13280', 'feat_13281', 'feat_13282', 'feat_13283', 'feat_13284', 'feat_13285', 'feat_13286', 'feat_13287', 'feat_13288', 'feat_13289', 'feat_13290', 'feat_13291', 'feat_13292', 'feat_13293', 'feat_13294', 'feat_13295', 'feat_13296', 'feat_13297', 'feat_13298', 'feat_13299', 'feat_13300', 'feat_13301', 'feat_13302', 'feat_13303', 'feat_13304', 'feat_13305', 'feat_13306', 'feat_13307', 'feat_13308', 'feat_13309', 'feat_13310', 'feat_13311', 'feat_13312', 'feat_13313', 'feat_13314', 'feat_13315', 'feat_13316', 'feat_13317', 'feat_13318', 'feat_13319', 'feat_13320', 'feat_13321', 'feat_13322', 'feat_13323', 'feat_13324', 'feat_13325', 'feat_13326', 'feat_13327', 'feat_13328', 'feat_13329', 'feat_13330', 'feat_13331', 'feat_13332', 'feat_13333', 'feat_13334', 'feat_13335', 'feat_13336', 'feat_13337', 'feat_13338', 'feat_13339', 'feat_13340', 'feat_13341', 'feat_13342', 'feat_13343', 'feat_13344', 'feat_13345', 'feat_13346', 'feat_13347', 'feat_13348', 'feat_13349', 'feat_13350', 'feat_13351', 'feat_13352', 'feat_13353', 'feat_13354', 'feat_13355', 'feat_13356', 'feat_13357', 'feat_13358', 'feat_13359', 'feat_13360', 'feat_13361', 'feat_13362', 'feat_13363', 'feat_13364', 'feat_13365', 'feat_13366', 'feat_13367', 'feat_13368', 'feat_13369', 'feat_13370', 'feat_13371', 'feat_13372', 'feat_13373', 'feat_13374', 'feat_13375', 'feat_13376', 'feat_13377', 'feat_13378', 'feat_13379', 'feat_13380', 'feat_13381', 'feat_13382', 'feat_13383', 'feat_13384', 'feat_13385', 'feat_13386', 'feat_13387', 'feat_13388', 'feat_13389', 'feat_13390', 'feat_13391', 'feat_13392', 'feat_13393', 'feat_13394', 'feat_13395', 'feat_13396', 'feat_13397', 'feat_13398', 'feat_13399', 'feat_13400', 'feat_13401', 'feat_13402', 'feat_13403', 'feat_13404', 'feat_13405', 'feat_13406', 'feat_13407', 'feat_13408', 'feat_13409', 'feat_13410', 'feat_13411', 'feat_13412', 'feat_13413', 'feat_13414', 'feat_13415', 'feat_13416', 'feat_13417', 'feat_13418', 'feat_13419', 'feat_13420', 'feat_13421', 'feat_13422', 'feat_13423', 'feat_13424', 'feat_13425', 'feat_13426', 'feat_13427', 'feat_13428', 'feat_13429', 'feat_13430', 'feat_13431', 'feat_13432', 'feat_13433', 'feat_13434', 'feat_13435', 'feat_13436', 'feat_13437', 'feat_13438', 'feat_13439', 'feat_13440', 'feat_13441', 'feat_13442', 'feat_13443', 'feat_13444', 'feat_13445', 'feat_13446', 'feat_13447', 'feat_13448', 'feat_13449', 'feat_13450', 'feat_13451', 'feat_13452', 'feat_13453', 'feat_13454', 'feat_13455', 'feat_13456', 'feat_13457', 'feat_13458', 'feat_13459', 'feat_13460', 'feat_13461', 'feat_13462', 'feat_13463', 'feat_13464', 'feat_13465', 'feat_13466', 'feat_13467', 'feat_13468', 'feat_13469', 'feat_13470', 'feat_13471', 'feat_13472', 'feat_13473', 'feat_13474', 'feat_13475', 'feat_13476', 'feat_13477', 'feat_13478', 'feat_13479', 'feat_13480', 'feat_13481', 'feat_13482', 'feat_13483', 'feat_13484', 'feat_13485', 'feat_13486', 'feat_13487', 'feat_13488', 'feat_13489', 'feat_13490', 'feat_13491', 'feat_13492', 'feat_13493', 'feat_13494', 'feat_13495', 'feat_13496', 'feat_13497', 'feat_13498', 'feat_13499', 'feat_13500', 'feat_13501', 'feat_13502', 'feat_13503', 'feat_13504', 'feat_13505', 'feat_13506', 'feat_13507', 'feat_13508', 'feat_13509', 'feat_13510', 'feat_13511', 'feat_13512', 'feat_13513', 'feat_13514', 'feat_13515', 'feat_13516', 'feat_13517', 'feat_13518', 'feat_13519', 'feat_13520', 'feat_13521', 'feat_13522', 'feat_13523', 'feat_13524', 'feat_13525', 'feat_13526', 'feat_13527', 'feat_13528', 'feat_13529', 'feat_13530', 'feat_13531', 'feat_13532', 'feat_13533', 'feat_13534', 'feat_13535', 'feat_13536', 'feat_13537', 'feat_13538', 'feat_13539', 'feat_13540', 'feat_13541', 'feat_13542', 'feat_13543', 'feat_13544', 'feat_13545', 'feat_13546', 'feat_13547', 'feat_13548', 'feat_13549', 'feat_13550', 'feat_13551', 'feat_13552', 'feat_13553', 'feat_13554', 'feat_13555', 'feat_13556', 'feat_13557', 'feat_13558', 'feat_13559', 'feat_13560', 'feat_13561', 'feat_13562', 'feat_13563', 'feat_13564', 'feat_13565', 'feat_13566', 'feat_13567', 'feat_13568', 'feat_13569', 'feat_13570', 'feat_13571', 'feat_13572', 'feat_13573', 'feat_13574', 'feat_13575', 'feat_13576', 'feat_13577', 'feat_13578', 'feat_13579', 'feat_13580', 'feat_13581', 'feat_13582', 'feat_13583', 'feat_13584', 'feat_13585', 'feat_13586', 'feat_13587', 'feat_13588', 'feat_13589', 'feat_13590', 'feat_13591', 'feat_13592', 'feat_13593', 'feat_13594', 'feat_13595', 'feat_13596', 'feat_13597', 'feat_13598', 'feat_13599', 'feat_13600', 'feat_13601', 'feat_13602', 'feat_13603', 'feat_13604', 'feat_13605', 'feat_13606', 'feat_13607', 'feat_13608', 'feat_13609', 'feat_13610', 'feat_13611', 'feat_13612', 'feat_13613', 'feat_13614', 'feat_13615', 'feat_13616', 'feat_13617', 'feat_13618', 'feat_13619', 'feat_13620', 'feat_13621', 'feat_13622', 'feat_13623', 'feat_13624', 'feat_13625', 'feat_13626', 'feat_13627', 'feat_13628', 'feat_13629', 'feat_13630', 'feat_13631', 'feat_13632', 'feat_13633', 'feat_13634', 'feat_13635', 'feat_13636', 'feat_13637', 'feat_13638', 'feat_13639', 'feat_13640', 'feat_13641', 'feat_13642', 'feat_13643', 'feat_13644', 'feat_13645', 'feat_13646', 'feat_13647', 'feat_13648', 'feat_13649', 'feat_13650', 'feat_13651', 'feat_13652', 'feat_13653', 'feat_13654', 'feat_13655', 'feat_13656', 'feat_13657', 'feat_13658', 'feat_13659', 'feat_13660', 'feat_13661', 'feat_13662', 'feat_13663', 'feat_13664', 'feat_13665', 'feat_13666', 'feat_13667', 'feat_13668', 'feat_13669', 'feat_13670', 'feat_13671', 'feat_13672', 'feat_13673', 'feat_13674', 'feat_13675', 'feat_13676', 'feat_13677', 'feat_13678', 'feat_13679', 'feat_13680', 'feat_13681', 'feat_13682', 'feat_13683', 'feat_13684', 'feat_13685', 'feat_13686', 'feat_13687', 'feat_13688', 'feat_13689', 'feat_13690', 'feat_13691', 'feat_13692', 'feat_13693', 'feat_13694', 'feat_13695', 'feat_13696', 'feat_13697', 'feat_13698', 'feat_13699', 'feat_13700', 'feat_13701', 'feat_13702', 'feat_13703', 'feat_13704', 'feat_13705', 'feat_13706', 'feat_13707', 'feat_13708', 'feat_13709', 'feat_13710', 'feat_13711', 'feat_13712', 'feat_13713', 'feat_13714', 'feat_13715', 'feat_13716', 'feat_13717', 'feat_13718', 'feat_13719', 'feat_13720', 'feat_13721', 'feat_13722', 'feat_13723', 'feat_13724', 'feat_13725', 'feat_13726', 'feat_13727', 'feat_13728', 'feat_13729', 'feat_13730', 'feat_13731', 'feat_13732', 'feat_13733', 'feat_13734', 'feat_13735', 'feat_13736', 'feat_13737', 'feat_13738', 'feat_13739', 'feat_13740', 'feat_13741', 'feat_13742', 'feat_13743', 'feat_13744', 'feat_13745', 'feat_13746', 'feat_13747', 'feat_13748', 'feat_13749', 'feat_13750', 'feat_13751', 'feat_13752', 'feat_13753', 'feat_13754', 'feat_13755', 'feat_13756', 'feat_13757', 'feat_13758', 'feat_13759', 'feat_13760', 'feat_13761', 'feat_13762', 'feat_13763', 'feat_13764', 'feat_13765', 'feat_13766', 'feat_13767', 'feat_13768', 'feat_13769', 'feat_13770', 'feat_13771', 'feat_13772', 'feat_13773', 'feat_13774', 'feat_13775', 'feat_13776', 'feat_13777', 'feat_13778', 'feat_13779', 'feat_13780', 'feat_13781', 'feat_13782', 'feat_13783', 'feat_13784', 'feat_13785', 'feat_13786', 'feat_13787', 'feat_13788', 'feat_13789', 'feat_13790', 'feat_13791', 'feat_13792', 'feat_13793', 'feat_13794', 'feat_13795', 'feat_13796', 'feat_13797', 'feat_13798', 'feat_13799', 'feat_13800', 'feat_13801', 'feat_13802', 'feat_13803', 'feat_13804', 'feat_13805', 'feat_13806', 'feat_13807', 'feat_13808', 'feat_13809', 'feat_13810', 'feat_13811', 'feat_13812', 'feat_13813', 'feat_13814', 'feat_13815', 'feat_13816', 'feat_13817', 'feat_13818', 'feat_13819', 'feat_13820', 'feat_13821', 'feat_13822', 'feat_13823', 'feat_13824', 'feat_13825', 'feat_13826', 'feat_13827', 'feat_13828', 'feat_13829', 'feat_13830', 'feat_13831', 'feat_13832', 'feat_13833', 'feat_13834', 'feat_13835', 'feat_13836', 'feat_13837', 'feat_13838', 'feat_13839', 'feat_13840', 'feat_13841', 'feat_13842', 'feat_13843', 'feat_13844', 'feat_13845', 'feat_13846', 'feat_13847', 'feat_13848', 'feat_13849', 'feat_13850', 'feat_13851', 'feat_13852', 'feat_13853', 'feat_13854', 'feat_13855', 'feat_13856', 'feat_13857', 'feat_13858', 'feat_13859', 'feat_13860', 'feat_13861', 'feat_13862', 'feat_13863', 'feat_13864', 'feat_13865', 'feat_13866', 'feat_13867', 'feat_13868', 'feat_13869', 'feat_13870', 'feat_13871', 'feat_13872', 'feat_13873', 'feat_13874', 'feat_13875', 'feat_13876', 'feat_13877', 'feat_13878', 'feat_13879', 'feat_13880', 'feat_13881', 'feat_13882', 'feat_13883', 'feat_13884', 'feat_13885', 'feat_13886', 'feat_13887', 'feat_13888', 'feat_13889', 'feat_13890', 'feat_13891', 'feat_13892', 'feat_13893', 'feat_13894', 'feat_13895', 'feat_13896', 'feat_13897', 'feat_13898', 'feat_13899', 'feat_13900', 'feat_13901', 'feat_13902', 'feat_13903', 'feat_13904', 'feat_13905', 'feat_13906', 'feat_13907', 'feat_13908', 'feat_13909', 'feat_13910', 'feat_13911', 'feat_13912', 'feat_13913', 'feat_13914', 'feat_13915', 'feat_13916', 'feat_13917', 'feat_13918', 'feat_13919', 'feat_13920', 'feat_13921', 'feat_13922', 'feat_13923', 'feat_13924', 'feat_13925', 'feat_13926', 'feat_13927', 'feat_13928', 'feat_13929', 'feat_13930', 'feat_13931', 'feat_13932', 'feat_13933', 'feat_13934', 'feat_13935', 'feat_13936', 'feat_13937', 'feat_13938', 'feat_13939', 'feat_13940', 'feat_13941', 'feat_13942', 'feat_13943', 'feat_13944', 'feat_13945', 'feat_13946', 'feat_13947', 'feat_13948', 'feat_13949', 'feat_13950', 'feat_13951', 'feat_13952', 'feat_13953', 'feat_13954', 'feat_13955', 'feat_13956', 'feat_13957', 'feat_13958', 'feat_13959', 'feat_13960', 'feat_13961', 'feat_13962', 'feat_13963', 'feat_13964', 'feat_13965', 'feat_13966', 'feat_13967', 'feat_13968', 'feat_13969', 'feat_13970', 'feat_13971', 'feat_13972', 'feat_13973', 'feat_13974', 'feat_13975', 'feat_13976', 'feat_13977', 'feat_13978', 'feat_13979', 'feat_13980', 'feat_13981', 'feat_13982', 'feat_13983', 'feat_13984', 'feat_13985', 'feat_13986', 'feat_13987', 'feat_13988', 'feat_13989', 'feat_13990', 'feat_13991', 'feat_13992', 'feat_13993', 'feat_13994', 'feat_13995', 'feat_13996', 'feat_13997', 'feat_13998', 'feat_13999', 'feat_14000', 'feat_14001', 'feat_14002', 'feat_14003', 'feat_14004', 'feat_14005', 'feat_14006', 'feat_14007', 'feat_14008', 'feat_14009', 'feat_14010', 'feat_14011', 'feat_14012', 'feat_14013', 'feat_14014', 'feat_14015', 'feat_14016', 'feat_14017', 'feat_14018', 'feat_14019', 'feat_14020', 'feat_14021', 'feat_14022', 'feat_14023', 'feat_14024', 'feat_14025', 'feat_14026', 'feat_14027', 'feat_14028', 'feat_14029', 'feat_14030', 'feat_14031', 'feat_14032', 'feat_14033', 'feat_14034', 'feat_14035', 'feat_14036', 'feat_14037', 'feat_14038', 'feat_14039', 'feat_14040', 'feat_14041', 'feat_14042', 'feat_14043', 'feat_14044', 'feat_14045', 'feat_14046', 'feat_14047', 'feat_14048', 'feat_14049', 'feat_14050', 'feat_14051', 'feat_14052', 'feat_14053', 'feat_14054', 'feat_14055', 'feat_14056', 'feat_14057', 'feat_14058', 'feat_14059', 'feat_14060', 'feat_14061', 'feat_14062', 'feat_14063', 'feat_14064', 'feat_14065', 'feat_14066', 'feat_14067', 'feat_14068', 'feat_14069', 'feat_14070', 'feat_14071', 'feat_14072', 'feat_14073', 'feat_14074', 'feat_14075', 'feat_14076', 'feat_14077', 'feat_14078', 'feat_14079', 'feat_14080', 'feat_14081', 'feat_14082', 'feat_14083', 'feat_14084', 'feat_14085', 'feat_14086', 'feat_14087', 'feat_14088', 'feat_14089', 'feat_14090', 'feat_14091', 'feat_14092', 'feat_14093', 'feat_14094', 'feat_14095', 'feat_14096', 'feat_14097', 'feat_14098', 'feat_14099', 'feat_14100', 'feat_14101', 'feat_14102', 'feat_14103', 'feat_14104', 'feat_14105', 'feat_14106', 'feat_14107', 'feat_14108', 'feat_14109', 'feat_14110', 'feat_14111', 'feat_14112', 'feat_14113', 'feat_14114', 'feat_14115', 'feat_14116', 'feat_14117', 'feat_14118', 'feat_14119', 'feat_14120', 'feat_14121', 'feat_14122', 'feat_14123', 'feat_14124', 'feat_14125', 'feat_14126', 'feat_14127', 'feat_14128', 'feat_14129', 'feat_14130', 'feat_14131', 'feat_14132', 'feat_14133', 'feat_14134', 'feat_14135', 'feat_14136', 'feat_14137', 'feat_14138', 'feat_14139', 'feat_14140', 'feat_14141', 'feat_14142', 'feat_14143', 'feat_14144', 'feat_14145', 'feat_14146', 'feat_14147', 'feat_14148', 'feat_14149', 'feat_14150', 'feat_14151', 'feat_14152', 'feat_14153', 'feat_14154', 'feat_14155', 'feat_14156', 'feat_14157', 'feat_14158', 'feat_14159', 'feat_14160', 'feat_14161', 'feat_14162', 'feat_14163', 'feat_14164', 'feat_14165', 'feat_14166', 'feat_14167', 'feat_14168', 'feat_14169', 'feat_14170', 'feat_14171', 'feat_14172', 'feat_14173', 'feat_14174', 'feat_14175', 'feat_14176', 'feat_14177', 'feat_14178', 'feat_14179', 'feat_14180', 'feat_14181', 'feat_14182', 'feat_14183', 'feat_14184', 'feat_14185', 'feat_14186', 'feat_14187', 'feat_14188', 'feat_14189', 'feat_14190', 'feat_14191', 'feat_14192', 'feat_14193', 'feat_14194', 'feat_14195', 'feat_14196', 'feat_14197', 'feat_14198', 'feat_14199', 'feat_14200', 'feat_14201', 'feat_14202', 'feat_14203', 'feat_14204', 'feat_14205', 'feat_14206', 'feat_14207', 'feat_14208', 'feat_14209', 'feat_14210', 'feat_14211', 'feat_14212', 'feat_14213', 'feat_14214', 'feat_14215', 'feat_14216', 'feat_14217', 'feat_14218', 'feat_14219', 'feat_14220', 'feat_14221', 'feat_14222', 'feat_14223', 'feat_14224', 'feat_14225', 'feat_14226', 'feat_14227', 'feat_14228', 'feat_14229', 'feat_14230', 'feat_14231', 'feat_14232', 'feat_14233', 'feat_14234', 'feat_14235', 'feat_14236', 'feat_14237', 'feat_14238', 'feat_14239', 'feat_14240', 'feat_14241', 'feat_14242', 'feat_14243', 'feat_14244', 'feat_14245', 'feat_14246', 'feat_14247', 'feat_14248', 'feat_14249', 'feat_14250', 'feat_14251', 'feat_14252', 'feat_14253', 'feat_14254', 'feat_14255', 'feat_14256', 'feat_14257', 'feat_14258', 'feat_14259', 'feat_14260', 'feat_14261', 'feat_14262', 'feat_14263', 'feat_14264', 'feat_14265', 'feat_14266', 'feat_14267', 'feat_14268', 'feat_14269', 'feat_14270', 'feat_14271', 'feat_14272', 'feat_14273', 'feat_14274', 'feat_14275', 'feat_14276', 'feat_14277', 'feat_14278', 'feat_14279', 'feat_14280', 'feat_14281', 'feat_14282', 'feat_14283', 'feat_14284', 'feat_14285', 'feat_14286', 'feat_14287', 'feat_14288', 'feat_14289', 'feat_14290', 'feat_14291', 'feat_14292', 'feat_14293', 'feat_14294', 'feat_14295', 'feat_14296', 'feat_14297', 'feat_14298', 'feat_14299', 'feat_14300', 'feat_14301', 'feat_14302', 'feat_14303', 'feat_14304', 'feat_14305', 'feat_14306', 'feat_14307', 'feat_14308', 'feat_14309', 'feat_14310', 'feat_14311', 'feat_14312', 'feat_14313', 'feat_14314', 'feat_14315', 'feat_14316', 'feat_14317', 'feat_14318', 'feat_14319', 'feat_14320', 'feat_14321', 'feat_14322', 'feat_14323', 'feat_14324', 'feat_14325', 'feat_14326', 'feat_14327', 'feat_14328', 'feat_14329', 'feat_14330', 'feat_14331', 'feat_14332', 'feat_14333', 'feat_14334', 'feat_14335', 'feat_14336', 'feat_14337', 'feat_14338', 'feat_14339', 'feat_14340', 'feat_14341', 'feat_14342', 'feat_14343', 'feat_14344', 'feat_14345', 'feat_14346', 'feat_14347', 'feat_14348', 'feat_14349', 'feat_14350', 'feat_14351', 'feat_14352', 'feat_14353', 'feat_14354', 'feat_14355', 'feat_14356', 'feat_14357', 'feat_14358', 'feat_14359', 'feat_14360', 'feat_14361', 'feat_14362', 'feat_14363', 'feat_14364', 'feat_14365', 'feat_14366', 'feat_14367', 'feat_14368', 'feat_14369', 'feat_14370', 'feat_14371', 'feat_14372', 'feat_14373', 'feat_14374', 'feat_14375', 'feat_14376', 'feat_14377', 'feat_14378', 'feat_14379', 'feat_14380', 'feat_14381', 'feat_14382', 'feat_14383', 'feat_14384', 'feat_14385', 'feat_14386', 'feat_14387', 'feat_14388', 'feat_14389', 'feat_14390', 'feat_14391', 'feat_14392', 'feat_14393', 'feat_14394', 'feat_14395', 'feat_14396', 'feat_14397', 'feat_14398', 'feat_14399', 'feat_14400', 'feat_14401', 'feat_14402', 'feat_14403', 'feat_14404', 'feat_14405', 'feat_14406', 'feat_14407', 'feat_14408', 'feat_14409', 'feat_14410', 'feat_14411', 'feat_14412', 'feat_14413', 'feat_14414', 'feat_14415', 'feat_14416', 'feat_14417', 'feat_14418', 'feat_14419', 'feat_14420', 'feat_14421', 'feat_14422', 'feat_14423', 'feat_14424', 'feat_14425', 'feat_14426', 'feat_14427', 'feat_14428', 'feat_14429', 'feat_14430', 'feat_14431', 'feat_14432', 'feat_14433', 'feat_14434', 'feat_14435', 'feat_14436', 'feat_14437', 'feat_14438', 'feat_14439', 'feat_14440', 'feat_14441', 'feat_14442', 'feat_14443', 'feat_14444', 'feat_14445', 'feat_14446', 'feat_14447', 'feat_14448', 'feat_14449', 'feat_14450', 'feat_14451', 'feat_14452', 'feat_14453', 'feat_14454', 'feat_14455', 'feat_14456', 'feat_14457', 'feat_14458', 'feat_14459', 'feat_14460', 'feat_14461', 'feat_14462', 'feat_14463', 'feat_14464', 'feat_14465', 'feat_14466', 'feat_14467', 'feat_14468', 'feat_14469', 'feat_14470', 'feat_14471', 'feat_14472', 'feat_14473', 'feat_14474', 'feat_14475', 'feat_14476', 'feat_14477', 'feat_14478', 'feat_14479', 'feat_14480', 'feat_14481', 'feat_14482', 'feat_14483', 'feat_14484', 'feat_14485', 'feat_14486', 'feat_14487', 'feat_14488', 'feat_14489', 'feat_14490', 'feat_14491', 'feat_14492', 'feat_14493', 'feat_14494', 'feat_14495', 'feat_14496', 'feat_14497', 'feat_14498', 'feat_14499', 'feat_14500', 'feat_14501', 'feat_14502', 'feat_14503', 'feat_14504', 'feat_14505', 'feat_14506', 'feat_14507', 'feat_14508', 'feat_14509', 'feat_14510', 'feat_14511', 'feat_14512', 'feat_14513', 'feat_14514', 'feat_14515', 'feat_14516', 'feat_14517', 'feat_14518', 'feat_14519', 'feat_14520', 'feat_14521', 'feat_14522', 'feat_14523', 'feat_14524', 'feat_14525', 'feat_14526', 'feat_14527', 'feat_14528', 'feat_14529', 'feat_14530', 'feat_14531', 'feat_14532', 'feat_14533', 'feat_14534', 'feat_14535', 'feat_14536', 'feat_14537', 'feat_14538', 'feat_14539', 'feat_14540', 'feat_14541', 'feat_14542', 'feat_14543', 'feat_14544', 'feat_14545', 'feat_14546', 'feat_14547', 'feat_14548', 'feat_14549', 'feat_14550', 'feat_14551', 'feat_14552', 'feat_14553', 'feat_14554', 'feat_14555', 'feat_14556', 'feat_14557', 'feat_14558', 'feat_14559', 'feat_14560', 'feat_14561', 'feat_14562', 'feat_14563', 'feat_14564', 'feat_14565', 'feat_14566', 'feat_14567', 'feat_14568', 'feat_14569', 'feat_14570', 'feat_14571', 'feat_14572', 'feat_14573', 'feat_14574', 'feat_14575', 'feat_14576', 'feat_14577', 'feat_14578', 'feat_14579', 'feat_14580', 'feat_14581', 'feat_14582', 'feat_14583', 'feat_14584', 'feat_14585', 'feat_14586', 'feat_14587', 'feat_14588', 'feat_14589', 'feat_14590', 'feat_14591', 'feat_14592', 'feat_14593', 'feat_14594', 'feat_14595', 'feat_14596', 'feat_14597', 'feat_14598', 'feat_14599', 'feat_14600', 'feat_14601', 'feat_14602', 'feat_14603', 'feat_14604', 'feat_14605', 'feat_14606', 'feat_14607', 'feat_14608', 'feat_14609', 'feat_14610', 'feat_14611', 'feat_14612', 'feat_14613', 'feat_14614', 'feat_14615', 'feat_14616', 'feat_14617', 'feat_14618', 'feat_14619', 'feat_14620', 'feat_14621', 'feat_14622', 'feat_14623', 'feat_14624', 'feat_14625', 'feat_14626', 'feat_14627', 'feat_14628', 'feat_14629', 'feat_14630', 'feat_14631', 'feat_14632', 'feat_14633', 'feat_14634', 'feat_14635', 'feat_14636', 'feat_14637', 'feat_14638', 'feat_14639', 'feat_14640', 'feat_14641', 'feat_14642', 'feat_14643', 'feat_14644', 'feat_14645', 'feat_14646', 'feat_14647', 'feat_14648', 'feat_14649', 'feat_14650', 'feat_14651', 'feat_14652', 'feat_14653', 'feat_14654', 'feat_14655', 'feat_14656', 'feat_14657', 'feat_14658', 'feat_14659', 'feat_14660', 'feat_14661', 'feat_14662', 'feat_14663', 'feat_14664', 'feat_14665', 'feat_14666', 'feat_14667', 'feat_14668', 'feat_14669', 'feat_14670', 'feat_14671', 'feat_14672', 'feat_14673', 'feat_14674', 'feat_14675', 'feat_14676', 'feat_14677', 'feat_14678', 'feat_14679', 'feat_14680', 'feat_14681', 'feat_14682', 'feat_14683', 'feat_14684', 'feat_14685', 'feat_14686', 'feat_14687', 'feat_14688', 'feat_14689', 'feat_14690', 'feat_14691', 'feat_14692', 'feat_14693', 'feat_14694', 'feat_14695', 'feat_14696', 'feat_14697', 'feat_14698', 'feat_14699', 'feat_14700', 'feat_14701', 'feat_14702', 'feat_14703', 'feat_14704', 'feat_14705', 'feat_14706', 'feat_14707', 'feat_14708', 'feat_14709', 'feat_14710', 'feat_14711', 'feat_14712', 'feat_14713', 'feat_14714', 'feat_14715', 'feat_14716', 'feat_14717', 'feat_14718', 'feat_14719', 'feat_14720', 'feat_14721', 'feat_14722', 'feat_14723', 'feat_14724', 'feat_14725', 'feat_14726', 'feat_14727', 'feat_14728', 'feat_14729', 'feat_14730', 'feat_14731', 'feat_14732', 'feat_14733', 'feat_14734', 'feat_14735', 'feat_14736', 'feat_14737', 'feat_14738', 'feat_14739', 'feat_14740', 'feat_14741', 'feat_14742', 'feat_14743', 'feat_14744', 'feat_14745', 'feat_14746', 'feat_14747', 'feat_14748', 'feat_14749', 'feat_14750', 'feat_14751', 'feat_14752', 'feat_14753', 'feat_14754', 'feat_14755', 'feat_14756', 'feat_14757', 'feat_14758', 'feat_14759', 'feat_14760', 'feat_14761', 'feat_14762', 'feat_14763', 'feat_14764', 'feat_14765', 'feat_14766', 'feat_14767', 'feat_14768', 'feat_14769', 'feat_14770', 'feat_14771', 'feat_14772', 'feat_14773', 'feat_14774', 'feat_14775', 'feat_14776', 'feat_14777', 'feat_14778', 'feat_14779', 'feat_14780', 'feat_14781', 'feat_14782', 'feat_14783', 'feat_14784', 'feat_14785', 'feat_14786', 'feat_14787', 'feat_14788', 'feat_14789', 'feat_14790', 'feat_14791', 'feat_14792', 'feat_14793', 'feat_14794', 'feat_14795', 'feat_14796', 'feat_14797', 'feat_14798', 'feat_14799', 'feat_14800', 'feat_14801', 'feat_14802', 'feat_14803', 'feat_14804', 'feat_14805', 'feat_14806', 'feat_14807', 'feat_14808', 'feat_14809', 'feat_14810', 'feat_14811', 'feat_14812', 'feat_14813', 'feat_14814', 'feat_14815', 'feat_14816', 'feat_14817', 'feat_14818', 'feat_14819', 'feat_14820', 'feat_14821', 'feat_14822', 'feat_14823', 'feat_14824', 'feat_14825', 'feat_14826', 'feat_14827', 'feat_14828', 'feat_14829', 'feat_14830', 'feat_14831', 'feat_14832', 'feat_14833', 'feat_14834', 'feat_14835', 'feat_14836', 'feat_14837', 'feat_14838', 'feat_14839', 'feat_14840', 'feat_14841', 'feat_14842', 'feat_14843', 'feat_14844', 'feat_14845', 'feat_14846', 'feat_14847', 'feat_14848', 'feat_14849', 'feat_14850', 'feat_14851', 'feat_14852', 'feat_14853', 'feat_14854', 'feat_14855', 'feat_14856', 'feat_14857', 'feat_14858', 'feat_14859', 'feat_14860', 'feat_14861', 'feat_14862', 'feat_14863', 'feat_14864', 'feat_14865', 'feat_14866', 'feat_14867', 'feat_14868', 'feat_14869', 'feat_14870', 'feat_14871', 'feat_14872', 'feat_14873', 'feat_14874', 'feat_14875', 'feat_14876', 'feat_14877', 'feat_14878', 'feat_14879', 'feat_14880', 'feat_14881', 'feat_14882', 'feat_14883', 'feat_14884', 'feat_14885', 'feat_14886', 'feat_14887', 'feat_14888', 'feat_14889', 'feat_14890', 'feat_14891', 'feat_14892', 'feat_14893', 'feat_14894', 'feat_14895', 'feat_14896', 'feat_14897', 'feat_14898', 'feat_14899', 'feat_14900', 'feat_14901', 'feat_14902', 'feat_14903', 'feat_14904', 'feat_14905', 'feat_14906', 'feat_14907', 'feat_14908', 'feat_14909', 'feat_14910', 'feat_14911', 'feat_14912', 'feat_14913', 'feat_14914', 'feat_14915', 'feat_14916', 'feat_14917', 'feat_14918', 'feat_14919', 'feat_14920', 'feat_14921', 'feat_14922', 'feat_14923', 'feat_14924', 'feat_14925', 'feat_14926', 'feat_14927', 'feat_14928', 'feat_14929', 'feat_14930', 'feat_14931', 'feat_14932', 'feat_14933', 'feat_14934', 'feat_14935', 'feat_14936', 'feat_14937', 'feat_14938', 'feat_14939', 'feat_14940', 'feat_14941', 'feat_14942', 'feat_14943', 'feat_14944', 'feat_14945', 'feat_14946', 'feat_14947', 'feat_14948', 'feat_14949', 'feat_14950', 'feat_14951', 'feat_14952', 'feat_14953', 'feat_14954', 'feat_14955', 'feat_14956', 'feat_14957', 'feat_14958', 'feat_14959', 'feat_14960', 'feat_14961', 'feat_14962', 'feat_14963', 'feat_14964', 'feat_14965', 'feat_14966', 'feat_14967', 'feat_14968', 'feat_14969', 'feat_14970', 'feat_14971', 'feat_14972', 'feat_14973', 'feat_14974', 'feat_14975', 'feat_14976', 'feat_14977', 'feat_14978', 'feat_14979', 'feat_14980', 'feat_14981', 'feat_14982', 'feat_14983', 'feat_14984', 'feat_14985', 'feat_14986', 'feat_14987', 'feat_14988', 'feat_14989', 'feat_14990', 'feat_14991', 'feat_14992', 'feat_14993', 'feat_14994', 'feat_14995', 'feat_14996', 'feat_14997', 'feat_14998', 'feat_14999', 'feat_15000', 'feat_15001', 'feat_15002', 'feat_15003', 'feat_15004', 'feat_15005', 'feat_15006', 'feat_15007', 'feat_15008', 'feat_15009', 'feat_15010', 'feat_15011', 'feat_15012', 'feat_15013', 'feat_15014', 'feat_15015', 'feat_15016', 'feat_15017', 'feat_15018', 'feat_15019', 'feat_15020', 'feat_15021', 'feat_15022', 'feat_15023', 'feat_15024', 'feat_15025', 'feat_15026', 'feat_15027', 'feat_15028', 'feat_15029', 'feat_15030', 'feat_15031', 'feat_15032', 'feat_15033', 'feat_15034', 'feat_15035', 'feat_15036', 'feat_15037', 'feat_15038', 'feat_15039', 'feat_15040', 'feat_15041', 'feat_15042', 'feat_15043', 'feat_15044', 'feat_15045', 'feat_15046', 'feat_15047', 'feat_15048', 'feat_15049', 'feat_15050', 'feat_15051', 'feat_15052', 'feat_15053', 'feat_15054', 'feat_15055', 'feat_15056', 'feat_15057', 'feat_15058', 'feat_15059', 'feat_15060', 'feat_15061', 'feat_15062', 'feat_15063', 'feat_15064', 'feat_15065', 'feat_15066', 'feat_15067', 'feat_15068', 'feat_15069', 'feat_15070', 'feat_15071', 'feat_15072', 'feat_15073', 'feat_15074', 'feat_15075', 'feat_15076', 'feat_15077', 'feat_15078', 'feat_15079', 'feat_15080', 'feat_15081', 'feat_15082', 'feat_15083', 'feat_15084', 'feat_15085', 'feat_15086', 'feat_15087', 'feat_15088', 'feat_15089', 'feat_15090', 'feat_15091', 'feat_15092', 'feat_15093', 'feat_15094', 'feat_15095', 'feat_15096', 'feat_15097', 'feat_15098', 'feat_15099', 'feat_15100', 'feat_15101', 'feat_15102', 'feat_15103', 'feat_15104', 'feat_15105', 'feat_15106', 'feat_15107', 'feat_15108', 'feat_15109', 'feat_15110', 'feat_15111', 'feat_15112', 'feat_15113', 'feat_15114', 'feat_15115', 'feat_15116', 'feat_15117', 'feat_15118', 'feat_15119', 'feat_15120', 'feat_15121', 'feat_15122', 'feat_15123', 'feat_15124', 'feat_15125', 'feat_15126', 'feat_15127', 'feat_15128', 'feat_15129', 'feat_15130', 'feat_15131', 'feat_15132', 'feat_15133', 'feat_15134', 'feat_15135', 'feat_15136', 'feat_15137', 'feat_15138', 'feat_15139', 'feat_15140', 'feat_15141', 'feat_15142', 'feat_15143', 'feat_15144', 'feat_15145', 'feat_15146', 'feat_15147', 'feat_15148', 'feat_15149', 'feat_15150', 'feat_15151', 'feat_15152', 'feat_15153', 'feat_15154', 'feat_15155', 'feat_15156', 'feat_15157', 'feat_15158', 'feat_15159', 'feat_15160', 'feat_15161', 'feat_15162', 'feat_15163', 'feat_15164', 'feat_15165', 'feat_15166', 'feat_15167', 'feat_15168', 'feat_15169', 'feat_15170', 'feat_15171', 'feat_15172', 'feat_15173', 'feat_15174', 'feat_15175', 'feat_15176', 'feat_15177', 'feat_15178', 'feat_15179', 'feat_15180', 'feat_15181', 'feat_15182', 'feat_15183', 'feat_15184', 'feat_15185', 'feat_15186', 'feat_15187', 'feat_15188', 'feat_15189', 'feat_15190', 'feat_15191', 'feat_15192', 'feat_15193', 'feat_15194', 'feat_15195', 'feat_15196', 'feat_15197', 'feat_15198', 'feat_15199', 'feat_15200', 'feat_15201', 'feat_15202', 'feat_15203', 'feat_15204', 'feat_15205', 'feat_15206', 'feat_15207', 'feat_15208', 'feat_15209', 'feat_15210', 'feat_15211', 'feat_15212', 'feat_15213', 'feat_15214', 'feat_15215', 'feat_15216', 'feat_15217', 'feat_15218', 'feat_15219', 'feat_15220', 'feat_15221', 'feat_15222', 'feat_15223', 'feat_15224', 'feat_15225', 'feat_15226', 'feat_15227', 'feat_15228', 'feat_15229', 'feat_15230', 'feat_15231', 'feat_15232', 'feat_15233', 'feat_15234', 'feat_15235', 'feat_15236', 'feat_15237', 'feat_15238', 'feat_15239', 'feat_15240', 'feat_15241', 'feat_15242', 'feat_15243', 'feat_15244', 'feat_15245', 'feat_15246', 'feat_15247', 'feat_15248', 'feat_15249', 'feat_15250', 'feat_15251', 'feat_15252', 'feat_15253', 'feat_15254', 'feat_15255', 'feat_15256', 'feat_15257', 'feat_15258', 'feat_15259', 'feat_15260', 'feat_15261', 'feat_15262', 'feat_15263', 'feat_15264', 'feat_15265', 'feat_15266', 'feat_15267', 'feat_15268', 'feat_15269', 'feat_15270', 'feat_15271', 'feat_15272', 'feat_15273', 'feat_15274', 'feat_15275', 'feat_15276', 'feat_15277', 'feat_15278', 'feat_15279', 'feat_15280', 'feat_15281', 'feat_15282', 'feat_15283', 'feat_15284', 'feat_15285', 'feat_15286', 'feat_15287', 'feat_15288', 'feat_15289', 'feat_15290', 'feat_15291', 'feat_15292', 'feat_15293', 'feat_15294', 'feat_15295', 'feat_15296', 'feat_15297', 'feat_15298', 'feat_15299', 'feat_15300', 'feat_15301', 'feat_15302', 'feat_15303', 'feat_15304', 'feat_15305', 'feat_15306', 'feat_15307', 'feat_15308', 'feat_15309', 'feat_15310', 'feat_15311', 'feat_15312', 'feat_15313', 'feat_15314', 'feat_15315', 'feat_15316', 'feat_15317', 'feat_15318', 'feat_15319', 'feat_15320', 'feat_15321', 'feat_15322', 'feat_15323', 'feat_15324', 'feat_15325', 'feat_15326', 'feat_15327', 'feat_15328', 'feat_15329', 'feat_15330', 'feat_15331', 'feat_15332', 'feat_15333', 'feat_15334', 'feat_15335', 'feat_15336', 'feat_15337', 'feat_15338', 'feat_15339', 'feat_15340', 'feat_15341', 'feat_15342', 'feat_15343', 'feat_15344', 'feat_15345', 'feat_15346', 'feat_15347', 'feat_15348', 'feat_15349', 'feat_15350', 'feat_15351', 'feat_15352', 'feat_15353', 'feat_15354', 'feat_15355', 'feat_15356', 'feat_15357', 'feat_15358', 'feat_15359', 'feat_15360', 'feat_15361', 'feat_15362', 'feat_15363', 'feat_15364', 'feat_15365', 'feat_15366', 'feat_15367', 'feat_15368', 'feat_15369', 'feat_15370', 'feat_15371', 'feat_15372', 'feat_15373', 'feat_15374', 'feat_15375', 'feat_15376', 'feat_15377', 'feat_15378', 'feat_15379', 'feat_15380', 'feat_15381', 'feat_15382', 'feat_15383', 'feat_15384', 'feat_15385', 'feat_15386', 'feat_15387', 'feat_15388', 'feat_15389', 'feat_15390', 'feat_15391', 'feat_15392', 'feat_15393', 'feat_15394', 'feat_15395', 'feat_15396', 'feat_15397', 'feat_15398', 'feat_15399', 'feat_15400', 'feat_15401', 'feat_15402', 'feat_15403', 'feat_15404', 'feat_15405', 'feat_15406', 'feat_15407', 'feat_15408', 'feat_15409', 'feat_15410', 'feat_15411', 'feat_15412', 'feat_15413', 'feat_15414', 'feat_15415', 'feat_15416', 'feat_15417', 'feat_15418', 'feat_15419', 'feat_15420', 'feat_15421', 'feat_15422', 'feat_15423', 'feat_15424', 'feat_15425', 'feat_15426', 'feat_15427', 'feat_15428', 'feat_15429', 'feat_15430', 'feat_15431', 'feat_15432', 'feat_15433', 'feat_15434', 'feat_15435', 'feat_15436', 'feat_15437', 'feat_15438', 'feat_15439', 'feat_15440', 'feat_15441', 'feat_15442', 'feat_15443', 'feat_15444', 'feat_15445', 'feat_15446', 'feat_15447', 'feat_15448', 'feat_15449', 'feat_15450', 'feat_15451', 'feat_15452', 'feat_15453', 'feat_15454', 'feat_15455', 'feat_15456', 'feat_15457', 'feat_15458', 'feat_15459', 'feat_15460', 'feat_15461', 'feat_15462', 'feat_15463', 'feat_15464', 'feat_15465', 'feat_15466', 'feat_15467', 'feat_15468', 'feat_15469', 'feat_15470', 'feat_15471', 'feat_15472', 'feat_15473', 'feat_15474', 'feat_15475', 'feat_15476', 'feat_15477', 'feat_15478', 'feat_15479', 'feat_15480', 'feat_15481', 'feat_15482', 'feat_15483', 'feat_15484', 'feat_15485', 'feat_15486', 'feat_15487', 'feat_15488', 'feat_15489', 'feat_15490', 'feat_15491', 'feat_15492', 'feat_15493', 'feat_15494', 'feat_15495', 'feat_15496', 'feat_15497', 'feat_15498', 'feat_15499', 'feat_15500', 'feat_15501', 'feat_15502', 'feat_15503', 'feat_15504', 'feat_15505', 'feat_15506', 'feat_15507', 'feat_15508', 'feat_15509', 'feat_15510', 'feat_15511', 'feat_15512', 'feat_15513', 'feat_15514', 'feat_15515', 'feat_15516', 'feat_15517', 'feat_15518', 'feat_15519', 'feat_15520', 'feat_15521', 'feat_15522', 'feat_15523', 'feat_15524', 'feat_15525', 'feat_15526', 'feat_15527', 'feat_15528', 'feat_15529', 'feat_15530', 'feat_15531', 'feat_15532', 'feat_15533', 'feat_15534', 'feat_15535', 'feat_15536', 'feat_15537', 'feat_15538', 'feat_15539', 'feat_15540', 'feat_15541', 'feat_15542', 'feat_15543', 'feat_15544', 'feat_15545', 'feat_15546', 'feat_15547', 'feat_15548', 'feat_15549', 'feat_15550', 'feat_15551', 'feat_15552', 'feat_15553', 'feat_15554', 'feat_15555', 'feat_15556', 'feat_15557', 'feat_15558', 'feat_15559', 'feat_15560', 'feat_15561', 'feat_15562', 'feat_15563', 'feat_15564', 'feat_15565', 'feat_15566', 'feat_15567', 'feat_15568', 'feat_15569', 'feat_15570', 'feat_15571', 'feat_15572', 'feat_15573', 'feat_15574', 'feat_15575', 'feat_15576', 'feat_15577', 'feat_15578', 'feat_15579', 'feat_15580', 'feat_15581', 'feat_15582', 'feat_15583', 'feat_15584', 'feat_15585', 'feat_15586', 'feat_15587', 'feat_15588', 'feat_15589', 'feat_15590', 'feat_15591', 'feat_15592', 'feat_15593', 'feat_15594', 'feat_15595', 'feat_15596', 'feat_15597', 'feat_15598', 'feat_15599', 'feat_15600', 'feat_15601', 'feat_15602', 'feat_15603', 'feat_15604', 'feat_15605', 'feat_15606', 'feat_15607', 'feat_15608', 'feat_15609', 'feat_15610', 'feat_15611', 'feat_15612', 'feat_15613', 'feat_15614', 'feat_15615', 'feat_15616', 'feat_15617', 'feat_15618', 'feat_15619', 'feat_15620', 'feat_15621', 'feat_15622', 'feat_15623', 'feat_15624', 'feat_15625', 'feat_15626', 'feat_15627', 'feat_15628', 'feat_15629', 'feat_15630', 'feat_15631', 'feat_15632', 'feat_15633', 'feat_15634', 'feat_15635', 'feat_15636', 'feat_15637', 'feat_15638', 'feat_15639', 'feat_15640', 'feat_15641', 'feat_15642', 'feat_15643', 'feat_15644', 'feat_15645', 'feat_15646', 'feat_15647', 'feat_15648', 'feat_15649', 'feat_15650', 'feat_15651', 'feat_15652', 'feat_15653', 'feat_15654', 'feat_15655', 'feat_15656', 'feat_15657', 'feat_15658', 'feat_15659', 'feat_15660', 'feat_15661', 'feat_15662', 'feat_15663', 'feat_15664', 'feat_15665', 'feat_15666', 'feat_15667', 'feat_15668', 'feat_15669', 'feat_15670', 'feat_15671', 'feat_15672', 'feat_15673', 'feat_15674', 'feat_15675', 'feat_15676', 'feat_15677', 'feat_15678', 'feat_15679', 'feat_15680', 'feat_15681', 'feat_15682', 'feat_15683', 'feat_15684', 'feat_15685', 'feat_15686', 'feat_15687', 'feat_15688', 'feat_15689', 'feat_15690', 'feat_15691', 'feat_15692', 'feat_15693', 'feat_15694', 'feat_15695', 'feat_15696', 'feat_15697', 'feat_15698', 'feat_15699', 'feat_15700', 'feat_15701', 'feat_15702', 'feat_15703', 'feat_15704', 'feat_15705', 'feat_15706', 'feat_15707', 'feat_15708', 'feat_15709', 'feat_15710', 'feat_15711', 'feat_15712', 'feat_15713', 'feat_15714', 'feat_15715', 'feat_15716', 'feat_15717', 'feat_15718', 'feat_15719', 'feat_15720', 'feat_15721', 'feat_15722', 'feat_15723', 'feat_15724', 'feat_15725', 'feat_15726', 'feat_15727', 'feat_15728', 'feat_15729', 'feat_15730', 'feat_15731', 'feat_15732', 'feat_15733', 'feat_15734', 'feat_15735', 'feat_15736', 'feat_15737', 'feat_15738', 'feat_15739', 'feat_15740', 'feat_15741', 'feat_15742', 'feat_15743', 'feat_15744', 'feat_15745', 'feat_15746', 'feat_15747', 'feat_15748', 'feat_15749', 'feat_15750', 'feat_15751', 'feat_15752', 'feat_15753', 'feat_15754', 'feat_15755', 'feat_15756', 'feat_15757', 'feat_15758', 'feat_15759', 'feat_15760', 'feat_15761', 'feat_15762', 'feat_15763', 'feat_15764', 'feat_15765', 'feat_15766', 'feat_15767', 'feat_15768', 'feat_15769', 'feat_15770', 'feat_15771', 'feat_15772', 'feat_15773', 'feat_15774', 'feat_15775', 'feat_15776', 'feat_15777', 'feat_15778', 'feat_15779', 'feat_15780', 'feat_15781', 'feat_15782', 'feat_15783', 'feat_15784', 'feat_15785', 'feat_15786', 'feat_15787', 'feat_15788', 'feat_15789', 'feat_15790', 'feat_15791', 'feat_15792', 'feat_15793', 'feat_15794', 'feat_15795', 'feat_15796', 'feat_15797', 'feat_15798', 'feat_15799', 'feat_15800', 'feat_15801', 'feat_15802', 'feat_15803', 'feat_15804', 'feat_15805', 'feat_15806', 'feat_15807', 'feat_15808', 'feat_15809', 'feat_15810', 'feat_15811', 'feat_15812', 'feat_15813', 'feat_15814', 'feat_15815', 'feat_15816', 'feat_15817', 'feat_15818', 'feat_15819', 'feat_15820', 'feat_15821', 'feat_15822', 'feat_15823', 'feat_15824', 'feat_15825', 'feat_15826', 'feat_15827', 'feat_15828', 'feat_15829', 'feat_15830', 'feat_15831', 'feat_15832', 'feat_15833', 'feat_15834', 'feat_15835', 'feat_15836', 'feat_15837', 'feat_15838', 'feat_15839', 'feat_15840', 'feat_15841', 'feat_15842', 'feat_15843', 'feat_15844', 'feat_15845', 'feat_15846', 'feat_15847', 'feat_15848', 'feat_15849', 'feat_15850', 'feat_15851', 'feat_15852', 'feat_15853', 'feat_15854', 'feat_15855', 'feat_15856', 'feat_15857', 'feat_15858', 'feat_15859', 'feat_15860', 'feat_15861', 'feat_15862', 'feat_15863', 'feat_15864', 'feat_15865', 'feat_15866', 'feat_15867', 'feat_15868', 'feat_15869', 'feat_15870', 'feat_15871', 'feat_15872', 'feat_15873', 'feat_15874', 'feat_15875', 'feat_15876', 'feat_15877', 'feat_15878', 'feat_15879', 'feat_15880', 'feat_15881', 'feat_15882', 'feat_15883', 'feat_15884', 'feat_15885', 'feat_15886', 'feat_15887', 'feat_15888', 'feat_15889', 'feat_15890', 'feat_15891', 'feat_15892', 'feat_15893', 'feat_15894', 'feat_15895', 'feat_15896', 'feat_15897', 'feat_15898', 'feat_15899', 'feat_15900', 'feat_15901', 'feat_15902', 'feat_15903', 'feat_15904', 'feat_15905', 'feat_15906', 'feat_15907', 'feat_15908', 'feat_15909', 'feat_15910', 'feat_15911', 'feat_15912', 'feat_15913', 'feat_15914', 'feat_15915', 'feat_15916', 'feat_15917', 'feat_15918', 'feat_15919', 'feat_15920', 'feat_15921', 'feat_15922', 'feat_15923', 'feat_15924', 'feat_15925', 'feat_15926', 'feat_15927', 'feat_15928', 'feat_15929', 'feat_15930', 'feat_15931', 'feat_15932', 'feat_15933', 'feat_15934', 'feat_15935', 'feat_15936', 'feat_15937', 'feat_15938', 'feat_15939', 'feat_15940', 'feat_15941', 'feat_15942', 'feat_15943', 'feat_15944', 'feat_15945', 'feat_15946', 'feat_15947', 'feat_15948', 'feat_15949', 'feat_15950', 'feat_15951', 'feat_15952', 'feat_15953', 'feat_15954', 'feat_15955', 'feat_15956', 'feat_15957', 'feat_15958', 'feat_15959', 'feat_15960', 'feat_15961', 'feat_15962', 'feat_15963', 'feat_15964', 'feat_15965', 'feat_15966', 'feat_15967', 'feat_15968', 'feat_15969', 'feat_15970', 'feat_15971', 'feat_15972', 'feat_15973', 'feat_15974', 'feat_15975', 'feat_15976', 'feat_15977', 'feat_15978', 'feat_15979', 'feat_15980', 'feat_15981', 'feat_15982', 'feat_15983', 'feat_15984', 'feat_15985', 'feat_15986', 'feat_15987', 'feat_15988', 'feat_15989', 'feat_15990', 'feat_15991', 'feat_15992', 'feat_15993', 'feat_15994', 'feat_15995', 'feat_15996', 'feat_15997', 'feat_15998', 'feat_15999', 'feat_16000', 'feat_16001', 'feat_16002', 'feat_16003', 'feat_16004', 'feat_16005', 'feat_16006', 'feat_16007', 'feat_16008', 'feat_16009', 'feat_16010', 'feat_16011', 'feat_16012', 'feat_16013', 'feat_16014', 'feat_16015', 'feat_16016', 'feat_16017', 'feat_16018', 'feat_16019', 'feat_16020', 'feat_16021', 'feat_16022', 'feat_16023', 'feat_16024', 'feat_16025', 'feat_16026', 'feat_16027', 'feat_16028', 'feat_16029', 'feat_16030', 'feat_16031', 'feat_16032', 'feat_16033', 'feat_16034', 'feat_16035', 'feat_16036', 'feat_16037', 'feat_16038', 'feat_16039', 'feat_16040', 'feat_16041', 'feat_16042', 'feat_16043', 'feat_16044', 'feat_16045', 'feat_16046', 'feat_16047', 'feat_16048', 'feat_16049', 'feat_16050', 'feat_16051', 'feat_16052', 'feat_16053', 'feat_16054', 'feat_16055', 'feat_16056', 'feat_16057', 'feat_16058', 'feat_16059', 'feat_16060', 'feat_16061', 'feat_16062', 'feat_16063', 'feat_16064', 'feat_16065', 'feat_16066', 'feat_16067', 'feat_16068', 'feat_16069', 'feat_16070', 'feat_16071', 'feat_16072', 'feat_16073', 'feat_16074', 'feat_16075', 'feat_16076', 'feat_16077', 'feat_16078', 'feat_16079', 'feat_16080', 'feat_16081', 'feat_16082', 'feat_16083', 'feat_16084', 'feat_16085', 'feat_16086', 'feat_16087', 'feat_16088', 'feat_16089', 'feat_16090', 'feat_16091', 'feat_16092', 'feat_16093', 'feat_16094', 'feat_16095', 'feat_16096', 'feat_16097', 'feat_16098', 'feat_16099', 'feat_16100', 'feat_16101', 'feat_16102', 'feat_16103', 'feat_16104', 'feat_16105', 'feat_16106', 'feat_16107', 'feat_16108', 'feat_16109', 'feat_16110', 'feat_16111', 'feat_16112', 'feat_16113', 'feat_16114', 'feat_16115', 'feat_16116', 'feat_16117', 'feat_16118', 'feat_16119', 'feat_16120', 'feat_16121', 'feat_16122', 'feat_16123', 'feat_16124', 'feat_16125', 'feat_16126', 'feat_16127', 'feat_16128', 'feat_16129', 'feat_16130', 'feat_16131', 'feat_16132', 'feat_16133', 'feat_16134', 'feat_16135', 'feat_16136', 'feat_16137', 'feat_16138', 'feat_16139', 'feat_16140', 'feat_16141', 'feat_16142', 'feat_16143', 'feat_16144', 'feat_16145', 'feat_16146', 'feat_16147', 'feat_16148', 'feat_16149', 'feat_16150', 'feat_16151', 'feat_16152', 'feat_16153', 'feat_16154', 'feat_16155', 'feat_16156', 'feat_16157', 'feat_16158', 'feat_16159', 'feat_16160', 'feat_16161', 'feat_16162', 'feat_16163', 'feat_16164', 'feat_16165', 'feat_16166', 'feat_16167', 'feat_16168', 'feat_16169', 'feat_16170', 'feat_16171', 'feat_16172', 'feat_16173', 'feat_16174', 'feat_16175', 'feat_16176', 'feat_16177', 'feat_16178', 'feat_16179', 'feat_16180', 'feat_16181', 'feat_16182', 'feat_16183', 'feat_16184', 'feat_16185', 'feat_16186', 'feat_16187', 'feat_16188', 'feat_16189', 'feat_16190', 'feat_16191', 'feat_16192', 'feat_16193', 'feat_16194', 'feat_16195', 'feat_16196', 'feat_16197', 'feat_16198', 'feat_16199', 'feat_16200', 'feat_16201', 'feat_16202', 'feat_16203', 'feat_16204', 'feat_16205', 'feat_16206', 'feat_16207', 'feat_16208', 'feat_16209', 'feat_16210', 'feat_16211', 'feat_16212', 'feat_16213', 'feat_16214', 'feat_16215', 'feat_16216', 'feat_16217', 'feat_16218', 'feat_16219', 'feat_16220', 'feat_16221', 'feat_16222', 'feat_16223', 'feat_16224', 'feat_16225', 'feat_16226', 'feat_16227', 'feat_16228', 'feat_16229', 'feat_16230', 'feat_16231', 'feat_16232', 'feat_16233', 'feat_16234', 'feat_16235', 'feat_16236', 'feat_16237', 'feat_16238', 'feat_16239', 'feat_16240', 'feat_16241', 'feat_16242', 'feat_16243', 'feat_16244', 'feat_16245', 'feat_16246', 'feat_16247', 'feat_16248', 'feat_16249', 'feat_16250', 'feat_16251', 'feat_16252', 'feat_16253', 'feat_16254', 'feat_16255', 'feat_16256', 'feat_16257', 'feat_16258', 'feat_16259', 'feat_16260', 'feat_16261', 'feat_16262', 'feat_16263', 'feat_16264', 'feat_16265', 'feat_16266', 'feat_16267', 'feat_16268', 'feat_16269', 'feat_16270', 'feat_16271', 'feat_16272', 'feat_16273', 'feat_16274', 'feat_16275', 'feat_16276', 'feat_16277', 'feat_16278', 'feat_16279', 'feat_16280', 'feat_16281', 'feat_16282', 'feat_16283', 'feat_16284', 'feat_16285', 'feat_16286', 'feat_16287', 'feat_16288', 'feat_16289', 'feat_16290', 'feat_16291', 'feat_16292', 'feat_16293', 'feat_16294', 'feat_16295', 'feat_16296', 'feat_16297', 'feat_16298', 'feat_16299', 'feat_16300', 'feat_16301', 'feat_16302', 'feat_16303', 'feat_16304', 'feat_16305', 'feat_16306', 'feat_16307', 'feat_16308', 'feat_16309', 'feat_16310', 'feat_16311', 'feat_16312', 'feat_16313', 'feat_16314', 'feat_16315', 'feat_16316', 'feat_16317', 'feat_16318', 'feat_16319', 'feat_16320', 'feat_16321', 'feat_16322', 'feat_16323', 'feat_16324', 'feat_16325', 'feat_16326', 'feat_16327', 'feat_16328', 'feat_16329', 'feat_16330', 'feat_16331', 'feat_16332', 'feat_16333', 'feat_16334', 'feat_16335', 'feat_16336', 'feat_16337', 'feat_16338', 'feat_16339', 'feat_16340', 'feat_16341', 'feat_16342', 'feat_16343', 'feat_16344', 'feat_16345', 'feat_16346', 'feat_16347', 'feat_16348', 'feat_16349', 'feat_16350', 'feat_16351', 'feat_16352', 'feat_16353', 'feat_16354', 'feat_16355', 'feat_16356', 'feat_16357', 'feat_16358', 'feat_16359', 'feat_16360', 'feat_16361', 'feat_16362', 'feat_16363', 'feat_16364', 'feat_16365', 'feat_16366', 'feat_16367', 'feat_16368', 'feat_16369', 'feat_16370', 'feat_16371', 'feat_16372', 'feat_16373', 'feat_16374', 'feat_16375', 'feat_16376', 'feat_16377', 'feat_16378', 'feat_16379', 'feat_16380', 'feat_16381', 'feat_16382', 'feat_16383', 'recon_error', 'video_id', 'video_path']\n",
            "\n",
            "First 20 rows:\n",
            "      feat_0    feat_1    feat_2    feat_3    feat_4    feat_5    feat_6  \\\n",
            "0   0.699171  0.000000  0.000000  2.381258  0.000000  1.905661  0.000000   \n",
            "1   0.699171  0.000000  0.000000  2.381258  0.000000  1.905661  0.000000   \n",
            "2   0.699171  0.000000  0.000000  2.381258  0.000000  1.905661  0.000000   \n",
            "3   0.699171  0.000000  0.000000  2.381258  0.000000  1.905661  0.000000   \n",
            "4   0.699171  0.000000  0.000000  2.381258  0.000000  1.905661  0.000000   \n",
            "5   1.339098  0.000000  1.845848  5.450215  0.178509  0.000000  0.897522   \n",
            "6   1.339098  0.000000  1.845848  5.450215  0.178509  0.000000  0.897522   \n",
            "7   1.339098  0.000000  1.845848  5.450215  0.178509  0.000000  0.897522   \n",
            "8   1.422797  6.556878  0.653159  1.058269  4.043109  0.000000  3.553272   \n",
            "9   0.699171  0.000000  0.000000  2.381258  0.000000  1.905661  0.000000   \n",
            "10  0.413562  2.643835  0.834629  1.960210  2.910265  0.000000  2.593669   \n",
            "11  0.409150  2.646354  0.835346  1.962447  2.913914  0.000000  2.602177   \n",
            "12  0.410732  2.654923  0.850170  1.944532  2.924245  0.000000  2.587826   \n",
            "13  0.408420  2.651889  0.852928  1.946422  2.925890  0.000000  2.589583   \n",
            "14  0.436857  2.660668  0.852475  1.930877  2.932721  0.000000  2.588052   \n",
            "15  0.713792  0.000000  2.187800  1.863585  1.608184  0.000000  2.713746   \n",
            "16  0.644196  0.000000  2.195224  1.785842  1.713000  0.000000  2.798529   \n",
            "17  0.653418  0.000000  2.115393  1.972396  1.706529  0.000000  2.687914   \n",
            "18  0.663529  0.000000  2.155876  1.928655  1.730128  0.000000  2.704008   \n",
            "19  0.726355  0.000000  2.262242  1.997932  1.685218  0.000000  2.843754   \n",
            "\n",
            "      feat_7    feat_8    feat_9  ...  feat_16377  feat_16378  feat_16379  \\\n",
            "0   0.959438  1.660221  0.000000  ...    0.000000    1.124399    0.925871   \n",
            "1   0.959438  1.660221  0.000000  ...    0.000000    1.124399    0.925871   \n",
            "2   0.959438  1.660221  0.000000  ...    0.000000    1.124399    0.925871   \n",
            "3   0.959438  1.660221  0.000000  ...    0.000000    1.124399    0.925871   \n",
            "4   0.959438  1.660221  0.000000  ...    0.000000    1.124399    0.925871   \n",
            "5   3.522521  1.672227  3.548842  ...    0.000000    1.578036    1.184701   \n",
            "6   3.522521  1.672227  3.548842  ...    0.000000    1.571704    1.178676   \n",
            "7   3.522521  1.672227  3.548842  ...    0.000000    1.571704    1.178676   \n",
            "8   0.000000  0.000000  1.342888  ...    2.259622    0.840802    1.223639   \n",
            "9   0.959438  1.660221  0.000000  ...    0.000000    1.124399    0.925871   \n",
            "10  0.000000  0.000000  0.810898  ...    1.782324    2.945416    2.913876   \n",
            "11  0.000000  0.000000  0.804945  ...    1.770105    2.935106    2.904858   \n",
            "12  0.000000  0.000000  0.792222  ...    1.806071    2.925312    2.925022   \n",
            "13  0.000000  0.000000  0.788910  ...    1.806573    2.908632    2.924031   \n",
            "14  0.000000  0.000000  0.807396  ...    1.779891    2.874337    2.884506   \n",
            "15  0.847583  0.850396  0.614686  ...    1.927289    2.331336    1.855267   \n",
            "16  0.690881  0.857701  0.534909  ...    1.903870    2.314795    1.837116   \n",
            "17  0.653331  0.802630  0.427718  ...    1.913130    2.333219    1.837234   \n",
            "18  0.635011  0.767421  0.476282  ...    1.933819    2.321421    1.860057   \n",
            "19  0.732311  0.823504  0.520927  ...    1.878444    2.326603    1.869862   \n",
            "\n",
            "    feat_16380  feat_16381  feat_16382  feat_16383  recon_error  video_id  \\\n",
            "0     3.454616    0.000000    0.000000    4.138579     0.000672         0   \n",
            "1     3.454616    0.000000    0.000000    4.138579     0.000606         0   \n",
            "2     3.454616    0.000000    0.000000    4.138579     0.000597         0   \n",
            "3     3.454616    0.000000    0.000000    4.138579     0.000620         0   \n",
            "4     3.454616    0.000000    0.000000    4.138579     0.000620         0   \n",
            "5     2.693748    0.000000    0.000000    3.334669     0.004502         1   \n",
            "6     2.696716    0.000000    0.000000    3.334039     0.004540         1   \n",
            "7     2.696716    0.000000    0.000000    3.334039     0.004543         1   \n",
            "8     0.000000    2.480224    1.841529    0.000000     0.006925         2   \n",
            "9     3.454616    0.000000    0.000000    4.138579     0.006401         3   \n",
            "10    0.000000    0.927513    0.398468    0.000000     0.007480         4   \n",
            "11    0.000000    0.928345    0.400806    0.000000     0.007504         4   \n",
            "12    0.000000    0.932519    0.396082    0.000000     0.007488         4   \n",
            "13    0.000000    0.947752    0.397770    0.000000     0.007433         4   \n",
            "14    0.000000    0.956975    0.402754    0.000000     0.005561         4   \n",
            "15    0.000000    2.791539    1.824945    0.000000     0.002585         5   \n",
            "16    0.000000    2.743205    1.781677    0.000000     0.002683         5   \n",
            "17    0.000000    2.730181    1.757828    0.000000     0.002680         5   \n",
            "18    0.000000    2.664890    1.735330    0.000000     0.002669         5   \n",
            "19    0.000000    2.675063    1.696933    0.000000     0.002665         5   \n",
            "\n",
            "                                           video_path  \n",
            "0   /content/sample_data/dataset/Videos/Videos/nor...  \n",
            "1   /content/sample_data/dataset/Videos/Videos/nor...  \n",
            "2   /content/sample_data/dataset/Videos/Videos/nor...  \n",
            "3   /content/sample_data/dataset/Videos/Videos/nor...  \n",
            "4   /content/sample_data/dataset/Videos/Videos/nor...  \n",
            "5   /content/sample_data/dataset/Videos/Videos/nor...  \n",
            "6   /content/sample_data/dataset/Videos/Videos/nor...  \n",
            "7   /content/sample_data/dataset/Videos/Videos/nor...  \n",
            "8   /content/sample_data/dataset/Videos/Videos/nor...  \n",
            "9   /content/sample_data/dataset/Videos/Videos/nor...  \n",
            "10  /content/sample_data/dataset/Videos/Videos/nor...  \n",
            "11  /content/sample_data/dataset/Videos/Videos/nor...  \n",
            "12  /content/sample_data/dataset/Videos/Videos/nor...  \n",
            "13  /content/sample_data/dataset/Videos/Videos/nor...  \n",
            "14  /content/sample_data/dataset/Videos/Videos/nor...  \n",
            "15  /content/sample_data/dataset/Videos/Videos/nor...  \n",
            "16  /content/sample_data/dataset/Videos/Videos/nor...  \n",
            "17  /content/sample_data/dataset/Videos/Videos/nor...  \n",
            "18  /content/sample_data/dataset/Videos/Videos/nor...  \n",
            "19  /content/sample_data/dataset/Videos/Videos/nor...  \n",
            "\n",
            "[20 rows x 16387 columns]\n"
          ]
        }
      ]
    },
    {
      "cell_type": "code",
      "source": [
        "#Augmentation\n",
        "\n",
        "import torchvision.transforms as T\n",
        "\n",
        "frame_transform = T.Compose([\n",
        "    T.RandomHorizontalFlip(p=0.5),\n",
        "    T.RandomRotation(degrees=(-10, 10)),\n",
        "    T.ColorJitter(brightness=0.3, contrast=0.3, saturation=0.2, hue=0.1),\n",
        "    T.RandomApply([T.GaussianBlur(3)], p=0.3),\n",
        "    T.RandomApply([T.RandomGrayscale(p=0.2)], p=0.2),\n",
        "])\n",
        "\n"
      ],
      "metadata": {
        "id": "nTB7UP8sJxAq"
      },
      "id": "nTB7UP8sJxAq",
      "execution_count": 11,
      "outputs": []
    },
    {
      "cell_type": "code",
      "source": [
        "import torch\n",
        "\n",
        "def frame_dropout(frames, p=0.2):\n",
        "    \"\"\"Belirli bir ihtimalle rastgele kareleri düşür.\"\"\"\n",
        "    keep_mask = torch.rand(len(frames)) > p\n",
        "    return frames[keep_mask] if keep_mask.sum() > 0 else frames\n",
        "\n",
        "def speed_perturbation(frames, min_speed=0.8, max_speed=1.2):\n",
        "    \"\"\"Videoyu rastgele hızlandır veya yavaşlat.\"\"\"\n",
        "    speed_factor = torch.FloatTensor(1).uniform_(min_speed, max_speed).item()\n",
        "    indices = torch.linspace(0, len(frames)-1, int(len(frames) * speed_factor)).long()\n",
        "    return frames[indices]"
      ],
      "metadata": {
        "id": "Ltf1G3_QJ6WJ"
      },
      "id": "Ltf1G3_QJ6WJ",
      "execution_count": 12,
      "outputs": []
    },
    {
      "cell_type": "code",
      "source": [
        "#Fixes frame count after applying frame dropout at augmentation\n",
        "\n",
        "def fix_frame_count(frames, target_num_frames):\n",
        "    \"\"\"Frame sayısını sabitler: Eğer fazla ise kırpar, eksikse tekrarlar.\"\"\"\n",
        "    num_frames = frames.shape[0]  # Frame sayısını al\n",
        "\n",
        "    if num_frames > target_num_frames:\n",
        "        frames = frames[:target_num_frames]  # Fazla olanları kırp\n",
        "    elif num_frames < target_num_frames:\n",
        "        repeat_frames = target_num_frames - num_frames\n",
        "        last_frame = frames[-1].unsqueeze(0).repeat(repeat_frames, 1, 1, 1)  # Eksik frame'leri tekrar et\n",
        "        frames = torch.cat([frames, last_frame], dim=0)\n",
        "\n",
        "    return frames  # Her durumda (T, C, H, W) döner"
      ],
      "metadata": {
        "id": "Mc-L1wrgNvlu"
      },
      "id": "Mc-L1wrgNvlu",
      "execution_count": 13,
      "outputs": []
    },
    {
      "metadata": {
        "ExecuteTime": {
          "end_time": "2025-02-22T11:46:24.711059Z",
          "start_time": "2025-02-22T11:46:22.415593Z"
        },
        "id": "e0462ad59a40b35f"
      },
      "cell_type": "code",
      "source": [
        "import os\n",
        "import random\n",
        "import torch\n",
        "from torch.utils.data import Dataset\n",
        "import torchvision\n",
        "import torch.nn.functional as F\n",
        "import pandas as pd\n",
        "\n",
        "# Yukarıda tanımlı augmentasyon fonksiyonları ve frame_transform kullanılıyor:\n",
        "# frame_dropout, speed_perturbation, fix_frame_count, frame_transform\n",
        "\n",
        "class VideoDataset(Dataset):\n",
        "    def __init__(\n",
        "        self,\n",
        "        metadata_df: pd.DataFrame,\n",
        "        ae_features_csv: str,\n",
        "        num_frames: int = 8,\n",
        "        resize_size=(192, 192),\n",
        "        mode: str = \"train\"\n",
        "    ):\n",
        "        \"\"\"\n",
        "        metadata_df: DataFrame with columns ['video_path','binary_label','multi_label']\n",
        "        ae_features_csv: CSV with ['video_path','recon_error'] per frame index\n",
        "        \"\"\"\n",
        "        self.meta = metadata_df.reset_index(drop=True)\n",
        "        self.ae_data = pd.read_csv(ae_features_csv)\n",
        "        self.num_frames = num_frames\n",
        "        self.resize_size = resize_size\n",
        "        self.mode = mode\n",
        "\n",
        "    def __len__(self):\n",
        "        return len(self.meta)\n",
        "\n",
        "    def __getitem__(self, idx):\n",
        "        row = self.meta.iloc[idx]\n",
        "        video_path = row['video_path']\n",
        "        binary_label = int(row['binary_label'])\n",
        "        multi_label = int(row['multi_label'])\n",
        "\n",
        "        # Segment başlangıcını belirle (AE hatalarına göre)\n",
        "        vid_err = self.ae_data[self.ae_data['video_path'] == video_path]['recon_error'].values\n",
        "        total_err = len(vid_err)\n",
        "        if binary_label == 1:\n",
        "            # Anormal: sliding window ile en yüksek hata segmentini seç\n",
        "            if total_err < self.num_frames:\n",
        "                start_idx = 0\n",
        "            else:\n",
        "                means = pd.Series(vid_err).rolling(self.num_frames).mean().dropna().values\n",
        "                start_idx = int(means.argmax())\n",
        "        else:\n",
        "            # Normal: rastgele başlangıç\n",
        "            if total_err <= self.num_frames:\n",
        "                start_idx = 0\n",
        "            else:\n",
        "                start_idx = random.randint(0, total_err - self.num_frames)\n",
        "\n",
        "        # Kareleri oku\n",
        "        frames = []\n",
        "        vr = torchvision.io.VideoReader(video_path, 'video')\n",
        "        vr.set_current_stream('video')\n",
        "        for i, frm in enumerate(vr):\n",
        "            if i < start_idx:\n",
        "                continue\n",
        "            if len(frames) >= self.num_frames:\n",
        "                break\n",
        "            img = frm['data'].float() / 255.0  # (C,H,W)\n",
        "            img = F.interpolate(\n",
        "                img.unsqueeze(0), size=self.resize_size,\n",
        "                mode='bilinear', align_corners=False\n",
        "            ).squeeze(0)\n",
        "            frames.append(img)\n",
        "        # Eksikse son kareyi tekrar et\n",
        "        while len(frames) < self.num_frames:\n",
        "            frames.append(frames[-1].clone())\n",
        "\n",
        "        # Augmentasyon (sadece eğitim için)\n",
        "        clip = torch.stack(frames)  # (T, C, H, W)\n",
        "        if self.mode == 'train':\n",
        "            clip = frame_dropout(clip, p=0.2)\n",
        "            clip = speed_perturbation(clip, min_speed=0.8, max_speed=1.2)\n",
        "            clip = fix_frame_count(clip, self.num_frames)\n",
        "            # frame_transform her kareye uygula\n",
        "            clip = torch.stack([frame_transform(f) for f in clip])\n",
        "\n",
        "        # Son düzenleme: (C, T, H, W)\n",
        "        clip = clip.permute(1, 0, 2, 3).contiguous()\n",
        "\n",
        "        return (\n",
        "            clip,\n",
        "            torch.tensor(binary_label, dtype=torch.float32),\n",
        "            torch.tensor(multi_label, dtype=torch.long)\n",
        "        )"
      ],
      "id": "e0462ad59a40b35f",
      "outputs": [],
      "execution_count": 14
    },
    {
      "metadata": {
        "ExecuteTime": {
          "end_time": "2025-02-22T11:46:24.722477Z",
          "start_time": "2025-02-22T11:46:24.711059Z"
        },
        "id": "22ce79d5c294f2c6",
        "outputId": "35c337cc-66b1-4bda-8bd7-e6f6e7009592",
        "colab": {
          "base_uri": "https://localhost:8080/"
        }
      },
      "cell_type": "code",
      "source": [
        "train_dataset = VideoDataset(train_df, \"/content/drive/MyDrive/modelepochsaves/autoencoder_features_batched.csv\", num_frames=48, mode=\"train\")\n",
        "test_dataset = VideoDataset(test_df, \"/content/drive/MyDrive/modelepochsaves/autoencoder_features_batched.csv\", num_frames=48, mode=\"test\")\n",
        "\n",
        "train_loader = DataLoader(train_dataset, batch_size=8, shuffle=True)\n",
        "test_loader = DataLoader(test_dataset, batch_size=8, shuffle=False)\n",
        "\n",
        "print(f\"Train loader {len(train_loader)} batches\")\n",
        "print(f\"Test loader {len(test_loader)} batches\")"
      ],
      "id": "22ce79d5c294f2c6",
      "outputs": [
        {
          "output_type": "stream",
          "name": "stdout",
          "text": [
            "Train loader 326 batches\n",
            "Test loader 82 batches\n"
          ]
        }
      ],
      "execution_count": 15
    },
    {
      "metadata": {
        "ExecuteTime": {
          "end_time": "2025-02-22T11:46:26.156357Z",
          "start_time": "2025-02-22T11:46:24.736007Z"
        },
        "id": "eb2055b4174b845f",
        "outputId": "b7bbdc5e-3d46-4e94-d05e-86a01e09eda7",
        "colab": {
          "base_uri": "https://localhost:8080/"
        }
      },
      "cell_type": "code",
      "source": [
        "import torch\n",
        "import torch.nn as nn\n",
        "import torch.nn.functional as F\n",
        "import torchvision\n",
        "\n",
        "# ✅ X3D Modelini Yükleme\n",
        "model_name = \"x3d_s\"\n",
        "base_model = torch.hub.load('facebookresearch/pytorchvideo', model_name, pretrained=True)\n",
        "\n",
        "# ✅ **Çıkış Katmanlarını Güncelle**\n",
        "in_features = base_model.blocks[-1].proj.out_features  # ✅ **Doğru çıkışı al!** (400 olmalı)\n",
        "\n",
        "binary_head = nn.Linear(2048, 1)  # Binary sınıflandırma için Sigmoid\n",
        "multi_head = nn.Linear(2048, len(train_df[\"multi_label\"].unique()))  # Multi-class sınıflandırma\n",
        "\n",
        "# ✅ **MultiTaskX3D Modeli**\n",
        "class MultiTaskX3D(nn.Module):\n",
        "    def __init__(self, base_model, binary_head, multi_head):\n",
        "        super(MultiTaskX3D, self).__init__()\n",
        "\n",
        "        # **Feature Extractor - Son bloğun içindeki ProjectedPool eklendi!**\n",
        "        self.feature_extractor = nn.Sequential(\n",
        "            *base_model.blocks[:-1],\n",
        "            base_model.blocks[-1].pool  # ✅ **Burada 400'e dönüşüm sağlandı!**\n",
        "        )\n",
        "\n",
        "        # **Global Average Pooling - Tüm boyutları 1x1x1'e düşürüyor!**\n",
        "        self.gap = nn.AdaptiveAvgPool3d(1)\n",
        "\n",
        "        # **Flatten**\n",
        "        self.flatten = nn.Flatten()\n",
        "\n",
        "        # **Çıkış Katmanları**\n",
        "        self.binary_head = binary_head\n",
        "        self.binary_activation = nn.Sigmoid()\n",
        "\n",
        "        self.multi_head = multi_head\n",
        "        self.multi_activation = nn.Softmax(dim=1)\n",
        "\n",
        "    def forward(self, x):\n",
        "        #print(f\"🚀 Model Girişi: {x.shape}\")\n",
        "\n",
        "        x = self.feature_extractor(x)\n",
        "        #print(f\"🟡 Feature Extractor Çıkışı: {x.shape}\")  # **(16, 400, 1, 1, 1) olmalı!**\n",
        "\n",
        "        x = self.gap(x)  # ✅ **GAP ile (16, 400, 1, 1, 1)**\n",
        "        #print(f\"🔵 GAP Sonrası Boyut: {x.shape}\")\n",
        "\n",
        "        x = self.flatten(x)  # ✅ **Artık (16, 400) olması lazım!**\n",
        "        #print(f\"🟢 Flatten Sonrası Boyut: {x.shape}\")\n",
        "\n",
        "        binary_out = self.binary_head(x)  # Binary sınıflandırma\n",
        "        multi_out = self.multi_activation(self.multi_head(x))  # Multi-class sınıflandırma\n",
        "\n",
        "        return binary_out, multi_out\n",
        "\n",
        "# ✅ Modeli başlat\n",
        "model = MultiTaskX3D(base_model, binary_head, multi_head)\n",
        "\n",
        "device = \"cuda\" if torch.cuda.is_available() else \"cpu\"\n",
        "model = model.to(device)\n",
        "\n",
        "print(f\"🚀 Model başarıyla yüklendi! Çalıştırılan cihaz: {device}\")"
      ],
      "id": "eb2055b4174b845f",
      "outputs": [
        {
          "output_type": "stream",
          "name": "stderr",
          "text": [
            "Downloading: \"https://github.com/facebookresearch/pytorchvideo/zipball/main\" to /root/.cache/torch/hub/main.zip\n",
            "Downloading: \"https://dl.fbaipublicfiles.com/pytorchvideo/model_zoo/kinetics/X3D_S.pyth\" to /root/.cache/torch/hub/checkpoints/X3D_S.pyth\n",
            "100%|██████████| 29.4M/29.4M [00:00<00:00, 58.6MB/s]\n"
          ]
        },
        {
          "output_type": "stream",
          "name": "stdout",
          "text": [
            "🚀 Model başarıyla yüklendi! Çalıştırılan cihaz: cuda\n"
          ]
        }
      ],
      "execution_count": 17
    },
    {
      "metadata": {
        "id": "cf0f8ab8e20aa3b7"
      },
      "cell_type": "markdown",
      "source": [
        "import torch\n",
        "\n",
        "model = model.to(\"cpu\")\n",
        "dummy_input = torch.randn(1, 3, 16, 160, 160)\n",
        "\n",
        "torch.onnx.export(model, dummy_input, \"x3d_xs.onnx\", opset_version=11\n",
        "                  ,do_constant_folding=True, input_names=[\"input\"], output_names=[\"output\"])"
      ],
      "id": "cf0f8ab8e20aa3b7"
    },
    {
      "cell_type": "code",
      "source": [
        "from torch.nn import CrossEntropyLoss\n",
        "\n",
        "class FocalLoss(nn.Module):\n",
        "    def __init__(self, alpha=0.25, gamma=2.0):\n",
        "        super(FocalLoss, self).__init__()\n",
        "        self.alpha = alpha\n",
        "        self.gamma = gamma\n",
        "\n",
        "    def forward(self,inputs,targets):\n",
        "        ce_loss = F.cross_entropy(inputs,targets,reduction='none')\n",
        "        pt = torch.exp(-ce_loss)\n",
        "        focal_loss = self.alpha * (1-pt)**self.gamma * ce_loss\n",
        "        return focal_loss.mean()"
      ],
      "metadata": {
        "id": "pZxmxvCalU2T"
      },
      "id": "pZxmxvCalU2T",
      "execution_count": 18,
      "outputs": []
    },
    {
      "metadata": {
        "ExecuteTime": {
          "end_time": "2025-02-22T12:20:55.814874Z",
          "start_time": "2025-02-22T11:46:26.188132Z"
        },
        "id": "9b297db9945016d9",
        "outputId": "c6d5c5bf-3435-4266-ab2f-a540ba8cfadd",
        "colab": {
          "base_uri": "https://localhost:8080/",
          "height": 67,
          "referenced_widgets": [
            "14a59acfa91346e7863f91986d200ff3",
            "3a3b43cd375949b0942f7912ec29d309",
            "0fa604f0b49c4006946bb59be62e7744",
            "eb0192e4b32848708e8846620b5c8ae6",
            "bc0b5f83bc9b440bba49e525b0be4e24",
            "7ad0a446b261406185616583524d8cf9",
            "cddbb65fd2b44057a81a18384180804a",
            "280b3ab208f54fd78e8d0b06a916782a",
            "88c683824faf4a08a29ee607f1202b0b",
            "e72a33294f8b488785b043135e0f286e",
            "52cd5392308241b895ae451a91885aed"
          ]
        }
      },
      "cell_type": "code",
      "source": [
        "import os\n",
        "import torch\n",
        "import torch.nn as nn\n",
        "import torch.optim as optim\n",
        "from tqdm.notebook import tqdm\n",
        "\n",
        "# ─── Ayarlar & Çıktı dizini ─────────────────────────────────────────────────\n",
        "epoch_file_location = \"/content/drive/MyDrive/modelepochsaves/modelepochsavesx3d\"\n",
        "os.makedirs(epoch_file_location, exist_ok=True)\n",
        "\n",
        "# ─── Model, Loss, Optimizer, Scheduler ─────────────────────────────────────\n",
        "criterion_binary = nn.BCEWithLogitsLoss()\n",
        "criterion_multi  = FocalLoss()\n",
        "optimizer        = optim.Adam(model.parameters(), lr=1e-4, weight_decay=1e-2)\n",
        "scheduler        = torch.optim.lr_scheduler.CosineAnnealingLR(optimizer, T_max=10)\n",
        "scaler           = torch.amp.GradScaler()\n",
        "\n",
        "device = torch.device(\"cuda\" if torch.cuda.is_available() else \"cpu\")\n",
        "model.to(device)\n",
        "\n",
        "# ─── Resume Ayarları ─────────────────────────────────────────────────────────\n",
        "# Eğer belirli bir epoch'tan devam etmek isterseniz, o epoch numarasını buraya koyun.\n",
        "# Örneğin 13. epoch'tan devam:\n",
        "resume_epoch = 0\n",
        "max_epochs    = 100\n",
        "best_loss     = float('inf')\n",
        "counter       = 0\n",
        "\n",
        "# Checkpoint dosya yolunu oluştur\n",
        "ckpt_path = os.path.join(epoch_file_location, f\"model_epoch_{resume_epoch}.pth\")\n",
        "if os.path.exists(ckpt_path):\n",
        "    ckpt = torch.load(ckpt_path)\n",
        "    model.load_state_dict(ckpt['model_state_dict'])\n",
        "    optimizer.load_state_dict(ckpt['optimizer_state_dict'])\n",
        "    scheduler.load_state_dict(ckpt['scheduler_state_dict'])\n",
        "    best_loss = ckpt.get('best_loss', best_loss)\n",
        "    counter   = ckpt.get('counter', counter)\n",
        "    start_epoch = ckpt['epoch'] + 1\n",
        "    print(f\"✅ Loaded checkpoint from epoch {ckpt['epoch']}\")\n",
        "else:\n",
        "    start_epoch = 1\n",
        "    print(\"⚠️ No checkpoint found, starting from scratch.\")\n",
        "\n",
        "# ─── Early Stopping Parametreleri ────────────────────────────────────────────\n",
        "patience           = 5\n",
        "min_delta          = 0.01\n",
        "accuracy_threshold = 85.0\n",
        "\n",
        "# ─── Eğitim & Doğrulama Döngüsü ───────────────────────────────────────────────\n",
        "for epoch in range(start_epoch, max_epochs+1):\n",
        "    # --- Eğitim ---\n",
        "    model.train()\n",
        "    train_loss = 0.0\n",
        "    train_bar = tqdm(train_loader, desc=f\"Epoch {epoch}/{max_epochs} ▶ Train\", leave=False)\n",
        "    for videos, binary_labels, multi_labels in train_bar:\n",
        "        videos        = videos.to(device)\n",
        "        binary_labels = binary_labels.to(device).float()\n",
        "        multi_labels  = multi_labels.to(device)\n",
        "\n",
        "        optimizer.zero_grad()\n",
        "        with torch.amp.autocast(device_type=device.type):\n",
        "            binary_out, multi_out = model(videos)\n",
        "            bin_loss = criterion_binary(binary_out.squeeze(), binary_labels)\n",
        "            mask     = (binary_labels == 1)\n",
        "            mul_loss = criterion_multi(multi_out[mask], multi_labels[mask]) if mask.sum()>0 else torch.tensor(0.0, device=device)\n",
        "            loss     = bin_loss + mul_loss\n",
        "\n",
        "        scaler.scale(loss).backward()\n",
        "        scaler.step(optimizer)\n",
        "        scaler.update()\n",
        "        train_loss += loss.item()\n",
        "        train_bar.set_postfix(loss=f\"{train_loss/(train_bar.n+1):.4f}\")\n",
        "    train_loss /= len(train_loader)\n",
        "\n",
        "    # --- Doğrulama ---\n",
        "    model.eval()\n",
        "    val_loss       = 0.0\n",
        "    correct_binary = correct_multi = total_binary = total_multi = 0\n",
        "    val_bar = tqdm(test_loader, desc=f\"Epoch {epoch}/{max_epochs} ◀ Val\", leave=False)\n",
        "    with torch.no_grad():\n",
        "        for videos, binary_labels, multi_labels in val_bar:\n",
        "            videos        = videos.to(device)\n",
        "            binary_labels = binary_labels.to(device).float()\n",
        "            multi_labels  = multi_labels.to(device)\n",
        "\n",
        "            binary_out, multi_out = model(videos)\n",
        "            pred_bin = (binary_out.squeeze()>0.5).long()\n",
        "            correct_binary += (pred_bin==binary_labels).sum().item()\n",
        "            total_binary   += binary_labels.size(0)\n",
        "\n",
        "            mask = (binary_labels==1)\n",
        "            if mask.sum()>0:\n",
        "                pred_mul = torch.argmax(multi_out[mask], dim=1)\n",
        "                correct_multi += (pred_mul==multi_labels[mask]).sum().item()\n",
        "                total_multi   += mask.sum().item()\n",
        "\n",
        "            vloss = criterion_binary(binary_out.squeeze(), binary_labels)\n",
        "            if mask.sum()>0:\n",
        "                vloss += criterion_multi(multi_out[mask], multi_labels[mask])\n",
        "            val_loss += vloss.item()\n",
        "            val_bar.set_postfix(val_loss=f\"{val_loss/(val_bar.n+1):.4f}\")\n",
        "    val_loss /= len(test_loader)\n",
        "\n",
        "    bin_acc = 100 * correct_binary / total_binary\n",
        "    mul_acc = 100 * correct_multi  / total_multi if total_multi>0 else 0.0\n",
        "\n",
        "    # --- Epoch Özeti & Checkpoint Kaydetme ---\n",
        "    print(f\"Epoch {epoch}/{max_epochs} | Train Loss: {train_loss:.4f} | Val Loss: {val_loss:.4f} \"\n",
        "          f\"| Binary Acc: {bin_acc:.2f}% | Multi Acc: {mul_acc:.2f}%\")\n",
        "\n",
        "    # Tam checkpoint\n",
        "    save_path = os.path.join(epoch_file_location, f\"model_epoch_{epoch}.pth\")\n",
        "    torch.save({\n",
        "        'epoch': epoch,\n",
        "        'model_state_dict':     model.state_dict(),\n",
        "        'optimizer_state_dict': optimizer.state_dict(),\n",
        "        'scheduler_state_dict': scheduler.state_dict(),\n",
        "        'best_loss':            best_loss,\n",
        "        'counter':              counter\n",
        "    }, save_path)\n",
        "\n",
        "    # --- Early Stopping ---\n",
        "    if bin_acc >= accuracy_threshold:\n",
        "        if best_loss - val_loss > min_delta:\n",
        "            best_loss = val_loss; counter = 0\n",
        "        else:\n",
        "            counter += 1\n",
        "            print(f\"❗ Early stopping counter: {counter}/{patience}\")\n",
        "        if counter >= patience:\n",
        "            print(\"⏹️ Early stopping triggered.\")\n",
        "            break\n",
        "    else:\n",
        "        print(f\"🚨 Binary Acc {bin_acc:.2f}% < {accuracy_threshold}%, early stopping pasif.\")\n",
        "\n",
        "    # Scheduler adımı, val_loss yerine epoch tabanlı CosineAnnealingLR için\n",
        "    scheduler.step()\n",
        "\n",
        "print(\"✅ Eğitim tamamlandı!\")\n"
      ],
      "id": "9b297db9945016d9",
      "outputs": [
        {
          "output_type": "stream",
          "name": "stdout",
          "text": [
            "⚠️ No checkpoint found, starting from scratch.\n"
          ]
        },
        {
          "output_type": "display_data",
          "data": {
            "text/plain": [
              "Epoch 1/100 ▶ Train:   0%|          | 0/326 [00:00<?, ?it/s]"
            ],
            "application/vnd.jupyter.widget-view+json": {
              "version_major": 2,
              "version_minor": 0,
              "model_id": "14a59acfa91346e7863f91986d200ff3"
            }
          },
          "metadata": {}
        }
      ],
      "execution_count": null
    }
  ],
  "metadata": {
    "kernelspec": {
      "display_name": "Python [conda env:base] *",
      "language": "python",
      "name": "conda-base-py"
    },
    "language_info": {
      "codemirror_mode": {
        "name": "ipython",
        "version": 2
      },
      "file_extension": ".py",
      "mimetype": "text/x-python",
      "name": "python",
      "nbconvert_exporter": "python",
      "pygments_lexer": "ipython2",
      "version": "2.7.6"
    },
    "colab": {
      "provenance": [],
      "machine_shape": "hm",
      "gpuType": "T4",
      "include_colab_link": true
    },
    "accelerator": "GPU",
    "widgets": {
      "application/vnd.jupyter.widget-state+json": {
        "14a59acfa91346e7863f91986d200ff3": {
          "model_module": "@jupyter-widgets/controls",
          "model_name": "HBoxModel",
          "model_module_version": "1.5.0",
          "state": {
            "_dom_classes": [],
            "_model_module": "@jupyter-widgets/controls",
            "_model_module_version": "1.5.0",
            "_model_name": "HBoxModel",
            "_view_count": null,
            "_view_module": "@jupyter-widgets/controls",
            "_view_module_version": "1.5.0",
            "_view_name": "HBoxView",
            "box_style": "",
            "children": [
              "IPY_MODEL_3a3b43cd375949b0942f7912ec29d309",
              "IPY_MODEL_0fa604f0b49c4006946bb59be62e7744",
              "IPY_MODEL_eb0192e4b32848708e8846620b5c8ae6"
            ],
            "layout": "IPY_MODEL_bc0b5f83bc9b440bba49e525b0be4e24"
          }
        },
        "3a3b43cd375949b0942f7912ec29d309": {
          "model_module": "@jupyter-widgets/controls",
          "model_name": "HTMLModel",
          "model_module_version": "1.5.0",
          "state": {
            "_dom_classes": [],
            "_model_module": "@jupyter-widgets/controls",
            "_model_module_version": "1.5.0",
            "_model_name": "HTMLModel",
            "_view_count": null,
            "_view_module": "@jupyter-widgets/controls",
            "_view_module_version": "1.5.0",
            "_view_name": "HTMLView",
            "description": "",
            "description_tooltip": null,
            "layout": "IPY_MODEL_7ad0a446b261406185616583524d8cf9",
            "placeholder": "​",
            "style": "IPY_MODEL_cddbb65fd2b44057a81a18384180804a",
            "value": "Epoch 1/100 ▶ Train:   7%"
          }
        },
        "0fa604f0b49c4006946bb59be62e7744": {
          "model_module": "@jupyter-widgets/controls",
          "model_name": "FloatProgressModel",
          "model_module_version": "1.5.0",
          "state": {
            "_dom_classes": [],
            "_model_module": "@jupyter-widgets/controls",
            "_model_module_version": "1.5.0",
            "_model_name": "FloatProgressModel",
            "_view_count": null,
            "_view_module": "@jupyter-widgets/controls",
            "_view_module_version": "1.5.0",
            "_view_name": "ProgressView",
            "bar_style": "",
            "description": "",
            "description_tooltip": null,
            "layout": "IPY_MODEL_280b3ab208f54fd78e8d0b06a916782a",
            "max": 326,
            "min": 0,
            "orientation": "horizontal",
            "style": "IPY_MODEL_88c683824faf4a08a29ee607f1202b0b",
            "value": 24
          }
        },
        "eb0192e4b32848708e8846620b5c8ae6": {
          "model_module": "@jupyter-widgets/controls",
          "model_name": "HTMLModel",
          "model_module_version": "1.5.0",
          "state": {
            "_dom_classes": [],
            "_model_module": "@jupyter-widgets/controls",
            "_model_module_version": "1.5.0",
            "_model_name": "HTMLModel",
            "_view_count": null,
            "_view_module": "@jupyter-widgets/controls",
            "_view_module_version": "1.5.0",
            "_view_name": "HTMLView",
            "description": "",
            "description_tooltip": null,
            "layout": "IPY_MODEL_e72a33294f8b488785b043135e0f286e",
            "placeholder": "​",
            "style": "IPY_MODEL_52cd5392308241b895ae451a91885aed",
            "value": " 24/326 [01:51&lt;23:05,  4.59s/it, loss=0.2221]"
          }
        },
        "bc0b5f83bc9b440bba49e525b0be4e24": {
          "model_module": "@jupyter-widgets/base",
          "model_name": "LayoutModel",
          "model_module_version": "1.2.0",
          "state": {
            "_model_module": "@jupyter-widgets/base",
            "_model_module_version": "1.2.0",
            "_model_name": "LayoutModel",
            "_view_count": null,
            "_view_module": "@jupyter-widgets/base",
            "_view_module_version": "1.2.0",
            "_view_name": "LayoutView",
            "align_content": null,
            "align_items": null,
            "align_self": null,
            "border": null,
            "bottom": null,
            "display": null,
            "flex": null,
            "flex_flow": null,
            "grid_area": null,
            "grid_auto_columns": null,
            "grid_auto_flow": null,
            "grid_auto_rows": null,
            "grid_column": null,
            "grid_gap": null,
            "grid_row": null,
            "grid_template_areas": null,
            "grid_template_columns": null,
            "grid_template_rows": null,
            "height": null,
            "justify_content": null,
            "justify_items": null,
            "left": null,
            "margin": null,
            "max_height": null,
            "max_width": null,
            "min_height": null,
            "min_width": null,
            "object_fit": null,
            "object_position": null,
            "order": null,
            "overflow": null,
            "overflow_x": null,
            "overflow_y": null,
            "padding": null,
            "right": null,
            "top": null,
            "visibility": null,
            "width": null
          }
        },
        "7ad0a446b261406185616583524d8cf9": {
          "model_module": "@jupyter-widgets/base",
          "model_name": "LayoutModel",
          "model_module_version": "1.2.0",
          "state": {
            "_model_module": "@jupyter-widgets/base",
            "_model_module_version": "1.2.0",
            "_model_name": "LayoutModel",
            "_view_count": null,
            "_view_module": "@jupyter-widgets/base",
            "_view_module_version": "1.2.0",
            "_view_name": "LayoutView",
            "align_content": null,
            "align_items": null,
            "align_self": null,
            "border": null,
            "bottom": null,
            "display": null,
            "flex": null,
            "flex_flow": null,
            "grid_area": null,
            "grid_auto_columns": null,
            "grid_auto_flow": null,
            "grid_auto_rows": null,
            "grid_column": null,
            "grid_gap": null,
            "grid_row": null,
            "grid_template_areas": null,
            "grid_template_columns": null,
            "grid_template_rows": null,
            "height": null,
            "justify_content": null,
            "justify_items": null,
            "left": null,
            "margin": null,
            "max_height": null,
            "max_width": null,
            "min_height": null,
            "min_width": null,
            "object_fit": null,
            "object_position": null,
            "order": null,
            "overflow": null,
            "overflow_x": null,
            "overflow_y": null,
            "padding": null,
            "right": null,
            "top": null,
            "visibility": null,
            "width": null
          }
        },
        "cddbb65fd2b44057a81a18384180804a": {
          "model_module": "@jupyter-widgets/controls",
          "model_name": "DescriptionStyleModel",
          "model_module_version": "1.5.0",
          "state": {
            "_model_module": "@jupyter-widgets/controls",
            "_model_module_version": "1.5.0",
            "_model_name": "DescriptionStyleModel",
            "_view_count": null,
            "_view_module": "@jupyter-widgets/base",
            "_view_module_version": "1.2.0",
            "_view_name": "StyleView",
            "description_width": ""
          }
        },
        "280b3ab208f54fd78e8d0b06a916782a": {
          "model_module": "@jupyter-widgets/base",
          "model_name": "LayoutModel",
          "model_module_version": "1.2.0",
          "state": {
            "_model_module": "@jupyter-widgets/base",
            "_model_module_version": "1.2.0",
            "_model_name": "LayoutModel",
            "_view_count": null,
            "_view_module": "@jupyter-widgets/base",
            "_view_module_version": "1.2.0",
            "_view_name": "LayoutView",
            "align_content": null,
            "align_items": null,
            "align_self": null,
            "border": null,
            "bottom": null,
            "display": null,
            "flex": null,
            "flex_flow": null,
            "grid_area": null,
            "grid_auto_columns": null,
            "grid_auto_flow": null,
            "grid_auto_rows": null,
            "grid_column": null,
            "grid_gap": null,
            "grid_row": null,
            "grid_template_areas": null,
            "grid_template_columns": null,
            "grid_template_rows": null,
            "height": null,
            "justify_content": null,
            "justify_items": null,
            "left": null,
            "margin": null,
            "max_height": null,
            "max_width": null,
            "min_height": null,
            "min_width": null,
            "object_fit": null,
            "object_position": null,
            "order": null,
            "overflow": null,
            "overflow_x": null,
            "overflow_y": null,
            "padding": null,
            "right": null,
            "top": null,
            "visibility": null,
            "width": null
          }
        },
        "88c683824faf4a08a29ee607f1202b0b": {
          "model_module": "@jupyter-widgets/controls",
          "model_name": "ProgressStyleModel",
          "model_module_version": "1.5.0",
          "state": {
            "_model_module": "@jupyter-widgets/controls",
            "_model_module_version": "1.5.0",
            "_model_name": "ProgressStyleModel",
            "_view_count": null,
            "_view_module": "@jupyter-widgets/base",
            "_view_module_version": "1.2.0",
            "_view_name": "StyleView",
            "bar_color": null,
            "description_width": ""
          }
        },
        "e72a33294f8b488785b043135e0f286e": {
          "model_module": "@jupyter-widgets/base",
          "model_name": "LayoutModel",
          "model_module_version": "1.2.0",
          "state": {
            "_model_module": "@jupyter-widgets/base",
            "_model_module_version": "1.2.0",
            "_model_name": "LayoutModel",
            "_view_count": null,
            "_view_module": "@jupyter-widgets/base",
            "_view_module_version": "1.2.0",
            "_view_name": "LayoutView",
            "align_content": null,
            "align_items": null,
            "align_self": null,
            "border": null,
            "bottom": null,
            "display": null,
            "flex": null,
            "flex_flow": null,
            "grid_area": null,
            "grid_auto_columns": null,
            "grid_auto_flow": null,
            "grid_auto_rows": null,
            "grid_column": null,
            "grid_gap": null,
            "grid_row": null,
            "grid_template_areas": null,
            "grid_template_columns": null,
            "grid_template_rows": null,
            "height": null,
            "justify_content": null,
            "justify_items": null,
            "left": null,
            "margin": null,
            "max_height": null,
            "max_width": null,
            "min_height": null,
            "min_width": null,
            "object_fit": null,
            "object_position": null,
            "order": null,
            "overflow": null,
            "overflow_x": null,
            "overflow_y": null,
            "padding": null,
            "right": null,
            "top": null,
            "visibility": null,
            "width": null
          }
        },
        "52cd5392308241b895ae451a91885aed": {
          "model_module": "@jupyter-widgets/controls",
          "model_name": "DescriptionStyleModel",
          "model_module_version": "1.5.0",
          "state": {
            "_model_module": "@jupyter-widgets/controls",
            "_model_module_version": "1.5.0",
            "_model_name": "DescriptionStyleModel",
            "_view_count": null,
            "_view_module": "@jupyter-widgets/base",
            "_view_module_version": "1.2.0",
            "_view_name": "StyleView",
            "description_width": ""
          }
        }
      }
    }
  },
  "nbformat": 4,
  "nbformat_minor": 5
}